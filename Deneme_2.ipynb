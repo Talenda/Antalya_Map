{
 "cells": [
  {
   "cell_type": "code",
   "execution_count": 1,
   "id": "87c927d2",
   "metadata": {},
   "outputs": [],
   "source": [
    "#Visualization\n",
    "import webbrowser\n",
    "#webbrowser.open('https://python-visualization.github.io/folium/quickstart.html')"
   ]
  },
  {
   "cell_type": "code",
   "execution_count": 2,
   "id": "dac296d7",
   "metadata": {},
   "outputs": [],
   "source": [
    "#Leaflet document\n",
    "import webbrowser\n",
    "#webbrowser.open ('https://www.earthdatascience.org/tutorials/introduction-to-leaflet-animated-maps/')"
   ]
  },
  {
   "cell_type": "code",
   "execution_count": 3,
   "id": "a1a91908",
   "metadata": {},
   "outputs": [],
   "source": [
    "# DateOffsets\n",
    "import webbrowser\n",
    "#webbrowser.open('https://pandas.pydata.org/pandas-docs/stable/user_guide/timeseries.html#dateoffset-objects')"
   ]
  },
  {
   "cell_type": "code",
   "execution_count": 4,
   "id": "b0de1224",
   "metadata": {},
   "outputs": [],
   "source": [
    "# Datetime python document\n",
    "import webbrowser\n",
    "#webbrowser.open('https://docs.python.org/3/library/datetime.html#strftime-and-strptime-behavior')"
   ]
  },
  {
   "cell_type": "markdown",
   "id": "2bcfdfa4",
   "metadata": {},
   "source": [
    "![green-divider](https://user-images.githubusercontent.com/7065401/52071924-c003ad80-2562-11e9-8297-1c6595f8a7ff.png)"
   ]
  },
  {
   "cell_type": "code",
   "execution_count": 5,
   "id": "63bcc409",
   "metadata": {},
   "outputs": [],
   "source": [
    "import numpy as np\n",
    "import pandas as pd\n",
    "import matplotlib.pyplot as plt\n",
    "\n",
    "%matplotlib inline"
   ]
  },
  {
   "cell_type": "markdown",
   "id": "14dcd4e2",
   "metadata": {},
   "source": [
    "![purple-divider](https://user-images.githubusercontent.com/7065401/52071927-c1cd7100-2562-11e9-908a-dde91ba14e59.png)"
   ]
  },
  {
   "cell_type": "markdown",
   "id": "7011635c",
   "metadata": {},
   "source": [
    "_Ekte iki adet excel gonderiyorum. Bu dosyalardan birinde (Akım diyelim) Antalya havzasında bulunan akım gözlem istasyonlarına ait günlük akım değerleri var (2000-2015 yılları için). Digerinde istasyonlara ait koordinatlar (koordinat diyelim) var. Soyle bir kod yazarsan iyi bir pratik olur:_\n",
    "\n",
    "**flw for Akım**\n",
    "\n",
    "**cor for kordinat**"
   ]
  },
  {
   "cell_type": "code",
   "execution_count": 6,
   "id": "8f88be62",
   "metadata": {},
   "outputs": [],
   "source": [
    "cor = pd.read_excel('FlowBook_Antalya_Basin_2015_Station_Info.xlsx')\n",
    "flw = pd.read_excel('EFAS_3_5_Dis24_TimeSeries_Basin_Antalya_2000_2015.xlsx')"
   ]
  },
  {
   "cell_type": "code",
   "execution_count": 7,
   "id": "8c1acce9",
   "metadata": {},
   "outputs": [
    {
     "data": {
      "text/plain": [
       "(5844, 23)"
      ]
     },
     "execution_count": 7,
     "metadata": {},
     "output_type": "execute_result"
    }
   ],
   "source": [
    "flw.shape"
   ]
  },
  {
   "cell_type": "code",
   "execution_count": 8,
   "id": "16bdccc2",
   "metadata": {},
   "outputs": [
    {
     "data": {
      "text/plain": [
       "(46, 6)"
      ]
     },
     "execution_count": 8,
     "metadata": {},
     "output_type": "execute_result"
    }
   ],
   "source": [
    "cor.shape"
   ]
  },
  {
   "cell_type": "code",
   "execution_count": 9,
   "id": "c1e32129",
   "metadata": {},
   "outputs": [
    {
     "data": {
      "text/html": [
       "<div>\n",
       "<style scoped>\n",
       "    .dataframe tbody tr th:only-of-type {\n",
       "        vertical-align: middle;\n",
       "    }\n",
       "\n",
       "    .dataframe tbody tr th {\n",
       "        vertical-align: top;\n",
       "    }\n",
       "\n",
       "    .dataframe thead th {\n",
       "        text-align: right;\n",
       "    }\n",
       "</style>\n",
       "<table border=\"1\" class=\"dataframe\">\n",
       "  <thead>\n",
       "    <tr style=\"text-align: right;\">\n",
       "      <th></th>\n",
       "      <th>Unnamed: 0</th>\n",
       "      <th>Historical_times</th>\n",
       "      <th>D09A011</th>\n",
       "      <th>D09A031</th>\n",
       "      <th>D09A034</th>\n",
       "      <th>D09A057</th>\n",
       "      <th>D09A065</th>\n",
       "      <th>D09A067</th>\n",
       "      <th>D09A068</th>\n",
       "      <th>D09A086</th>\n",
       "      <th>...</th>\n",
       "      <th>D09A100</th>\n",
       "      <th>D09A101</th>\n",
       "      <th>D09A122</th>\n",
       "      <th>E09A002</th>\n",
       "      <th>E09A012</th>\n",
       "      <th>E09A017</th>\n",
       "      <th>E09A021</th>\n",
       "      <th>E09A022</th>\n",
       "      <th>E09A024</th>\n",
       "      <th>E09A099</th>\n",
       "    </tr>\n",
       "  </thead>\n",
       "  <tbody>\n",
       "    <tr>\n",
       "      <th>0</th>\n",
       "      <td>0</td>\n",
       "      <td>2000-01-01 06:00:00</td>\n",
       "      <td>0.935547</td>\n",
       "      <td>2.056641</td>\n",
       "      <td>0.683594</td>\n",
       "      <td>0.316406</td>\n",
       "      <td>0.156250</td>\n",
       "      <td>5.136719</td>\n",
       "      <td>5.797852</td>\n",
       "      <td>1.664062</td>\n",
       "      <td>...</td>\n",
       "      <td>0.962891</td>\n",
       "      <td>8.919922</td>\n",
       "      <td>1.004883</td>\n",
       "      <td>6.404297</td>\n",
       "      <td>24.528320</td>\n",
       "      <td>21.681641</td>\n",
       "      <td>3.103516</td>\n",
       "      <td>11.973633</td>\n",
       "      <td>17.578125</td>\n",
       "      <td>5.196289</td>\n",
       "    </tr>\n",
       "    <tr>\n",
       "      <th>1</th>\n",
       "      <td>1</td>\n",
       "      <td>2000-01-02 06:00:00</td>\n",
       "      <td>0.832031</td>\n",
       "      <td>1.769531</td>\n",
       "      <td>0.637695</td>\n",
       "      <td>0.314453</td>\n",
       "      <td>0.158203</td>\n",
       "      <td>4.430664</td>\n",
       "      <td>5.011719</td>\n",
       "      <td>1.497070</td>\n",
       "      <td>...</td>\n",
       "      <td>0.840820</td>\n",
       "      <td>8.386719</td>\n",
       "      <td>0.875000</td>\n",
       "      <td>6.090820</td>\n",
       "      <td>21.171875</td>\n",
       "      <td>19.059570</td>\n",
       "      <td>2.833008</td>\n",
       "      <td>10.519531</td>\n",
       "      <td>15.412109</td>\n",
       "      <td>4.870117</td>\n",
       "    </tr>\n",
       "    <tr>\n",
       "      <th>2</th>\n",
       "      <td>2</td>\n",
       "      <td>2000-01-03 06:00:00</td>\n",
       "      <td>0.807617</td>\n",
       "      <td>1.626953</td>\n",
       "      <td>0.642578</td>\n",
       "      <td>0.320312</td>\n",
       "      <td>0.158203</td>\n",
       "      <td>3.958984</td>\n",
       "      <td>4.508789</td>\n",
       "      <td>1.385742</td>\n",
       "      <td>...</td>\n",
       "      <td>0.792969</td>\n",
       "      <td>7.865234</td>\n",
       "      <td>0.833008</td>\n",
       "      <td>5.793945</td>\n",
       "      <td>19.541992</td>\n",
       "      <td>16.958008</td>\n",
       "      <td>2.600586</td>\n",
       "      <td>9.642578</td>\n",
       "      <td>13.960938</td>\n",
       "      <td>4.669922</td>\n",
       "    </tr>\n",
       "  </tbody>\n",
       "</table>\n",
       "<p>3 rows × 23 columns</p>\n",
       "</div>"
      ],
      "text/plain": [
       "   Unnamed: 0    Historical_times   D09A011   D09A031   D09A034   D09A057  \\\n",
       "0           0 2000-01-01 06:00:00  0.935547  2.056641  0.683594  0.316406   \n",
       "1           1 2000-01-02 06:00:00  0.832031  1.769531  0.637695  0.314453   \n",
       "2           2 2000-01-03 06:00:00  0.807617  1.626953  0.642578  0.320312   \n",
       "\n",
       "    D09A065   D09A067   D09A068   D09A086  ...   D09A100   D09A101   D09A122  \\\n",
       "0  0.156250  5.136719  5.797852  1.664062  ...  0.962891  8.919922  1.004883   \n",
       "1  0.158203  4.430664  5.011719  1.497070  ...  0.840820  8.386719  0.875000   \n",
       "2  0.158203  3.958984  4.508789  1.385742  ...  0.792969  7.865234  0.833008   \n",
       "\n",
       "    E09A002    E09A012    E09A017   E09A021    E09A022    E09A024   E09A099  \n",
       "0  6.404297  24.528320  21.681641  3.103516  11.973633  17.578125  5.196289  \n",
       "1  6.090820  21.171875  19.059570  2.833008  10.519531  15.412109  4.870117  \n",
       "2  5.793945  19.541992  16.958008  2.600586   9.642578  13.960938  4.669922  \n",
       "\n",
       "[3 rows x 23 columns]"
      ]
     },
     "execution_count": 9,
     "metadata": {},
     "output_type": "execute_result"
    }
   ],
   "source": [
    "flw.head(3)"
   ]
  },
  {
   "cell_type": "code",
   "execution_count": 10,
   "id": "ea87de93",
   "metadata": {},
   "outputs": [
    {
     "data": {
      "text/html": [
       "<div>\n",
       "<style scoped>\n",
       "    .dataframe tbody tr th:only-of-type {\n",
       "        vertical-align: middle;\n",
       "    }\n",
       "\n",
       "    .dataframe tbody tr th {\n",
       "        vertical-align: top;\n",
       "    }\n",
       "\n",
       "    .dataframe thead th {\n",
       "        text-align: right;\n",
       "    }\n",
       "</style>\n",
       "<table border=\"1\" class=\"dataframe\">\n",
       "  <thead>\n",
       "    <tr style=\"text-align: right;\">\n",
       "      <th></th>\n",
       "      <th>id</th>\n",
       "      <th>stname</th>\n",
       "      <th>area</th>\n",
       "      <th>elev</th>\n",
       "      <th>east</th>\n",
       "      <th>north</th>\n",
       "    </tr>\n",
       "  </thead>\n",
       "  <tbody>\n",
       "    <tr>\n",
       "      <th>0</th>\n",
       "      <td>0</td>\n",
       "      <td>D09A002</td>\n",
       "      <td>61.7</td>\n",
       "      <td>1250</td>\n",
       "      <td>31.091111</td>\n",
       "      <td>37.811667</td>\n",
       "    </tr>\n",
       "    <tr>\n",
       "      <th>1</th>\n",
       "      <td>1</td>\n",
       "      <td>D09A006</td>\n",
       "      <td>195.0</td>\n",
       "      <td>38</td>\n",
       "      <td>32.121667</td>\n",
       "      <td>36.549444</td>\n",
       "    </tr>\n",
       "    <tr>\n",
       "      <th>2</th>\n",
       "      <td>2</td>\n",
       "      <td>D09A011</td>\n",
       "      <td>130.7</td>\n",
       "      <td>1190</td>\n",
       "      <td>30.050000</td>\n",
       "      <td>37.133333</td>\n",
       "    </tr>\n",
       "  </tbody>\n",
       "</table>\n",
       "</div>"
      ],
      "text/plain": [
       "   id   stname   area  elev       east      north\n",
       "0   0  D09A002   61.7  1250  31.091111  37.811667\n",
       "1   1  D09A006  195.0    38  32.121667  36.549444\n",
       "2   2  D09A011  130.7  1190  30.050000  37.133333"
      ]
     },
     "execution_count": 10,
     "metadata": {},
     "output_type": "execute_result"
    }
   ],
   "source": [
    "cor.head(3)"
   ]
  },
  {
   "cell_type": "code",
   "execution_count": 11,
   "id": "50020011",
   "metadata": {},
   "outputs": [
    {
     "data": {
      "text/html": [
       "<div>\n",
       "<style scoped>\n",
       "    .dataframe tbody tr th:only-of-type {\n",
       "        vertical-align: middle;\n",
       "    }\n",
       "\n",
       "    .dataframe tbody tr th {\n",
       "        vertical-align: top;\n",
       "    }\n",
       "\n",
       "    .dataframe thead th {\n",
       "        text-align: right;\n",
       "    }\n",
       "</style>\n",
       "<table border=\"1\" class=\"dataframe\">\n",
       "  <thead>\n",
       "    <tr style=\"text-align: right;\">\n",
       "      <th></th>\n",
       "      <th>Unnamed: 0</th>\n",
       "      <th>D09A011</th>\n",
       "      <th>D09A031</th>\n",
       "      <th>D09A034</th>\n",
       "      <th>D09A057</th>\n",
       "      <th>D09A065</th>\n",
       "      <th>D09A067</th>\n",
       "      <th>D09A068</th>\n",
       "      <th>D09A086</th>\n",
       "      <th>D09A089</th>\n",
       "      <th>...</th>\n",
       "      <th>D09A100</th>\n",
       "      <th>D09A101</th>\n",
       "      <th>D09A122</th>\n",
       "      <th>E09A002</th>\n",
       "      <th>E09A012</th>\n",
       "      <th>E09A017</th>\n",
       "      <th>E09A021</th>\n",
       "      <th>E09A022</th>\n",
       "      <th>E09A024</th>\n",
       "      <th>E09A099</th>\n",
       "    </tr>\n",
       "  </thead>\n",
       "  <tbody>\n",
       "    <tr>\n",
       "      <th>count</th>\n",
       "      <td>5844.000000</td>\n",
       "      <td>5844.000000</td>\n",
       "      <td>5844.000000</td>\n",
       "      <td>5844.000000</td>\n",
       "      <td>5844.000000</td>\n",
       "      <td>5844.000000</td>\n",
       "      <td>5844.000000</td>\n",
       "      <td>5844.000000</td>\n",
       "      <td>5844.000000</td>\n",
       "      <td>5844.000000</td>\n",
       "      <td>...</td>\n",
       "      <td>5844.000000</td>\n",
       "      <td>5844.000000</td>\n",
       "      <td>5844.000000</td>\n",
       "      <td>5844.000000</td>\n",
       "      <td>5844.000000</td>\n",
       "      <td>5844.000000</td>\n",
       "      <td>5844.000000</td>\n",
       "      <td>5844.000000</td>\n",
       "      <td>5844.000000</td>\n",
       "      <td>5844.000000</td>\n",
       "    </tr>\n",
       "    <tr>\n",
       "      <th>mean</th>\n",
       "      <td>2921.500000</td>\n",
       "      <td>2.065230</td>\n",
       "      <td>8.701641</td>\n",
       "      <td>3.782037</td>\n",
       "      <td>1.244513</td>\n",
       "      <td>0.609238</td>\n",
       "      <td>6.861581</td>\n",
       "      <td>8.072068</td>\n",
       "      <td>4.634996</td>\n",
       "      <td>5.872580</td>\n",
       "      <td>...</td>\n",
       "      <td>2.773654</td>\n",
       "      <td>31.129176</td>\n",
       "      <td>2.727765</td>\n",
       "      <td>22.918358</td>\n",
       "      <td>34.419904</td>\n",
       "      <td>19.838413</td>\n",
       "      <td>8.786860</td>\n",
       "      <td>9.732380</td>\n",
       "      <td>14.684019</td>\n",
       "      <td>17.137262</td>\n",
       "    </tr>\n",
       "    <tr>\n",
       "      <th>std</th>\n",
       "      <td>1687.161818</td>\n",
       "      <td>3.318011</td>\n",
       "      <td>16.604812</td>\n",
       "      <td>6.443618</td>\n",
       "      <td>1.659987</td>\n",
       "      <td>0.786046</td>\n",
       "      <td>9.750471</td>\n",
       "      <td>12.595158</td>\n",
       "      <td>5.803809</td>\n",
       "      <td>8.284670</td>\n",
       "      <td>...</td>\n",
       "      <td>3.359469</td>\n",
       "      <td>44.104732</td>\n",
       "      <td>4.175475</td>\n",
       "      <td>30.950859</td>\n",
       "      <td>44.396153</td>\n",
       "      <td>26.277089</td>\n",
       "      <td>11.085791</td>\n",
       "      <td>12.792926</td>\n",
       "      <td>19.090984</td>\n",
       "      <td>22.135360</td>\n",
       "    </tr>\n",
       "    <tr>\n",
       "      <th>min</th>\n",
       "      <td>0.000000</td>\n",
       "      <td>0.070312</td>\n",
       "      <td>0.031738</td>\n",
       "      <td>0.049316</td>\n",
       "      <td>0.005371</td>\n",
       "      <td>0.000000</td>\n",
       "      <td>0.456543</td>\n",
       "      <td>0.338867</td>\n",
       "      <td>0.229492</td>\n",
       "      <td>0.458008</td>\n",
       "      <td>...</td>\n",
       "      <td>0.126465</td>\n",
       "      <td>2.150879</td>\n",
       "      <td>0.126953</td>\n",
       "      <td>1.943848</td>\n",
       "      <td>2.670898</td>\n",
       "      <td>1.188477</td>\n",
       "      <td>0.577637</td>\n",
       "      <td>0.531738</td>\n",
       "      <td>0.848145</td>\n",
       "      <td>1.410156</td>\n",
       "    </tr>\n",
       "    <tr>\n",
       "      <th>25%</th>\n",
       "      <td>1460.750000</td>\n",
       "      <td>0.372070</td>\n",
       "      <td>1.113647</td>\n",
       "      <td>0.742065</td>\n",
       "      <td>0.436035</td>\n",
       "      <td>0.206055</td>\n",
       "      <td>1.189453</td>\n",
       "      <td>1.250732</td>\n",
       "      <td>1.385742</td>\n",
       "      <td>1.467163</td>\n",
       "      <td>...</td>\n",
       "      <td>0.789429</td>\n",
       "      <td>7.020630</td>\n",
       "      <td>0.508545</td>\n",
       "      <td>5.586914</td>\n",
       "      <td>6.640259</td>\n",
       "      <td>3.339722</td>\n",
       "      <td>2.418823</td>\n",
       "      <td>1.575806</td>\n",
       "      <td>2.431030</td>\n",
       "      <td>4.440613</td>\n",
       "    </tr>\n",
       "    <tr>\n",
       "      <th>50%</th>\n",
       "      <td>2921.500000</td>\n",
       "      <td>0.703613</td>\n",
       "      <td>2.235596</td>\n",
       "      <td>1.309326</td>\n",
       "      <td>0.692139</td>\n",
       "      <td>0.331055</td>\n",
       "      <td>2.266846</td>\n",
       "      <td>2.386719</td>\n",
       "      <td>2.383301</td>\n",
       "      <td>2.617920</td>\n",
       "      <td>...</td>\n",
       "      <td>1.390869</td>\n",
       "      <td>12.330566</td>\n",
       "      <td>0.925293</td>\n",
       "      <td>9.749634</td>\n",
       "      <td>13.361084</td>\n",
       "      <td>7.310547</td>\n",
       "      <td>4.059570</td>\n",
       "      <td>3.607788</td>\n",
       "      <td>5.620117</td>\n",
       "      <td>7.692871</td>\n",
       "    </tr>\n",
       "    <tr>\n",
       "      <th>75%</th>\n",
       "      <td>4382.250000</td>\n",
       "      <td>2.267517</td>\n",
       "      <td>8.215942</td>\n",
       "      <td>3.672729</td>\n",
       "      <td>1.265137</td>\n",
       "      <td>0.650879</td>\n",
       "      <td>8.665649</td>\n",
       "      <td>9.699341</td>\n",
       "      <td>5.271240</td>\n",
       "      <td>6.424683</td>\n",
       "      <td>...</td>\n",
       "      <td>3.475830</td>\n",
       "      <td>35.582764</td>\n",
       "      <td>3.093994</td>\n",
       "      <td>26.528442</td>\n",
       "      <td>46.256470</td>\n",
       "      <td>27.135620</td>\n",
       "      <td>10.476929</td>\n",
       "      <td>13.742798</td>\n",
       "      <td>20.706909</td>\n",
       "      <td>20.304932</td>\n",
       "    </tr>\n",
       "    <tr>\n",
       "      <th>max</th>\n",
       "      <td>5843.000000</td>\n",
       "      <td>59.634521</td>\n",
       "      <td>258.875244</td>\n",
       "      <td>70.223145</td>\n",
       "      <td>23.359863</td>\n",
       "      <td>10.918945</td>\n",
       "      <td>70.127930</td>\n",
       "      <td>105.832031</td>\n",
       "      <td>81.842285</td>\n",
       "      <td>115.033691</td>\n",
       "      <td>...</td>\n",
       "      <td>58.678711</td>\n",
       "      <td>373.480957</td>\n",
       "      <td>68.053223</td>\n",
       "      <td>268.267090</td>\n",
       "      <td>626.946045</td>\n",
       "      <td>205.709961</td>\n",
       "      <td>139.500000</td>\n",
       "      <td>116.867920</td>\n",
       "      <td>169.544434</td>\n",
       "      <td>227.846191</td>\n",
       "    </tr>\n",
       "  </tbody>\n",
       "</table>\n",
       "<p>8 rows × 22 columns</p>\n",
       "</div>"
      ],
      "text/plain": [
       "        Unnamed: 0      D09A011      D09A031      D09A034      D09A057  \\\n",
       "count  5844.000000  5844.000000  5844.000000  5844.000000  5844.000000   \n",
       "mean   2921.500000     2.065230     8.701641     3.782037     1.244513   \n",
       "std    1687.161818     3.318011    16.604812     6.443618     1.659987   \n",
       "min       0.000000     0.070312     0.031738     0.049316     0.005371   \n",
       "25%    1460.750000     0.372070     1.113647     0.742065     0.436035   \n",
       "50%    2921.500000     0.703613     2.235596     1.309326     0.692139   \n",
       "75%    4382.250000     2.267517     8.215942     3.672729     1.265137   \n",
       "max    5843.000000    59.634521   258.875244    70.223145    23.359863   \n",
       "\n",
       "           D09A065      D09A067      D09A068      D09A086      D09A089  ...  \\\n",
       "count  5844.000000  5844.000000  5844.000000  5844.000000  5844.000000  ...   \n",
       "mean      0.609238     6.861581     8.072068     4.634996     5.872580  ...   \n",
       "std       0.786046     9.750471    12.595158     5.803809     8.284670  ...   \n",
       "min       0.000000     0.456543     0.338867     0.229492     0.458008  ...   \n",
       "25%       0.206055     1.189453     1.250732     1.385742     1.467163  ...   \n",
       "50%       0.331055     2.266846     2.386719     2.383301     2.617920  ...   \n",
       "75%       0.650879     8.665649     9.699341     5.271240     6.424683  ...   \n",
       "max      10.918945    70.127930   105.832031    81.842285   115.033691  ...   \n",
       "\n",
       "           D09A100      D09A101      D09A122      E09A002      E09A012  \\\n",
       "count  5844.000000  5844.000000  5844.000000  5844.000000  5844.000000   \n",
       "mean      2.773654    31.129176     2.727765    22.918358    34.419904   \n",
       "std       3.359469    44.104732     4.175475    30.950859    44.396153   \n",
       "min       0.126465     2.150879     0.126953     1.943848     2.670898   \n",
       "25%       0.789429     7.020630     0.508545     5.586914     6.640259   \n",
       "50%       1.390869    12.330566     0.925293     9.749634    13.361084   \n",
       "75%       3.475830    35.582764     3.093994    26.528442    46.256470   \n",
       "max      58.678711   373.480957    68.053223   268.267090   626.946045   \n",
       "\n",
       "           E09A017      E09A021      E09A022      E09A024      E09A099  \n",
       "count  5844.000000  5844.000000  5844.000000  5844.000000  5844.000000  \n",
       "mean     19.838413     8.786860     9.732380    14.684019    17.137262  \n",
       "std      26.277089    11.085791    12.792926    19.090984    22.135360  \n",
       "min       1.188477     0.577637     0.531738     0.848145     1.410156  \n",
       "25%       3.339722     2.418823     1.575806     2.431030     4.440613  \n",
       "50%       7.310547     4.059570     3.607788     5.620117     7.692871  \n",
       "75%      27.135620    10.476929    13.742798    20.706909    20.304932  \n",
       "max     205.709961   139.500000   116.867920   169.544434   227.846191  \n",
       "\n",
       "[8 rows x 22 columns]"
      ]
     },
     "execution_count": 11,
     "metadata": {},
     "output_type": "execute_result"
    }
   ],
   "source": [
    "flw.describe()"
   ]
  },
  {
   "cell_type": "markdown",
   "id": "9cb87145",
   "metadata": {},
   "source": [
    "![green-divider](https://user-images.githubusercontent.com/7065401/52071924-c003ad80-2562-11e9-8297-1c6595f8a7ff.png)"
   ]
  },
  {
   "cell_type": "markdown",
   "id": "ad420ec3",
   "metadata": {},
   "source": [
    "_1) Akım dosyasındaki butun istasyon numaralarını okut (ornegin D09A011 ...), sonra bu okuttugun istasyonlar icin koordinat dosyasindan koordinatlarini (East ve north), alanını ve elevation bilgilerini bir dataframe e yazdir._"
   ]
  },
  {
   "cell_type": "code",
   "execution_count": 12,
   "id": "c340df51",
   "metadata": {},
   "outputs": [
    {
     "data": {
      "text/plain": [
       "Index(['Unnamed: 0', 'Historical_times', 'D09A011', 'D09A031', 'D09A034',\n",
       "       'D09A057', 'D09A065', 'D09A067', 'D09A068', 'D09A086', 'D09A089',\n",
       "       'D09A091', 'D09A095', 'D09A100', 'D09A101', 'D09A122', 'E09A002',\n",
       "       'E09A012', 'E09A017', 'E09A021', 'E09A022', 'E09A024', 'E09A099'],\n",
       "      dtype='object')"
      ]
     },
     "execution_count": 12,
     "metadata": {},
     "output_type": "execute_result"
    }
   ],
   "source": [
    "flw.columns"
   ]
  },
  {
   "cell_type": "markdown",
   "id": "19548d5f",
   "metadata": {},
   "source": [
    "*To see all column names in flw*"
   ]
  },
  {
   "cell_type": "code",
   "execution_count": 13,
   "id": "b6fdd0c9",
   "metadata": {},
   "outputs": [
    {
     "data": {
      "text/plain": [
       "Index(['D09A011', 'D09A031', 'D09A034', 'D09A057', 'D09A065', 'D09A067',\n",
       "       'D09A068', 'D09A086', 'D09A089', 'D09A091', 'D09A095', 'D09A100',\n",
       "       'D09A101', 'D09A122', 'E09A002', 'E09A012', 'E09A017', 'E09A021',\n",
       "       'E09A022', 'E09A024', 'E09A099'],\n",
       "      dtype='object')"
      ]
     },
     "execution_count": 13,
     "metadata": {},
     "output_type": "execute_result"
    }
   ],
   "source": [
    "flw.columns[2:]"
   ]
  },
  {
   "cell_type": "markdown",
   "id": "05f355ef",
   "metadata": {},
   "source": [
    "*index(0,1) are not station names so I exclude them*"
   ]
  },
  {
   "cell_type": "code",
   "execution_count": 14,
   "id": "e12d07f0",
   "metadata": {},
   "outputs": [],
   "source": [
    "lis=list(flw.columns.values[2:])"
   ]
  },
  {
   "cell_type": "code",
   "execution_count": 15,
   "id": "da2731cc",
   "metadata": {},
   "outputs": [
    {
     "data": {
      "text/plain": [
       "21"
      ]
     },
     "execution_count": 15,
     "metadata": {},
     "output_type": "execute_result"
    }
   ],
   "source": [
    "len(lis)"
   ]
  },
  {
   "cell_type": "markdown",
   "id": "c1494a6f",
   "metadata": {},
   "source": [
    "*list which contains all stations in flw*"
   ]
  },
  {
   "cell_type": "code",
   "execution_count": 16,
   "id": "ad3e9281",
   "metadata": {},
   "outputs": [
    {
     "data": {
      "text/plain": [
       "0    False\n",
       "1    False\n",
       "2     True\n",
       "3    False\n",
       "4    False\n",
       "5     True\n",
       "6     True\n",
       "7    False\n",
       "Name: stname, dtype: bool"
      ]
     },
     "execution_count": 16,
     "metadata": {},
     "output_type": "execute_result"
    }
   ],
   "source": [
    "cor['stname'].isin(lis).head(8)"
   ]
  },
  {
   "cell_type": "markdown",
   "id": "c9dc0376",
   "metadata": {},
   "source": [
    "*boolean series which shows all included station names as True others as False*"
   ]
  },
  {
   "cell_type": "code",
   "execution_count": 17,
   "id": "b6e47d17",
   "metadata": {},
   "outputs": [],
   "source": [
    "filt=cor['stname'].isin(lis)"
   ]
  },
  {
   "cell_type": "code",
   "execution_count": 18,
   "id": "2fcdc17a",
   "metadata": {},
   "outputs": [
    {
     "data": {
      "text/html": [
       "<div>\n",
       "<style scoped>\n",
       "    .dataframe tbody tr th:only-of-type {\n",
       "        vertical-align: middle;\n",
       "    }\n",
       "\n",
       "    .dataframe tbody tr th {\n",
       "        vertical-align: top;\n",
       "    }\n",
       "\n",
       "    .dataframe thead th {\n",
       "        text-align: right;\n",
       "    }\n",
       "</style>\n",
       "<table border=\"1\" class=\"dataframe\">\n",
       "  <thead>\n",
       "    <tr style=\"text-align: right;\">\n",
       "      <th></th>\n",
       "      <th>id</th>\n",
       "      <th>stname</th>\n",
       "      <th>area</th>\n",
       "      <th>elev</th>\n",
       "      <th>east</th>\n",
       "      <th>north</th>\n",
       "    </tr>\n",
       "  </thead>\n",
       "  <tbody>\n",
       "    <tr>\n",
       "      <th>2</th>\n",
       "      <td>2</td>\n",
       "      <td>D09A011</td>\n",
       "      <td>130.70</td>\n",
       "      <td>1190</td>\n",
       "      <td>30.050000</td>\n",
       "      <td>37.133333</td>\n",
       "    </tr>\n",
       "    <tr>\n",
       "      <th>5</th>\n",
       "      <td>5</td>\n",
       "      <td>D09A031</td>\n",
       "      <td>404.60</td>\n",
       "      <td>52</td>\n",
       "      <td>30.573611</td>\n",
       "      <td>36.934722</td>\n",
       "    </tr>\n",
       "    <tr>\n",
       "      <th>6</th>\n",
       "      <td>6</td>\n",
       "      <td>D09A034</td>\n",
       "      <td>238.60</td>\n",
       "      <td>62</td>\n",
       "      <td>30.942222</td>\n",
       "      <td>37.131667</td>\n",
       "    </tr>\n",
       "    <tr>\n",
       "      <th>10</th>\n",
       "      <td>10</td>\n",
       "      <td>D09A057</td>\n",
       "      <td>185.00</td>\n",
       "      <td>950</td>\n",
       "      <td>30.954722</td>\n",
       "      <td>38.299444</td>\n",
       "    </tr>\n",
       "    <tr>\n",
       "      <th>12</th>\n",
       "      <td>12</td>\n",
       "      <td>D09A065</td>\n",
       "      <td>103.48</td>\n",
       "      <td>1198</td>\n",
       "      <td>31.126944</td>\n",
       "      <td>38.394167</td>\n",
       "    </tr>\n",
       "    <tr>\n",
       "      <th>13</th>\n",
       "      <td>13</td>\n",
       "      <td>D09A067</td>\n",
       "      <td>303.20</td>\n",
       "      <td>100</td>\n",
       "      <td>31.622778</td>\n",
       "      <td>36.743889</td>\n",
       "    </tr>\n",
       "    <tr>\n",
       "      <th>14</th>\n",
       "      <td>14</td>\n",
       "      <td>D09A068</td>\n",
       "      <td>336.32</td>\n",
       "      <td>16</td>\n",
       "      <td>31.800000</td>\n",
       "      <td>36.613889</td>\n",
       "    </tr>\n",
       "    <tr>\n",
       "      <th>17</th>\n",
       "      <td>17</td>\n",
       "      <td>D09A086</td>\n",
       "      <td>349.00</td>\n",
       "      <td>1000</td>\n",
       "      <td>31.123611</td>\n",
       "      <td>37.623056</td>\n",
       "    </tr>\n",
       "    <tr>\n",
       "      <th>19</th>\n",
       "      <td>19</td>\n",
       "      <td>D09A089</td>\n",
       "      <td>313.90</td>\n",
       "      <td>320</td>\n",
       "      <td>30.912222</td>\n",
       "      <td>37.462778</td>\n",
       "    </tr>\n",
       "    <tr>\n",
       "      <th>20</th>\n",
       "      <td>20</td>\n",
       "      <td>D09A091</td>\n",
       "      <td>2000.00</td>\n",
       "      <td>300</td>\n",
       "      <td>30.580556</td>\n",
       "      <td>37.071944</td>\n",
       "    </tr>\n",
       "    <tr>\n",
       "      <th>21</th>\n",
       "      <td>21</td>\n",
       "      <td>D09A095</td>\n",
       "      <td>164.00</td>\n",
       "      <td>160</td>\n",
       "      <td>30.467222</td>\n",
       "      <td>36.825000</td>\n",
       "    </tr>\n",
       "    <tr>\n",
       "      <th>23</th>\n",
       "      <td>23</td>\n",
       "      <td>D09A100</td>\n",
       "      <td>223.00</td>\n",
       "      <td>1085</td>\n",
       "      <td>31.155556</td>\n",
       "      <td>37.659167</td>\n",
       "    </tr>\n",
       "    <tr>\n",
       "      <th>24</th>\n",
       "      <td>24</td>\n",
       "      <td>D09A101</td>\n",
       "      <td>2330.00</td>\n",
       "      <td>20</td>\n",
       "      <td>31.199722</td>\n",
       "      <td>36.980000</td>\n",
       "    </tr>\n",
       "    <tr>\n",
       "      <th>28</th>\n",
       "      <td>28</td>\n",
       "      <td>D09A122</td>\n",
       "      <td>144.84</td>\n",
       "      <td>80</td>\n",
       "      <td>31.284722</td>\n",
       "      <td>36.991667</td>\n",
       "    </tr>\n",
       "    <tr>\n",
       "      <th>34</th>\n",
       "      <td>34</td>\n",
       "      <td>E09A002</td>\n",
       "      <td>1942.40</td>\n",
       "      <td>116</td>\n",
       "      <td>31.188611</td>\n",
       "      <td>37.141667</td>\n",
       "    </tr>\n",
       "    <tr>\n",
       "      <th>35</th>\n",
       "      <td>35</td>\n",
       "      <td>E09A012</td>\n",
       "      <td>625.60</td>\n",
       "      <td>245</td>\n",
       "      <td>31.608611</td>\n",
       "      <td>36.979444</td>\n",
       "    </tr>\n",
       "    <tr>\n",
       "      <th>36</th>\n",
       "      <td>36</td>\n",
       "      <td>E09A017</td>\n",
       "      <td>875.50</td>\n",
       "      <td>28</td>\n",
       "      <td>31.726667</td>\n",
       "      <td>36.696944</td>\n",
       "    </tr>\n",
       "    <tr>\n",
       "      <th>38</th>\n",
       "      <td>38</td>\n",
       "      <td>E09A021</td>\n",
       "      <td>1005.50</td>\n",
       "      <td>738</td>\n",
       "      <td>31.202500</td>\n",
       "      <td>37.521667</td>\n",
       "    </tr>\n",
       "    <tr>\n",
       "      <th>39</th>\n",
       "      <td>39</td>\n",
       "      <td>E09A022</td>\n",
       "      <td>396.30</td>\n",
       "      <td>382</td>\n",
       "      <td>32.107222</td>\n",
       "      <td>36.781389</td>\n",
       "    </tr>\n",
       "    <tr>\n",
       "      <th>40</th>\n",
       "      <td>40</td>\n",
       "      <td>E09A024</td>\n",
       "      <td>611.00</td>\n",
       "      <td>250</td>\n",
       "      <td>32.016667</td>\n",
       "      <td>36.759167</td>\n",
       "    </tr>\n",
       "  </tbody>\n",
       "</table>\n",
       "</div>"
      ],
      "text/plain": [
       "    id   stname     area  elev       east      north\n",
       "2    2  D09A011   130.70  1190  30.050000  37.133333\n",
       "5    5  D09A031   404.60    52  30.573611  36.934722\n",
       "6    6  D09A034   238.60    62  30.942222  37.131667\n",
       "10  10  D09A057   185.00   950  30.954722  38.299444\n",
       "12  12  D09A065   103.48  1198  31.126944  38.394167\n",
       "13  13  D09A067   303.20   100  31.622778  36.743889\n",
       "14  14  D09A068   336.32    16  31.800000  36.613889\n",
       "17  17  D09A086   349.00  1000  31.123611  37.623056\n",
       "19  19  D09A089   313.90   320  30.912222  37.462778\n",
       "20  20  D09A091  2000.00   300  30.580556  37.071944\n",
       "21  21  D09A095   164.00   160  30.467222  36.825000\n",
       "23  23  D09A100   223.00  1085  31.155556  37.659167\n",
       "24  24  D09A101  2330.00    20  31.199722  36.980000\n",
       "28  28  D09A122   144.84    80  31.284722  36.991667\n",
       "34  34  E09A002  1942.40   116  31.188611  37.141667\n",
       "35  35  E09A012   625.60   245  31.608611  36.979444\n",
       "36  36  E09A017   875.50    28  31.726667  36.696944\n",
       "38  38  E09A021  1005.50   738  31.202500  37.521667\n",
       "39  39  E09A022   396.30   382  32.107222  36.781389\n",
       "40  40  E09A024   611.00   250  32.016667  36.759167"
      ]
     },
     "execution_count": 18,
     "metadata": {},
     "output_type": "execute_result"
    }
   ],
   "source": [
    "cor[filt]"
   ]
  },
  {
   "cell_type": "markdown",
   "id": "67c8e7f8",
   "metadata": {},
   "source": [
    "*Boolean series named as filt and used to filter dataframe to show needed stations*"
   ]
  },
  {
   "cell_type": "code",
   "execution_count": 19,
   "id": "7bffe00c",
   "metadata": {},
   "outputs": [],
   "source": [
    "que1 =cor[filt]"
   ]
  },
  {
   "cell_type": "code",
   "execution_count": 20,
   "id": "279d2637",
   "metadata": {},
   "outputs": [
    {
     "data": {
      "text/plain": [
       "20"
      ]
     },
     "execution_count": 20,
     "metadata": {},
     "output_type": "execute_result"
    }
   ],
   "source": [
    "que1.stname.count()"
   ]
  },
  {
   "cell_type": "markdown",
   "id": "a739c90a",
   "metadata": {},
   "source": [
    "*que1 is a dataframe which contains answer of question1*"
   ]
  },
  {
   "cell_type": "code",
   "execution_count": 21,
   "id": "594ae827",
   "metadata": {},
   "outputs": [
    {
     "data": {
      "text/html": [
       "<div>\n",
       "<style scoped>\n",
       "    .dataframe tbody tr th:only-of-type {\n",
       "        vertical-align: middle;\n",
       "    }\n",
       "\n",
       "    .dataframe tbody tr th {\n",
       "        vertical-align: top;\n",
       "    }\n",
       "\n",
       "    .dataframe thead th {\n",
       "        text-align: right;\n",
       "    }\n",
       "</style>\n",
       "<table border=\"1\" class=\"dataframe\">\n",
       "  <thead>\n",
       "    <tr style=\"text-align: right;\">\n",
       "      <th></th>\n",
       "      <th>id</th>\n",
       "      <th>stname</th>\n",
       "      <th>area</th>\n",
       "      <th>elev</th>\n",
       "      <th>east</th>\n",
       "      <th>north</th>\n",
       "    </tr>\n",
       "  </thead>\n",
       "  <tbody>\n",
       "    <tr>\n",
       "      <th>2</th>\n",
       "      <td>2</td>\n",
       "      <td>D09A011</td>\n",
       "      <td>130.70</td>\n",
       "      <td>1190</td>\n",
       "      <td>30.050000</td>\n",
       "      <td>37.133333</td>\n",
       "    </tr>\n",
       "    <tr>\n",
       "      <th>5</th>\n",
       "      <td>5</td>\n",
       "      <td>D09A031</td>\n",
       "      <td>404.60</td>\n",
       "      <td>52</td>\n",
       "      <td>30.573611</td>\n",
       "      <td>36.934722</td>\n",
       "    </tr>\n",
       "    <tr>\n",
       "      <th>6</th>\n",
       "      <td>6</td>\n",
       "      <td>D09A034</td>\n",
       "      <td>238.60</td>\n",
       "      <td>62</td>\n",
       "      <td>30.942222</td>\n",
       "      <td>37.131667</td>\n",
       "    </tr>\n",
       "    <tr>\n",
       "      <th>10</th>\n",
       "      <td>10</td>\n",
       "      <td>D09A057</td>\n",
       "      <td>185.00</td>\n",
       "      <td>950</td>\n",
       "      <td>30.954722</td>\n",
       "      <td>38.299444</td>\n",
       "    </tr>\n",
       "    <tr>\n",
       "      <th>12</th>\n",
       "      <td>12</td>\n",
       "      <td>D09A065</td>\n",
       "      <td>103.48</td>\n",
       "      <td>1198</td>\n",
       "      <td>31.126944</td>\n",
       "      <td>38.394167</td>\n",
       "    </tr>\n",
       "    <tr>\n",
       "      <th>13</th>\n",
       "      <td>13</td>\n",
       "      <td>D09A067</td>\n",
       "      <td>303.20</td>\n",
       "      <td>100</td>\n",
       "      <td>31.622778</td>\n",
       "      <td>36.743889</td>\n",
       "    </tr>\n",
       "    <tr>\n",
       "      <th>14</th>\n",
       "      <td>14</td>\n",
       "      <td>D09A068</td>\n",
       "      <td>336.32</td>\n",
       "      <td>16</td>\n",
       "      <td>31.800000</td>\n",
       "      <td>36.613889</td>\n",
       "    </tr>\n",
       "    <tr>\n",
       "      <th>17</th>\n",
       "      <td>17</td>\n",
       "      <td>D09A086</td>\n",
       "      <td>349.00</td>\n",
       "      <td>1000</td>\n",
       "      <td>31.123611</td>\n",
       "      <td>37.623056</td>\n",
       "    </tr>\n",
       "    <tr>\n",
       "      <th>19</th>\n",
       "      <td>19</td>\n",
       "      <td>D09A089</td>\n",
       "      <td>313.90</td>\n",
       "      <td>320</td>\n",
       "      <td>30.912222</td>\n",
       "      <td>37.462778</td>\n",
       "    </tr>\n",
       "    <tr>\n",
       "      <th>20</th>\n",
       "      <td>20</td>\n",
       "      <td>D09A091</td>\n",
       "      <td>2000.00</td>\n",
       "      <td>300</td>\n",
       "      <td>30.580556</td>\n",
       "      <td>37.071944</td>\n",
       "    </tr>\n",
       "    <tr>\n",
       "      <th>21</th>\n",
       "      <td>21</td>\n",
       "      <td>D09A095</td>\n",
       "      <td>164.00</td>\n",
       "      <td>160</td>\n",
       "      <td>30.467222</td>\n",
       "      <td>36.825000</td>\n",
       "    </tr>\n",
       "    <tr>\n",
       "      <th>23</th>\n",
       "      <td>23</td>\n",
       "      <td>D09A100</td>\n",
       "      <td>223.00</td>\n",
       "      <td>1085</td>\n",
       "      <td>31.155556</td>\n",
       "      <td>37.659167</td>\n",
       "    </tr>\n",
       "    <tr>\n",
       "      <th>24</th>\n",
       "      <td>24</td>\n",
       "      <td>D09A101</td>\n",
       "      <td>2330.00</td>\n",
       "      <td>20</td>\n",
       "      <td>31.199722</td>\n",
       "      <td>36.980000</td>\n",
       "    </tr>\n",
       "    <tr>\n",
       "      <th>28</th>\n",
       "      <td>28</td>\n",
       "      <td>D09A122</td>\n",
       "      <td>144.84</td>\n",
       "      <td>80</td>\n",
       "      <td>31.284722</td>\n",
       "      <td>36.991667</td>\n",
       "    </tr>\n",
       "    <tr>\n",
       "      <th>34</th>\n",
       "      <td>34</td>\n",
       "      <td>E09A002</td>\n",
       "      <td>1942.40</td>\n",
       "      <td>116</td>\n",
       "      <td>31.188611</td>\n",
       "      <td>37.141667</td>\n",
       "    </tr>\n",
       "    <tr>\n",
       "      <th>35</th>\n",
       "      <td>35</td>\n",
       "      <td>E09A012</td>\n",
       "      <td>625.60</td>\n",
       "      <td>245</td>\n",
       "      <td>31.608611</td>\n",
       "      <td>36.979444</td>\n",
       "    </tr>\n",
       "    <tr>\n",
       "      <th>36</th>\n",
       "      <td>36</td>\n",
       "      <td>E09A017</td>\n",
       "      <td>875.50</td>\n",
       "      <td>28</td>\n",
       "      <td>31.726667</td>\n",
       "      <td>36.696944</td>\n",
       "    </tr>\n",
       "    <tr>\n",
       "      <th>38</th>\n",
       "      <td>38</td>\n",
       "      <td>E09A021</td>\n",
       "      <td>1005.50</td>\n",
       "      <td>738</td>\n",
       "      <td>31.202500</td>\n",
       "      <td>37.521667</td>\n",
       "    </tr>\n",
       "    <tr>\n",
       "      <th>39</th>\n",
       "      <td>39</td>\n",
       "      <td>E09A022</td>\n",
       "      <td>396.30</td>\n",
       "      <td>382</td>\n",
       "      <td>32.107222</td>\n",
       "      <td>36.781389</td>\n",
       "    </tr>\n",
       "    <tr>\n",
       "      <th>40</th>\n",
       "      <td>40</td>\n",
       "      <td>E09A024</td>\n",
       "      <td>611.00</td>\n",
       "      <td>250</td>\n",
       "      <td>32.016667</td>\n",
       "      <td>36.759167</td>\n",
       "    </tr>\n",
       "  </tbody>\n",
       "</table>\n",
       "</div>"
      ],
      "text/plain": [
       "    id   stname     area  elev       east      north\n",
       "2    2  D09A011   130.70  1190  30.050000  37.133333\n",
       "5    5  D09A031   404.60    52  30.573611  36.934722\n",
       "6    6  D09A034   238.60    62  30.942222  37.131667\n",
       "10  10  D09A057   185.00   950  30.954722  38.299444\n",
       "12  12  D09A065   103.48  1198  31.126944  38.394167\n",
       "13  13  D09A067   303.20   100  31.622778  36.743889\n",
       "14  14  D09A068   336.32    16  31.800000  36.613889\n",
       "17  17  D09A086   349.00  1000  31.123611  37.623056\n",
       "19  19  D09A089   313.90   320  30.912222  37.462778\n",
       "20  20  D09A091  2000.00   300  30.580556  37.071944\n",
       "21  21  D09A095   164.00   160  30.467222  36.825000\n",
       "23  23  D09A100   223.00  1085  31.155556  37.659167\n",
       "24  24  D09A101  2330.00    20  31.199722  36.980000\n",
       "28  28  D09A122   144.84    80  31.284722  36.991667\n",
       "34  34  E09A002  1942.40   116  31.188611  37.141667\n",
       "35  35  E09A012   625.60   245  31.608611  36.979444\n",
       "36  36  E09A017   875.50    28  31.726667  36.696944\n",
       "38  38  E09A021  1005.50   738  31.202500  37.521667\n",
       "39  39  E09A022   396.30   382  32.107222  36.781389\n",
       "40  40  E09A024   611.00   250  32.016667  36.759167"
      ]
     },
     "execution_count": 21,
     "metadata": {},
     "output_type": "execute_result"
    }
   ],
   "source": [
    "que1"
   ]
  },
  {
   "cell_type": "code",
   "execution_count": 22,
   "id": "98e173ee",
   "metadata": {},
   "outputs": [],
   "source": [
    "que1.to_excel('Question_1.xlsx')"
   ]
  },
  {
   "cell_type": "markdown",
   "id": "6b573310",
   "metadata": {},
   "source": [
    "![green-divider](https://user-images.githubusercontent.com/7065401/52071924-c003ad80-2562-11e9-8297-1c6595f8a7ff.png)"
   ]
  },
  {
   "cell_type": "markdown",
   "id": "84942ac1",
   "metadata": {},
   "source": [
    "*2) leaflet ile Turkiye haritasi sekli olustur ve bu Turkiye haritasina koordinatlari kullanarak akim gozlem istasyonlarının yerlerine bir marker koy. MArker uzerinde ise istasyon numarasi label i olsun. Marker altinda ise istasyon alani ve elevation bilgileri olsun.*"
   ]
  },
  {
   "cell_type": "code",
   "execution_count": 23,
   "id": "01c55bef",
   "metadata": {},
   "outputs": [],
   "source": [
    "#conda install -c conda-forge folium"
   ]
  },
  {
   "cell_type": "markdown",
   "id": "4fdb1e4b",
   "metadata": {},
   "source": [
    "_To upload Folium_"
   ]
  },
  {
   "cell_type": "code",
   "execution_count": 24,
   "id": "7f2f3ea8",
   "metadata": {},
   "outputs": [],
   "source": [
    "import folium\n",
    "from folium.plugins import MarkerCluster\n",
    "import pandas as pd"
   ]
  },
  {
   "cell_type": "code",
   "execution_count": 25,
   "id": "7d198638",
   "metadata": {},
   "outputs": [],
   "source": [
    "#Define coordinates of where we want to center our map\n",
    "boulder_coords = [36.884804, 30.704044]"
   ]
  },
  {
   "cell_type": "code",
   "execution_count": 26,
   "id": "329e6183",
   "metadata": {},
   "outputs": [],
   "source": [
    "my_map = folium.Map(location = boulder_coords, zoom_start = 8)"
   ]
  },
  {
   "cell_type": "code",
   "execution_count": 27,
   "id": "d83b5201",
   "metadata": {},
   "outputs": [
    {
     "data": {
      "text/html": [
       "<div style=\"width:100%;\"><div style=\"position:relative;width:100%;height:0;padding-bottom:60%;\"><span style=\"color:#565656\">Make this Notebook Trusted to load map: File -> Trust Notebook</span><iframe src=\"about:blank\" style=\"position:absolute;width:100%;height:100%;left:0;top:0;border:none !important;\" data-html=%3C%21DOCTYPE%20html%3E%0A%3Chead%3E%20%20%20%20%0A%20%20%20%20%3Cmeta%20http-equiv%3D%22content-type%22%20content%3D%22text/html%3B%20charset%3DUTF-8%22%20/%3E%0A%20%20%20%20%0A%20%20%20%20%20%20%20%20%3Cscript%3E%0A%20%20%20%20%20%20%20%20%20%20%20%20L_NO_TOUCH%20%3D%20false%3B%0A%20%20%20%20%20%20%20%20%20%20%20%20L_DISABLE_3D%20%3D%20false%3B%0A%20%20%20%20%20%20%20%20%3C/script%3E%0A%20%20%20%20%0A%20%20%20%20%3Cstyle%3Ehtml%2C%20body%20%7Bwidth%3A%20100%25%3Bheight%3A%20100%25%3Bmargin%3A%200%3Bpadding%3A%200%3B%7D%3C/style%3E%0A%20%20%20%20%3Cstyle%3E%23map%20%7Bposition%3Aabsolute%3Btop%3A0%3Bbottom%3A0%3Bright%3A0%3Bleft%3A0%3B%7D%3C/style%3E%0A%20%20%20%20%3Cscript%20src%3D%22https%3A//cdn.jsdelivr.net/npm/leaflet%401.6.0/dist/leaflet.js%22%3E%3C/script%3E%0A%20%20%20%20%3Cscript%20src%3D%22https%3A//code.jquery.com/jquery-1.12.4.min.js%22%3E%3C/script%3E%0A%20%20%20%20%3Cscript%20src%3D%22https%3A//maxcdn.bootstrapcdn.com/bootstrap/3.2.0/js/bootstrap.min.js%22%3E%3C/script%3E%0A%20%20%20%20%3Cscript%20src%3D%22https%3A//cdnjs.cloudflare.com/ajax/libs/Leaflet.awesome-markers/2.0.2/leaflet.awesome-markers.js%22%3E%3C/script%3E%0A%20%20%20%20%3Clink%20rel%3D%22stylesheet%22%20href%3D%22https%3A//cdn.jsdelivr.net/npm/leaflet%401.6.0/dist/leaflet.css%22/%3E%0A%20%20%20%20%3Clink%20rel%3D%22stylesheet%22%20href%3D%22https%3A//maxcdn.bootstrapcdn.com/bootstrap/3.2.0/css/bootstrap.min.css%22/%3E%0A%20%20%20%20%3Clink%20rel%3D%22stylesheet%22%20href%3D%22https%3A//maxcdn.bootstrapcdn.com/bootstrap/3.2.0/css/bootstrap-theme.min.css%22/%3E%0A%20%20%20%20%3Clink%20rel%3D%22stylesheet%22%20href%3D%22https%3A//maxcdn.bootstrapcdn.com/font-awesome/4.6.3/css/font-awesome.min.css%22/%3E%0A%20%20%20%20%3Clink%20rel%3D%22stylesheet%22%20href%3D%22https%3A//cdnjs.cloudflare.com/ajax/libs/Leaflet.awesome-markers/2.0.2/leaflet.awesome-markers.css%22/%3E%0A%20%20%20%20%3Clink%20rel%3D%22stylesheet%22%20href%3D%22https%3A//cdn.jsdelivr.net/gh/python-visualization/folium/folium/templates/leaflet.awesome.rotate.min.css%22/%3E%0A%20%20%20%20%0A%20%20%20%20%20%20%20%20%20%20%20%20%3Cmeta%20name%3D%22viewport%22%20content%3D%22width%3Ddevice-width%2C%0A%20%20%20%20%20%20%20%20%20%20%20%20%20%20%20%20initial-scale%3D1.0%2C%20maximum-scale%3D1.0%2C%20user-scalable%3Dno%22%20/%3E%0A%20%20%20%20%20%20%20%20%20%20%20%20%3Cstyle%3E%0A%20%20%20%20%20%20%20%20%20%20%20%20%20%20%20%20%23map_f90baacfcf3f4ee7a4b32be9b17b48f7%20%7B%0A%20%20%20%20%20%20%20%20%20%20%20%20%20%20%20%20%20%20%20%20position%3A%20relative%3B%0A%20%20%20%20%20%20%20%20%20%20%20%20%20%20%20%20%20%20%20%20width%3A%20100.0%25%3B%0A%20%20%20%20%20%20%20%20%20%20%20%20%20%20%20%20%20%20%20%20height%3A%20100.0%25%3B%0A%20%20%20%20%20%20%20%20%20%20%20%20%20%20%20%20%20%20%20%20left%3A%200.0%25%3B%0A%20%20%20%20%20%20%20%20%20%20%20%20%20%20%20%20%20%20%20%20top%3A%200.0%25%3B%0A%20%20%20%20%20%20%20%20%20%20%20%20%20%20%20%20%7D%0A%20%20%20%20%20%20%20%20%20%20%20%20%3C/style%3E%0A%20%20%20%20%20%20%20%20%0A%3C/head%3E%0A%3Cbody%3E%20%20%20%20%0A%20%20%20%20%0A%20%20%20%20%20%20%20%20%20%20%20%20%3Cdiv%20class%3D%22folium-map%22%20id%3D%22map_f90baacfcf3f4ee7a4b32be9b17b48f7%22%20%3E%3C/div%3E%0A%20%20%20%20%20%20%20%20%0A%3C/body%3E%0A%3Cscript%3E%20%20%20%20%0A%20%20%20%20%0A%20%20%20%20%20%20%20%20%20%20%20%20var%20map_f90baacfcf3f4ee7a4b32be9b17b48f7%20%3D%20L.map%28%0A%20%20%20%20%20%20%20%20%20%20%20%20%20%20%20%20%22map_f90baacfcf3f4ee7a4b32be9b17b48f7%22%2C%0A%20%20%20%20%20%20%20%20%20%20%20%20%20%20%20%20%7B%0A%20%20%20%20%20%20%20%20%20%20%20%20%20%20%20%20%20%20%20%20center%3A%20%5B36.884804%2C%2030.704044%5D%2C%0A%20%20%20%20%20%20%20%20%20%20%20%20%20%20%20%20%20%20%20%20crs%3A%20L.CRS.EPSG3857%2C%0A%20%20%20%20%20%20%20%20%20%20%20%20%20%20%20%20%20%20%20%20zoom%3A%208%2C%0A%20%20%20%20%20%20%20%20%20%20%20%20%20%20%20%20%20%20%20%20zoomControl%3A%20true%2C%0A%20%20%20%20%20%20%20%20%20%20%20%20%20%20%20%20%20%20%20%20preferCanvas%3A%20false%2C%0A%20%20%20%20%20%20%20%20%20%20%20%20%20%20%20%20%7D%0A%20%20%20%20%20%20%20%20%20%20%20%20%29%3B%0A%0A%20%20%20%20%20%20%20%20%20%20%20%20%0A%0A%20%20%20%20%20%20%20%20%0A%20%20%20%20%0A%20%20%20%20%20%20%20%20%20%20%20%20var%20tile_layer_2236f3d9e36b470b8c21e809ca27fe7a%20%3D%20L.tileLayer%28%0A%20%20%20%20%20%20%20%20%20%20%20%20%20%20%20%20%22https%3A//%7Bs%7D.tile.openstreetmap.org/%7Bz%7D/%7Bx%7D/%7By%7D.png%22%2C%0A%20%20%20%20%20%20%20%20%20%20%20%20%20%20%20%20%7B%22attribution%22%3A%20%22Data%20by%20%5Cu0026copy%3B%20%5Cu003ca%20href%3D%5C%22http%3A//openstreetmap.org%5C%22%5Cu003eOpenStreetMap%5Cu003c/a%5Cu003e%2C%20under%20%5Cu003ca%20href%3D%5C%22http%3A//www.openstreetmap.org/copyright%5C%22%5Cu003eODbL%5Cu003c/a%5Cu003e.%22%2C%20%22detectRetina%22%3A%20false%2C%20%22maxNativeZoom%22%3A%2018%2C%20%22maxZoom%22%3A%2018%2C%20%22minZoom%22%3A%200%2C%20%22noWrap%22%3A%20false%2C%20%22opacity%22%3A%201%2C%20%22subdomains%22%3A%20%22abc%22%2C%20%22tms%22%3A%20false%7D%0A%20%20%20%20%20%20%20%20%20%20%20%20%29.addTo%28map_f90baacfcf3f4ee7a4b32be9b17b48f7%29%3B%0A%20%20%20%20%20%20%20%20%0A%3C/script%3E onload=\"this.contentDocument.open();this.contentDocument.write(    decodeURIComponent(this.getAttribute('data-html')));this.contentDocument.close();\" allowfullscreen webkitallowfullscreen mozallowfullscreen></iframe></div></div>"
      ],
      "text/plain": [
       "<folium.folium.Map at 0x1c6413b0160>"
      ]
     },
     "execution_count": 27,
     "metadata": {},
     "output_type": "execute_result"
    }
   ],
   "source": [
    "my_map"
   ]
  },
  {
   "cell_type": "code",
   "execution_count": 28,
   "id": "655bf9f3",
   "metadata": {},
   "outputs": [],
   "source": [
    "east = que1.east\n",
    "north = que1.north\n",
    "name = que1.stname\n",
    "elevation = que1.elev\n",
    "area = que1.area"
   ]
  },
  {
   "cell_type": "markdown",
   "id": "239c43c1",
   "metadata": {},
   "source": [
    "_Series contain needed variables_"
   ]
  },
  {
   "cell_type": "code",
   "execution_count": 29,
   "id": "4dc5d73b",
   "metadata": {},
   "outputs": [
    {
     "data": {
      "text/plain": [
       "2    30.050000\n",
       "5    30.573611\n",
       "6    30.942222\n",
       "Name: east, dtype: float64"
      ]
     },
     "execution_count": 29,
     "metadata": {},
     "output_type": "execute_result"
    }
   ],
   "source": [
    "east.head(3)"
   ]
  },
  {
   "cell_type": "code",
   "execution_count": 30,
   "id": "b5370974",
   "metadata": {},
   "outputs": [
    {
     "data": {
      "text/plain": [
       "(20,)"
      ]
     },
     "execution_count": 30,
     "metadata": {},
     "output_type": "execute_result"
    }
   ],
   "source": [
    "east.shape"
   ]
  },
  {
   "cell_type": "code",
   "execution_count": 31,
   "id": "58b4f8f5",
   "metadata": {},
   "outputs": [
    {
     "data": {
      "text/plain": [
       "2    30.05\n",
       "Name: east, dtype: float64"
      ]
     },
     "execution_count": 31,
     "metadata": {},
     "output_type": "execute_result"
    }
   ],
   "source": [
    "east[0:1]"
   ]
  },
  {
   "cell_type": "code",
   "execution_count": 32,
   "id": "4665e434",
   "metadata": {},
   "outputs": [
    {
     "data": {
      "text/plain": [
       "37.13333333333333"
      ]
     },
     "execution_count": 32,
     "metadata": {},
     "output_type": "execute_result"
    }
   ],
   "source": [
    "north.iloc[0]"
   ]
  },
  {
   "cell_type": "code",
   "execution_count": 33,
   "id": "2d9ce093",
   "metadata": {},
   "outputs": [
    {
     "data": {
      "text/plain": [
       "30.05"
      ]
     },
     "execution_count": 33,
     "metadata": {},
     "output_type": "execute_result"
    }
   ],
   "source": [
    "east.iloc[0]"
   ]
  },
  {
   "cell_type": "markdown",
   "id": "b7bc8cdf",
   "metadata": {},
   "source": [
    "station_coords = [north.iloc[1], east.iloc[1]]\n",
    "folium.Marker(station_coords, popup = name.iloc[1]).add_to(my_map)"
   ]
  },
  {
   "cell_type": "markdown",
   "id": "0d6bed59",
   "metadata": {},
   "source": [
    "for i in range(que1.stname.count()):\n",
    "    station_coords = [north.iloc[i], east.iloc[i]]\n",
    "    folium.Marker(station_coords, popup = ['Station Name:',name.iloc[i], '\\t Elevation:',elevation.iloc[i], '\\t Area:', area.iloc[i]] ).add_to(my_map)"
   ]
  },
  {
   "cell_type": "markdown",
   "id": "ab9b7b5d",
   "metadata": {},
   "source": [
    "my_map"
   ]
  },
  {
   "cell_type": "markdown",
   "id": "a58615b6",
   "metadata": {},
   "source": [
    "![purple-divider](https://user-images.githubusercontent.com/7065401/52071927-c1cd7100-2562-11e9-908a-dde91ba14e59.png)"
   ]
  },
  {
   "cell_type": "markdown",
   "id": "5eb5bb81",
   "metadata": {},
   "source": [
    "_3)EFAS excel dosyasinda her istasyon icin 2000-2015 yillari arasinda gunluk akim veriler var. Bu akim verilerinde sifir veya sifidan buyuk degerleri her ay icin ortalamasini alabilirsin. Ornegin 16 adet ocak ayinin ortalamasi. Boylece her istasyon icin 12 deger olacak - her aydaki ortalama. Bu degerleri bar chart olarak grafigini cizdirelim. Ve leaflet haritasi uzerinde bir istasyona tikladigimizda ilgili bar chart gorunsun._"
   ]
  },
  {
   "cell_type": "code",
   "execution_count": 34,
   "id": "28116e14",
   "metadata": {},
   "outputs": [],
   "source": [
    "# DateOffsets\n",
    "import webbrowser\n",
    "#webbrowser.open('https://pandas.pydata.org/pandas-docs/stable/user_guide/timeseries.html#dateoffset-objects')"
   ]
  },
  {
   "cell_type": "code",
   "execution_count": 35,
   "id": "d0640bab",
   "metadata": {},
   "outputs": [],
   "source": [
    "# Datetime python document\n",
    "import webbrowser\n",
    "#webbrowser.open('https://docs.python.org/3/library/datetime.html#strftime-and-strptime-behavior')"
   ]
  },
  {
   "cell_type": "code",
   "execution_count": 36,
   "id": "8c06116f",
   "metadata": {},
   "outputs": [],
   "source": [
    "#Visualization\n",
    "import webbrowser\n",
    "#webbrowser.open('https://python-visualization.github.io/folium/quickstart.html')"
   ]
  },
  {
   "cell_type": "markdown",
   "id": "d8a513e8",
   "metadata": {},
   "source": [
    "![green-divider](https://user-images.githubusercontent.com/7065401/52071924-c003ad80-2562-11e9-8297-1c6595f8a7ff.png)"
   ]
  },
  {
   "cell_type": "markdown",
   "id": "b38511a1",
   "metadata": {},
   "source": [
    "_notes about above column/columns given as italic like this, hided codes are just markdowns_"
   ]
  },
  {
   "cell_type": "code",
   "execution_count": 37,
   "id": "3b951852",
   "metadata": {},
   "outputs": [
    {
     "data": {
      "text/plain": [
       "dtype('<M8[ns]')"
      ]
     },
     "execution_count": 37,
     "metadata": {},
     "output_type": "execute_result"
    }
   ],
   "source": [
    "flw.dtypes.Historical_times"
   ]
  },
  {
   "cell_type": "markdown",
   "id": "a0e962cb",
   "metadata": {},
   "source": [
    "_I check the flw data Historical_times columns if it is datetime or not dtype('<M8[ns]') means datetime64 so no need for version ( if it was object or smthg i need to convert it to work with it as data)_"
   ]
  },
  {
   "cell_type": "code",
   "execution_count": 38,
   "id": "e9351bb4",
   "metadata": {},
   "outputs": [
    {
     "data": {
      "text/plain": [
       "'Saturday'"
      ]
     },
     "execution_count": 38,
     "metadata": {},
     "output_type": "execute_result"
    }
   ],
   "source": [
    "flw.loc[0,'Historical_times'].day_name()"
   ]
  },
  {
   "cell_type": "markdown",
   "id": "81e5e06b",
   "metadata": {},
   "source": [
    "_datetime methods works this also show its format is datetime_"
   ]
  },
  {
   "cell_type": "code",
   "execution_count": 39,
   "id": "b7f251d6",
   "metadata": {},
   "outputs": [],
   "source": [
    "flw.set_index('Historical_times', inplace=True)"
   ]
  },
  {
   "cell_type": "code",
   "execution_count": 40,
   "id": "ebff72bc",
   "metadata": {},
   "outputs": [
    {
     "data": {
      "text/html": [
       "<div>\n",
       "<style scoped>\n",
       "    .dataframe tbody tr th:only-of-type {\n",
       "        vertical-align: middle;\n",
       "    }\n",
       "\n",
       "    .dataframe tbody tr th {\n",
       "        vertical-align: top;\n",
       "    }\n",
       "\n",
       "    .dataframe thead th {\n",
       "        text-align: right;\n",
       "    }\n",
       "</style>\n",
       "<table border=\"1\" class=\"dataframe\">\n",
       "  <thead>\n",
       "    <tr style=\"text-align: right;\">\n",
       "      <th></th>\n",
       "      <th>Unnamed: 0</th>\n",
       "      <th>D09A011</th>\n",
       "      <th>D09A031</th>\n",
       "      <th>D09A034</th>\n",
       "      <th>D09A057</th>\n",
       "      <th>D09A065</th>\n",
       "      <th>D09A067</th>\n",
       "      <th>D09A068</th>\n",
       "      <th>D09A086</th>\n",
       "      <th>D09A089</th>\n",
       "      <th>...</th>\n",
       "      <th>D09A100</th>\n",
       "      <th>D09A101</th>\n",
       "      <th>D09A122</th>\n",
       "      <th>E09A002</th>\n",
       "      <th>E09A012</th>\n",
       "      <th>E09A017</th>\n",
       "      <th>E09A021</th>\n",
       "      <th>E09A022</th>\n",
       "      <th>E09A024</th>\n",
       "      <th>E09A099</th>\n",
       "    </tr>\n",
       "    <tr>\n",
       "      <th>Historical_times</th>\n",
       "      <th></th>\n",
       "      <th></th>\n",
       "      <th></th>\n",
       "      <th></th>\n",
       "      <th></th>\n",
       "      <th></th>\n",
       "      <th></th>\n",
       "      <th></th>\n",
       "      <th></th>\n",
       "      <th></th>\n",
       "      <th></th>\n",
       "      <th></th>\n",
       "      <th></th>\n",
       "      <th></th>\n",
       "      <th></th>\n",
       "      <th></th>\n",
       "      <th></th>\n",
       "      <th></th>\n",
       "      <th></th>\n",
       "      <th></th>\n",
       "      <th></th>\n",
       "    </tr>\n",
       "  </thead>\n",
       "  <tbody>\n",
       "    <tr>\n",
       "      <th>2000-01-01 06:00:00</th>\n",
       "      <td>0</td>\n",
       "      <td>0.935547</td>\n",
       "      <td>2.056641</td>\n",
       "      <td>0.683594</td>\n",
       "      <td>0.316406</td>\n",
       "      <td>0.156250</td>\n",
       "      <td>5.136719</td>\n",
       "      <td>5.797852</td>\n",
       "      <td>1.664062</td>\n",
       "      <td>1.166992</td>\n",
       "      <td>...</td>\n",
       "      <td>0.962891</td>\n",
       "      <td>8.919922</td>\n",
       "      <td>1.004883</td>\n",
       "      <td>6.404297</td>\n",
       "      <td>24.528320</td>\n",
       "      <td>21.681641</td>\n",
       "      <td>3.103516</td>\n",
       "      <td>11.973633</td>\n",
       "      <td>17.578125</td>\n",
       "      <td>5.196289</td>\n",
       "    </tr>\n",
       "    <tr>\n",
       "      <th>2000-01-02 06:00:00</th>\n",
       "      <td>1</td>\n",
       "      <td>0.832031</td>\n",
       "      <td>1.769531</td>\n",
       "      <td>0.637695</td>\n",
       "      <td>0.314453</td>\n",
       "      <td>0.158203</td>\n",
       "      <td>4.430664</td>\n",
       "      <td>5.011719</td>\n",
       "      <td>1.497070</td>\n",
       "      <td>1.114258</td>\n",
       "      <td>...</td>\n",
       "      <td>0.840820</td>\n",
       "      <td>8.386719</td>\n",
       "      <td>0.875000</td>\n",
       "      <td>6.090820</td>\n",
       "      <td>21.171875</td>\n",
       "      <td>19.059570</td>\n",
       "      <td>2.833008</td>\n",
       "      <td>10.519531</td>\n",
       "      <td>15.412109</td>\n",
       "      <td>4.870117</td>\n",
       "    </tr>\n",
       "    <tr>\n",
       "      <th>2000-01-03 06:00:00</th>\n",
       "      <td>2</td>\n",
       "      <td>0.807617</td>\n",
       "      <td>1.626953</td>\n",
       "      <td>0.642578</td>\n",
       "      <td>0.320312</td>\n",
       "      <td>0.158203</td>\n",
       "      <td>3.958984</td>\n",
       "      <td>4.508789</td>\n",
       "      <td>1.385742</td>\n",
       "      <td>1.135742</td>\n",
       "      <td>...</td>\n",
       "      <td>0.792969</td>\n",
       "      <td>7.865234</td>\n",
       "      <td>0.833008</td>\n",
       "      <td>5.793945</td>\n",
       "      <td>19.541992</td>\n",
       "      <td>16.958008</td>\n",
       "      <td>2.600586</td>\n",
       "      <td>9.642578</td>\n",
       "      <td>13.960938</td>\n",
       "      <td>4.669922</td>\n",
       "    </tr>\n",
       "    <tr>\n",
       "      <th>2000-01-04 06:00:00</th>\n",
       "      <td>3</td>\n",
       "      <td>0.734375</td>\n",
       "      <td>1.634766</td>\n",
       "      <td>0.658203</td>\n",
       "      <td>0.318359</td>\n",
       "      <td>0.156250</td>\n",
       "      <td>3.666016</td>\n",
       "      <td>4.256836</td>\n",
       "      <td>1.309570</td>\n",
       "      <td>1.156250</td>\n",
       "      <td>...</td>\n",
       "      <td>0.777344</td>\n",
       "      <td>7.655273</td>\n",
       "      <td>0.823242</td>\n",
       "      <td>5.647461</td>\n",
       "      <td>18.666992</td>\n",
       "      <td>15.465820</td>\n",
       "      <td>2.468750</td>\n",
       "      <td>8.636719</td>\n",
       "      <td>12.583008</td>\n",
       "      <td>4.469727</td>\n",
       "    </tr>\n",
       "    <tr>\n",
       "      <th>2000-01-05 06:00:00</th>\n",
       "      <td>4</td>\n",
       "      <td>0.637695</td>\n",
       "      <td>1.666992</td>\n",
       "      <td>0.660156</td>\n",
       "      <td>0.313477</td>\n",
       "      <td>0.154297</td>\n",
       "      <td>3.585938</td>\n",
       "      <td>4.185547</td>\n",
       "      <td>1.225586</td>\n",
       "      <td>1.097656</td>\n",
       "      <td>...</td>\n",
       "      <td>0.687500</td>\n",
       "      <td>7.424805</td>\n",
       "      <td>0.792969</td>\n",
       "      <td>5.406250</td>\n",
       "      <td>17.145508</td>\n",
       "      <td>14.164062</td>\n",
       "      <td>2.329102</td>\n",
       "      <td>7.911133</td>\n",
       "      <td>11.435547</td>\n",
       "      <td>4.221680</td>\n",
       "    </tr>\n",
       "    <tr>\n",
       "      <th>...</th>\n",
       "      <td>...</td>\n",
       "      <td>...</td>\n",
       "      <td>...</td>\n",
       "      <td>...</td>\n",
       "      <td>...</td>\n",
       "      <td>...</td>\n",
       "      <td>...</td>\n",
       "      <td>...</td>\n",
       "      <td>...</td>\n",
       "      <td>...</td>\n",
       "      <td>...</td>\n",
       "      <td>...</td>\n",
       "      <td>...</td>\n",
       "      <td>...</td>\n",
       "      <td>...</td>\n",
       "      <td>...</td>\n",
       "      <td>...</td>\n",
       "      <td>...</td>\n",
       "      <td>...</td>\n",
       "      <td>...</td>\n",
       "      <td>...</td>\n",
       "    </tr>\n",
       "    <tr>\n",
       "      <th>2015-12-27 06:00:00</th>\n",
       "      <td>5839</td>\n",
       "      <td>0.344238</td>\n",
       "      <td>1.526367</td>\n",
       "      <td>0.770508</td>\n",
       "      <td>0.348633</td>\n",
       "      <td>0.188965</td>\n",
       "      <td>1.402832</td>\n",
       "      <td>1.522461</td>\n",
       "      <td>0.939941</td>\n",
       "      <td>1.182129</td>\n",
       "      <td>...</td>\n",
       "      <td>0.540527</td>\n",
       "      <td>6.482422</td>\n",
       "      <td>0.576172</td>\n",
       "      <td>4.785645</td>\n",
       "      <td>7.485352</td>\n",
       "      <td>3.913574</td>\n",
       "      <td>1.763672</td>\n",
       "      <td>1.895508</td>\n",
       "      <td>2.873047</td>\n",
       "      <td>3.556152</td>\n",
       "    </tr>\n",
       "    <tr>\n",
       "      <th>2015-12-28 06:00:00</th>\n",
       "      <td>5840</td>\n",
       "      <td>0.340820</td>\n",
       "      <td>1.505371</td>\n",
       "      <td>0.762695</td>\n",
       "      <td>0.345703</td>\n",
       "      <td>0.187500</td>\n",
       "      <td>1.390625</td>\n",
       "      <td>1.506836</td>\n",
       "      <td>0.931641</td>\n",
       "      <td>1.171875</td>\n",
       "      <td>...</td>\n",
       "      <td>0.536133</td>\n",
       "      <td>6.426270</td>\n",
       "      <td>0.570312</td>\n",
       "      <td>4.743652</td>\n",
       "      <td>7.417969</td>\n",
       "      <td>3.871582</td>\n",
       "      <td>1.747559</td>\n",
       "      <td>1.877930</td>\n",
       "      <td>2.846191</td>\n",
       "      <td>3.523438</td>\n",
       "    </tr>\n",
       "    <tr>\n",
       "      <th>2015-12-29 06:00:00</th>\n",
       "      <td>5841</td>\n",
       "      <td>0.337402</td>\n",
       "      <td>1.488281</td>\n",
       "      <td>0.755371</td>\n",
       "      <td>0.342285</td>\n",
       "      <td>0.186523</td>\n",
       "      <td>1.378418</td>\n",
       "      <td>1.491699</td>\n",
       "      <td>0.923340</td>\n",
       "      <td>1.161621</td>\n",
       "      <td>...</td>\n",
       "      <td>0.531738</td>\n",
       "      <td>6.370605</td>\n",
       "      <td>0.564453</td>\n",
       "      <td>4.700195</td>\n",
       "      <td>7.359375</td>\n",
       "      <td>3.834961</td>\n",
       "      <td>1.731934</td>\n",
       "      <td>1.857910</td>\n",
       "      <td>2.819336</td>\n",
       "      <td>3.490723</td>\n",
       "    </tr>\n",
       "    <tr>\n",
       "      <th>2015-12-30 06:00:00</th>\n",
       "      <td>5842</td>\n",
       "      <td>0.333984</td>\n",
       "      <td>1.471680</td>\n",
       "      <td>0.747559</td>\n",
       "      <td>0.339355</td>\n",
       "      <td>0.183594</td>\n",
       "      <td>1.365723</td>\n",
       "      <td>1.477051</td>\n",
       "      <td>0.915039</td>\n",
       "      <td>1.150879</td>\n",
       "      <td>...</td>\n",
       "      <td>0.526855</td>\n",
       "      <td>6.268555</td>\n",
       "      <td>0.559082</td>\n",
       "      <td>4.638184</td>\n",
       "      <td>7.290527</td>\n",
       "      <td>3.797363</td>\n",
       "      <td>1.716309</td>\n",
       "      <td>1.836914</td>\n",
       "      <td>2.789062</td>\n",
       "      <td>3.458008</td>\n",
       "    </tr>\n",
       "    <tr>\n",
       "      <th>2015-12-31 06:00:00</th>\n",
       "      <td>5843</td>\n",
       "      <td>0.330566</td>\n",
       "      <td>1.455566</td>\n",
       "      <td>0.740234</td>\n",
       "      <td>0.335938</td>\n",
       "      <td>0.181641</td>\n",
       "      <td>1.354980</td>\n",
       "      <td>1.462891</td>\n",
       "      <td>0.903809</td>\n",
       "      <td>1.139648</td>\n",
       "      <td>...</td>\n",
       "      <td>0.521973</td>\n",
       "      <td>6.180664</td>\n",
       "      <td>0.553223</td>\n",
       "      <td>4.590820</td>\n",
       "      <td>7.218262</td>\n",
       "      <td>3.760742</td>\n",
       "      <td>1.700684</td>\n",
       "      <td>1.827637</td>\n",
       "      <td>2.767578</td>\n",
       "      <td>3.425781</td>\n",
       "    </tr>\n",
       "  </tbody>\n",
       "</table>\n",
       "<p>5844 rows × 22 columns</p>\n",
       "</div>"
      ],
      "text/plain": [
       "                     Unnamed: 0   D09A011   D09A031   D09A034   D09A057  \\\n",
       "Historical_times                                                          \n",
       "2000-01-01 06:00:00           0  0.935547  2.056641  0.683594  0.316406   \n",
       "2000-01-02 06:00:00           1  0.832031  1.769531  0.637695  0.314453   \n",
       "2000-01-03 06:00:00           2  0.807617  1.626953  0.642578  0.320312   \n",
       "2000-01-04 06:00:00           3  0.734375  1.634766  0.658203  0.318359   \n",
       "2000-01-05 06:00:00           4  0.637695  1.666992  0.660156  0.313477   \n",
       "...                         ...       ...       ...       ...       ...   \n",
       "2015-12-27 06:00:00        5839  0.344238  1.526367  0.770508  0.348633   \n",
       "2015-12-28 06:00:00        5840  0.340820  1.505371  0.762695  0.345703   \n",
       "2015-12-29 06:00:00        5841  0.337402  1.488281  0.755371  0.342285   \n",
       "2015-12-30 06:00:00        5842  0.333984  1.471680  0.747559  0.339355   \n",
       "2015-12-31 06:00:00        5843  0.330566  1.455566  0.740234  0.335938   \n",
       "\n",
       "                      D09A065   D09A067   D09A068   D09A086   D09A089  ...  \\\n",
       "Historical_times                                                       ...   \n",
       "2000-01-01 06:00:00  0.156250  5.136719  5.797852  1.664062  1.166992  ...   \n",
       "2000-01-02 06:00:00  0.158203  4.430664  5.011719  1.497070  1.114258  ...   \n",
       "2000-01-03 06:00:00  0.158203  3.958984  4.508789  1.385742  1.135742  ...   \n",
       "2000-01-04 06:00:00  0.156250  3.666016  4.256836  1.309570  1.156250  ...   \n",
       "2000-01-05 06:00:00  0.154297  3.585938  4.185547  1.225586  1.097656  ...   \n",
       "...                       ...       ...       ...       ...       ...  ...   \n",
       "2015-12-27 06:00:00  0.188965  1.402832  1.522461  0.939941  1.182129  ...   \n",
       "2015-12-28 06:00:00  0.187500  1.390625  1.506836  0.931641  1.171875  ...   \n",
       "2015-12-29 06:00:00  0.186523  1.378418  1.491699  0.923340  1.161621  ...   \n",
       "2015-12-30 06:00:00  0.183594  1.365723  1.477051  0.915039  1.150879  ...   \n",
       "2015-12-31 06:00:00  0.181641  1.354980  1.462891  0.903809  1.139648  ...   \n",
       "\n",
       "                      D09A100   D09A101   D09A122   E09A002    E09A012  \\\n",
       "Historical_times                                                         \n",
       "2000-01-01 06:00:00  0.962891  8.919922  1.004883  6.404297  24.528320   \n",
       "2000-01-02 06:00:00  0.840820  8.386719  0.875000  6.090820  21.171875   \n",
       "2000-01-03 06:00:00  0.792969  7.865234  0.833008  5.793945  19.541992   \n",
       "2000-01-04 06:00:00  0.777344  7.655273  0.823242  5.647461  18.666992   \n",
       "2000-01-05 06:00:00  0.687500  7.424805  0.792969  5.406250  17.145508   \n",
       "...                       ...       ...       ...       ...        ...   \n",
       "2015-12-27 06:00:00  0.540527  6.482422  0.576172  4.785645   7.485352   \n",
       "2015-12-28 06:00:00  0.536133  6.426270  0.570312  4.743652   7.417969   \n",
       "2015-12-29 06:00:00  0.531738  6.370605  0.564453  4.700195   7.359375   \n",
       "2015-12-30 06:00:00  0.526855  6.268555  0.559082  4.638184   7.290527   \n",
       "2015-12-31 06:00:00  0.521973  6.180664  0.553223  4.590820   7.218262   \n",
       "\n",
       "                       E09A017   E09A021    E09A022    E09A024   E09A099  \n",
       "Historical_times                                                          \n",
       "2000-01-01 06:00:00  21.681641  3.103516  11.973633  17.578125  5.196289  \n",
       "2000-01-02 06:00:00  19.059570  2.833008  10.519531  15.412109  4.870117  \n",
       "2000-01-03 06:00:00  16.958008  2.600586   9.642578  13.960938  4.669922  \n",
       "2000-01-04 06:00:00  15.465820  2.468750   8.636719  12.583008  4.469727  \n",
       "2000-01-05 06:00:00  14.164062  2.329102   7.911133  11.435547  4.221680  \n",
       "...                        ...       ...        ...        ...       ...  \n",
       "2015-12-27 06:00:00   3.913574  1.763672   1.895508   2.873047  3.556152  \n",
       "2015-12-28 06:00:00   3.871582  1.747559   1.877930   2.846191  3.523438  \n",
       "2015-12-29 06:00:00   3.834961  1.731934   1.857910   2.819336  3.490723  \n",
       "2015-12-30 06:00:00   3.797363  1.716309   1.836914   2.789062  3.458008  \n",
       "2015-12-31 06:00:00   3.760742  1.700684   1.827637   2.767578  3.425781  \n",
       "\n",
       "[5844 rows x 22 columns]"
      ]
     },
     "execution_count": 40,
     "metadata": {},
     "output_type": "execute_result"
    }
   ],
   "source": [
    "flw"
   ]
  },
  {
   "cell_type": "markdown",
   "id": "5d9c76e9",
   "metadata": {},
   "source": [
    "_I set index as Historical_times to work with easily_"
   ]
  },
  {
   "cell_type": "code",
   "execution_count": 41,
   "id": "72743ac5",
   "metadata": {},
   "outputs": [],
   "source": [
    "flw_month =flw.resample('M').mean()"
   ]
  },
  {
   "cell_type": "markdown",
   "id": "17506b6d",
   "metadata": {},
   "source": [
    "_'M' shows calender month as of year but it takes mean of all values in that month_"
   ]
  },
  {
   "cell_type": "code",
   "execution_count": 42,
   "id": "8957735a",
   "metadata": {
    "scrolled": true
   },
   "outputs": [
    {
     "data": {
      "text/html": [
       "<div>\n",
       "<style scoped>\n",
       "    .dataframe tbody tr th:only-of-type {\n",
       "        vertical-align: middle;\n",
       "    }\n",
       "\n",
       "    .dataframe tbody tr th {\n",
       "        vertical-align: top;\n",
       "    }\n",
       "\n",
       "    .dataframe thead th {\n",
       "        text-align: right;\n",
       "    }\n",
       "</style>\n",
       "<table border=\"1\" class=\"dataframe\">\n",
       "  <thead>\n",
       "    <tr style=\"text-align: right;\">\n",
       "      <th></th>\n",
       "      <th>Unnamed: 0</th>\n",
       "      <th>D09A011</th>\n",
       "      <th>D09A031</th>\n",
       "      <th>D09A034</th>\n",
       "      <th>D09A057</th>\n",
       "      <th>D09A065</th>\n",
       "      <th>D09A067</th>\n",
       "      <th>D09A068</th>\n",
       "      <th>D09A086</th>\n",
       "      <th>D09A089</th>\n",
       "      <th>...</th>\n",
       "      <th>D09A100</th>\n",
       "      <th>D09A101</th>\n",
       "      <th>D09A122</th>\n",
       "      <th>E09A002</th>\n",
       "      <th>E09A012</th>\n",
       "      <th>E09A017</th>\n",
       "      <th>E09A021</th>\n",
       "      <th>E09A022</th>\n",
       "      <th>E09A024</th>\n",
       "      <th>E09A099</th>\n",
       "    </tr>\n",
       "    <tr>\n",
       "      <th>Historical_times</th>\n",
       "      <th></th>\n",
       "      <th></th>\n",
       "      <th></th>\n",
       "      <th></th>\n",
       "      <th></th>\n",
       "      <th></th>\n",
       "      <th></th>\n",
       "      <th></th>\n",
       "      <th></th>\n",
       "      <th></th>\n",
       "      <th></th>\n",
       "      <th></th>\n",
       "      <th></th>\n",
       "      <th></th>\n",
       "      <th></th>\n",
       "      <th></th>\n",
       "      <th></th>\n",
       "      <th></th>\n",
       "      <th></th>\n",
       "      <th></th>\n",
       "      <th></th>\n",
       "    </tr>\n",
       "  </thead>\n",
       "  <tbody>\n",
       "    <tr>\n",
       "      <th>2000-01-31</th>\n",
       "      <td>15.0</td>\n",
       "      <td>0.446730</td>\n",
       "      <td>2.303805</td>\n",
       "      <td>0.867361</td>\n",
       "      <td>0.222010</td>\n",
       "      <td>0.058468</td>\n",
       "      <td>6.297474</td>\n",
       "      <td>10.365959</td>\n",
       "      <td>0.969112</td>\n",
       "      <td>1.057160</td>\n",
       "      <td>...</td>\n",
       "      <td>0.580692</td>\n",
       "      <td>7.995401</td>\n",
       "      <td>0.934192</td>\n",
       "      <td>5.413574</td>\n",
       "      <td>17.321588</td>\n",
       "      <td>17.413669</td>\n",
       "      <td>1.880135</td>\n",
       "      <td>8.403116</td>\n",
       "      <td>12.376748</td>\n",
       "      <td>3.816721</td>\n",
       "    </tr>\n",
       "    <tr>\n",
       "      <th>2000-02-29</th>\n",
       "      <td>45.0</td>\n",
       "      <td>2.642662</td>\n",
       "      <td>3.974239</td>\n",
       "      <td>1.640979</td>\n",
       "      <td>1.658489</td>\n",
       "      <td>0.166588</td>\n",
       "      <td>12.578916</td>\n",
       "      <td>18.287547</td>\n",
       "      <td>1.744578</td>\n",
       "      <td>3.795545</td>\n",
       "      <td>...</td>\n",
       "      <td>1.441743</td>\n",
       "      <td>16.414888</td>\n",
       "      <td>1.638941</td>\n",
       "      <td>11.991177</td>\n",
       "      <td>38.918491</td>\n",
       "      <td>34.137392</td>\n",
       "      <td>3.990352</td>\n",
       "      <td>15.244444</td>\n",
       "      <td>23.327182</td>\n",
       "      <td>9.068949</td>\n",
       "    </tr>\n",
       "    <tr>\n",
       "      <th>2000-03-31</th>\n",
       "      <td>75.0</td>\n",
       "      <td>2.678553</td>\n",
       "      <td>4.926884</td>\n",
       "      <td>2.033518</td>\n",
       "      <td>2.115801</td>\n",
       "      <td>0.754710</td>\n",
       "      <td>8.133710</td>\n",
       "      <td>9.899178</td>\n",
       "      <td>3.624039</td>\n",
       "      <td>4.671072</td>\n",
       "      <td>...</td>\n",
       "      <td>2.407589</td>\n",
       "      <td>19.826062</td>\n",
       "      <td>1.690886</td>\n",
       "      <td>15.355737</td>\n",
       "      <td>35.704464</td>\n",
       "      <td>25.129001</td>\n",
       "      <td>6.641428</td>\n",
       "      <td>12.836946</td>\n",
       "      <td>18.762900</td>\n",
       "      <td>12.395807</td>\n",
       "    </tr>\n",
       "    <tr>\n",
       "      <th>2000-04-30</th>\n",
       "      <td>105.5</td>\n",
       "      <td>2.326042</td>\n",
       "      <td>5.757715</td>\n",
       "      <td>2.920443</td>\n",
       "      <td>1.261751</td>\n",
       "      <td>1.259603</td>\n",
       "      <td>11.864551</td>\n",
       "      <td>13.918717</td>\n",
       "      <td>8.951172</td>\n",
       "      <td>7.257975</td>\n",
       "      <td>...</td>\n",
       "      <td>5.436361</td>\n",
       "      <td>37.802116</td>\n",
       "      <td>3.175846</td>\n",
       "      <td>30.836361</td>\n",
       "      <td>64.007650</td>\n",
       "      <td>48.617318</td>\n",
       "      <td>16.209863</td>\n",
       "      <td>27.617383</td>\n",
       "      <td>40.498438</td>\n",
       "      <td>26.118457</td>\n",
       "    </tr>\n",
       "    <tr>\n",
       "      <th>2000-05-31</th>\n",
       "      <td>136.0</td>\n",
       "      <td>1.564469</td>\n",
       "      <td>6.160345</td>\n",
       "      <td>2.963206</td>\n",
       "      <td>1.227319</td>\n",
       "      <td>0.757907</td>\n",
       "      <td>7.826550</td>\n",
       "      <td>8.441012</td>\n",
       "      <td>5.314296</td>\n",
       "      <td>6.754410</td>\n",
       "      <td>...</td>\n",
       "      <td>3.279328</td>\n",
       "      <td>30.627268</td>\n",
       "      <td>2.395366</td>\n",
       "      <td>24.029124</td>\n",
       "      <td>38.744928</td>\n",
       "      <td>24.597751</td>\n",
       "      <td>10.149383</td>\n",
       "      <td>11.721916</td>\n",
       "      <td>18.350208</td>\n",
       "      <td>19.114636</td>\n",
       "    </tr>\n",
       "    <tr>\n",
       "      <th>...</th>\n",
       "      <td>...</td>\n",
       "      <td>...</td>\n",
       "      <td>...</td>\n",
       "      <td>...</td>\n",
       "      <td>...</td>\n",
       "      <td>...</td>\n",
       "      <td>...</td>\n",
       "      <td>...</td>\n",
       "      <td>...</td>\n",
       "      <td>...</td>\n",
       "      <td>...</td>\n",
       "      <td>...</td>\n",
       "      <td>...</td>\n",
       "      <td>...</td>\n",
       "      <td>...</td>\n",
       "      <td>...</td>\n",
       "      <td>...</td>\n",
       "      <td>...</td>\n",
       "      <td>...</td>\n",
       "      <td>...</td>\n",
       "      <td>...</td>\n",
       "    </tr>\n",
       "    <tr>\n",
       "      <th>2015-08-31</th>\n",
       "      <td>5706.0</td>\n",
       "      <td>0.420237</td>\n",
       "      <td>1.221113</td>\n",
       "      <td>0.960016</td>\n",
       "      <td>1.032644</td>\n",
       "      <td>0.573061</td>\n",
       "      <td>1.023556</td>\n",
       "      <td>1.096884</td>\n",
       "      <td>2.400304</td>\n",
       "      <td>2.173678</td>\n",
       "      <td>...</td>\n",
       "      <td>1.298497</td>\n",
       "      <td>9.214915</td>\n",
       "      <td>0.546710</td>\n",
       "      <td>7.723389</td>\n",
       "      <td>6.237037</td>\n",
       "      <td>2.841537</td>\n",
       "      <td>3.669040</td>\n",
       "      <td>1.339466</td>\n",
       "      <td>2.067249</td>\n",
       "      <td>6.373866</td>\n",
       "    </tr>\n",
       "    <tr>\n",
       "      <th>2015-09-30</th>\n",
       "      <td>5736.5</td>\n",
       "      <td>0.825033</td>\n",
       "      <td>2.787126</td>\n",
       "      <td>1.095199</td>\n",
       "      <td>0.791895</td>\n",
       "      <td>0.427002</td>\n",
       "      <td>1.551579</td>\n",
       "      <td>1.761393</td>\n",
       "      <td>1.860221</td>\n",
       "      <td>1.767871</td>\n",
       "      <td>...</td>\n",
       "      <td>1.011149</td>\n",
       "      <td>10.034717</td>\n",
       "      <td>0.921370</td>\n",
       "      <td>7.569255</td>\n",
       "      <td>13.746533</td>\n",
       "      <td>7.186003</td>\n",
       "      <td>3.298324</td>\n",
       "      <td>4.068457</td>\n",
       "      <td>6.345020</td>\n",
       "      <td>5.893717</td>\n",
       "    </tr>\n",
       "    <tr>\n",
       "      <th>2015-10-31</th>\n",
       "      <td>5767.0</td>\n",
       "      <td>0.935689</td>\n",
       "      <td>5.361407</td>\n",
       "      <td>1.347814</td>\n",
       "      <td>0.660834</td>\n",
       "      <td>0.343718</td>\n",
       "      <td>3.786023</td>\n",
       "      <td>4.043756</td>\n",
       "      <td>1.533754</td>\n",
       "      <td>1.680034</td>\n",
       "      <td>...</td>\n",
       "      <td>0.843167</td>\n",
       "      <td>12.380985</td>\n",
       "      <td>1.546150</td>\n",
       "      <td>8.231351</td>\n",
       "      <td>26.400249</td>\n",
       "      <td>14.987887</td>\n",
       "      <td>2.795221</td>\n",
       "      <td>8.657652</td>\n",
       "      <td>12.866888</td>\n",
       "      <td>5.919686</td>\n",
       "    </tr>\n",
       "    <tr>\n",
       "      <th>2015-11-30</th>\n",
       "      <td>5797.5</td>\n",
       "      <td>0.588509</td>\n",
       "      <td>2.858333</td>\n",
       "      <td>1.032308</td>\n",
       "      <td>0.501953</td>\n",
       "      <td>0.272005</td>\n",
       "      <td>3.166764</td>\n",
       "      <td>3.520898</td>\n",
       "      <td>1.235710</td>\n",
       "      <td>1.441862</td>\n",
       "      <td>...</td>\n",
       "      <td>0.691211</td>\n",
       "      <td>9.131331</td>\n",
       "      <td>1.065951</td>\n",
       "      <td>6.369759</td>\n",
       "      <td>18.560775</td>\n",
       "      <td>11.471257</td>\n",
       "      <td>2.266292</td>\n",
       "      <td>6.593929</td>\n",
       "      <td>9.648796</td>\n",
       "      <td>4.670378</td>\n",
       "    </tr>\n",
       "    <tr>\n",
       "      <th>2015-12-31</th>\n",
       "      <td>5828.0</td>\n",
       "      <td>0.407132</td>\n",
       "      <td>2.256127</td>\n",
       "      <td>0.931735</td>\n",
       "      <td>0.389428</td>\n",
       "      <td>0.212166</td>\n",
       "      <td>2.912377</td>\n",
       "      <td>3.101720</td>\n",
       "      <td>1.037283</td>\n",
       "      <td>1.309633</td>\n",
       "      <td>...</td>\n",
       "      <td>0.592553</td>\n",
       "      <td>8.234958</td>\n",
       "      <td>0.851799</td>\n",
       "      <td>5.707441</td>\n",
       "      <td>13.257198</td>\n",
       "      <td>8.491101</td>\n",
       "      <td>1.962560</td>\n",
       "      <td>4.113628</td>\n",
       "      <td>6.165086</td>\n",
       "      <td>4.104618</td>\n",
       "    </tr>\n",
       "  </tbody>\n",
       "</table>\n",
       "<p>192 rows × 22 columns</p>\n",
       "</div>"
      ],
      "text/plain": [
       "                  Unnamed: 0   D09A011   D09A031   D09A034   D09A057  \\\n",
       "Historical_times                                                       \n",
       "2000-01-31              15.0  0.446730  2.303805  0.867361  0.222010   \n",
       "2000-02-29              45.0  2.642662  3.974239  1.640979  1.658489   \n",
       "2000-03-31              75.0  2.678553  4.926884  2.033518  2.115801   \n",
       "2000-04-30             105.5  2.326042  5.757715  2.920443  1.261751   \n",
       "2000-05-31             136.0  1.564469  6.160345  2.963206  1.227319   \n",
       "...                      ...       ...       ...       ...       ...   \n",
       "2015-08-31            5706.0  0.420237  1.221113  0.960016  1.032644   \n",
       "2015-09-30            5736.5  0.825033  2.787126  1.095199  0.791895   \n",
       "2015-10-31            5767.0  0.935689  5.361407  1.347814  0.660834   \n",
       "2015-11-30            5797.5  0.588509  2.858333  1.032308  0.501953   \n",
       "2015-12-31            5828.0  0.407132  2.256127  0.931735  0.389428   \n",
       "\n",
       "                   D09A065    D09A067    D09A068   D09A086   D09A089  ...  \\\n",
       "Historical_times                                                      ...   \n",
       "2000-01-31        0.058468   6.297474  10.365959  0.969112  1.057160  ...   \n",
       "2000-02-29        0.166588  12.578916  18.287547  1.744578  3.795545  ...   \n",
       "2000-03-31        0.754710   8.133710   9.899178  3.624039  4.671072  ...   \n",
       "2000-04-30        1.259603  11.864551  13.918717  8.951172  7.257975  ...   \n",
       "2000-05-31        0.757907   7.826550   8.441012  5.314296  6.754410  ...   \n",
       "...                    ...        ...        ...       ...       ...  ...   \n",
       "2015-08-31        0.573061   1.023556   1.096884  2.400304  2.173678  ...   \n",
       "2015-09-30        0.427002   1.551579   1.761393  1.860221  1.767871  ...   \n",
       "2015-10-31        0.343718   3.786023   4.043756  1.533754  1.680034  ...   \n",
       "2015-11-30        0.272005   3.166764   3.520898  1.235710  1.441862  ...   \n",
       "2015-12-31        0.212166   2.912377   3.101720  1.037283  1.309633  ...   \n",
       "\n",
       "                   D09A100    D09A101   D09A122    E09A002    E09A012  \\\n",
       "Historical_times                                                        \n",
       "2000-01-31        0.580692   7.995401  0.934192   5.413574  17.321588   \n",
       "2000-02-29        1.441743  16.414888  1.638941  11.991177  38.918491   \n",
       "2000-03-31        2.407589  19.826062  1.690886  15.355737  35.704464   \n",
       "2000-04-30        5.436361  37.802116  3.175846  30.836361  64.007650   \n",
       "2000-05-31        3.279328  30.627268  2.395366  24.029124  38.744928   \n",
       "...                    ...        ...       ...        ...        ...   \n",
       "2015-08-31        1.298497   9.214915  0.546710   7.723389   6.237037   \n",
       "2015-09-30        1.011149  10.034717  0.921370   7.569255  13.746533   \n",
       "2015-10-31        0.843167  12.380985  1.546150   8.231351  26.400249   \n",
       "2015-11-30        0.691211   9.131331  1.065951   6.369759  18.560775   \n",
       "2015-12-31        0.592553   8.234958  0.851799   5.707441  13.257198   \n",
       "\n",
       "                    E09A017    E09A021    E09A022    E09A024    E09A099  \n",
       "Historical_times                                                         \n",
       "2000-01-31        17.413669   1.880135   8.403116  12.376748   3.816721  \n",
       "2000-02-29        34.137392   3.990352  15.244444  23.327182   9.068949  \n",
       "2000-03-31        25.129001   6.641428  12.836946  18.762900  12.395807  \n",
       "2000-04-30        48.617318  16.209863  27.617383  40.498438  26.118457  \n",
       "2000-05-31        24.597751  10.149383  11.721916  18.350208  19.114636  \n",
       "...                     ...        ...        ...        ...        ...  \n",
       "2015-08-31         2.841537   3.669040   1.339466   2.067249   6.373866  \n",
       "2015-09-30         7.186003   3.298324   4.068457   6.345020   5.893717  \n",
       "2015-10-31        14.987887   2.795221   8.657652  12.866888   5.919686  \n",
       "2015-11-30        11.471257   2.266292   6.593929   9.648796   4.670378  \n",
       "2015-12-31         8.491101   1.962560   4.113628   6.165086   4.104618  \n",
       "\n",
       "[192 rows x 22 columns]"
      ]
     },
     "execution_count": 42,
     "metadata": {},
     "output_type": "execute_result"
    }
   ],
   "source": [
    "flw_month"
   ]
  },
  {
   "cell_type": "code",
   "execution_count": 43,
   "id": "9489152a",
   "metadata": {},
   "outputs": [],
   "source": [
    "flw_month.drop(['Unnamed: 0'], axis=1, inplace=True)"
   ]
  },
  {
   "cell_type": "markdown",
   "id": "923ca04f",
   "metadata": {},
   "source": [
    "_I dropped Unnamed: 0 column from flw_month, it is not a station_"
   ]
  },
  {
   "cell_type": "code",
   "execution_count": 44,
   "id": "11aea307",
   "metadata": {},
   "outputs": [
    {
     "data": {
      "text/plain": [
       "(192, 21)"
      ]
     },
     "execution_count": 44,
     "metadata": {},
     "output_type": "execute_result"
    }
   ],
   "source": [
    "flw_month.shape"
   ]
  },
  {
   "cell_type": "code",
   "execution_count": 45,
   "id": "65463eb2",
   "metadata": {},
   "outputs": [
    {
     "data": {
      "text/html": [
       "<div>\n",
       "<style scoped>\n",
       "    .dataframe tbody tr th:only-of-type {\n",
       "        vertical-align: middle;\n",
       "    }\n",
       "\n",
       "    .dataframe tbody tr th {\n",
       "        vertical-align: top;\n",
       "    }\n",
       "\n",
       "    .dataframe thead th {\n",
       "        text-align: right;\n",
       "    }\n",
       "</style>\n",
       "<table border=\"1\" class=\"dataframe\">\n",
       "  <thead>\n",
       "    <tr style=\"text-align: right;\">\n",
       "      <th></th>\n",
       "      <th>D09A011</th>\n",
       "      <th>D09A031</th>\n",
       "      <th>D09A034</th>\n",
       "      <th>D09A057</th>\n",
       "      <th>D09A065</th>\n",
       "      <th>D09A067</th>\n",
       "      <th>D09A068</th>\n",
       "      <th>D09A086</th>\n",
       "      <th>D09A089</th>\n",
       "      <th>D09A091</th>\n",
       "      <th>...</th>\n",
       "      <th>D09A100</th>\n",
       "      <th>D09A101</th>\n",
       "      <th>D09A122</th>\n",
       "      <th>E09A002</th>\n",
       "      <th>E09A012</th>\n",
       "      <th>E09A017</th>\n",
       "      <th>E09A021</th>\n",
       "      <th>E09A022</th>\n",
       "      <th>E09A024</th>\n",
       "      <th>E09A099</th>\n",
       "    </tr>\n",
       "    <tr>\n",
       "      <th>Historical_times</th>\n",
       "      <th></th>\n",
       "      <th></th>\n",
       "      <th></th>\n",
       "      <th></th>\n",
       "      <th></th>\n",
       "      <th></th>\n",
       "      <th></th>\n",
       "      <th></th>\n",
       "      <th></th>\n",
       "      <th></th>\n",
       "      <th></th>\n",
       "      <th></th>\n",
       "      <th></th>\n",
       "      <th></th>\n",
       "      <th></th>\n",
       "      <th></th>\n",
       "      <th></th>\n",
       "      <th></th>\n",
       "      <th></th>\n",
       "      <th></th>\n",
       "      <th></th>\n",
       "    </tr>\n",
       "  </thead>\n",
       "  <tbody>\n",
       "    <tr>\n",
       "      <th>2000-01-31</th>\n",
       "      <td>0.446730</td>\n",
       "      <td>2.303805</td>\n",
       "      <td>0.867361</td>\n",
       "      <td>0.222010</td>\n",
       "      <td>0.058468</td>\n",
       "      <td>6.297474</td>\n",
       "      <td>10.365959</td>\n",
       "      <td>0.969112</td>\n",
       "      <td>1.057160</td>\n",
       "      <td>13.972845</td>\n",
       "      <td>...</td>\n",
       "      <td>0.580692</td>\n",
       "      <td>7.995401</td>\n",
       "      <td>0.934192</td>\n",
       "      <td>5.413574</td>\n",
       "      <td>17.321588</td>\n",
       "      <td>17.413669</td>\n",
       "      <td>1.880135</td>\n",
       "      <td>8.403116</td>\n",
       "      <td>12.376748</td>\n",
       "      <td>3.816721</td>\n",
       "    </tr>\n",
       "    <tr>\n",
       "      <th>2001-01-31</th>\n",
       "      <td>6.067887</td>\n",
       "      <td>29.018791</td>\n",
       "      <td>11.788464</td>\n",
       "      <td>1.225964</td>\n",
       "      <td>0.288905</td>\n",
       "      <td>8.647650</td>\n",
       "      <td>9.141539</td>\n",
       "      <td>10.245857</td>\n",
       "      <td>15.057160</td>\n",
       "      <td>144.218829</td>\n",
       "      <td>...</td>\n",
       "      <td>5.576361</td>\n",
       "      <td>80.501796</td>\n",
       "      <td>6.800860</td>\n",
       "      <td>56.976074</td>\n",
       "      <td>55.769122</td>\n",
       "      <td>22.788921</td>\n",
       "      <td>19.704527</td>\n",
       "      <td>10.697140</td>\n",
       "      <td>16.380103</td>\n",
       "      <td>40.905273</td>\n",
       "    </tr>\n",
       "    <tr>\n",
       "      <th>2002-01-31</th>\n",
       "      <td>5.264018</td>\n",
       "      <td>22.969396</td>\n",
       "      <td>11.796954</td>\n",
       "      <td>3.268460</td>\n",
       "      <td>1.498960</td>\n",
       "      <td>30.667803</td>\n",
       "      <td>41.433728</td>\n",
       "      <td>11.304680</td>\n",
       "      <td>15.128386</td>\n",
       "      <td>136.328109</td>\n",
       "      <td>...</td>\n",
       "      <td>6.478500</td>\n",
       "      <td>97.169292</td>\n",
       "      <td>8.359635</td>\n",
       "      <td>69.333866</td>\n",
       "      <td>96.621417</td>\n",
       "      <td>75.699227</td>\n",
       "      <td>23.026099</td>\n",
       "      <td>31.053278</td>\n",
       "      <td>48.876953</td>\n",
       "      <td>48.932601</td>\n",
       "    </tr>\n",
       "    <tr>\n",
       "      <th>2003-01-31</th>\n",
       "      <td>8.698667</td>\n",
       "      <td>44.200258</td>\n",
       "      <td>16.875693</td>\n",
       "      <td>1.179262</td>\n",
       "      <td>0.407227</td>\n",
       "      <td>18.808420</td>\n",
       "      <td>22.399603</td>\n",
       "      <td>9.395870</td>\n",
       "      <td>17.265168</td>\n",
       "      <td>201.484690</td>\n",
       "      <td>...</td>\n",
       "      <td>6.122669</td>\n",
       "      <td>105.780305</td>\n",
       "      <td>10.128386</td>\n",
       "      <td>71.140546</td>\n",
       "      <td>93.238596</td>\n",
       "      <td>50.743196</td>\n",
       "      <td>19.819966</td>\n",
       "      <td>24.276509</td>\n",
       "      <td>36.466324</td>\n",
       "      <td>47.616825</td>\n",
       "    </tr>\n",
       "    <tr>\n",
       "      <th>2004-01-31</th>\n",
       "      <td>9.711780</td>\n",
       "      <td>59.973554</td>\n",
       "      <td>24.576511</td>\n",
       "      <td>5.669930</td>\n",
       "      <td>1.721995</td>\n",
       "      <td>20.523099</td>\n",
       "      <td>22.409495</td>\n",
       "      <td>17.585819</td>\n",
       "      <td>30.954117</td>\n",
       "      <td>293.281786</td>\n",
       "      <td>...</td>\n",
       "      <td>10.604980</td>\n",
       "      <td>162.062020</td>\n",
       "      <td>13.876662</td>\n",
       "      <td>113.021350</td>\n",
       "      <td>109.533101</td>\n",
       "      <td>45.994794</td>\n",
       "      <td>36.689863</td>\n",
       "      <td>20.394389</td>\n",
       "      <td>30.768665</td>\n",
       "      <td>77.705503</td>\n",
       "    </tr>\n",
       "    <tr>\n",
       "      <th>2005-01-31</th>\n",
       "      <td>3.765011</td>\n",
       "      <td>44.101295</td>\n",
       "      <td>16.401036</td>\n",
       "      <td>1.262648</td>\n",
       "      <td>0.226972</td>\n",
       "      <td>12.791787</td>\n",
       "      <td>11.687736</td>\n",
       "      <td>5.906218</td>\n",
       "      <td>14.389743</td>\n",
       "      <td>183.240959</td>\n",
       "      <td>...</td>\n",
       "      <td>3.701203</td>\n",
       "      <td>99.171907</td>\n",
       "      <td>10.099436</td>\n",
       "      <td>64.304309</td>\n",
       "      <td>77.061508</td>\n",
       "      <td>24.584992</td>\n",
       "      <td>13.562185</td>\n",
       "      <td>10.761924</td>\n",
       "      <td>16.261798</td>\n",
       "      <td>38.794859</td>\n",
       "    </tr>\n",
       "    <tr>\n",
       "      <th>2006-01-31</th>\n",
       "      <td>2.701282</td>\n",
       "      <td>25.463568</td>\n",
       "      <td>8.066737</td>\n",
       "      <td>0.357201</td>\n",
       "      <td>0.173781</td>\n",
       "      <td>7.136404</td>\n",
       "      <td>7.364069</td>\n",
       "      <td>2.269972</td>\n",
       "      <td>6.976421</td>\n",
       "      <td>97.905321</td>\n",
       "      <td>...</td>\n",
       "      <td>1.602712</td>\n",
       "      <td>47.465427</td>\n",
       "      <td>4.890893</td>\n",
       "      <td>30.077763</td>\n",
       "      <td>42.303081</td>\n",
       "      <td>13.968277</td>\n",
       "      <td>5.928616</td>\n",
       "      <td>6.343529</td>\n",
       "      <td>9.287818</td>\n",
       "      <td>18.260553</td>\n",
       "    </tr>\n",
       "    <tr>\n",
       "      <th>2007-01-31</th>\n",
       "      <td>2.484414</td>\n",
       "      <td>13.907927</td>\n",
       "      <td>5.866746</td>\n",
       "      <td>1.489841</td>\n",
       "      <td>0.884403</td>\n",
       "      <td>4.292433</td>\n",
       "      <td>3.479335</td>\n",
       "      <td>5.069438</td>\n",
       "      <td>8.578306</td>\n",
       "      <td>62.937791</td>\n",
       "      <td>...</td>\n",
       "      <td>3.079172</td>\n",
       "      <td>42.153147</td>\n",
       "      <td>3.469246</td>\n",
       "      <td>30.993133</td>\n",
       "      <td>34.635057</td>\n",
       "      <td>8.984887</td>\n",
       "      <td>10.365494</td>\n",
       "      <td>4.124457</td>\n",
       "      <td>6.255851</td>\n",
       "      <td>22.275202</td>\n",
       "    </tr>\n",
       "    <tr>\n",
       "      <th>2008-01-31</th>\n",
       "      <td>0.623882</td>\n",
       "      <td>2.591466</td>\n",
       "      <td>1.095034</td>\n",
       "      <td>0.709402</td>\n",
       "      <td>0.317123</td>\n",
       "      <td>4.921780</td>\n",
       "      <td>6.540535</td>\n",
       "      <td>1.813823</td>\n",
       "      <td>2.035534</td>\n",
       "      <td>16.278722</td>\n",
       "      <td>...</td>\n",
       "      <td>0.997811</td>\n",
       "      <td>10.821037</td>\n",
       "      <td>0.948612</td>\n",
       "      <td>8.052356</td>\n",
       "      <td>16.537543</td>\n",
       "      <td>13.503071</td>\n",
       "      <td>3.361320</td>\n",
       "      <td>6.172757</td>\n",
       "      <td>9.385467</td>\n",
       "      <td>6.105524</td>\n",
       "    </tr>\n",
       "    <tr>\n",
       "      <th>2009-01-31</th>\n",
       "      <td>2.051632</td>\n",
       "      <td>4.697833</td>\n",
       "      <td>1.459347</td>\n",
       "      <td>1.848790</td>\n",
       "      <td>0.814154</td>\n",
       "      <td>16.837024</td>\n",
       "      <td>25.014239</td>\n",
       "      <td>5.003024</td>\n",
       "      <td>5.398658</td>\n",
       "      <td>31.811130</td>\n",
       "      <td>...</td>\n",
       "      <td>2.736690</td>\n",
       "      <td>19.392956</td>\n",
       "      <td>2.000268</td>\n",
       "      <td>15.447801</td>\n",
       "      <td>54.494928</td>\n",
       "      <td>49.547489</td>\n",
       "      <td>8.284794</td>\n",
       "      <td>24.187295</td>\n",
       "      <td>35.900359</td>\n",
       "      <td>13.223523</td>\n",
       "    </tr>\n",
       "    <tr>\n",
       "      <th>2010-01-31</th>\n",
       "      <td>3.605658</td>\n",
       "      <td>29.968655</td>\n",
       "      <td>11.766350</td>\n",
       "      <td>4.902155</td>\n",
       "      <td>2.410881</td>\n",
       "      <td>23.046213</td>\n",
       "      <td>27.199030</td>\n",
       "      <td>9.679530</td>\n",
       "      <td>12.356571</td>\n",
       "      <td>130.652092</td>\n",
       "      <td>...</td>\n",
       "      <td>6.122354</td>\n",
       "      <td>90.926348</td>\n",
       "      <td>9.123771</td>\n",
       "      <td>61.635459</td>\n",
       "      <td>101.119928</td>\n",
       "      <td>55.825479</td>\n",
       "      <td>19.861895</td>\n",
       "      <td>24.570060</td>\n",
       "      <td>37.887097</td>\n",
       "      <td>41.874685</td>\n",
       "    </tr>\n",
       "    <tr>\n",
       "      <th>2011-01-31</th>\n",
       "      <td>1.537361</td>\n",
       "      <td>6.107044</td>\n",
       "      <td>1.936208</td>\n",
       "      <td>1.099893</td>\n",
       "      <td>0.482863</td>\n",
       "      <td>13.194619</td>\n",
       "      <td>17.536794</td>\n",
       "      <td>2.948872</td>\n",
       "      <td>3.880324</td>\n",
       "      <td>42.019941</td>\n",
       "      <td>...</td>\n",
       "      <td>1.670961</td>\n",
       "      <td>20.719601</td>\n",
       "      <td>2.301758</td>\n",
       "      <td>14.638514</td>\n",
       "      <td>45.788905</td>\n",
       "      <td>36.978358</td>\n",
       "      <td>5.566312</td>\n",
       "      <td>17.317572</td>\n",
       "      <td>26.161385</td>\n",
       "      <td>10.900517</td>\n",
       "    </tr>\n",
       "    <tr>\n",
       "      <th>2012-01-31</th>\n",
       "      <td>3.164094</td>\n",
       "      <td>33.729476</td>\n",
       "      <td>11.779423</td>\n",
       "      <td>1.463363</td>\n",
       "      <td>0.311775</td>\n",
       "      <td>39.747842</td>\n",
       "      <td>53.771595</td>\n",
       "      <td>3.506804</td>\n",
       "      <td>11.391129</td>\n",
       "      <td>138.367377</td>\n",
       "      <td>...</td>\n",
       "      <td>2.341151</td>\n",
       "      <td>83.650233</td>\n",
       "      <td>10.394090</td>\n",
       "      <td>50.606398</td>\n",
       "      <td>126.177026</td>\n",
       "      <td>92.636561</td>\n",
       "      <td>8.957520</td>\n",
       "      <td>37.677419</td>\n",
       "      <td>59.154990</td>\n",
       "      <td>28.628260</td>\n",
       "    </tr>\n",
       "    <tr>\n",
       "      <th>2013-01-31</th>\n",
       "      <td>7.254615</td>\n",
       "      <td>48.940571</td>\n",
       "      <td>18.640483</td>\n",
       "      <td>1.923749</td>\n",
       "      <td>0.674238</td>\n",
       "      <td>18.752174</td>\n",
       "      <td>16.456968</td>\n",
       "      <td>4.936838</td>\n",
       "      <td>16.325794</td>\n",
       "      <td>188.266444</td>\n",
       "      <td>...</td>\n",
       "      <td>3.968718</td>\n",
       "      <td>115.269279</td>\n",
       "      <td>12.731997</td>\n",
       "      <td>72.194100</td>\n",
       "      <td>118.236643</td>\n",
       "      <td>38.843419</td>\n",
       "      <td>13.084504</td>\n",
       "      <td>17.165638</td>\n",
       "      <td>25.920867</td>\n",
       "      <td>43.361438</td>\n",
       "    </tr>\n",
       "    <tr>\n",
       "      <th>2014-01-31</th>\n",
       "      <td>3.447573</td>\n",
       "      <td>18.025020</td>\n",
       "      <td>6.598979</td>\n",
       "      <td>1.048434</td>\n",
       "      <td>0.401745</td>\n",
       "      <td>10.560728</td>\n",
       "      <td>13.317044</td>\n",
       "      <td>4.716238</td>\n",
       "      <td>9.365242</td>\n",
       "      <td>81.510923</td>\n",
       "      <td>...</td>\n",
       "      <td>2.892452</td>\n",
       "      <td>47.074431</td>\n",
       "      <td>4.835323</td>\n",
       "      <td>32.647933</td>\n",
       "      <td>60.241038</td>\n",
       "      <td>27.885813</td>\n",
       "      <td>9.640672</td>\n",
       "      <td>14.610005</td>\n",
       "      <td>20.918969</td>\n",
       "      <td>22.735564</td>\n",
       "    </tr>\n",
       "    <tr>\n",
       "      <th>2015-01-31</th>\n",
       "      <td>5.705125</td>\n",
       "      <td>38.044544</td>\n",
       "      <td>16.023201</td>\n",
       "      <td>3.567619</td>\n",
       "      <td>0.929624</td>\n",
       "      <td>22.887018</td>\n",
       "      <td>26.734611</td>\n",
       "      <td>10.353295</td>\n",
       "      <td>21.019122</td>\n",
       "      <td>182.819824</td>\n",
       "      <td>...</td>\n",
       "      <td>5.851515</td>\n",
       "      <td>111.162881</td>\n",
       "      <td>10.461127</td>\n",
       "      <td>76.579133</td>\n",
       "      <td>109.190335</td>\n",
       "      <td>57.996362</td>\n",
       "      <td>21.840820</td>\n",
       "      <td>26.444037</td>\n",
       "      <td>40.303144</td>\n",
       "      <td>50.956275</td>\n",
       "    </tr>\n",
       "  </tbody>\n",
       "</table>\n",
       "<p>16 rows × 21 columns</p>\n",
       "</div>"
      ],
      "text/plain": [
       "                   D09A011    D09A031    D09A034   D09A057   D09A065  \\\n",
       "Historical_times                                                       \n",
       "2000-01-31        0.446730   2.303805   0.867361  0.222010  0.058468   \n",
       "2001-01-31        6.067887  29.018791  11.788464  1.225964  0.288905   \n",
       "2002-01-31        5.264018  22.969396  11.796954  3.268460  1.498960   \n",
       "2003-01-31        8.698667  44.200258  16.875693  1.179262  0.407227   \n",
       "2004-01-31        9.711780  59.973554  24.576511  5.669930  1.721995   \n",
       "2005-01-31        3.765011  44.101295  16.401036  1.262648  0.226972   \n",
       "2006-01-31        2.701282  25.463568   8.066737  0.357201  0.173781   \n",
       "2007-01-31        2.484414  13.907927   5.866746  1.489841  0.884403   \n",
       "2008-01-31        0.623882   2.591466   1.095034  0.709402  0.317123   \n",
       "2009-01-31        2.051632   4.697833   1.459347  1.848790  0.814154   \n",
       "2010-01-31        3.605658  29.968655  11.766350  4.902155  2.410881   \n",
       "2011-01-31        1.537361   6.107044   1.936208  1.099893  0.482863   \n",
       "2012-01-31        3.164094  33.729476  11.779423  1.463363  0.311775   \n",
       "2013-01-31        7.254615  48.940571  18.640483  1.923749  0.674238   \n",
       "2014-01-31        3.447573  18.025020   6.598979  1.048434  0.401745   \n",
       "2015-01-31        5.705125  38.044544  16.023201  3.567619  0.929624   \n",
       "\n",
       "                    D09A067    D09A068    D09A086    D09A089     D09A091  ...  \\\n",
       "Historical_times                                                          ...   \n",
       "2000-01-31         6.297474  10.365959   0.969112   1.057160   13.972845  ...   \n",
       "2001-01-31         8.647650   9.141539  10.245857  15.057160  144.218829  ...   \n",
       "2002-01-31        30.667803  41.433728  11.304680  15.128386  136.328109  ...   \n",
       "2003-01-31        18.808420  22.399603   9.395870  17.265168  201.484690  ...   \n",
       "2004-01-31        20.523099  22.409495  17.585819  30.954117  293.281786  ...   \n",
       "2005-01-31        12.791787  11.687736   5.906218  14.389743  183.240959  ...   \n",
       "2006-01-31         7.136404   7.364069   2.269972   6.976421   97.905321  ...   \n",
       "2007-01-31         4.292433   3.479335   5.069438   8.578306   62.937791  ...   \n",
       "2008-01-31         4.921780   6.540535   1.813823   2.035534   16.278722  ...   \n",
       "2009-01-31        16.837024  25.014239   5.003024   5.398658   31.811130  ...   \n",
       "2010-01-31        23.046213  27.199030   9.679530  12.356571  130.652092  ...   \n",
       "2011-01-31        13.194619  17.536794   2.948872   3.880324   42.019941  ...   \n",
       "2012-01-31        39.747842  53.771595   3.506804  11.391129  138.367377  ...   \n",
       "2013-01-31        18.752174  16.456968   4.936838  16.325794  188.266444  ...   \n",
       "2014-01-31        10.560728  13.317044   4.716238   9.365242   81.510923  ...   \n",
       "2015-01-31        22.887018  26.734611  10.353295  21.019122  182.819824  ...   \n",
       "\n",
       "                    D09A100     D09A101    D09A122     E09A002     E09A012  \\\n",
       "Historical_times                                                             \n",
       "2000-01-31         0.580692    7.995401   0.934192    5.413574   17.321588   \n",
       "2001-01-31         5.576361   80.501796   6.800860   56.976074   55.769122   \n",
       "2002-01-31         6.478500   97.169292   8.359635   69.333866   96.621417   \n",
       "2003-01-31         6.122669  105.780305  10.128386   71.140546   93.238596   \n",
       "2004-01-31        10.604980  162.062020  13.876662  113.021350  109.533101   \n",
       "2005-01-31         3.701203   99.171907  10.099436   64.304309   77.061508   \n",
       "2006-01-31         1.602712   47.465427   4.890893   30.077763   42.303081   \n",
       "2007-01-31         3.079172   42.153147   3.469246   30.993133   34.635057   \n",
       "2008-01-31         0.997811   10.821037   0.948612    8.052356   16.537543   \n",
       "2009-01-31         2.736690   19.392956   2.000268   15.447801   54.494928   \n",
       "2010-01-31         6.122354   90.926348   9.123771   61.635459  101.119928   \n",
       "2011-01-31         1.670961   20.719601   2.301758   14.638514   45.788905   \n",
       "2012-01-31         2.341151   83.650233  10.394090   50.606398  126.177026   \n",
       "2013-01-31         3.968718  115.269279  12.731997   72.194100  118.236643   \n",
       "2014-01-31         2.892452   47.074431   4.835323   32.647933   60.241038   \n",
       "2015-01-31         5.851515  111.162881  10.461127   76.579133  109.190335   \n",
       "\n",
       "                    E09A017    E09A021    E09A022    E09A024    E09A099  \n",
       "Historical_times                                                         \n",
       "2000-01-31        17.413669   1.880135   8.403116  12.376748   3.816721  \n",
       "2001-01-31        22.788921  19.704527  10.697140  16.380103  40.905273  \n",
       "2002-01-31        75.699227  23.026099  31.053278  48.876953  48.932601  \n",
       "2003-01-31        50.743196  19.819966  24.276509  36.466324  47.616825  \n",
       "2004-01-31        45.994794  36.689863  20.394389  30.768665  77.705503  \n",
       "2005-01-31        24.584992  13.562185  10.761924  16.261798  38.794859  \n",
       "2006-01-31        13.968277   5.928616   6.343529   9.287818  18.260553  \n",
       "2007-01-31         8.984887  10.365494   4.124457   6.255851  22.275202  \n",
       "2008-01-31        13.503071   3.361320   6.172757   9.385467   6.105524  \n",
       "2009-01-31        49.547489   8.284794  24.187295  35.900359  13.223523  \n",
       "2010-01-31        55.825479  19.861895  24.570060  37.887097  41.874685  \n",
       "2011-01-31        36.978358   5.566312  17.317572  26.161385  10.900517  \n",
       "2012-01-31        92.636561   8.957520  37.677419  59.154990  28.628260  \n",
       "2013-01-31        38.843419  13.084504  17.165638  25.920867  43.361438  \n",
       "2014-01-31        27.885813   9.640672  14.610005  20.918969  22.735564  \n",
       "2015-01-31        57.996362  21.840820  26.444037  40.303144  50.956275  \n",
       "\n",
       "[16 rows x 21 columns]"
      ]
     },
     "execution_count": 45,
     "metadata": {},
     "output_type": "execute_result"
    }
   ],
   "source": [
    "flw_month[flw_month.index.month.isin([1])]"
   ]
  },
  {
   "cell_type": "markdown",
   "id": "37498aa9",
   "metadata": {},
   "source": [
    "_Values for first month for each year_"
   ]
  },
  {
   "cell_type": "code",
   "execution_count": 46,
   "id": "2de947c2",
   "metadata": {},
   "outputs": [
    {
     "data": {
      "text/plain": [
       "D09A011      4.158108\n",
       "D09A031     26.502700\n",
       "D09A034     10.346158\n",
       "D09A057      1.952420\n",
       "D09A065      0.725195\n",
       "D09A067     16.194529\n",
       "D09A068     19.678267\n",
       "D09A086      6.606587\n",
       "D09A089     11.948677\n",
       "D09A091    121.568549\n",
       "D09A095      9.633979\n",
       "D09A100      4.020496\n",
       "D09A101     71.332254\n",
       "D09A122      6.959766\n",
       "E09A002     48.316394\n",
       "E09A012     72.391863\n",
       "E09A017     39.587157\n",
       "E09A021     13.848420\n",
       "E09A022     17.762445\n",
       "E09A024     27.019159\n",
       "E09A099     32.255833\n",
       "dtype: float64"
      ]
     },
     "execution_count": 46,
     "metadata": {},
     "output_type": "execute_result"
    }
   ],
   "source": [
    "flw_month[flw_month.index.month.isin([1])].mean()"
   ]
  },
  {
   "cell_type": "markdown",
   "id": "ab613433",
   "metadata": {},
   "source": [
    "_Mean of the discharge values for first month_"
   ]
  },
  {
   "cell_type": "code",
   "execution_count": 47,
   "id": "d4571e11",
   "metadata": {},
   "outputs": [],
   "source": [
    "column_names = ['Month1','Month2','Month3','Month4','Month5','Month6','Month7','Month8','Month9','Month10','Month11','Month12',]\n",
    "char = pd.DataFrame(columns = column_names)"
   ]
  },
  {
   "cell_type": "code",
   "execution_count": 48,
   "id": "5e4bbc3e",
   "metadata": {},
   "outputs": [],
   "source": [
    "char['Month1']=flw_month[flw_month.index.month.isin([1])].mean()"
   ]
  },
  {
   "cell_type": "code",
   "execution_count": 49,
   "id": "1d882171",
   "metadata": {},
   "outputs": [],
   "source": [
    "char['Month2']=flw_month[flw_month.index.month.isin([2])].mean()"
   ]
  },
  {
   "cell_type": "code",
   "execution_count": 50,
   "id": "ead14f5a",
   "metadata": {},
   "outputs": [],
   "source": [
    "char['Month3']=flw_month[flw_month.index.month.isin([3])].mean()"
   ]
  },
  {
   "cell_type": "code",
   "execution_count": 51,
   "id": "a61cdb84",
   "metadata": {},
   "outputs": [],
   "source": [
    "char['Month4']=flw_month[flw_month.index.month.isin([4])].mean()"
   ]
  },
  {
   "cell_type": "code",
   "execution_count": 52,
   "id": "525102e6",
   "metadata": {},
   "outputs": [],
   "source": [
    "char['Month5']=flw_month[flw_month.index.month.isin([5])].mean()"
   ]
  },
  {
   "cell_type": "code",
   "execution_count": 53,
   "id": "d705b9d6",
   "metadata": {},
   "outputs": [],
   "source": [
    "char['Month6']=flw_month[flw_month.index.month.isin([6])].mean()"
   ]
  },
  {
   "cell_type": "code",
   "execution_count": 54,
   "id": "2f93d3f0",
   "metadata": {},
   "outputs": [],
   "source": [
    "char['Month7']=flw_month[flw_month.index.month.isin([7])].mean()"
   ]
  },
  {
   "cell_type": "code",
   "execution_count": 55,
   "id": "4c6fb661",
   "metadata": {},
   "outputs": [],
   "source": [
    "char['Month8']=flw_month[flw_month.index.month.isin([8])].mean()"
   ]
  },
  {
   "cell_type": "code",
   "execution_count": 56,
   "id": "2a4b147d",
   "metadata": {},
   "outputs": [],
   "source": [
    "char['Month9']=flw_month[flw_month.index.month.isin([9])].mean()"
   ]
  },
  {
   "cell_type": "code",
   "execution_count": 57,
   "id": "af4e0573",
   "metadata": {},
   "outputs": [],
   "source": [
    "char['Month10']=flw_month[flw_month.index.month.isin([10])].mean()"
   ]
  },
  {
   "cell_type": "code",
   "execution_count": 58,
   "id": "598b3606",
   "metadata": {},
   "outputs": [],
   "source": [
    "char['Month11']=flw_month[flw_month.index.month.isin([11])].mean()"
   ]
  },
  {
   "cell_type": "code",
   "execution_count": 59,
   "id": "e4f2a7ec",
   "metadata": {},
   "outputs": [],
   "source": [
    "char['Month12']=flw_month[flw_month.index.month.isin([12])].mean()"
   ]
  },
  {
   "cell_type": "markdown",
   "id": "78adfc29",
   "metadata": {},
   "source": [
    "_I created an empty dataframe with columns named as Months and I imported mean values of discharges for corresponded month in it_"
   ]
  },
  {
   "cell_type": "code",
   "execution_count": 60,
   "id": "3f5c5cd6",
   "metadata": {},
   "outputs": [
    {
     "data": {
      "text/html": [
       "<div>\n",
       "<style scoped>\n",
       "    .dataframe tbody tr th:only-of-type {\n",
       "        vertical-align: middle;\n",
       "    }\n",
       "\n",
       "    .dataframe tbody tr th {\n",
       "        vertical-align: top;\n",
       "    }\n",
       "\n",
       "    .dataframe thead th {\n",
       "        text-align: right;\n",
       "    }\n",
       "</style>\n",
       "<table border=\"1\" class=\"dataframe\">\n",
       "  <thead>\n",
       "    <tr style=\"text-align: right;\">\n",
       "      <th></th>\n",
       "      <th>Month1</th>\n",
       "      <th>Month2</th>\n",
       "      <th>Month3</th>\n",
       "      <th>Month4</th>\n",
       "      <th>Month5</th>\n",
       "      <th>Month6</th>\n",
       "      <th>Month7</th>\n",
       "      <th>Month8</th>\n",
       "      <th>Month9</th>\n",
       "      <th>Month10</th>\n",
       "      <th>Month11</th>\n",
       "      <th>Month12</th>\n",
       "    </tr>\n",
       "  </thead>\n",
       "  <tbody>\n",
       "    <tr>\n",
       "      <th>D09A011</th>\n",
       "      <td>4.158108</td>\n",
       "      <td>4.570760</td>\n",
       "      <td>3.673366</td>\n",
       "      <td>1.930504</td>\n",
       "      <td>1.081402</td>\n",
       "      <td>0.668742</td>\n",
       "      <td>0.462460</td>\n",
       "      <td>0.349462</td>\n",
       "      <td>0.397498</td>\n",
       "      <td>1.179958</td>\n",
       "      <td>2.146716</td>\n",
       "      <td>4.297297</td>\n",
       "    </tr>\n",
       "    <tr>\n",
       "      <th>D09A031</th>\n",
       "      <td>26.502700</td>\n",
       "      <td>19.916097</td>\n",
       "      <td>12.125223</td>\n",
       "      <td>6.436855</td>\n",
       "      <td>3.790044</td>\n",
       "      <td>2.163016</td>\n",
       "      <td>1.440171</td>\n",
       "      <td>0.981396</td>\n",
       "      <td>0.891532</td>\n",
       "      <td>4.120257</td>\n",
       "      <td>7.612463</td>\n",
       "      <td>18.908516</td>\n",
       "    </tr>\n",
       "    <tr>\n",
       "      <th>D09A034</th>\n",
       "      <td>10.346158</td>\n",
       "      <td>8.683139</td>\n",
       "      <td>5.714079</td>\n",
       "      <td>3.470537</td>\n",
       "      <td>2.228365</td>\n",
       "      <td>1.425980</td>\n",
       "      <td>1.020296</td>\n",
       "      <td>0.761698</td>\n",
       "      <td>0.625165</td>\n",
       "      <td>1.485702</td>\n",
       "      <td>2.714526</td>\n",
       "      <td>7.139049</td>\n",
       "    </tr>\n",
       "    <tr>\n",
       "      <th>D09A057</th>\n",
       "      <td>1.952420</td>\n",
       "      <td>2.318805</td>\n",
       "      <td>2.186758</td>\n",
       "      <td>1.528481</td>\n",
       "      <td>1.137018</td>\n",
       "      <td>0.940933</td>\n",
       "      <td>0.654206</td>\n",
       "      <td>0.478178</td>\n",
       "      <td>0.491478</td>\n",
       "      <td>0.689838</td>\n",
       "      <td>0.849418</td>\n",
       "      <td>1.767102</td>\n",
       "    </tr>\n",
       "    <tr>\n",
       "      <th>D09A065</th>\n",
       "      <td>0.725195</td>\n",
       "      <td>1.056361</td>\n",
       "      <td>1.424089</td>\n",
       "      <td>1.151098</td>\n",
       "      <td>0.637810</td>\n",
       "      <td>0.512061</td>\n",
       "      <td>0.340317</td>\n",
       "      <td>0.237015</td>\n",
       "      <td>0.196144</td>\n",
       "      <td>0.228707</td>\n",
       "      <td>0.277221</td>\n",
       "      <td>0.557989</td>\n",
       "    </tr>\n",
       "    <tr>\n",
       "      <th>D09A067</th>\n",
       "      <td>16.194529</td>\n",
       "      <td>16.277558</td>\n",
       "      <td>10.182269</td>\n",
       "      <td>7.110412</td>\n",
       "      <td>3.730913</td>\n",
       "      <td>1.962390</td>\n",
       "      <td>1.419829</td>\n",
       "      <td>1.062216</td>\n",
       "      <td>0.984163</td>\n",
       "      <td>2.601970</td>\n",
       "      <td>6.582084</td>\n",
       "      <td>14.718901</td>\n",
       "    </tr>\n",
       "    <tr>\n",
       "      <th>D09A068</th>\n",
       "      <td>19.678267</td>\n",
       "      <td>19.444006</td>\n",
       "      <td>11.264004</td>\n",
       "      <td>7.673698</td>\n",
       "      <td>3.885029</td>\n",
       "      <td>2.050211</td>\n",
       "      <td>1.477589</td>\n",
       "      <td>1.101999</td>\n",
       "      <td>1.096091</td>\n",
       "      <td>3.128782</td>\n",
       "      <td>8.497075</td>\n",
       "      <td>18.144359</td>\n",
       "    </tr>\n",
       "    <tr>\n",
       "      <th>D09A086</th>\n",
       "      <td>6.606587</td>\n",
       "      <td>8.372141</td>\n",
       "      <td>9.552353</td>\n",
       "      <td>8.196057</td>\n",
       "      <td>4.415499</td>\n",
       "      <td>2.849122</td>\n",
       "      <td>2.018556</td>\n",
       "      <td>1.495991</td>\n",
       "      <td>1.294357</td>\n",
       "      <td>1.985018</td>\n",
       "      <td>3.107121</td>\n",
       "      <td>5.982444</td>\n",
       "    </tr>\n",
       "    <tr>\n",
       "      <th>D09A089</th>\n",
       "      <td>11.948677</td>\n",
       "      <td>12.699412</td>\n",
       "      <td>9.841935</td>\n",
       "      <td>7.340286</td>\n",
       "      <td>4.777469</td>\n",
       "      <td>2.931069</td>\n",
       "      <td>2.115026</td>\n",
       "      <td>1.583911</td>\n",
       "      <td>1.242812</td>\n",
       "      <td>2.487990</td>\n",
       "      <td>4.012492</td>\n",
       "      <td>9.865160</td>\n",
       "    </tr>\n",
       "    <tr>\n",
       "      <th>D09A091</th>\n",
       "      <td>121.568549</td>\n",
       "      <td>105.076275</td>\n",
       "      <td>71.477573</td>\n",
       "      <td>47.374292</td>\n",
       "      <td>29.791279</td>\n",
       "      <td>16.222486</td>\n",
       "      <td>10.249462</td>\n",
       "      <td>7.695685</td>\n",
       "      <td>8.161317</td>\n",
       "      <td>24.115501</td>\n",
       "      <td>42.647221</td>\n",
       "      <td>97.989018</td>\n",
       "    </tr>\n",
       "    <tr>\n",
       "      <th>D09A095</th>\n",
       "      <td>9.633979</td>\n",
       "      <td>7.935410</td>\n",
       "      <td>5.863386</td>\n",
       "      <td>4.281067</td>\n",
       "      <td>2.291739</td>\n",
       "      <td>1.079595</td>\n",
       "      <td>0.745936</td>\n",
       "      <td>0.555626</td>\n",
       "      <td>0.505383</td>\n",
       "      <td>1.782354</td>\n",
       "      <td>3.067964</td>\n",
       "      <td>7.544920</td>\n",
       "    </tr>\n",
       "    <tr>\n",
       "      <th>D09A100</th>\n",
       "      <td>4.020496</td>\n",
       "      <td>4.968422</td>\n",
       "      <td>4.989584</td>\n",
       "      <td>4.860419</td>\n",
       "      <td>3.199604</td>\n",
       "      <td>1.606088</td>\n",
       "      <td>1.136197</td>\n",
       "      <td>0.849523</td>\n",
       "      <td>0.720916</td>\n",
       "      <td>1.303840</td>\n",
       "      <td>1.963490</td>\n",
       "      <td>3.810559</td>\n",
       "    </tr>\n",
       "    <tr>\n",
       "      <th>D09A101</th>\n",
       "      <td>71.332254</td>\n",
       "      <td>67.801998</td>\n",
       "      <td>51.846133</td>\n",
       "      <td>37.805943</td>\n",
       "      <td>22.624255</td>\n",
       "      <td>13.049179</td>\n",
       "      <td>9.068639</td>\n",
       "      <td>6.750146</td>\n",
       "      <td>5.863212</td>\n",
       "      <td>12.992386</td>\n",
       "      <td>22.145411</td>\n",
       "      <td>54.194357</td>\n",
       "    </tr>\n",
       "    <tr>\n",
       "      <th>D09A122</th>\n",
       "      <td>6.959766</td>\n",
       "      <td>5.954664</td>\n",
       "      <td>4.203023</td>\n",
       "      <td>2.977452</td>\n",
       "      <td>1.543870</td>\n",
       "      <td>0.895069</td>\n",
       "      <td>0.643674</td>\n",
       "      <td>0.482135</td>\n",
       "      <td>0.430896</td>\n",
       "      <td>1.284115</td>\n",
       "      <td>2.180419</td>\n",
       "      <td>5.333858</td>\n",
       "    </tr>\n",
       "    <tr>\n",
       "      <th>E09A002</th>\n",
       "      <td>48.316394</td>\n",
       "      <td>48.759849</td>\n",
       "      <td>39.651293</td>\n",
       "      <td>30.337846</td>\n",
       "      <td>18.309610</td>\n",
       "      <td>10.583789</td>\n",
       "      <td>7.388633</td>\n",
       "      <td>5.527965</td>\n",
       "      <td>4.767259</td>\n",
       "      <td>9.375671</td>\n",
       "      <td>15.750929</td>\n",
       "      <td>37.675842</td>\n",
       "    </tr>\n",
       "    <tr>\n",
       "      <th>E09A012</th>\n",
       "      <td>72.391863</td>\n",
       "      <td>72.540659</td>\n",
       "      <td>56.725237</td>\n",
       "      <td>41.799810</td>\n",
       "      <td>21.765395</td>\n",
       "      <td>10.685967</td>\n",
       "      <td>7.635163</td>\n",
       "      <td>5.759351</td>\n",
       "      <td>6.193267</td>\n",
       "      <td>18.123677</td>\n",
       "      <td>33.237617</td>\n",
       "      <td>68.219149</td>\n",
       "    </tr>\n",
       "    <tr>\n",
       "      <th>E09A017</th>\n",
       "      <td>39.587157</td>\n",
       "      <td>41.606398</td>\n",
       "      <td>31.012350</td>\n",
       "      <td>25.432413</td>\n",
       "      <td>12.987570</td>\n",
       "      <td>5.473258</td>\n",
       "      <td>3.845146</td>\n",
       "      <td>2.874752</td>\n",
       "      <td>3.519436</td>\n",
       "      <td>9.394547</td>\n",
       "      <td>22.662584</td>\n",
       "      <td>40.893513</td>\n",
       "    </tr>\n",
       "    <tr>\n",
       "      <th>E09A021</th>\n",
       "      <td>13.848420</td>\n",
       "      <td>16.782192</td>\n",
       "      <td>17.109494</td>\n",
       "      <td>15.063531</td>\n",
       "      <td>8.657815</td>\n",
       "      <td>4.644671</td>\n",
       "      <td>3.202414</td>\n",
       "      <td>2.433141</td>\n",
       "      <td>2.259419</td>\n",
       "      <td>3.775429</td>\n",
       "      <td>5.962871</td>\n",
       "      <td>12.222643</td>\n",
       "    </tr>\n",
       "    <tr>\n",
       "      <th>E09A022</th>\n",
       "      <td>17.762445</td>\n",
       "      <td>18.998806</td>\n",
       "      <td>15.758039</td>\n",
       "      <td>13.540479</td>\n",
       "      <td>6.428062</td>\n",
       "      <td>2.561931</td>\n",
       "      <td>1.799805</td>\n",
       "      <td>1.346957</td>\n",
       "      <td>1.815667</td>\n",
       "      <td>5.266034</td>\n",
       "      <td>12.087914</td>\n",
       "      <td>19.974497</td>\n",
       "    </tr>\n",
       "    <tr>\n",
       "      <th>E09A024</th>\n",
       "      <td>27.019159</td>\n",
       "      <td>28.854050</td>\n",
       "      <td>23.383972</td>\n",
       "      <td>20.320966</td>\n",
       "      <td>10.127934</td>\n",
       "      <td>3.971859</td>\n",
       "      <td>2.772428</td>\n",
       "      <td>2.072633</td>\n",
       "      <td>2.837406</td>\n",
       "      <td>7.941506</td>\n",
       "      <td>17.930605</td>\n",
       "      <td>29.813202</td>\n",
       "    </tr>\n",
       "    <tr>\n",
       "      <th>E09A099</th>\n",
       "      <td>32.255833</td>\n",
       "      <td>35.116406</td>\n",
       "      <td>31.152497</td>\n",
       "      <td>24.917762</td>\n",
       "      <td>14.791255</td>\n",
       "      <td>8.463778</td>\n",
       "      <td>5.941177</td>\n",
       "      <td>4.472277</td>\n",
       "      <td>3.877999</td>\n",
       "      <td>7.187239</td>\n",
       "      <td>11.779091</td>\n",
       "      <td>26.741918</td>\n",
       "    </tr>\n",
       "  </tbody>\n",
       "</table>\n",
       "</div>"
      ],
      "text/plain": [
       "             Month1      Month2     Month3     Month4     Month5     Month6  \\\n",
       "D09A011    4.158108    4.570760   3.673366   1.930504   1.081402   0.668742   \n",
       "D09A031   26.502700   19.916097  12.125223   6.436855   3.790044   2.163016   \n",
       "D09A034   10.346158    8.683139   5.714079   3.470537   2.228365   1.425980   \n",
       "D09A057    1.952420    2.318805   2.186758   1.528481   1.137018   0.940933   \n",
       "D09A065    0.725195    1.056361   1.424089   1.151098   0.637810   0.512061   \n",
       "D09A067   16.194529   16.277558  10.182269   7.110412   3.730913   1.962390   \n",
       "D09A068   19.678267   19.444006  11.264004   7.673698   3.885029   2.050211   \n",
       "D09A086    6.606587    8.372141   9.552353   8.196057   4.415499   2.849122   \n",
       "D09A089   11.948677   12.699412   9.841935   7.340286   4.777469   2.931069   \n",
       "D09A091  121.568549  105.076275  71.477573  47.374292  29.791279  16.222486   \n",
       "D09A095    9.633979    7.935410   5.863386   4.281067   2.291739   1.079595   \n",
       "D09A100    4.020496    4.968422   4.989584   4.860419   3.199604   1.606088   \n",
       "D09A101   71.332254   67.801998  51.846133  37.805943  22.624255  13.049179   \n",
       "D09A122    6.959766    5.954664   4.203023   2.977452   1.543870   0.895069   \n",
       "E09A002   48.316394   48.759849  39.651293  30.337846  18.309610  10.583789   \n",
       "E09A012   72.391863   72.540659  56.725237  41.799810  21.765395  10.685967   \n",
       "E09A017   39.587157   41.606398  31.012350  25.432413  12.987570   5.473258   \n",
       "E09A021   13.848420   16.782192  17.109494  15.063531   8.657815   4.644671   \n",
       "E09A022   17.762445   18.998806  15.758039  13.540479   6.428062   2.561931   \n",
       "E09A024   27.019159   28.854050  23.383972  20.320966  10.127934   3.971859   \n",
       "E09A099   32.255833   35.116406  31.152497  24.917762  14.791255   8.463778   \n",
       "\n",
       "            Month7    Month8    Month9    Month10    Month11    Month12  \n",
       "D09A011   0.462460  0.349462  0.397498   1.179958   2.146716   4.297297  \n",
       "D09A031   1.440171  0.981396  0.891532   4.120257   7.612463  18.908516  \n",
       "D09A034   1.020296  0.761698  0.625165   1.485702   2.714526   7.139049  \n",
       "D09A057   0.654206  0.478178  0.491478   0.689838   0.849418   1.767102  \n",
       "D09A065   0.340317  0.237015  0.196144   0.228707   0.277221   0.557989  \n",
       "D09A067   1.419829  1.062216  0.984163   2.601970   6.582084  14.718901  \n",
       "D09A068   1.477589  1.101999  1.096091   3.128782   8.497075  18.144359  \n",
       "D09A086   2.018556  1.495991  1.294357   1.985018   3.107121   5.982444  \n",
       "D09A089   2.115026  1.583911  1.242812   2.487990   4.012492   9.865160  \n",
       "D09A091  10.249462  7.695685  8.161317  24.115501  42.647221  97.989018  \n",
       "D09A095   0.745936  0.555626  0.505383   1.782354   3.067964   7.544920  \n",
       "D09A100   1.136197  0.849523  0.720916   1.303840   1.963490   3.810559  \n",
       "D09A101   9.068639  6.750146  5.863212  12.992386  22.145411  54.194357  \n",
       "D09A122   0.643674  0.482135  0.430896   1.284115   2.180419   5.333858  \n",
       "E09A002   7.388633  5.527965  4.767259   9.375671  15.750929  37.675842  \n",
       "E09A012   7.635163  5.759351  6.193267  18.123677  33.237617  68.219149  \n",
       "E09A017   3.845146  2.874752  3.519436   9.394547  22.662584  40.893513  \n",
       "E09A021   3.202414  2.433141  2.259419   3.775429   5.962871  12.222643  \n",
       "E09A022   1.799805  1.346957  1.815667   5.266034  12.087914  19.974497  \n",
       "E09A024   2.772428  2.072633  2.837406   7.941506  17.930605  29.813202  \n",
       "E09A099   5.941177  4.472277  3.877999   7.187239  11.779091  26.741918  "
      ]
     },
     "execution_count": 60,
     "metadata": {},
     "output_type": "execute_result"
    }
   ],
   "source": [
    "char"
   ]
  },
  {
   "cell_type": "markdown",
   "id": "119dfdfe",
   "metadata": {},
   "source": [
    "_char stands for charts and it conntains all stations as rows and all mean values of discharges each month between 2000-2015_"
   ]
  },
  {
   "cell_type": "code",
   "execution_count": 61,
   "id": "29d3cf05",
   "metadata": {},
   "outputs": [],
   "source": [
    "chart = char.T"
   ]
  },
  {
   "cell_type": "markdown",
   "id": "27c9a510",
   "metadata": {},
   "source": [
    "_chart stands for Transpose of char_"
   ]
  },
  {
   "cell_type": "code",
   "execution_count": 62,
   "id": "f7dcdeb9",
   "metadata": {},
   "outputs": [
    {
     "data": {
      "text/html": [
       "<div>\n",
       "<style scoped>\n",
       "    .dataframe tbody tr th:only-of-type {\n",
       "        vertical-align: middle;\n",
       "    }\n",
       "\n",
       "    .dataframe tbody tr th {\n",
       "        vertical-align: top;\n",
       "    }\n",
       "\n",
       "    .dataframe thead th {\n",
       "        text-align: right;\n",
       "    }\n",
       "</style>\n",
       "<table border=\"1\" class=\"dataframe\">\n",
       "  <thead>\n",
       "    <tr style=\"text-align: right;\">\n",
       "      <th></th>\n",
       "      <th>D09A011</th>\n",
       "      <th>D09A031</th>\n",
       "      <th>D09A034</th>\n",
       "      <th>D09A057</th>\n",
       "      <th>D09A065</th>\n",
       "      <th>D09A067</th>\n",
       "      <th>D09A068</th>\n",
       "      <th>D09A086</th>\n",
       "      <th>D09A089</th>\n",
       "      <th>D09A091</th>\n",
       "      <th>...</th>\n",
       "      <th>D09A100</th>\n",
       "      <th>D09A101</th>\n",
       "      <th>D09A122</th>\n",
       "      <th>E09A002</th>\n",
       "      <th>E09A012</th>\n",
       "      <th>E09A017</th>\n",
       "      <th>E09A021</th>\n",
       "      <th>E09A022</th>\n",
       "      <th>E09A024</th>\n",
       "      <th>E09A099</th>\n",
       "    </tr>\n",
       "  </thead>\n",
       "  <tbody>\n",
       "    <tr>\n",
       "      <th>Month1</th>\n",
       "      <td>4.158108</td>\n",
       "      <td>26.502700</td>\n",
       "      <td>10.346158</td>\n",
       "      <td>1.952420</td>\n",
       "      <td>0.725195</td>\n",
       "      <td>16.194529</td>\n",
       "      <td>19.678267</td>\n",
       "      <td>6.606587</td>\n",
       "      <td>11.948677</td>\n",
       "      <td>121.568549</td>\n",
       "      <td>...</td>\n",
       "      <td>4.020496</td>\n",
       "      <td>71.332254</td>\n",
       "      <td>6.959766</td>\n",
       "      <td>48.316394</td>\n",
       "      <td>72.391863</td>\n",
       "      <td>39.587157</td>\n",
       "      <td>13.848420</td>\n",
       "      <td>17.762445</td>\n",
       "      <td>27.019159</td>\n",
       "      <td>32.255833</td>\n",
       "    </tr>\n",
       "    <tr>\n",
       "      <th>Month2</th>\n",
       "      <td>4.570760</td>\n",
       "      <td>19.916097</td>\n",
       "      <td>8.683139</td>\n",
       "      <td>2.318805</td>\n",
       "      <td>1.056361</td>\n",
       "      <td>16.277558</td>\n",
       "      <td>19.444006</td>\n",
       "      <td>8.372141</td>\n",
       "      <td>12.699412</td>\n",
       "      <td>105.076275</td>\n",
       "      <td>...</td>\n",
       "      <td>4.968422</td>\n",
       "      <td>67.801998</td>\n",
       "      <td>5.954664</td>\n",
       "      <td>48.759849</td>\n",
       "      <td>72.540659</td>\n",
       "      <td>41.606398</td>\n",
       "      <td>16.782192</td>\n",
       "      <td>18.998806</td>\n",
       "      <td>28.854050</td>\n",
       "      <td>35.116406</td>\n",
       "    </tr>\n",
       "    <tr>\n",
       "      <th>Month3</th>\n",
       "      <td>3.673366</td>\n",
       "      <td>12.125223</td>\n",
       "      <td>5.714079</td>\n",
       "      <td>2.186758</td>\n",
       "      <td>1.424089</td>\n",
       "      <td>10.182269</td>\n",
       "      <td>11.264004</td>\n",
       "      <td>9.552353</td>\n",
       "      <td>9.841935</td>\n",
       "      <td>71.477573</td>\n",
       "      <td>...</td>\n",
       "      <td>4.989584</td>\n",
       "      <td>51.846133</td>\n",
       "      <td>4.203023</td>\n",
       "      <td>39.651293</td>\n",
       "      <td>56.725237</td>\n",
       "      <td>31.012350</td>\n",
       "      <td>17.109494</td>\n",
       "      <td>15.758039</td>\n",
       "      <td>23.383972</td>\n",
       "      <td>31.152497</td>\n",
       "    </tr>\n",
       "    <tr>\n",
       "      <th>Month4</th>\n",
       "      <td>1.930504</td>\n",
       "      <td>6.436855</td>\n",
       "      <td>3.470537</td>\n",
       "      <td>1.528481</td>\n",
       "      <td>1.151098</td>\n",
       "      <td>7.110412</td>\n",
       "      <td>7.673698</td>\n",
       "      <td>8.196057</td>\n",
       "      <td>7.340286</td>\n",
       "      <td>47.374292</td>\n",
       "      <td>...</td>\n",
       "      <td>4.860419</td>\n",
       "      <td>37.805943</td>\n",
       "      <td>2.977452</td>\n",
       "      <td>30.337846</td>\n",
       "      <td>41.799810</td>\n",
       "      <td>25.432413</td>\n",
       "      <td>15.063531</td>\n",
       "      <td>13.540479</td>\n",
       "      <td>20.320966</td>\n",
       "      <td>24.917762</td>\n",
       "    </tr>\n",
       "    <tr>\n",
       "      <th>Month5</th>\n",
       "      <td>1.081402</td>\n",
       "      <td>3.790044</td>\n",
       "      <td>2.228365</td>\n",
       "      <td>1.137018</td>\n",
       "      <td>0.637810</td>\n",
       "      <td>3.730913</td>\n",
       "      <td>3.885029</td>\n",
       "      <td>4.415499</td>\n",
       "      <td>4.777469</td>\n",
       "      <td>29.791279</td>\n",
       "      <td>...</td>\n",
       "      <td>3.199604</td>\n",
       "      <td>22.624255</td>\n",
       "      <td>1.543870</td>\n",
       "      <td>18.309610</td>\n",
       "      <td>21.765395</td>\n",
       "      <td>12.987570</td>\n",
       "      <td>8.657815</td>\n",
       "      <td>6.428062</td>\n",
       "      <td>10.127934</td>\n",
       "      <td>14.791255</td>\n",
       "    </tr>\n",
       "    <tr>\n",
       "      <th>Month6</th>\n",
       "      <td>0.668742</td>\n",
       "      <td>2.163016</td>\n",
       "      <td>1.425980</td>\n",
       "      <td>0.940933</td>\n",
       "      <td>0.512061</td>\n",
       "      <td>1.962390</td>\n",
       "      <td>2.050211</td>\n",
       "      <td>2.849122</td>\n",
       "      <td>2.931069</td>\n",
       "      <td>16.222486</td>\n",
       "      <td>...</td>\n",
       "      <td>1.606088</td>\n",
       "      <td>13.049179</td>\n",
       "      <td>0.895069</td>\n",
       "      <td>10.583789</td>\n",
       "      <td>10.685967</td>\n",
       "      <td>5.473258</td>\n",
       "      <td>4.644671</td>\n",
       "      <td>2.561931</td>\n",
       "      <td>3.971859</td>\n",
       "      <td>8.463778</td>\n",
       "    </tr>\n",
       "    <tr>\n",
       "      <th>Month7</th>\n",
       "      <td>0.462460</td>\n",
       "      <td>1.440171</td>\n",
       "      <td>1.020296</td>\n",
       "      <td>0.654206</td>\n",
       "      <td>0.340317</td>\n",
       "      <td>1.419829</td>\n",
       "      <td>1.477589</td>\n",
       "      <td>2.018556</td>\n",
       "      <td>2.115026</td>\n",
       "      <td>10.249462</td>\n",
       "      <td>...</td>\n",
       "      <td>1.136197</td>\n",
       "      <td>9.068639</td>\n",
       "      <td>0.643674</td>\n",
       "      <td>7.388633</td>\n",
       "      <td>7.635163</td>\n",
       "      <td>3.845146</td>\n",
       "      <td>3.202414</td>\n",
       "      <td>1.799805</td>\n",
       "      <td>2.772428</td>\n",
       "      <td>5.941177</td>\n",
       "    </tr>\n",
       "    <tr>\n",
       "      <th>Month8</th>\n",
       "      <td>0.349462</td>\n",
       "      <td>0.981396</td>\n",
       "      <td>0.761698</td>\n",
       "      <td>0.478178</td>\n",
       "      <td>0.237015</td>\n",
       "      <td>1.062216</td>\n",
       "      <td>1.101999</td>\n",
       "      <td>1.495991</td>\n",
       "      <td>1.583911</td>\n",
       "      <td>7.695685</td>\n",
       "      <td>...</td>\n",
       "      <td>0.849523</td>\n",
       "      <td>6.750146</td>\n",
       "      <td>0.482135</td>\n",
       "      <td>5.527965</td>\n",
       "      <td>5.759351</td>\n",
       "      <td>2.874752</td>\n",
       "      <td>2.433141</td>\n",
       "      <td>1.346957</td>\n",
       "      <td>2.072633</td>\n",
       "      <td>4.472277</td>\n",
       "    </tr>\n",
       "    <tr>\n",
       "      <th>Month9</th>\n",
       "      <td>0.397498</td>\n",
       "      <td>0.891532</td>\n",
       "      <td>0.625165</td>\n",
       "      <td>0.491478</td>\n",
       "      <td>0.196144</td>\n",
       "      <td>0.984163</td>\n",
       "      <td>1.096091</td>\n",
       "      <td>1.294357</td>\n",
       "      <td>1.242812</td>\n",
       "      <td>8.161317</td>\n",
       "      <td>...</td>\n",
       "      <td>0.720916</td>\n",
       "      <td>5.863212</td>\n",
       "      <td>0.430896</td>\n",
       "      <td>4.767259</td>\n",
       "      <td>6.193267</td>\n",
       "      <td>3.519436</td>\n",
       "      <td>2.259419</td>\n",
       "      <td>1.815667</td>\n",
       "      <td>2.837406</td>\n",
       "      <td>3.877999</td>\n",
       "    </tr>\n",
       "    <tr>\n",
       "      <th>Month10</th>\n",
       "      <td>1.179958</td>\n",
       "      <td>4.120257</td>\n",
       "      <td>1.485702</td>\n",
       "      <td>0.689838</td>\n",
       "      <td>0.228707</td>\n",
       "      <td>2.601970</td>\n",
       "      <td>3.128782</td>\n",
       "      <td>1.985018</td>\n",
       "      <td>2.487990</td>\n",
       "      <td>24.115501</td>\n",
       "      <td>...</td>\n",
       "      <td>1.303840</td>\n",
       "      <td>12.992386</td>\n",
       "      <td>1.284115</td>\n",
       "      <td>9.375671</td>\n",
       "      <td>18.123677</td>\n",
       "      <td>9.394547</td>\n",
       "      <td>3.775429</td>\n",
       "      <td>5.266034</td>\n",
       "      <td>7.941506</td>\n",
       "      <td>7.187239</td>\n",
       "    </tr>\n",
       "    <tr>\n",
       "      <th>Month11</th>\n",
       "      <td>2.146716</td>\n",
       "      <td>7.612463</td>\n",
       "      <td>2.714526</td>\n",
       "      <td>0.849418</td>\n",
       "      <td>0.277221</td>\n",
       "      <td>6.582084</td>\n",
       "      <td>8.497075</td>\n",
       "      <td>3.107121</td>\n",
       "      <td>4.012492</td>\n",
       "      <td>42.647221</td>\n",
       "      <td>...</td>\n",
       "      <td>1.963490</td>\n",
       "      <td>22.145411</td>\n",
       "      <td>2.180419</td>\n",
       "      <td>15.750929</td>\n",
       "      <td>33.237617</td>\n",
       "      <td>22.662584</td>\n",
       "      <td>5.962871</td>\n",
       "      <td>12.087914</td>\n",
       "      <td>17.930605</td>\n",
       "      <td>11.779091</td>\n",
       "    </tr>\n",
       "    <tr>\n",
       "      <th>Month12</th>\n",
       "      <td>4.297297</td>\n",
       "      <td>18.908516</td>\n",
       "      <td>7.139049</td>\n",
       "      <td>1.767102</td>\n",
       "      <td>0.557989</td>\n",
       "      <td>14.718901</td>\n",
       "      <td>18.144359</td>\n",
       "      <td>5.982444</td>\n",
       "      <td>9.865160</td>\n",
       "      <td>97.989018</td>\n",
       "      <td>...</td>\n",
       "      <td>3.810559</td>\n",
       "      <td>54.194357</td>\n",
       "      <td>5.333858</td>\n",
       "      <td>37.675842</td>\n",
       "      <td>68.219149</td>\n",
       "      <td>40.893513</td>\n",
       "      <td>12.222643</td>\n",
       "      <td>19.974497</td>\n",
       "      <td>29.813202</td>\n",
       "      <td>26.741918</td>\n",
       "    </tr>\n",
       "  </tbody>\n",
       "</table>\n",
       "<p>12 rows × 21 columns</p>\n",
       "</div>"
      ],
      "text/plain": [
       "          D09A011    D09A031    D09A034   D09A057   D09A065    D09A067  \\\n",
       "Month1   4.158108  26.502700  10.346158  1.952420  0.725195  16.194529   \n",
       "Month2   4.570760  19.916097   8.683139  2.318805  1.056361  16.277558   \n",
       "Month3   3.673366  12.125223   5.714079  2.186758  1.424089  10.182269   \n",
       "Month4   1.930504   6.436855   3.470537  1.528481  1.151098   7.110412   \n",
       "Month5   1.081402   3.790044   2.228365  1.137018  0.637810   3.730913   \n",
       "Month6   0.668742   2.163016   1.425980  0.940933  0.512061   1.962390   \n",
       "Month7   0.462460   1.440171   1.020296  0.654206  0.340317   1.419829   \n",
       "Month8   0.349462   0.981396   0.761698  0.478178  0.237015   1.062216   \n",
       "Month9   0.397498   0.891532   0.625165  0.491478  0.196144   0.984163   \n",
       "Month10  1.179958   4.120257   1.485702  0.689838  0.228707   2.601970   \n",
       "Month11  2.146716   7.612463   2.714526  0.849418  0.277221   6.582084   \n",
       "Month12  4.297297  18.908516   7.139049  1.767102  0.557989  14.718901   \n",
       "\n",
       "           D09A068   D09A086    D09A089     D09A091  ...   D09A100    D09A101  \\\n",
       "Month1   19.678267  6.606587  11.948677  121.568549  ...  4.020496  71.332254   \n",
       "Month2   19.444006  8.372141  12.699412  105.076275  ...  4.968422  67.801998   \n",
       "Month3   11.264004  9.552353   9.841935   71.477573  ...  4.989584  51.846133   \n",
       "Month4    7.673698  8.196057   7.340286   47.374292  ...  4.860419  37.805943   \n",
       "Month5    3.885029  4.415499   4.777469   29.791279  ...  3.199604  22.624255   \n",
       "Month6    2.050211  2.849122   2.931069   16.222486  ...  1.606088  13.049179   \n",
       "Month7    1.477589  2.018556   2.115026   10.249462  ...  1.136197   9.068639   \n",
       "Month8    1.101999  1.495991   1.583911    7.695685  ...  0.849523   6.750146   \n",
       "Month9    1.096091  1.294357   1.242812    8.161317  ...  0.720916   5.863212   \n",
       "Month10   3.128782  1.985018   2.487990   24.115501  ...  1.303840  12.992386   \n",
       "Month11   8.497075  3.107121   4.012492   42.647221  ...  1.963490  22.145411   \n",
       "Month12  18.144359  5.982444   9.865160   97.989018  ...  3.810559  54.194357   \n",
       "\n",
       "          D09A122    E09A002    E09A012    E09A017    E09A021    E09A022  \\\n",
       "Month1   6.959766  48.316394  72.391863  39.587157  13.848420  17.762445   \n",
       "Month2   5.954664  48.759849  72.540659  41.606398  16.782192  18.998806   \n",
       "Month3   4.203023  39.651293  56.725237  31.012350  17.109494  15.758039   \n",
       "Month4   2.977452  30.337846  41.799810  25.432413  15.063531  13.540479   \n",
       "Month5   1.543870  18.309610  21.765395  12.987570   8.657815   6.428062   \n",
       "Month6   0.895069  10.583789  10.685967   5.473258   4.644671   2.561931   \n",
       "Month7   0.643674   7.388633   7.635163   3.845146   3.202414   1.799805   \n",
       "Month8   0.482135   5.527965   5.759351   2.874752   2.433141   1.346957   \n",
       "Month9   0.430896   4.767259   6.193267   3.519436   2.259419   1.815667   \n",
       "Month10  1.284115   9.375671  18.123677   9.394547   3.775429   5.266034   \n",
       "Month11  2.180419  15.750929  33.237617  22.662584   5.962871  12.087914   \n",
       "Month12  5.333858  37.675842  68.219149  40.893513  12.222643  19.974497   \n",
       "\n",
       "           E09A024    E09A099  \n",
       "Month1   27.019159  32.255833  \n",
       "Month2   28.854050  35.116406  \n",
       "Month3   23.383972  31.152497  \n",
       "Month4   20.320966  24.917762  \n",
       "Month5   10.127934  14.791255  \n",
       "Month6    3.971859   8.463778  \n",
       "Month7    2.772428   5.941177  \n",
       "Month8    2.072633   4.472277  \n",
       "Month9    2.837406   3.877999  \n",
       "Month10   7.941506   7.187239  \n",
       "Month11  17.930605  11.779091  \n",
       "Month12  29.813202  26.741918  \n",
       "\n",
       "[12 rows x 21 columns]"
      ]
     },
     "execution_count": 62,
     "metadata": {},
     "output_type": "execute_result"
    }
   ],
   "source": [
    "chart"
   ]
  },
  {
   "cell_type": "code",
   "execution_count": 63,
   "id": "6e8d9792",
   "metadata": {},
   "outputs": [
    {
     "data": {
      "text/plain": [
       "Text(0.5, 0, 'Months')"
      ]
     },
     "execution_count": 63,
     "metadata": {},
     "output_type": "execute_result"
    },
    {
     "data": {
      "image/png": "[encoded data removed]",
      "text/plain": [
       "<Figure size 1008x432 with 1 Axes>"
      ]
     },
     "metadata": {
      "needs_background": "light"
     },
     "output_type": "display_data"
    }
   ],
   "source": [
    "ax = chart[name.iloc[6]].plot(kind='bar', figsize=(14,6))\n",
    "ax.set_ylabel('Mean Discharge')\n",
    "ax.set_xlabel('Months')"
   ]
  },
  {
   "cell_type": "markdown",
   "id": "82099b6c",
   "metadata": {},
   "source": [
    "_Bar chart for seventh station_"
   ]
  },
  {
   "cell_type": "code",
   "execution_count": 64,
   "id": "833fbb3d",
   "metadata": {},
   "outputs": [],
   "source": [
    "import json\n",
    "import requests"
   ]
  },
  {
   "cell_type": "markdown",
   "id": "7a904583",
   "metadata": {},
   "source": [
    "for i in range(que1.stname.count()):\n",
    "    station_coords = [north.iloc[i], east.iloc[i]]\n",
    "    folium.Marker(station_coords, popup = ['Station Name:',name.iloc[i], '\\t Elevation:',elevation.iloc[i], '\\t Area:', area.iloc[i]],tooltip= name.iloc[i],icon=folium.Icon(icon=\"cloud\", color ='darkblue')).add_to(my_map)"
   ]
  },
  {
   "cell_type": "code",
   "execution_count": 65,
   "id": "8793dcdf",
   "metadata": {},
   "outputs": [
    {
     "data": {
      "text/html": [
       "<div style=\"width:100%;\"><div style=\"position:relative;width:100%;height:0;padding-bottom:60%;\"><span style=\"color:#565656\">Make this Notebook Trusted to load map: File -> Trust Notebook</span><iframe src=\"about:blank\" style=\"position:absolute;width:100%;height:100%;left:0;top:0;border:none !important;\" data-html=%3C%21DOCTYPE%20html%3E%0A%3Chead%3E%20%20%20%20%0A%20%20%20%20%3Cmeta%20http-equiv%3D%22content-type%22%20content%3D%22text/html%3B%20charset%3DUTF-8%22%20/%3E%0A%20%20%20%20%0A%20%20%20%20%20%20%20%20%3Cscript%3E%0A%20%20%20%20%20%20%20%20%20%20%20%20L_NO_TOUCH%20%3D%20false%3B%0A%20%20%20%20%20%20%20%20%20%20%20%20L_DISABLE_3D%20%3D%20false%3B%0A%20%20%20%20%20%20%20%20%3C/script%3E%0A%20%20%20%20%0A%20%20%20%20%3Cstyle%3Ehtml%2C%20body%20%7Bwidth%3A%20100%25%3Bheight%3A%20100%25%3Bmargin%3A%200%3Bpadding%3A%200%3B%7D%3C/style%3E%0A%20%20%20%20%3Cstyle%3E%23map%20%7Bposition%3Aabsolute%3Btop%3A0%3Bbottom%3A0%3Bright%3A0%3Bleft%3A0%3B%7D%3C/style%3E%0A%20%20%20%20%3Cscript%20src%3D%22https%3A//cdn.jsdelivr.net/npm/leaflet%401.6.0/dist/leaflet.js%22%3E%3C/script%3E%0A%20%20%20%20%3Cscript%20src%3D%22https%3A//code.jquery.com/jquery-1.12.4.min.js%22%3E%3C/script%3E%0A%20%20%20%20%3Cscript%20src%3D%22https%3A//maxcdn.bootstrapcdn.com/bootstrap/3.2.0/js/bootstrap.min.js%22%3E%3C/script%3E%0A%20%20%20%20%3Cscript%20src%3D%22https%3A//cdnjs.cloudflare.com/ajax/libs/Leaflet.awesome-markers/2.0.2/leaflet.awesome-markers.js%22%3E%3C/script%3E%0A%20%20%20%20%3Clink%20rel%3D%22stylesheet%22%20href%3D%22https%3A//cdn.jsdelivr.net/npm/leaflet%401.6.0/dist/leaflet.css%22/%3E%0A%20%20%20%20%3Clink%20rel%3D%22stylesheet%22%20href%3D%22https%3A//maxcdn.bootstrapcdn.com/bootstrap/3.2.0/css/bootstrap.min.css%22/%3E%0A%20%20%20%20%3Clink%20rel%3D%22stylesheet%22%20href%3D%22https%3A//maxcdn.bootstrapcdn.com/bootstrap/3.2.0/css/bootstrap-theme.min.css%22/%3E%0A%20%20%20%20%3Clink%20rel%3D%22stylesheet%22%20href%3D%22https%3A//maxcdn.bootstrapcdn.com/font-awesome/4.6.3/css/font-awesome.min.css%22/%3E%0A%20%20%20%20%3Clink%20rel%3D%22stylesheet%22%20href%3D%22https%3A//cdnjs.cloudflare.com/ajax/libs/Leaflet.awesome-markers/2.0.2/leaflet.awesome-markers.css%22/%3E%0A%20%20%20%20%3Clink%20rel%3D%22stylesheet%22%20href%3D%22https%3A//cdn.jsdelivr.net/gh/python-visualization/folium/folium/templates/leaflet.awesome.rotate.min.css%22/%3E%0A%20%20%20%20%0A%20%20%20%20%20%20%20%20%20%20%20%20%3Cmeta%20name%3D%22viewport%22%20content%3D%22width%3Ddevice-width%2C%0A%20%20%20%20%20%20%20%20%20%20%20%20%20%20%20%20initial-scale%3D1.0%2C%20maximum-scale%3D1.0%2C%20user-scalable%3Dno%22%20/%3E%0A%20%20%20%20%20%20%20%20%20%20%20%20%3Cstyle%3E%0A%20%20%20%20%20%20%20%20%20%20%20%20%20%20%20%20%23map_f90baacfcf3f4ee7a4b32be9b17b48f7%20%7B%0A%20%20%20%20%20%20%20%20%20%20%20%20%20%20%20%20%20%20%20%20position%3A%20relative%3B%0A%20%20%20%20%20%20%20%20%20%20%20%20%20%20%20%20%20%20%20%20width%3A%20100.0%25%3B%0A%20%20%20%20%20%20%20%20%20%20%20%20%20%20%20%20%20%20%20%20height%3A%20100.0%25%3B%0A%20%20%20%20%20%20%20%20%20%20%20%20%20%20%20%20%20%20%20%20left%3A%200.0%25%3B%0A%20%20%20%20%20%20%20%20%20%20%20%20%20%20%20%20%20%20%20%20top%3A%200.0%25%3B%0A%20%20%20%20%20%20%20%20%20%20%20%20%20%20%20%20%7D%0A%20%20%20%20%20%20%20%20%20%20%20%20%3C/style%3E%0A%20%20%20%20%20%20%20%20%0A%3C/head%3E%0A%3Cbody%3E%20%20%20%20%0A%20%20%20%20%0A%20%20%20%20%20%20%20%20%20%20%20%20%3Cdiv%20class%3D%22folium-map%22%20id%3D%22map_f90baacfcf3f4ee7a4b32be9b17b48f7%22%20%3E%3C/div%3E%0A%20%20%20%20%20%20%20%20%0A%3C/body%3E%0A%3Cscript%3E%20%20%20%20%0A%20%20%20%20%0A%20%20%20%20%20%20%20%20%20%20%20%20var%20map_f90baacfcf3f4ee7a4b32be9b17b48f7%20%3D%20L.map%28%0A%20%20%20%20%20%20%20%20%20%20%20%20%20%20%20%20%22map_f90baacfcf3f4ee7a4b32be9b17b48f7%22%2C%0A%20%20%20%20%20%20%20%20%20%20%20%20%20%20%20%20%7B%0A%20%20%20%20%20%20%20%20%20%20%20%20%20%20%20%20%20%20%20%20center%3A%20%5B36.884804%2C%2030.704044%5D%2C%0A%20%20%20%20%20%20%20%20%20%20%20%20%20%20%20%20%20%20%20%20crs%3A%20L.CRS.EPSG3857%2C%0A%20%20%20%20%20%20%20%20%20%20%20%20%20%20%20%20%20%20%20%20zoom%3A%208%2C%0A%20%20%20%20%20%20%20%20%20%20%20%20%20%20%20%20%20%20%20%20zoomControl%3A%20true%2C%0A%20%20%20%20%20%20%20%20%20%20%20%20%20%20%20%20%20%20%20%20preferCanvas%3A%20false%2C%0A%20%20%20%20%20%20%20%20%20%20%20%20%20%20%20%20%7D%0A%20%20%20%20%20%20%20%20%20%20%20%20%29%3B%0A%0A%20%20%20%20%20%20%20%20%20%20%20%20%0A%0A%20%20%20%20%20%20%20%20%0A%20%20%20%20%0A%20%20%20%20%20%20%20%20%20%20%20%20var%20tile_layer_2236f3d9e36b470b8c21e809ca27fe7a%20%3D%20L.tileLayer%28%0A%20%20%20%20%20%20%20%20%20%20%20%20%20%20%20%20%22https%3A//%7Bs%7D.tile.openstreetmap.org/%7Bz%7D/%7Bx%7D/%7By%7D.png%22%2C%0A%20%20%20%20%20%20%20%20%20%20%20%20%20%20%20%20%7B%22attribution%22%3A%20%22Data%20by%20%5Cu0026copy%3B%20%5Cu003ca%20href%3D%5C%22http%3A//openstreetmap.org%5C%22%5Cu003eOpenStreetMap%5Cu003c/a%5Cu003e%2C%20under%20%5Cu003ca%20href%3D%5C%22http%3A//www.openstreetmap.org/copyright%5C%22%5Cu003eODbL%5Cu003c/a%5Cu003e.%22%2C%20%22detectRetina%22%3A%20false%2C%20%22maxNativeZoom%22%3A%2018%2C%20%22maxZoom%22%3A%2018%2C%20%22minZoom%22%3A%200%2C%20%22noWrap%22%3A%20false%2C%20%22opacity%22%3A%201%2C%20%22subdomains%22%3A%20%22abc%22%2C%20%22tms%22%3A%20false%7D%0A%20%20%20%20%20%20%20%20%20%20%20%20%29.addTo%28map_f90baacfcf3f4ee7a4b32be9b17b48f7%29%3B%0A%20%20%20%20%20%20%20%20%0A%20%20%20%20%0A%20%20%20%20%20%20%20%20%20%20%20%20%20%20%20%20var%20lat_lng_popup_d96ee5df6597441290a1dd5a137ec0ad%20%3D%20L.popup%28%29%3B%0A%20%20%20%20%20%20%20%20%20%20%20%20%20%20%20%20function%20latLngPop%28e%29%20%7B%0A%20%20%20%20%20%20%20%20%20%20%20%20%20%20%20%20%20%20%20%20lat_lng_popup_d96ee5df6597441290a1dd5a137ec0ad%0A%20%20%20%20%20%20%20%20%20%20%20%20%20%20%20%20%20%20%20%20%20%20%20%20.setLatLng%28e.latlng%29%0A%20%20%20%20%20%20%20%20%20%20%20%20%20%20%20%20%20%20%20%20%20%20%20%20.setContent%28%22Latitude%3A%20%22%20%2B%20e.latlng.lat.toFixed%284%29%20%2B%0A%20%20%20%20%20%20%20%20%20%20%20%20%20%20%20%20%20%20%20%20%20%20%20%20%20%20%20%20%20%20%20%20%20%20%20%20%22%3Cbr%3ELongitude%3A%20%22%20%2B%20e.latlng.lng.toFixed%284%29%29%0A%20%20%20%20%20%20%20%20%20%20%20%20%20%20%20%20%20%20%20%20%20%20%20%20.openOn%28map_f90baacfcf3f4ee7a4b32be9b17b48f7%29%3B%0A%20%20%20%20%20%20%20%20%20%20%20%20%20%20%20%20%20%20%20%20%7D%0A%20%20%20%20%20%20%20%20%20%20%20%20%20%20%20%20map_f90baacfcf3f4ee7a4b32be9b17b48f7.on%28%27click%27%2C%20latLngPop%29%3B%0A%20%20%20%20%20%20%20%20%20%20%20%20%0A%3C/script%3E onload=\"this.contentDocument.open();this.contentDocument.write(    decodeURIComponent(this.getAttribute('data-html')));this.contentDocument.close();\" allowfullscreen webkitallowfullscreen mozallowfullscreen></iframe></div></div>"
      ],
      "text/plain": [
       "<folium.folium.Map at 0x1c6413b0160>"
      ]
     },
     "execution_count": 65,
     "metadata": {},
     "output_type": "execute_result"
    }
   ],
   "source": [
    "my_map.add_child(folium.LatLngPopup())"
   ]
  },
  {
   "cell_type": "markdown",
   "id": "4eb70a1a",
   "metadata": {},
   "source": [
    "_This allows user to shows lat long values by clivking any area on map_ "
   ]
  },
  {
   "cell_type": "code",
   "execution_count": 66,
   "id": "d4673d86",
   "metadata": {},
   "outputs": [],
   "source": [
    "import json\n",
    "import requests"
   ]
  },
  {
   "cell_type": "code",
   "execution_count": 67,
   "id": "43240e20",
   "metadata": {},
   "outputs": [],
   "source": [
    "# some solutions\n",
    "import webbrowser\n",
    "#webbrowser.open('https://stackoverflow.com/questions/49582831/adding-jpg-images-to-folium-popup')"
   ]
  },
  {
   "cell_type": "code",
   "execution_count": 68,
   "id": "4c99302e",
   "metadata": {},
   "outputs": [
    {
     "data": {
      "text/plain": [
       "Text(0.5, 0, 'Months')"
      ]
     },
     "execution_count": 68,
     "metadata": {},
     "output_type": "execute_result"
    },
    {
     "data": {
      "image/png": "[encoded data removed]",
      "text/plain": [
       "<Figure size 432x288 with 1 Axes>"
      ]
     },
     "metadata": {
      "needs_background": "light"
     },
     "output_type": "display_data"
    }
   ],
   "source": [
    "vis0 = chart[name.iloc[0]].plot(kind='bar')\n",
    "vis0.set_ylabel('Mean Discharge')\n",
    "vis0.set_xlabel('Months')"
   ]
  },
  {
   "cell_type": "markdown",
   "id": "b84bd0d4",
   "metadata": {},
   "source": [
    "_First location bar chart_"
   ]
  },
  {
   "cell_type": "code",
   "execution_count": 69,
   "id": "43aba8e9",
   "metadata": {},
   "outputs": [
    {
     "data": {
      "image/png": "[encoded data removed]",
      "text/plain": [
       "<Figure size 288x216 with 1 Axes>"
      ]
     },
     "metadata": {
      "needs_background": "light"
     },
     "output_type": "display_data"
    }
   ],
   "source": [
    "vis0 = chart[name.iloc[0]].plot(kind='bar', figsize=(4,3))\n",
    "vis0.get_figure().savefig(\"json/vis0.png\") "
   ]
  },
  {
   "cell_type": "markdown",
   "id": "be04101b",
   "metadata": {},
   "source": [
    "_Save bar chart as png to upload it on coresponding markers_"
   ]
  },
  {
   "cell_type": "code",
   "execution_count": 70,
   "id": "7adca042",
   "metadata": {},
   "outputs": [
    {
     "data": {
      "text/plain": [
       "<folium.map.Marker at 0x1c64168f370>"
      ]
     },
     "execution_count": 70,
     "metadata": {},
     "output_type": "execute_result"
    }
   ],
   "source": [
    "marker = folium.Marker(\n",
    "    location=[north.iloc[0],east.iloc[0]],\n",
    "    tooltip= name.iloc[0],\n",
    "    icon=folium.Icon(icon=\"cloud\", color ='darkblue'),\n",
    "    popup=\"<b><img src=json/vis0.png></b>\"\n",
    ")\n",
    "\n",
    "marker.add_to(my_map)"
   ]
  },
  {
   "cell_type": "markdown",
   "id": "5a404eb8",
   "metadata": {},
   "source": [
    "_Uploading png's to coresponding markers_"
   ]
  },
  {
   "cell_type": "markdown",
   "id": "124b7e9e",
   "metadata": {},
   "source": [
    "_This 3 code works for uploading charts on map, I used same codes for all markers below_ "
   ]
  },
  {
   "cell_type": "code",
   "execution_count": 71,
   "id": "834ee926",
   "metadata": {},
   "outputs": [
    {
     "data": {
      "text/html": [
       "<div style=\"width:100%;\"><div style=\"position:relative;width:100%;height:0;padding-bottom:60%;\"><span style=\"color:#565656\">Make this Notebook Trusted to load map: File -> Trust Notebook</span><iframe src=\"about:blank\" style=\"position:absolute;width:100%;height:100%;left:0;top:0;border:none !important;\" data-html=%3C%21DOCTYPE%20html%3E%0A%3Chead%3E%20%20%20%20%0A%20%20%20%20%3Cmeta%20http-equiv%3D%22content-type%22%20content%3D%22text/html%3B%20charset%3DUTF-8%22%20/%3E%0A%20%20%20%20%0A%20%20%20%20%20%20%20%20%3Cscript%3E%0A%20%20%20%20%20%20%20%20%20%20%20%20L_NO_TOUCH%20%3D%20false%3B%0A%20%20%20%20%20%20%20%20%20%20%20%20L_DISABLE_3D%20%3D%20false%3B%0A%20%20%20%20%20%20%20%20%3C/script%3E%0A%20%20%20%20%0A%20%20%20%20%3Cstyle%3Ehtml%2C%20body%20%7Bwidth%3A%20100%25%3Bheight%3A%20100%25%3Bmargin%3A%200%3Bpadding%3A%200%3B%7D%3C/style%3E%0A%20%20%20%20%3Cstyle%3E%23map%20%7Bposition%3Aabsolute%3Btop%3A0%3Bbottom%3A0%3Bright%3A0%3Bleft%3A0%3B%7D%3C/style%3E%0A%20%20%20%20%3Cscript%20src%3D%22https%3A//cdn.jsdelivr.net/npm/leaflet%401.6.0/dist/leaflet.js%22%3E%3C/script%3E%0A%20%20%20%20%3Cscript%20src%3D%22https%3A//code.jquery.com/jquery-1.12.4.min.js%22%3E%3C/script%3E%0A%20%20%20%20%3Cscript%20src%3D%22https%3A//maxcdn.bootstrapcdn.com/bootstrap/3.2.0/js/bootstrap.min.js%22%3E%3C/script%3E%0A%20%20%20%20%3Cscript%20src%3D%22https%3A//cdnjs.cloudflare.com/ajax/libs/Leaflet.awesome-markers/2.0.2/leaflet.awesome-markers.js%22%3E%3C/script%3E%0A%20%20%20%20%3Clink%20rel%3D%22stylesheet%22%20href%3D%22https%3A//cdn.jsdelivr.net/npm/leaflet%401.6.0/dist/leaflet.css%22/%3E%0A%20%20%20%20%3Clink%20rel%3D%22stylesheet%22%20href%3D%22https%3A//maxcdn.bootstrapcdn.com/bootstrap/3.2.0/css/bootstrap.min.css%22/%3E%0A%20%20%20%20%3Clink%20rel%3D%22stylesheet%22%20href%3D%22https%3A//maxcdn.bootstrapcdn.com/bootstrap/3.2.0/css/bootstrap-theme.min.css%22/%3E%0A%20%20%20%20%3Clink%20rel%3D%22stylesheet%22%20href%3D%22https%3A//maxcdn.bootstrapcdn.com/font-awesome/4.6.3/css/font-awesome.min.css%22/%3E%0A%20%20%20%20%3Clink%20rel%3D%22stylesheet%22%20href%3D%22https%3A//cdnjs.cloudflare.com/ajax/libs/Leaflet.awesome-markers/2.0.2/leaflet.awesome-markers.css%22/%3E%0A%20%20%20%20%3Clink%20rel%3D%22stylesheet%22%20href%3D%22https%3A//cdn.jsdelivr.net/gh/python-visualization/folium/folium/templates/leaflet.awesome.rotate.min.css%22/%3E%0A%20%20%20%20%0A%20%20%20%20%20%20%20%20%20%20%20%20%3Cmeta%20name%3D%22viewport%22%20content%3D%22width%3Ddevice-width%2C%0A%20%20%20%20%20%20%20%20%20%20%20%20%20%20%20%20initial-scale%3D1.0%2C%20maximum-scale%3D1.0%2C%20user-scalable%3Dno%22%20/%3E%0A%20%20%20%20%20%20%20%20%20%20%20%20%3Cstyle%3E%0A%20%20%20%20%20%20%20%20%20%20%20%20%20%20%20%20%23map_f90baacfcf3f4ee7a4b32be9b17b48f7%20%7B%0A%20%20%20%20%20%20%20%20%20%20%20%20%20%20%20%20%20%20%20%20position%3A%20relative%3B%0A%20%20%20%20%20%20%20%20%20%20%20%20%20%20%20%20%20%20%20%20width%3A%20100.0%25%3B%0A%20%20%20%20%20%20%20%20%20%20%20%20%20%20%20%20%20%20%20%20height%3A%20100.0%25%3B%0A%20%20%20%20%20%20%20%20%20%20%20%20%20%20%20%20%20%20%20%20left%3A%200.0%25%3B%0A%20%20%20%20%20%20%20%20%20%20%20%20%20%20%20%20%20%20%20%20top%3A%200.0%25%3B%0A%20%20%20%20%20%20%20%20%20%20%20%20%20%20%20%20%7D%0A%20%20%20%20%20%20%20%20%20%20%20%20%3C/style%3E%0A%20%20%20%20%20%20%20%20%0A%3C/head%3E%0A%3Cbody%3E%20%20%20%20%0A%20%20%20%20%0A%20%20%20%20%20%20%20%20%20%20%20%20%3Cdiv%20class%3D%22folium-map%22%20id%3D%22map_f90baacfcf3f4ee7a4b32be9b17b48f7%22%20%3E%3C/div%3E%0A%20%20%20%20%20%20%20%20%0A%3C/body%3E%0A%3Cscript%3E%20%20%20%20%0A%20%20%20%20%0A%20%20%20%20%20%20%20%20%20%20%20%20var%20map_f90baacfcf3f4ee7a4b32be9b17b48f7%20%3D%20L.map%28%0A%20%20%20%20%20%20%20%20%20%20%20%20%20%20%20%20%22map_f90baacfcf3f4ee7a4b32be9b17b48f7%22%2C%0A%20%20%20%20%20%20%20%20%20%20%20%20%20%20%20%20%7B%0A%20%20%20%20%20%20%20%20%20%20%20%20%20%20%20%20%20%20%20%20center%3A%20%5B36.884804%2C%2030.704044%5D%2C%0A%20%20%20%20%20%20%20%20%20%20%20%20%20%20%20%20%20%20%20%20crs%3A%20L.CRS.EPSG3857%2C%0A%20%20%20%20%20%20%20%20%20%20%20%20%20%20%20%20%20%20%20%20zoom%3A%208%2C%0A%20%20%20%20%20%20%20%20%20%20%20%20%20%20%20%20%20%20%20%20zoomControl%3A%20true%2C%0A%20%20%20%20%20%20%20%20%20%20%20%20%20%20%20%20%20%20%20%20preferCanvas%3A%20false%2C%0A%20%20%20%20%20%20%20%20%20%20%20%20%20%20%20%20%7D%0A%20%20%20%20%20%20%20%20%20%20%20%20%29%3B%0A%0A%20%20%20%20%20%20%20%20%20%20%20%20%0A%0A%20%20%20%20%20%20%20%20%0A%20%20%20%20%0A%20%20%20%20%20%20%20%20%20%20%20%20var%20tile_layer_2236f3d9e36b470b8c21e809ca27fe7a%20%3D%20L.tileLayer%28%0A%20%20%20%20%20%20%20%20%20%20%20%20%20%20%20%20%22https%3A//%7Bs%7D.tile.openstreetmap.org/%7Bz%7D/%7Bx%7D/%7By%7D.png%22%2C%0A%20%20%20%20%20%20%20%20%20%20%20%20%20%20%20%20%7B%22attribution%22%3A%20%22Data%20by%20%5Cu0026copy%3B%20%5Cu003ca%20href%3D%5C%22http%3A//openstreetmap.org%5C%22%5Cu003eOpenStreetMap%5Cu003c/a%5Cu003e%2C%20under%20%5Cu003ca%20href%3D%5C%22http%3A//www.openstreetmap.org/copyright%5C%22%5Cu003eODbL%5Cu003c/a%5Cu003e.%22%2C%20%22detectRetina%22%3A%20false%2C%20%22maxNativeZoom%22%3A%2018%2C%20%22maxZoom%22%3A%2018%2C%20%22minZoom%22%3A%200%2C%20%22noWrap%22%3A%20false%2C%20%22opacity%22%3A%201%2C%20%22subdomains%22%3A%20%22abc%22%2C%20%22tms%22%3A%20false%7D%0A%20%20%20%20%20%20%20%20%20%20%20%20%29.addTo%28map_f90baacfcf3f4ee7a4b32be9b17b48f7%29%3B%0A%20%20%20%20%20%20%20%20%0A%20%20%20%20%0A%20%20%20%20%20%20%20%20%20%20%20%20%20%20%20%20var%20lat_lng_popup_d96ee5df6597441290a1dd5a137ec0ad%20%3D%20L.popup%28%29%3B%0A%20%20%20%20%20%20%20%20%20%20%20%20%20%20%20%20function%20latLngPop%28e%29%20%7B%0A%20%20%20%20%20%20%20%20%20%20%20%20%20%20%20%20%20%20%20%20lat_lng_popup_d96ee5df6597441290a1dd5a137ec0ad%0A%20%20%20%20%20%20%20%20%20%20%20%20%20%20%20%20%20%20%20%20%20%20%20%20.setLatLng%28e.latlng%29%0A%20%20%20%20%20%20%20%20%20%20%20%20%20%20%20%20%20%20%20%20%20%20%20%20.setContent%28%22Latitude%3A%20%22%20%2B%20e.latlng.lat.toFixed%284%29%20%2B%0A%20%20%20%20%20%20%20%20%20%20%20%20%20%20%20%20%20%20%20%20%20%20%20%20%20%20%20%20%20%20%20%20%20%20%20%20%22%3Cbr%3ELongitude%3A%20%22%20%2B%20e.latlng.lng.toFixed%284%29%29%0A%20%20%20%20%20%20%20%20%20%20%20%20%20%20%20%20%20%20%20%20%20%20%20%20.openOn%28map_f90baacfcf3f4ee7a4b32be9b17b48f7%29%3B%0A%20%20%20%20%20%20%20%20%20%20%20%20%20%20%20%20%20%20%20%20%7D%0A%20%20%20%20%20%20%20%20%20%20%20%20%20%20%20%20map_f90baacfcf3f4ee7a4b32be9b17b48f7.on%28%27click%27%2C%20latLngPop%29%3B%0A%20%20%20%20%20%20%20%20%20%20%20%20%0A%20%20%20%20%0A%20%20%20%20%20%20%20%20%20%20%20%20var%20marker_c0016791486444d6baad7c81af016d85%20%3D%20L.marker%28%0A%20%20%20%20%20%20%20%20%20%20%20%20%20%20%20%20%5B37.13333333333333%2C%2030.05%5D%2C%0A%20%20%20%20%20%20%20%20%20%20%20%20%20%20%20%20%7B%7D%0A%20%20%20%20%20%20%20%20%20%20%20%20%29.addTo%28map_f90baacfcf3f4ee7a4b32be9b17b48f7%29%3B%0A%20%20%20%20%20%20%20%20%0A%20%20%20%20%0A%20%20%20%20%20%20%20%20%20%20%20%20var%20icon_f61d25152b064d93838fecff3d717a3d%20%3D%20L.AwesomeMarkers.icon%28%0A%20%20%20%20%20%20%20%20%20%20%20%20%20%20%20%20%7B%22extraClasses%22%3A%20%22fa-rotate-0%22%2C%20%22icon%22%3A%20%22cloud%22%2C%20%22iconColor%22%3A%20%22white%22%2C%20%22markerColor%22%3A%20%22darkblue%22%2C%20%22prefix%22%3A%20%22glyphicon%22%7D%0A%20%20%20%20%20%20%20%20%20%20%20%20%29%3B%0A%20%20%20%20%20%20%20%20%20%20%20%20marker_c0016791486444d6baad7c81af016d85.setIcon%28icon_f61d25152b064d93838fecff3d717a3d%29%3B%0A%20%20%20%20%20%20%20%20%0A%20%20%20%20%0A%20%20%20%20%20%20%20%20var%20popup_1dd40e0b688a442aadb6ca4d1f8fa96d%20%3D%20L.popup%28%7B%22maxWidth%22%3A%20%22100%25%22%7D%29%3B%0A%0A%20%20%20%20%20%20%20%20%0A%20%20%20%20%20%20%20%20%20%20%20%20var%20html_defba9d4138749c6b276b078f9cbc563%20%3D%20%24%28%60%3Cdiv%20id%3D%22html_defba9d4138749c6b276b078f9cbc563%22%20style%3D%22width%3A%20100.0%25%3B%20height%3A%20100.0%25%3B%22%3E%3Cb%3E%3Cimg%20src%3Djson/vis0.png%3E%3C/b%3E%3C/div%3E%60%29%5B0%5D%3B%0A%20%20%20%20%20%20%20%20%20%20%20%20popup_1dd40e0b688a442aadb6ca4d1f8fa96d.setContent%28html_defba9d4138749c6b276b078f9cbc563%29%3B%0A%20%20%20%20%20%20%20%20%0A%0A%20%20%20%20%20%20%20%20marker_c0016791486444d6baad7c81af016d85.bindPopup%28popup_1dd40e0b688a442aadb6ca4d1f8fa96d%29%0A%20%20%20%20%20%20%20%20%3B%0A%0A%20%20%20%20%20%20%20%20%0A%20%20%20%20%0A%20%20%20%20%0A%20%20%20%20%20%20%20%20%20%20%20%20marker_c0016791486444d6baad7c81af016d85.bindTooltip%28%0A%20%20%20%20%20%20%20%20%20%20%20%20%20%20%20%20%60%3Cdiv%3E%0A%20%20%20%20%20%20%20%20%20%20%20%20%20%20%20%20%20%20%20%20%20D09A011%0A%20%20%20%20%20%20%20%20%20%20%20%20%20%20%20%20%20%3C/div%3E%60%2C%0A%20%20%20%20%20%20%20%20%20%20%20%20%20%20%20%20%7B%22sticky%22%3A%20true%7D%0A%20%20%20%20%20%20%20%20%20%20%20%20%29%3B%0A%20%20%20%20%20%20%20%20%0A%3C/script%3E onload=\"this.contentDocument.open();this.contentDocument.write(    decodeURIComponent(this.getAttribute('data-html')));this.contentDocument.close();\" allowfullscreen webkitallowfullscreen mozallowfullscreen></iframe></div></div>"
      ],
      "text/plain": [
       "<folium.folium.Map at 0x1c6413b0160>"
      ]
     },
     "execution_count": 71,
     "metadata": {},
     "output_type": "execute_result"
    }
   ],
   "source": [
    "my_map"
   ]
  },
  {
   "cell_type": "markdown",
   "id": "43c39823",
   "metadata": {},
   "source": [
    "![green-divider](https://user-images.githubusercontent.com/7065401/52071924-c003ad80-2562-11e9-8297-1c6595f8a7ff.png)"
   ]
  },
  {
   "cell_type": "code",
   "execution_count": 72,
   "id": "90029811",
   "metadata": {},
   "outputs": [
    {
     "data": {
      "text/plain": [
       "(20,)"
      ]
     },
     "execution_count": 72,
     "metadata": {},
     "output_type": "execute_result"
    }
   ],
   "source": [
    "name.shape"
   ]
  },
  {
   "cell_type": "markdown",
   "id": "ba67d29a",
   "metadata": {},
   "source": [
    "_To check how many data I need_"
   ]
  },
  {
   "cell_type": "markdown",
   "id": "754d3a8d",
   "metadata": {},
   "source": [
    "### Charts to png"
   ]
  },
  {
   "cell_type": "code",
   "execution_count": 73,
   "id": "59ea7a5a",
   "metadata": {},
   "outputs": [
    {
     "data": {
      "image/png": "[encoded data removed]",
      "text/plain": [
       "<Figure size 288x216 with 1 Axes>"
      ]
     },
     "metadata": {
      "needs_background": "light"
     },
     "output_type": "display_data"
    }
   ],
   "source": [
    "vis1 = chart[name.iloc[1]].plot(kind='bar', figsize=(4,3))\n",
    "vis1.get_figure().savefig(\"json/vis1.png\") "
   ]
  },
  {
   "cell_type": "code",
   "execution_count": 74,
   "id": "b183e202",
   "metadata": {},
   "outputs": [
    {
     "data": {
      "image/png": "[encoded data removed]",
      "text/plain": [
       "<Figure size 288x216 with 1 Axes>"
      ]
     },
     "metadata": {
      "needs_background": "light"
     },
     "output_type": "display_data"
    }
   ],
   "source": [
    "vis2 = chart[name.iloc[2]].plot(kind='bar', figsize=(4,3))\n",
    "vis2.get_figure().savefig(\"json/vis2.png\") "
   ]
  },
  {
   "cell_type": "code",
   "execution_count": 75,
   "id": "92efd7e6",
   "metadata": {},
   "outputs": [
    {
     "data": {
      "image/png": "[encoded data removed]",
      "text/plain": [
       "<Figure size 288x216 with 1 Axes>"
      ]
     },
     "metadata": {
      "needs_background": "light"
     },
     "output_type": "display_data"
    }
   ],
   "source": [
    "vis3 = chart[name.iloc[3]].plot(kind='bar', figsize=(4,3))\n",
    "vis3.get_figure().savefig(\"json/vis3.png\") "
   ]
  },
  {
   "cell_type": "code",
   "execution_count": 76,
   "id": "95f102ac",
   "metadata": {},
   "outputs": [
    {
     "data": {
      "image/png": "[encoded data removed]",
      "text/plain": [
       "<Figure size 288x216 with 1 Axes>"
      ]
     },
     "metadata": {
      "needs_background": "light"
     },
     "output_type": "display_data"
    }
   ],
   "source": [
    "vis4 = chart[name.iloc[4]].plot(kind='bar', figsize=(4,3))\n",
    "vis4.get_figure().savefig(\"json/vis4.png\") "
   ]
  },
  {
   "cell_type": "code",
   "execution_count": 77,
   "id": "e43b8913",
   "metadata": {},
   "outputs": [
    {
     "data": {
      "image/png": "[encoded data removed]",
      "text/plain": [
       "<Figure size 288x216 with 1 Axes>"
      ]
     },
     "metadata": {
      "needs_background": "light"
     },
     "output_type": "display_data"
    }
   ],
   "source": [
    "vis5 = chart[name.iloc[5]].plot(kind='bar', figsize=(4,3))\n",
    "vis5.get_figure().savefig(\"json/vis5.png\") "
   ]
  },
  {
   "cell_type": "code",
   "execution_count": 78,
   "id": "4133c43b",
   "metadata": {},
   "outputs": [
    {
     "data": {
      "image/png": "[encoded data removed]",
      "text/plain": [
       "<Figure size 288x216 with 1 Axes>"
      ]
     },
     "metadata": {
      "needs_background": "light"
     },
     "output_type": "display_data"
    }
   ],
   "source": [
    "vis6 = chart[name.iloc[6]].plot(kind='bar', figsize=(4,3))\n",
    "vis6.get_figure().savefig(\"json/vis6.png\") "
   ]
  },
  {
   "cell_type": "code",
   "execution_count": 79,
   "id": "79f8c0ab",
   "metadata": {},
   "outputs": [
    {
     "data": {
      "image/png": "[encoded data removed]",
      "text/plain": [
       "<Figure size 288x216 with 1 Axes>"
      ]
     },
     "metadata": {
      "needs_background": "light"
     },
     "output_type": "display_data"
    }
   ],
   "source": [
    "vis7 = chart[name.iloc[7]].plot(kind='bar', figsize=(4,3))\n",
    "vis7.get_figure().savefig(\"json/vis7.png\") "
   ]
  },
  {
   "cell_type": "code",
   "execution_count": 80,
   "id": "814721e7",
   "metadata": {},
   "outputs": [
    {
     "data": {
      "image/png": "[encoded data removed]",
      "text/plain": [
       "<Figure size 288x216 with 1 Axes>"
      ]
     },
     "metadata": {
      "needs_background": "light"
     },
     "output_type": "display_data"
    }
   ],
   "source": [
    "vis8 = chart[name.iloc[8]].plot(kind='bar', figsize=(4,3))\n",
    "vis8.get_figure().savefig(\"json/vis8.png\") "
   ]
  },
  {
   "cell_type": "code",
   "execution_count": 81,
   "id": "cb7829f2",
   "metadata": {},
   "outputs": [
    {
     "data": {
      "image/png": "[encoded data removed]",
      "text/plain": [
       "<Figure size 288x216 with 1 Axes>"
      ]
     },
     "metadata": {
      "needs_background": "light"
     },
     "output_type": "display_data"
    }
   ],
   "source": [
    "vis9 = chart[name.iloc[9]].plot(kind='bar', figsize=(4,3))\n",
    "vis9.get_figure().savefig(\"json/vis9.png\") "
   ]
  },
  {
   "cell_type": "code",
   "execution_count": 82,
   "id": "05f2d41a",
   "metadata": {},
   "outputs": [
    {
     "data": {
      "image/png": "[encoded data removed]",
      "text/plain": [
       "<Figure size 288x216 with 1 Axes>"
      ]
     },
     "metadata": {
      "needs_background": "light"
     },
     "output_type": "display_data"
    }
   ],
   "source": [
    "vis10 = chart[name.iloc[10]].plot(kind='bar', figsize=(4,3))\n",
    "vis10.get_figure().savefig(\"json/vis10.png\") "
   ]
  },
  {
   "cell_type": "code",
   "execution_count": 83,
   "id": "ea7ce181",
   "metadata": {},
   "outputs": [
    {
     "data": {
      "image/png": "[encoded data removed]",
      "text/plain": [
       "<Figure size 288x216 with 1 Axes>"
      ]
     },
     "metadata": {
      "needs_background": "light"
     },
     "output_type": "display_data"
    }
   ],
   "source": [
    "vis11 = chart[name.iloc[11]].plot(kind='bar', figsize=(4,3))\n",
    "vis11.get_figure().savefig(\"json/vis11.png\") "
   ]
  },
  {
   "cell_type": "code",
   "execution_count": 84,
   "id": "118c1734",
   "metadata": {},
   "outputs": [
    {
     "data": {
      "image/png": "[encoded data removed]",
      "text/plain": [
       "<Figure size 288x216 with 1 Axes>"
      ]
     },
     "metadata": {
      "needs_background": "light"
     },
     "output_type": "display_data"
    }
   ],
   "source": [
    "vis12 = chart[name.iloc[12]].plot(kind='bar', figsize=(4,3))\n",
    "vis12.get_figure().savefig(\"json/vis12.png\") "
   ]
  },
  {
   "cell_type": "code",
   "execution_count": 85,
   "id": "a1e2f2b9",
   "metadata": {},
   "outputs": [
    {
     "data": {
      "image/png": "[encoded data removed]",
      "text/plain": [
       "<Figure size 288x216 with 1 Axes>"
      ]
     },
     "metadata": {
      "needs_background": "light"
     },
     "output_type": "display_data"
    }
   ],
   "source": [
    "vis13 = chart[name.iloc[13]].plot(kind='bar', figsize=(4,3))\n",
    "vis13.get_figure().savefig(\"json/vis13.png\") "
   ]
  },
  {
   "cell_type": "code",
   "execution_count": 86,
   "id": "290419e6",
   "metadata": {},
   "outputs": [
    {
     "data": {
      "image/png": "[encoded data removed]",
      "text/plain": [
       "<Figure size 288x216 with 1 Axes>"
      ]
     },
     "metadata": {
      "needs_background": "light"
     },
     "output_type": "display_data"
    }
   ],
   "source": [
    "vis14 = chart[name.iloc[14]].plot(kind='bar', figsize=(4,3))\n",
    "vis14.get_figure().savefig(\"json/vis14.png\") "
   ]
  },
  {
   "cell_type": "code",
   "execution_count": 87,
   "id": "888e7efe",
   "metadata": {},
   "outputs": [
    {
     "data": {
      "image/png": "[encoded data removed]",
      "text/plain": [
       "<Figure size 288x216 with 1 Axes>"
      ]
     },
     "metadata": {
      "needs_background": "light"
     },
     "output_type": "display_data"
    }
   ],
   "source": [
    "vis15 = chart[name.iloc[15]].plot(kind='bar', figsize=(4,3))\n",
    "vis15.get_figure().savefig(\"json/vis15.png\") "
   ]
  },
  {
   "cell_type": "code",
   "execution_count": 88,
   "id": "8febb72c",
   "metadata": {},
   "outputs": [
    {
     "data": {
      "image/png": "[encoded data removed]",
      "text/plain": [
       "<Figure size 288x216 with 1 Axes>"
      ]
     },
     "metadata": {
      "needs_background": "light"
     },
     "output_type": "display_data"
    }
   ],
   "source": [
    "vis16 = chart[name.iloc[16]].plot(kind='bar', figsize=(4,3))\n",
    "vis16.get_figure().savefig(\"json/vis16.png\") "
   ]
  },
  {
   "cell_type": "code",
   "execution_count": 89,
   "id": "b84f30fc",
   "metadata": {},
   "outputs": [
    {
     "data": {
      "image/png": "[encoded data removed]",
      "text/plain": [
       "<Figure size 288x216 with 1 Axes>"
      ]
     },
     "metadata": {
      "needs_background": "light"
     },
     "output_type": "display_data"
    }
   ],
   "source": [
    "vis17 = chart[name.iloc[17]].plot(kind='bar', figsize=(4,3))\n",
    "vis17.get_figure().savefig(\"json/vis17.png\") "
   ]
  },
  {
   "cell_type": "code",
   "execution_count": 90,
   "id": "4e712e18",
   "metadata": {},
   "outputs": [
    {
     "data": {
      "image/png": "[encoded data removed]",
      "text/plain": [
       "<Figure size 288x216 with 1 Axes>"
      ]
     },
     "metadata": {
      "needs_background": "light"
     },
     "output_type": "display_data"
    }
   ],
   "source": [
    "vis18 = chart[name.iloc[18]].plot(kind='bar', figsize=(4,3))\n",
    "vis18.get_figure().savefig(\"json/vis18.png\") "
   ]
  },
  {
   "cell_type": "code",
   "execution_count": 91,
   "id": "d3399a58",
   "metadata": {},
   "outputs": [
    {
     "data": {
      "image/png": "[encoded data removed]",
      "text/plain": [
       "<Figure size 288x216 with 1 Axes>"
      ]
     },
     "metadata": {
      "needs_background": "light"
     },
     "output_type": "display_data"
    }
   ],
   "source": [
    "vis19 = chart[name.iloc[19]].plot(kind='bar', figsize=(4,3))\n",
    "vis19.get_figure().savefig(\"json/vis19.png\") "
   ]
  },
  {
   "cell_type": "markdown",
   "id": "5f007f14",
   "metadata": {},
   "source": [
    "### Markers shows Png on charts"
   ]
  },
  {
   "cell_type": "code",
   "execution_count": 92,
   "id": "09fce2b6",
   "metadata": {},
   "outputs": [
    {
     "data": {
      "text/plain": [
       "<folium.map.Marker at 0x1c643209520>"
      ]
     },
     "execution_count": 92,
     "metadata": {},
     "output_type": "execute_result"
    }
   ],
   "source": [
    "marker = folium.Marker(\n",
    "    location=[north.iloc[1],east.iloc[1]],\n",
    "    tooltip= name.iloc[1],\n",
    "    icon=folium.Icon(icon=\"cloud\", color ='darkblue'),\n",
    "    popup=\"<b><img src=json/vis1.png></b>\"\n",
    ")\n",
    "\n",
    "marker.add_to(my_map)"
   ]
  },
  {
   "cell_type": "code",
   "execution_count": 93,
   "id": "45824de7",
   "metadata": {},
   "outputs": [
    {
     "data": {
      "text/plain": [
       "<folium.map.Marker at 0x1c6431a6ac0>"
      ]
     },
     "execution_count": 93,
     "metadata": {},
     "output_type": "execute_result"
    }
   ],
   "source": [
    "marker = folium.Marker(\n",
    "    location=[north.iloc[2],east.iloc[2]],\n",
    "    tooltip= name.iloc[2],\n",
    "    icon=folium.Icon(icon=\"cloud\", color ='darkblue'),\n",
    "    popup=\"<b><img src=json/vis2.png></b>\"\n",
    ")\n",
    "\n",
    "marker.add_to(my_map)"
   ]
  },
  {
   "cell_type": "code",
   "execution_count": 94,
   "id": "1d31baf0",
   "metadata": {},
   "outputs": [
    {
     "data": {
      "text/plain": [
       "<folium.map.Marker at 0x1c6431a6b50>"
      ]
     },
     "execution_count": 94,
     "metadata": {},
     "output_type": "execute_result"
    }
   ],
   "source": [
    "marker = folium.Marker(\n",
    "    location=[north.iloc[3],east.iloc[3]],\n",
    "    tooltip= name.iloc[3],\n",
    "    icon=folium.Icon(icon=\"cloud\", color ='darkblue'),\n",
    "    popup=\"<b><img src=json/vis3.png></b>\"\n",
    ")\n",
    "\n",
    "marker.add_to(my_map)"
   ]
  },
  {
   "cell_type": "code",
   "execution_count": 95,
   "id": "e80fe697",
   "metadata": {},
   "outputs": [
    {
     "data": {
      "text/plain": [
       "<folium.map.Marker at 0x1c64321d2b0>"
      ]
     },
     "execution_count": 95,
     "metadata": {},
     "output_type": "execute_result"
    }
   ],
   "source": [
    "marker = folium.Marker(\n",
    "    location=[north.iloc[4],east.iloc[4]],\n",
    "    tooltip= name.iloc[4],\n",
    "    icon=folium.Icon(icon=\"cloud\", color ='darkblue'),\n",
    "    popup=\"<b><img src=json/vis4.png></b>\"\n",
    ")\n",
    "\n",
    "marker.add_to(my_map)"
   ]
  },
  {
   "cell_type": "code",
   "execution_count": 96,
   "id": "f76d4c0e",
   "metadata": {},
   "outputs": [
    {
     "data": {
      "text/plain": [
       "<folium.map.Marker at 0x1c643221550>"
      ]
     },
     "execution_count": 96,
     "metadata": {},
     "output_type": "execute_result"
    }
   ],
   "source": [
    "marker = folium.Marker(\n",
    "    location=[north.iloc[5],east.iloc[5]],\n",
    "    tooltip= name.iloc[5],\n",
    "    icon=folium.Icon(icon=\"cloud\", color ='darkblue'),\n",
    "    popup=\"<b><img src=json/vis5.png></b>\"\n",
    ")\n",
    "\n",
    "marker.add_to(my_map)"
   ]
  },
  {
   "cell_type": "code",
   "execution_count": 97,
   "id": "119b60e9",
   "metadata": {},
   "outputs": [
    {
     "data": {
      "text/plain": [
       "<folium.map.Marker at 0x1c643221850>"
      ]
     },
     "execution_count": 97,
     "metadata": {},
     "output_type": "execute_result"
    }
   ],
   "source": [
    "marker = folium.Marker(\n",
    "    location=[north.iloc[6],east.iloc[6]],\n",
    "    tooltip= name.iloc[6],\n",
    "    icon=folium.Icon(icon=\"cloud\", color ='darkblue'),\n",
    "    popup=\"<b><img src=json/vis6.png></b>\"\n",
    ")\n",
    "\n",
    "marker.add_to(my_map)"
   ]
  },
  {
   "cell_type": "code",
   "execution_count": 98,
   "id": "9b0188d4",
   "metadata": {},
   "outputs": [
    {
     "data": {
      "text/plain": [
       "<folium.map.Marker at 0x1c643221340>"
      ]
     },
     "execution_count": 98,
     "metadata": {},
     "output_type": "execute_result"
    }
   ],
   "source": [
    "marker = folium.Marker(\n",
    "    location=[north.iloc[7],east.iloc[7]],\n",
    "    tooltip= name.iloc[7],\n",
    "    icon=folium.Icon(icon=\"cloud\", color ='darkblue'),\n",
    "    popup=\"<b><img src=json/vis7.png></b>\"\n",
    ")\n",
    "\n",
    "marker.add_to(my_map)"
   ]
  },
  {
   "cell_type": "code",
   "execution_count": 99,
   "id": "5e85b349",
   "metadata": {},
   "outputs": [
    {
     "data": {
      "text/plain": [
       "<folium.map.Marker at 0x1c643221e80>"
      ]
     },
     "execution_count": 99,
     "metadata": {},
     "output_type": "execute_result"
    }
   ],
   "source": [
    "marker = folium.Marker(\n",
    "    location=[north.iloc[8],east.iloc[8]],\n",
    "    tooltip= name.iloc[8],\n",
    "    icon=folium.Icon(icon=\"cloud\", color ='darkblue'),\n",
    "    popup=\"<b><img src=json/vis0.png></b>\"\n",
    ")\n",
    "\n",
    "marker.add_to(my_map)"
   ]
  },
  {
   "cell_type": "code",
   "execution_count": 100,
   "id": "b62b6eae",
   "metadata": {},
   "outputs": [
    {
     "data": {
      "text/plain": [
       "<folium.map.Marker at 0x1c643221880>"
      ]
     },
     "execution_count": 100,
     "metadata": {},
     "output_type": "execute_result"
    }
   ],
   "source": [
    "marker = folium.Marker(\n",
    "    location=[north.iloc[9],east.iloc[9]],\n",
    "    tooltip= name.iloc[9],\n",
    "    icon=folium.Icon(icon=\"cloud\", color ='darkblue'),\n",
    "    popup=\"<b><img src=json/vis0.png></b>\"\n",
    ")\n",
    "\n",
    "marker.add_to(my_map)"
   ]
  },
  {
   "cell_type": "code",
   "execution_count": 101,
   "id": "3418e041",
   "metadata": {},
   "outputs": [
    {
     "data": {
      "text/plain": [
       "<folium.map.Marker at 0x1c6432362b0>"
      ]
     },
     "execution_count": 101,
     "metadata": {},
     "output_type": "execute_result"
    }
   ],
   "source": [
    "marker = folium.Marker(\n",
    "    location=[north.iloc[10],east.iloc[10]],\n",
    "    tooltip= name.iloc[10],\n",
    "    icon=folium.Icon(icon=\"cloud\", color ='darkblue'),\n",
    "    popup=\"<b><img src=json/vis10.png></b>\"\n",
    ")\n",
    "\n",
    "marker.add_to(my_map)"
   ]
  },
  {
   "cell_type": "code",
   "execution_count": 102,
   "id": "a103d198",
   "metadata": {},
   "outputs": [
    {
     "data": {
      "text/plain": [
       "<folium.map.Marker at 0x1c643221400>"
      ]
     },
     "execution_count": 102,
     "metadata": {},
     "output_type": "execute_result"
    }
   ],
   "source": [
    "marker = folium.Marker(\n",
    "    location=[north.iloc[11],east.iloc[11]],\n",
    "    tooltip= name.iloc[11],\n",
    "    icon=folium.Icon(icon=\"cloud\", color ='darkblue'),\n",
    "    popup=\"<b><img src=json/vis11.png></b>\"\n",
    ")\n",
    "\n",
    "marker.add_to(my_map)"
   ]
  },
  {
   "cell_type": "code",
   "execution_count": 103,
   "id": "9a08c71d",
   "metadata": {},
   "outputs": [
    {
     "data": {
      "text/plain": [
       "<folium.map.Marker at 0x1c643236ee0>"
      ]
     },
     "execution_count": 103,
     "metadata": {},
     "output_type": "execute_result"
    }
   ],
   "source": [
    "marker = folium.Marker(\n",
    "    location=[north.iloc[12],east.iloc[12]],\n",
    "    tooltip= name.iloc[12],\n",
    "    icon=folium.Icon(icon=\"cloud\", color ='darkblue'),\n",
    "    popup=\"<b><img src=json/vis12.png></b>\"\n",
    ")\n",
    "\n",
    "marker.add_to(my_map)"
   ]
  },
  {
   "cell_type": "code",
   "execution_count": 104,
   "id": "34295930",
   "metadata": {},
   "outputs": [
    {
     "data": {
      "text/plain": [
       "<folium.map.Marker at 0x1c6432367c0>"
      ]
     },
     "execution_count": 104,
     "metadata": {},
     "output_type": "execute_result"
    }
   ],
   "source": [
    "marker = folium.Marker(\n",
    "    location=[north.iloc[13],east.iloc[13]],\n",
    "    tooltip= name.iloc[13],\n",
    "    icon=folium.Icon(icon=\"cloud\", color ='darkblue'),\n",
    "    popup=\"<b><img src=json/vis13.png></b>\"\n",
    ")\n",
    "\n",
    "marker.add_to(my_map)"
   ]
  },
  {
   "cell_type": "code",
   "execution_count": 105,
   "id": "0dd96a99",
   "metadata": {},
   "outputs": [
    {
     "data": {
      "text/plain": [
       "<folium.map.Marker at 0x1c643236250>"
      ]
     },
     "execution_count": 105,
     "metadata": {},
     "output_type": "execute_result"
    }
   ],
   "source": [
    "marker = folium.Marker(\n",
    "    location=[north.iloc[14],east.iloc[14]],\n",
    "    tooltip= name.iloc[14],\n",
    "    icon=folium.Icon(icon=\"cloud\", color ='darkblue'),\n",
    "    popup=\"<b><img src=json/vis14.png></b>\"\n",
    ")\n",
    "\n",
    "marker.add_to(my_map)"
   ]
  },
  {
   "cell_type": "code",
   "execution_count": 106,
   "id": "9ab1679a",
   "metadata": {},
   "outputs": [
    {
     "data": {
      "text/plain": [
       "<folium.map.Marker at 0x1c64323ea60>"
      ]
     },
     "execution_count": 106,
     "metadata": {},
     "output_type": "execute_result"
    }
   ],
   "source": [
    "marker = folium.Marker(\n",
    "    location=[north.iloc[15],east.iloc[15]],\n",
    "    tooltip= name.iloc[15],\n",
    "    icon=folium.Icon(icon=\"cloud\", color ='darkblue'),\n",
    "    popup=\"<b><img src=json/vis15.png></b>\"\n",
    ")\n",
    "\n",
    "marker.add_to(my_map)"
   ]
  },
  {
   "cell_type": "code",
   "execution_count": 107,
   "id": "23656a48",
   "metadata": {},
   "outputs": [
    {
     "data": {
      "text/plain": [
       "<folium.map.Marker at 0x1c64323e490>"
      ]
     },
     "execution_count": 107,
     "metadata": {},
     "output_type": "execute_result"
    }
   ],
   "source": [
    "marker = folium.Marker(\n",
    "    location=[north.iloc[16],east.iloc[16]],\n",
    "    tooltip= name.iloc[16],\n",
    "    icon=folium.Icon(icon=\"cloud\", color ='darkblue'),\n",
    "    popup=\"<b><img src=json/vis16.png></b>\"\n",
    ")\n",
    "\n",
    "marker.add_to(my_map)"
   ]
  },
  {
   "cell_type": "code",
   "execution_count": 108,
   "id": "c2187191",
   "metadata": {},
   "outputs": [
    {
     "data": {
      "text/plain": [
       "<folium.map.Marker at 0x1c643236400>"
      ]
     },
     "execution_count": 108,
     "metadata": {},
     "output_type": "execute_result"
    }
   ],
   "source": [
    "marker = folium.Marker(\n",
    "    location=[north.iloc[17],east.iloc[17]],\n",
    "    tooltip= name.iloc[17],\n",
    "    icon=folium.Icon(icon=\"cloud\", color ='darkblue'),\n",
    "    popup=\"<b><img src=json/vis17.png></b>\"\n",
    ")\n",
    "\n",
    "marker.add_to(my_map)"
   ]
  },
  {
   "cell_type": "code",
   "execution_count": 109,
   "id": "8ad0db09",
   "metadata": {},
   "outputs": [
    {
     "data": {
      "text/plain": [
       "<folium.map.Marker at 0x1c64323e910>"
      ]
     },
     "execution_count": 109,
     "metadata": {},
     "output_type": "execute_result"
    }
   ],
   "source": [
    "marker = folium.Marker(\n",
    "    location=[north.iloc[18],east.iloc[18]],\n",
    "    tooltip= name.iloc[18],\n",
    "    icon=folium.Icon(icon=\"cloud\", color ='darkblue'),\n",
    "    popup=\"<b><img src=json/vis18.png></b>\"\n",
    ")\n",
    "\n",
    "marker.add_to(my_map)"
   ]
  },
  {
   "cell_type": "code",
   "execution_count": 118,
   "id": "73595e42",
   "metadata": {},
   "outputs": [
    {
     "data": {
      "text/plain": [
       "<folium.map.Marker at 0x1c641479ca0>"
      ]
     },
     "execution_count": 118,
     "metadata": {},
     "output_type": "execute_result"
    }
   ],
   "source": [
    "marker = folium.Marker(\n",
    "    location=[north.iloc[19],east.iloc[19]],\n",
    "    tooltip= name.iloc[19],\n",
    "    icon=folium.Icon(icon=\"home\", color ='red'),\n",
    "    popup=\"<b><img src=json/vis19.png></b>\"\n",
    ")\n",
    "\n",
    "marker.add_to(my_map)"
   ]
  },
  {
   "cell_type": "code",
   "execution_count": 119,
   "id": "703c4d4e",
   "metadata": {},
   "outputs": [
    {
     "data": {
      "text/html": [
       "<div style=\"width:100%;\"><div style=\"position:relative;width:100%;height:0;padding-bottom:60%;\"><span style=\"color:#565656\">Make this Notebook Trusted to load map: File -> Trust Notebook</span><iframe src=\"about:blank\" style=\"position:absolute;width:100%;height:100%;left:0;top:0;border:none !important;\" data-html=%3C%21DOCTYPE%20html%3E%0A%3Chead%3E%20%20%20%20%0A%20%20%20%20%3Cmeta%20http-equiv%3D%22content-type%22%20content%3D%22text/html%3B%20charset%3DUTF-8%22%20/%3E%0A%20%20%20%20%0A%20%20%20%20%20%20%20%20%3Cscript%3E%0A%20%20%20%20%20%20%20%20%20%20%20%20L_NO_TOUCH%20%3D%20false%3B%0A%20%20%20%20%20%20%20%20%20%20%20%20L_DISABLE_3D%20%3D%20false%3B%0A%20%20%20%20%20%20%20%20%3C/script%3E%0A%20%20%20%20%0A%20%20%20%20%3Cstyle%3Ehtml%2C%20body%20%7Bwidth%3A%20100%25%3Bheight%3A%20100%25%3Bmargin%3A%200%3Bpadding%3A%200%3B%7D%3C/style%3E%0A%20%20%20%20%3Cstyle%3E%23map%20%7Bposition%3Aabsolute%3Btop%3A0%3Bbottom%3A0%3Bright%3A0%3Bleft%3A0%3B%7D%3C/style%3E%0A%20%20%20%20%3Cscript%20src%3D%22https%3A//cdn.jsdelivr.net/npm/leaflet%401.6.0/dist/leaflet.js%22%3E%3C/script%3E%0A%20%20%20%20%3Cscript%20src%3D%22https%3A//code.jquery.com/jquery-1.12.4.min.js%22%3E%3C/script%3E%0A%20%20%20%20%3Cscript%20src%3D%22https%3A//maxcdn.bootstrapcdn.com/bootstrap/3.2.0/js/bootstrap.min.js%22%3E%3C/script%3E%0A%20%20%20%20%3Cscript%20src%3D%22https%3A//cdnjs.cloudflare.com/ajax/libs/Leaflet.awesome-markers/2.0.2/leaflet.awesome-markers.js%22%3E%3C/script%3E%0A%20%20%20%20%3Clink%20rel%3D%22stylesheet%22%20href%3D%22https%3A//cdn.jsdelivr.net/npm/leaflet%401.6.0/dist/leaflet.css%22/%3E%0A%20%20%20%20%3Clink%20rel%3D%22stylesheet%22%20href%3D%22https%3A//maxcdn.bootstrapcdn.com/bootstrap/3.2.0/css/bootstrap.min.css%22/%3E%0A%20%20%20%20%3Clink%20rel%3D%22stylesheet%22%20href%3D%22https%3A//maxcdn.bootstrapcdn.com/bootstrap/3.2.0/css/bootstrap-theme.min.css%22/%3E%0A%20%20%20%20%3Clink%20rel%3D%22stylesheet%22%20href%3D%22https%3A//maxcdn.bootstrapcdn.com/font-awesome/4.6.3/css/font-awesome.min.css%22/%3E%0A%20%20%20%20%3Clink%20rel%3D%22stylesheet%22%20href%3D%22https%3A//cdnjs.cloudflare.com/ajax/libs/Leaflet.awesome-markers/2.0.2/leaflet.awesome-markers.css%22/%3E%0A%20%20%20%20%3Clink%20rel%3D%22stylesheet%22%20href%3D%22https%3A//cdn.jsdelivr.net/gh/python-visualization/folium/folium/templates/leaflet.awesome.rotate.min.css%22/%3E%0A%20%20%20%20%0A%20%20%20%20%20%20%20%20%20%20%20%20%3Cmeta%20name%3D%22viewport%22%20content%3D%22width%3Ddevice-width%2C%0A%20%20%20%20%20%20%20%20%20%20%20%20%20%20%20%20initial-scale%3D1.0%2C%20maximum-scale%3D1.0%2C%20user-scalable%3Dno%22%20/%3E%0A%20%20%20%20%20%20%20%20%20%20%20%20%3Cstyle%3E%0A%20%20%20%20%20%20%20%20%20%20%20%20%20%20%20%20%23map_f90baacfcf3f4ee7a4b32be9b17b48f7%20%7B%0A%20%20%20%20%20%20%20%20%20%20%20%20%20%20%20%20%20%20%20%20position%3A%20relative%3B%0A%20%20%20%20%20%20%20%20%20%20%20%20%20%20%20%20%20%20%20%20width%3A%20100.0%25%3B%0A%20%20%20%20%20%20%20%20%20%20%20%20%20%20%20%20%20%20%20%20height%3A%20100.0%25%3B%0A%20%20%20%20%20%20%20%20%20%20%20%20%20%20%20%20%20%20%20%20left%3A%200.0%25%3B%0A%20%20%20%20%20%20%20%20%20%20%20%20%20%20%20%20%20%20%20%20top%3A%200.0%25%3B%0A%20%20%20%20%20%20%20%20%20%20%20%20%20%20%20%20%7D%0A%20%20%20%20%20%20%20%20%20%20%20%20%3C/style%3E%0A%20%20%20%20%20%20%20%20%0A%3C/head%3E%0A%3Cbody%3E%20%20%20%20%0A%20%20%20%20%0A%20%20%20%20%20%20%20%20%20%20%20%20%3Cdiv%20class%3D%22folium-map%22%20id%3D%22map_f90baacfcf3f4ee7a4b32be9b17b48f7%22%20%3E%3C/div%3E%0A%20%20%20%20%20%20%20%20%0A%3C/body%3E%0A%3Cscript%3E%20%20%20%20%0A%20%20%20%20%0A%20%20%20%20%20%20%20%20%20%20%20%20var%20map_f90baacfcf3f4ee7a4b32be9b17b48f7%20%3D%20L.map%28%0A%20%20%20%20%20%20%20%20%20%20%20%20%20%20%20%20%22map_f90baacfcf3f4ee7a4b32be9b17b48f7%22%2C%0A%20%20%20%20%20%20%20%20%20%20%20%20%20%20%20%20%7B%0A%20%20%20%20%20%20%20%20%20%20%20%20%20%20%20%20%20%20%20%20center%3A%20%5B36.884804%2C%2030.704044%5D%2C%0A%20%20%20%20%20%20%20%20%20%20%20%20%20%20%20%20%20%20%20%20crs%3A%20L.CRS.EPSG3857%2C%0A%20%20%20%20%20%20%20%20%20%20%20%20%20%20%20%20%20%20%20%20zoom%3A%208%2C%0A%20%20%20%20%20%20%20%20%20%20%20%20%20%20%20%20%20%20%20%20zoomControl%3A%20true%2C%0A%20%20%20%20%20%20%20%20%20%20%20%20%20%20%20%20%20%20%20%20preferCanvas%3A%20false%2C%0A%20%20%20%20%20%20%20%20%20%20%20%20%20%20%20%20%7D%0A%20%20%20%20%20%20%20%20%20%20%20%20%29%3B%0A%0A%20%20%20%20%20%20%20%20%20%20%20%20%0A%0A%20%20%20%20%20%20%20%20%0A%20%20%20%20%0A%20%20%20%20%20%20%20%20%20%20%20%20var%20tile_layer_2236f3d9e36b470b8c21e809ca27fe7a%20%3D%20L.tileLayer%28%0A%20%20%20%20%20%20%20%20%20%20%20%20%20%20%20%20%22https%3A//%7Bs%7D.tile.openstreetmap.org/%7Bz%7D/%7Bx%7D/%7By%7D.png%22%2C%0A%20%20%20%20%20%20%20%20%20%20%20%20%20%20%20%20%7B%22attribution%22%3A%20%22Data%20by%20%5Cu0026copy%3B%20%5Cu003ca%20href%3D%5C%22http%3A//openstreetmap.org%5C%22%5Cu003eOpenStreetMap%5Cu003c/a%5Cu003e%2C%20under%20%5Cu003ca%20href%3D%5C%22http%3A//www.openstreetmap.org/copyright%5C%22%5Cu003eODbL%5Cu003c/a%5Cu003e.%22%2C%20%22detectRetina%22%3A%20false%2C%20%22maxNativeZoom%22%3A%2018%2C%20%22maxZoom%22%3A%2018%2C%20%22minZoom%22%3A%200%2C%20%22noWrap%22%3A%20false%2C%20%22opacity%22%3A%201%2C%20%22subdomains%22%3A%20%22abc%22%2C%20%22tms%22%3A%20false%7D%0A%20%20%20%20%20%20%20%20%20%20%20%20%29.addTo%28map_f90baacfcf3f4ee7a4b32be9b17b48f7%29%3B%0A%20%20%20%20%20%20%20%20%0A%20%20%20%20%0A%20%20%20%20%20%20%20%20%20%20%20%20%20%20%20%20var%20lat_lng_popup_d96ee5df6597441290a1dd5a137ec0ad%20%3D%20L.popup%28%29%3B%0A%20%20%20%20%20%20%20%20%20%20%20%20%20%20%20%20function%20latLngPop%28e%29%20%7B%0A%20%20%20%20%20%20%20%20%20%20%20%20%20%20%20%20%20%20%20%20lat_lng_popup_d96ee5df6597441290a1dd5a137ec0ad%0A%20%20%20%20%20%20%20%20%20%20%20%20%20%20%20%20%20%20%20%20%20%20%20%20.setLatLng%28e.latlng%29%0A%20%20%20%20%20%20%20%20%20%20%20%20%20%20%20%20%20%20%20%20%20%20%20%20.setContent%28%22Latitude%3A%20%22%20%2B%20e.latlng.lat.toFixed%284%29%20%2B%0A%20%20%20%20%20%20%20%20%20%20%20%20%20%20%20%20%20%20%20%20%20%20%20%20%20%20%20%20%20%20%20%20%20%20%20%20%22%3Cbr%3ELongitude%3A%20%22%20%2B%20e.latlng.lng.toFixed%284%29%29%0A%20%20%20%20%20%20%20%20%20%20%20%20%20%20%20%20%20%20%20%20%20%20%20%20.openOn%28map_f90baacfcf3f4ee7a4b32be9b17b48f7%29%3B%0A%20%20%20%20%20%20%20%20%20%20%20%20%20%20%20%20%20%20%20%20%7D%0A%20%20%20%20%20%20%20%20%20%20%20%20%20%20%20%20map_f90baacfcf3f4ee7a4b32be9b17b48f7.on%28%27click%27%2C%20latLngPop%29%3B%0A%20%20%20%20%20%20%20%20%20%20%20%20%0A%20%20%20%20%0A%20%20%20%20%20%20%20%20%20%20%20%20var%20marker_c0016791486444d6baad7c81af016d85%20%3D%20L.marker%28%0A%20%20%20%20%20%20%20%20%20%20%20%20%20%20%20%20%5B37.13333333333333%2C%2030.05%5D%2C%0A%20%20%20%20%20%20%20%20%20%20%20%20%20%20%20%20%7B%7D%0A%20%20%20%20%20%20%20%20%20%20%20%20%29.addTo%28map_f90baacfcf3f4ee7a4b32be9b17b48f7%29%3B%0A%20%20%20%20%20%20%20%20%0A%20%20%20%20%0A%20%20%20%20%20%20%20%20%20%20%20%20var%20icon_f61d25152b064d93838fecff3d717a3d%20%3D%20L.AwesomeMarkers.icon%28%0A%20%20%20%20%20%20%20%20%20%20%20%20%20%20%20%20%7B%22extraClasses%22%3A%20%22fa-rotate-0%22%2C%20%22icon%22%3A%20%22cloud%22%2C%20%22iconColor%22%3A%20%22white%22%2C%20%22markerColor%22%3A%20%22darkblue%22%2C%20%22prefix%22%3A%20%22glyphicon%22%7D%0A%20%20%20%20%20%20%20%20%20%20%20%20%29%3B%0A%20%20%20%20%20%20%20%20%20%20%20%20marker_c0016791486444d6baad7c81af016d85.setIcon%28icon_f61d25152b064d93838fecff3d717a3d%29%3B%0A%20%20%20%20%20%20%20%20%0A%20%20%20%20%0A%20%20%20%20%20%20%20%20var%20popup_1dd40e0b688a442aadb6ca4d1f8fa96d%20%3D%20L.popup%28%7B%22maxWidth%22%3A%20%22100%25%22%7D%29%3B%0A%0A%20%20%20%20%20%20%20%20%0A%20%20%20%20%20%20%20%20%20%20%20%20var%20html_defba9d4138749c6b276b078f9cbc563%20%3D%20%24%28%60%3Cdiv%20id%3D%22html_defba9d4138749c6b276b078f9cbc563%22%20style%3D%22width%3A%20100.0%25%3B%20height%3A%20100.0%25%3B%22%3E%3Cb%3E%3Cimg%20src%3Djson/vis0.png%3E%3C/b%3E%3C/div%3E%60%29%5B0%5D%3B%0A%20%20%20%20%20%20%20%20%20%20%20%20popup_1dd40e0b688a442aadb6ca4d1f8fa96d.setContent%28html_defba9d4138749c6b276b078f9cbc563%29%3B%0A%20%20%20%20%20%20%20%20%0A%0A%20%20%20%20%20%20%20%20marker_c0016791486444d6baad7c81af016d85.bindPopup%28popup_1dd40e0b688a442aadb6ca4d1f8fa96d%29%0A%20%20%20%20%20%20%20%20%3B%0A%0A%20%20%20%20%20%20%20%20%0A%20%20%20%20%0A%20%20%20%20%0A%20%20%20%20%20%20%20%20%20%20%20%20marker_c0016791486444d6baad7c81af016d85.bindTooltip%28%0A%20%20%20%20%20%20%20%20%20%20%20%20%20%20%20%20%60%3Cdiv%3E%0A%20%20%20%20%20%20%20%20%20%20%20%20%20%20%20%20%20%20%20%20%20D09A011%0A%20%20%20%20%20%20%20%20%20%20%20%20%20%20%20%20%20%3C/div%3E%60%2C%0A%20%20%20%20%20%20%20%20%20%20%20%20%20%20%20%20%7B%22sticky%22%3A%20true%7D%0A%20%20%20%20%20%20%20%20%20%20%20%20%29%3B%0A%20%20%20%20%20%20%20%20%0A%20%20%20%20%0A%20%20%20%20%20%20%20%20%20%20%20%20var%20marker_c6eae4a72337495c8e8330e6c8e702f7%20%3D%20L.marker%28%0A%20%20%20%20%20%20%20%20%20%20%20%20%20%20%20%20%5B36.93472222222222%2C%2030.57361111111111%5D%2C%0A%20%20%20%20%20%20%20%20%20%20%20%20%20%20%20%20%7B%7D%0A%20%20%20%20%20%20%20%20%20%20%20%20%29.addTo%28map_f90baacfcf3f4ee7a4b32be9b17b48f7%29%3B%0A%20%20%20%20%20%20%20%20%0A%20%20%20%20%0A%20%20%20%20%20%20%20%20%20%20%20%20var%20icon_02d72812af6040fab1116eda867bfda3%20%3D%20L.AwesomeMarkers.icon%28%0A%20%20%20%20%20%20%20%20%20%20%20%20%20%20%20%20%7B%22extraClasses%22%3A%20%22fa-rotate-0%22%2C%20%22icon%22%3A%20%22cloud%22%2C%20%22iconColor%22%3A%20%22white%22%2C%20%22markerColor%22%3A%20%22darkblue%22%2C%20%22prefix%22%3A%20%22glyphicon%22%7D%0A%20%20%20%20%20%20%20%20%20%20%20%20%29%3B%0A%20%20%20%20%20%20%20%20%20%20%20%20marker_c6eae4a72337495c8e8330e6c8e702f7.setIcon%28icon_02d72812af6040fab1116eda867bfda3%29%3B%0A%20%20%20%20%20%20%20%20%0A%20%20%20%20%0A%20%20%20%20%20%20%20%20var%20popup_847e432b6833498d83273a7558ef8f99%20%3D%20L.popup%28%7B%22maxWidth%22%3A%20%22100%25%22%7D%29%3B%0A%0A%20%20%20%20%20%20%20%20%0A%20%20%20%20%20%20%20%20%20%20%20%20var%20html_388193524d464b4887067fe41fb2e0d3%20%3D%20%24%28%60%3Cdiv%20id%3D%22html_388193524d464b4887067fe41fb2e0d3%22%20style%3D%22width%3A%20100.0%25%3B%20height%3A%20100.0%25%3B%22%3E%3Cb%3E%3Cimg%20src%3Djson/vis1.png%3E%3C/b%3E%3C/div%3E%60%29%5B0%5D%3B%0A%20%20%20%20%20%20%20%20%20%20%20%20popup_847e432b6833498d83273a7558ef8f99.setContent%28html_388193524d464b4887067fe41fb2e0d3%29%3B%0A%20%20%20%20%20%20%20%20%0A%0A%20%20%20%20%20%20%20%20marker_c6eae4a72337495c8e8330e6c8e702f7.bindPopup%28popup_847e432b6833498d83273a7558ef8f99%29%0A%20%20%20%20%20%20%20%20%3B%0A%0A%20%20%20%20%20%20%20%20%0A%20%20%20%20%0A%20%20%20%20%0A%20%20%20%20%20%20%20%20%20%20%20%20marker_c6eae4a72337495c8e8330e6c8e702f7.bindTooltip%28%0A%20%20%20%20%20%20%20%20%20%20%20%20%20%20%20%20%60%3Cdiv%3E%0A%20%20%20%20%20%20%20%20%20%20%20%20%20%20%20%20%20%20%20%20%20D09A031%0A%20%20%20%20%20%20%20%20%20%20%20%20%20%20%20%20%20%3C/div%3E%60%2C%0A%20%20%20%20%20%20%20%20%20%20%20%20%20%20%20%20%7B%22sticky%22%3A%20true%7D%0A%20%20%20%20%20%20%20%20%20%20%20%20%29%3B%0A%20%20%20%20%20%20%20%20%0A%20%20%20%20%0A%20%20%20%20%20%20%20%20%20%20%20%20var%20marker_f247174099614d0ab65c7fc0b502a1f3%20%3D%20L.marker%28%0A%20%20%20%20%20%20%20%20%20%20%20%20%20%20%20%20%5B37.13166666666667%2C%2030.94222222222222%5D%2C%0A%20%20%20%20%20%20%20%20%20%20%20%20%20%20%20%20%7B%7D%0A%20%20%20%20%20%20%20%20%20%20%20%20%29.addTo%28map_f90baacfcf3f4ee7a4b32be9b17b48f7%29%3B%0A%20%20%20%20%20%20%20%20%0A%20%20%20%20%0A%20%20%20%20%20%20%20%20%20%20%20%20var%20icon_f3bd7b282eae4124b9a1022295644f4b%20%3D%20L.AwesomeMarkers.icon%28%0A%20%20%20%20%20%20%20%20%20%20%20%20%20%20%20%20%7B%22extraClasses%22%3A%20%22fa-rotate-0%22%2C%20%22icon%22%3A%20%22cloud%22%2C%20%22iconColor%22%3A%20%22white%22%2C%20%22markerColor%22%3A%20%22darkblue%22%2C%20%22prefix%22%3A%20%22glyphicon%22%7D%0A%20%20%20%20%20%20%20%20%20%20%20%20%29%3B%0A%20%20%20%20%20%20%20%20%20%20%20%20marker_f247174099614d0ab65c7fc0b502a1f3.setIcon%28icon_f3bd7b282eae4124b9a1022295644f4b%29%3B%0A%20%20%20%20%20%20%20%20%0A%20%20%20%20%0A%20%20%20%20%20%20%20%20var%20popup_023ca67411894e18aff355a015d45d61%20%3D%20L.popup%28%7B%22maxWidth%22%3A%20%22100%25%22%7D%29%3B%0A%0A%20%20%20%20%20%20%20%20%0A%20%20%20%20%20%20%20%20%20%20%20%20var%20html_7cfcfd75d06e4b3b97a6fc27006445d5%20%3D%20%24%28%60%3Cdiv%20id%3D%22html_7cfcfd75d06e4b3b97a6fc27006445d5%22%20style%3D%22width%3A%20100.0%25%3B%20height%3A%20100.0%25%3B%22%3E%3Cb%3E%3Cimg%20src%3Djson/vis2.png%3E%3C/b%3E%3C/div%3E%60%29%5B0%5D%3B%0A%20%20%20%20%20%20%20%20%20%20%20%20popup_023ca67411894e18aff355a015d45d61.setContent%28html_7cfcfd75d06e4b3b97a6fc27006445d5%29%3B%0A%20%20%20%20%20%20%20%20%0A%0A%20%20%20%20%20%20%20%20marker_f247174099614d0ab65c7fc0b502a1f3.bindPopup%28popup_023ca67411894e18aff355a015d45d61%29%0A%20%20%20%20%20%20%20%20%3B%0A%0A%20%20%20%20%20%20%20%20%0A%20%20%20%20%0A%20%20%20%20%0A%20%20%20%20%20%20%20%20%20%20%20%20marker_f247174099614d0ab65c7fc0b502a1f3.bindTooltip%28%0A%20%20%20%20%20%20%20%20%20%20%20%20%20%20%20%20%60%3Cdiv%3E%0A%20%20%20%20%20%20%20%20%20%20%20%20%20%20%20%20%20%20%20%20%20D09A034%0A%20%20%20%20%20%20%20%20%20%20%20%20%20%20%20%20%20%3C/div%3E%60%2C%0A%20%20%20%20%20%20%20%20%20%20%20%20%20%20%20%20%7B%22sticky%22%3A%20true%7D%0A%20%20%20%20%20%20%20%20%20%20%20%20%29%3B%0A%20%20%20%20%20%20%20%20%0A%20%20%20%20%0A%20%20%20%20%20%20%20%20%20%20%20%20var%20marker_f111940e7f504234b1f1965394b4c14c%20%3D%20L.marker%28%0A%20%20%20%20%20%20%20%20%20%20%20%20%20%20%20%20%5B38.29944444444444%2C%2030.95472222222222%5D%2C%0A%20%20%20%20%20%20%20%20%20%20%20%20%20%20%20%20%7B%7D%0A%20%20%20%20%20%20%20%20%20%20%20%20%29.addTo%28map_f90baacfcf3f4ee7a4b32be9b17b48f7%29%3B%0A%20%20%20%20%20%20%20%20%0A%20%20%20%20%0A%20%20%20%20%20%20%20%20%20%20%20%20var%20icon_dbc3ad71bd454a3999accad240e3a794%20%3D%20L.AwesomeMarkers.icon%28%0A%20%20%20%20%20%20%20%20%20%20%20%20%20%20%20%20%7B%22extraClasses%22%3A%20%22fa-rotate-0%22%2C%20%22icon%22%3A%20%22cloud%22%2C%20%22iconColor%22%3A%20%22white%22%2C%20%22markerColor%22%3A%20%22darkblue%22%2C%20%22prefix%22%3A%20%22glyphicon%22%7D%0A%20%20%20%20%20%20%20%20%20%20%20%20%29%3B%0A%20%20%20%20%20%20%20%20%20%20%20%20marker_f111940e7f504234b1f1965394b4c14c.setIcon%28icon_dbc3ad71bd454a3999accad240e3a794%29%3B%0A%20%20%20%20%20%20%20%20%0A%20%20%20%20%0A%20%20%20%20%20%20%20%20var%20popup_6e0c11de9b474eaa8089585c1f4f029d%20%3D%20L.popup%28%7B%22maxWidth%22%3A%20%22100%25%22%7D%29%3B%0A%0A%20%20%20%20%20%20%20%20%0A%20%20%20%20%20%20%20%20%20%20%20%20var%20html_4a7ee5d33dc149eba682ab99020a9a6d%20%3D%20%24%28%60%3Cdiv%20id%3D%22html_4a7ee5d33dc149eba682ab99020a9a6d%22%20style%3D%22width%3A%20100.0%25%3B%20height%3A%20100.0%25%3B%22%3E%3Cb%3E%3Cimg%20src%3Djson/vis3.png%3E%3C/b%3E%3C/div%3E%60%29%5B0%5D%3B%0A%20%20%20%20%20%20%20%20%20%20%20%20popup_6e0c11de9b474eaa8089585c1f4f029d.setContent%28html_4a7ee5d33dc149eba682ab99020a9a6d%29%3B%0A%20%20%20%20%20%20%20%20%0A%0A%20%20%20%20%20%20%20%20marker_f111940e7f504234b1f1965394b4c14c.bindPopup%28popup_6e0c11de9b474eaa8089585c1f4f029d%29%0A%20%20%20%20%20%20%20%20%3B%0A%0A%20%20%20%20%20%20%20%20%0A%20%20%20%20%0A%20%20%20%20%0A%20%20%20%20%20%20%20%20%20%20%20%20marker_f111940e7f504234b1f1965394b4c14c.bindTooltip%28%0A%20%20%20%20%20%20%20%20%20%20%20%20%20%20%20%20%60%3Cdiv%3E%0A%20%20%20%20%20%20%20%20%20%20%20%20%20%20%20%20%20%20%20%20%20D09A057%0A%20%20%20%20%20%20%20%20%20%20%20%20%20%20%20%20%20%3C/div%3E%60%2C%0A%20%20%20%20%20%20%20%20%20%20%20%20%20%20%20%20%7B%22sticky%22%3A%20true%7D%0A%20%20%20%20%20%20%20%20%20%20%20%20%29%3B%0A%20%20%20%20%20%20%20%20%0A%20%20%20%20%0A%20%20%20%20%20%20%20%20%20%20%20%20var%20marker_71269ad87e2a46dc95fffbd55a90c7c6%20%3D%20L.marker%28%0A%20%20%20%20%20%20%20%20%20%20%20%20%20%20%20%20%5B38.39416666666666%2C%2031.12694444444444%5D%2C%0A%20%20%20%20%20%20%20%20%20%20%20%20%20%20%20%20%7B%7D%0A%20%20%20%20%20%20%20%20%20%20%20%20%29.addTo%28map_f90baacfcf3f4ee7a4b32be9b17b48f7%29%3B%0A%20%20%20%20%20%20%20%20%0A%20%20%20%20%0A%20%20%20%20%20%20%20%20%20%20%20%20var%20icon_5c98b36e00c4444b89486849e8030690%20%3D%20L.AwesomeMarkers.icon%28%0A%20%20%20%20%20%20%20%20%20%20%20%20%20%20%20%20%7B%22extraClasses%22%3A%20%22fa-rotate-0%22%2C%20%22icon%22%3A%20%22cloud%22%2C%20%22iconColor%22%3A%20%22white%22%2C%20%22markerColor%22%3A%20%22darkblue%22%2C%20%22prefix%22%3A%20%22glyphicon%22%7D%0A%20%20%20%20%20%20%20%20%20%20%20%20%29%3B%0A%20%20%20%20%20%20%20%20%20%20%20%20marker_71269ad87e2a46dc95fffbd55a90c7c6.setIcon%28icon_5c98b36e00c4444b89486849e8030690%29%3B%0A%20%20%20%20%20%20%20%20%0A%20%20%20%20%0A%20%20%20%20%20%20%20%20var%20popup_12370b698da443fcb5a7a37d03eb6fc9%20%3D%20L.popup%28%7B%22maxWidth%22%3A%20%22100%25%22%7D%29%3B%0A%0A%20%20%20%20%20%20%20%20%0A%20%20%20%20%20%20%20%20%20%20%20%20var%20html_ccee12d41a2148a4acfbb45c214510f0%20%3D%20%24%28%60%3Cdiv%20id%3D%22html_ccee12d41a2148a4acfbb45c214510f0%22%20style%3D%22width%3A%20100.0%25%3B%20height%3A%20100.0%25%3B%22%3E%3Cb%3E%3Cimg%20src%3Djson/vis4.png%3E%3C/b%3E%3C/div%3E%60%29%5B0%5D%3B%0A%20%20%20%20%20%20%20%20%20%20%20%20popup_12370b698da443fcb5a7a37d03eb6fc9.setContent%28html_ccee12d41a2148a4acfbb45c214510f0%29%3B%0A%20%20%20%20%20%20%20%20%0A%0A%20%20%20%20%20%20%20%20marker_71269ad87e2a46dc95fffbd55a90c7c6.bindPopup%28popup_12370b698da443fcb5a7a37d03eb6fc9%29%0A%20%20%20%20%20%20%20%20%3B%0A%0A%20%20%20%20%20%20%20%20%0A%20%20%20%20%0A%20%20%20%20%0A%20%20%20%20%20%20%20%20%20%20%20%20marker_71269ad87e2a46dc95fffbd55a90c7c6.bindTooltip%28%0A%20%20%20%20%20%20%20%20%20%20%20%20%20%20%20%20%60%3Cdiv%3E%0A%20%20%20%20%20%20%20%20%20%20%20%20%20%20%20%20%20%20%20%20%20D09A065%0A%20%20%20%20%20%20%20%20%20%20%20%20%20%20%20%20%20%3C/div%3E%60%2C%0A%20%20%20%20%20%20%20%20%20%20%20%20%20%20%20%20%7B%22sticky%22%3A%20true%7D%0A%20%20%20%20%20%20%20%20%20%20%20%20%29%3B%0A%20%20%20%20%20%20%20%20%0A%20%20%20%20%0A%20%20%20%20%20%20%20%20%20%20%20%20var%20marker_8f2145473abb4f178af722486c3c7ca2%20%3D%20L.marker%28%0A%20%20%20%20%20%20%20%20%20%20%20%20%20%20%20%20%5B36.74388888888889%2C%2031.62277777777778%5D%2C%0A%20%20%20%20%20%20%20%20%20%20%20%20%20%20%20%20%7B%7D%0A%20%20%20%20%20%20%20%20%20%20%20%20%29.addTo%28map_f90baacfcf3f4ee7a4b32be9b17b48f7%29%3B%0A%20%20%20%20%20%20%20%20%0A%20%20%20%20%0A%20%20%20%20%20%20%20%20%20%20%20%20var%20icon_489d3174ae9a4209a4f877eeb9a5c69d%20%3D%20L.AwesomeMarkers.icon%28%0A%20%20%20%20%20%20%20%20%20%20%20%20%20%20%20%20%7B%22extraClasses%22%3A%20%22fa-rotate-0%22%2C%20%22icon%22%3A%20%22cloud%22%2C%20%22iconColor%22%3A%20%22white%22%2C%20%22markerColor%22%3A%20%22darkblue%22%2C%20%22prefix%22%3A%20%22glyphicon%22%7D%0A%20%20%20%20%20%20%20%20%20%20%20%20%29%3B%0A%20%20%20%20%20%20%20%20%20%20%20%20marker_8f2145473abb4f178af722486c3c7ca2.setIcon%28icon_489d3174ae9a4209a4f877eeb9a5c69d%29%3B%0A%20%20%20%20%20%20%20%20%0A%20%20%20%20%0A%20%20%20%20%20%20%20%20var%20popup_616c5e6ce45e4a15b433d30852e59c50%20%3D%20L.popup%28%7B%22maxWidth%22%3A%20%22100%25%22%7D%29%3B%0A%0A%20%20%20%20%20%20%20%20%0A%20%20%20%20%20%20%20%20%20%20%20%20var%20html_3dc7b070a80a4a498412c812eb75f611%20%3D%20%24%28%60%3Cdiv%20id%3D%22html_3dc7b070a80a4a498412c812eb75f611%22%20style%3D%22width%3A%20100.0%25%3B%20height%3A%20100.0%25%3B%22%3E%3Cb%3E%3Cimg%20src%3Djson/vis5.png%3E%3C/b%3E%3C/div%3E%60%29%5B0%5D%3B%0A%20%20%20%20%20%20%20%20%20%20%20%20popup_616c5e6ce45e4a15b433d30852e59c50.setContent%28html_3dc7b070a80a4a498412c812eb75f611%29%3B%0A%20%20%20%20%20%20%20%20%0A%0A%20%20%20%20%20%20%20%20marker_8f2145473abb4f178af722486c3c7ca2.bindPopup%28popup_616c5e6ce45e4a15b433d30852e59c50%29%0A%20%20%20%20%20%20%20%20%3B%0A%0A%20%20%20%20%20%20%20%20%0A%20%20%20%20%0A%20%20%20%20%0A%20%20%20%20%20%20%20%20%20%20%20%20marker_8f2145473abb4f178af722486c3c7ca2.bindTooltip%28%0A%20%20%20%20%20%20%20%20%20%20%20%20%20%20%20%20%60%3Cdiv%3E%0A%20%20%20%20%20%20%20%20%20%20%20%20%20%20%20%20%20%20%20%20%20D09A067%0A%20%20%20%20%20%20%20%20%20%20%20%20%20%20%20%20%20%3C/div%3E%60%2C%0A%20%20%20%20%20%20%20%20%20%20%20%20%20%20%20%20%7B%22sticky%22%3A%20true%7D%0A%20%20%20%20%20%20%20%20%20%20%20%20%29%3B%0A%20%20%20%20%20%20%20%20%0A%20%20%20%20%0A%20%20%20%20%20%20%20%20%20%20%20%20var%20marker_f87ee0fe48884e98bc4800989f91753d%20%3D%20L.marker%28%0A%20%20%20%20%20%20%20%20%20%20%20%20%20%20%20%20%5B36.61388888888889%2C%2031.8%5D%2C%0A%20%20%20%20%20%20%20%20%20%20%20%20%20%20%20%20%7B%7D%0A%20%20%20%20%20%20%20%20%20%20%20%20%29.addTo%28map_f90baacfcf3f4ee7a4b32be9b17b48f7%29%3B%0A%20%20%20%20%20%20%20%20%0A%20%20%20%20%0A%20%20%20%20%20%20%20%20%20%20%20%20var%20icon_32af330658e74faf88beeb8ab31d5227%20%3D%20L.AwesomeMarkers.icon%28%0A%20%20%20%20%20%20%20%20%20%20%20%20%20%20%20%20%7B%22extraClasses%22%3A%20%22fa-rotate-0%22%2C%20%22icon%22%3A%20%22cloud%22%2C%20%22iconColor%22%3A%20%22white%22%2C%20%22markerColor%22%3A%20%22darkblue%22%2C%20%22prefix%22%3A%20%22glyphicon%22%7D%0A%20%20%20%20%20%20%20%20%20%20%20%20%29%3B%0A%20%20%20%20%20%20%20%20%20%20%20%20marker_f87ee0fe48884e98bc4800989f91753d.setIcon%28icon_32af330658e74faf88beeb8ab31d5227%29%3B%0A%20%20%20%20%20%20%20%20%0A%20%20%20%20%0A%20%20%20%20%20%20%20%20var%20popup_813cd79aeea8433cb17d111351e1abc7%20%3D%20L.popup%28%7B%22maxWidth%22%3A%20%22100%25%22%7D%29%3B%0A%0A%20%20%20%20%20%20%20%20%0A%20%20%20%20%20%20%20%20%20%20%20%20var%20html_bd83d7f141254967927004796cb37742%20%3D%20%24%28%60%3Cdiv%20id%3D%22html_bd83d7f141254967927004796cb37742%22%20style%3D%22width%3A%20100.0%25%3B%20height%3A%20100.0%25%3B%22%3E%3Cb%3E%3Cimg%20src%3Djson/vis6.png%3E%3C/b%3E%3C/div%3E%60%29%5B0%5D%3B%0A%20%20%20%20%20%20%20%20%20%20%20%20popup_813cd79aeea8433cb17d111351e1abc7.setContent%28html_bd83d7f141254967927004796cb37742%29%3B%0A%20%20%20%20%20%20%20%20%0A%0A%20%20%20%20%20%20%20%20marker_f87ee0fe48884e98bc4800989f91753d.bindPopup%28popup_813cd79aeea8433cb17d111351e1abc7%29%0A%20%20%20%20%20%20%20%20%3B%0A%0A%20%20%20%20%20%20%20%20%0A%20%20%20%20%0A%20%20%20%20%0A%20%20%20%20%20%20%20%20%20%20%20%20marker_f87ee0fe48884e98bc4800989f91753d.bindTooltip%28%0A%20%20%20%20%20%20%20%20%20%20%20%20%20%20%20%20%60%3Cdiv%3E%0A%20%20%20%20%20%20%20%20%20%20%20%20%20%20%20%20%20%20%20%20%20D09A068%0A%20%20%20%20%20%20%20%20%20%20%20%20%20%20%20%20%20%3C/div%3E%60%2C%0A%20%20%20%20%20%20%20%20%20%20%20%20%20%20%20%20%7B%22sticky%22%3A%20true%7D%0A%20%20%20%20%20%20%20%20%20%20%20%20%29%3B%0A%20%20%20%20%20%20%20%20%0A%20%20%20%20%0A%20%20%20%20%20%20%20%20%20%20%20%20var%20marker_579fecdaa83540748c14b20eb32ca8c9%20%3D%20L.marker%28%0A%20%20%20%20%20%20%20%20%20%20%20%20%20%20%20%20%5B37.62305555555555%2C%2031.12361111111111%5D%2C%0A%20%20%20%20%20%20%20%20%20%20%20%20%20%20%20%20%7B%7D%0A%20%20%20%20%20%20%20%20%20%20%20%20%29.addTo%28map_f90baacfcf3f4ee7a4b32be9b17b48f7%29%3B%0A%20%20%20%20%20%20%20%20%0A%20%20%20%20%0A%20%20%20%20%20%20%20%20%20%20%20%20var%20icon_04a342fcf4c74dcbabfbd1a65e828b3d%20%3D%20L.AwesomeMarkers.icon%28%0A%20%20%20%20%20%20%20%20%20%20%20%20%20%20%20%20%7B%22extraClasses%22%3A%20%22fa-rotate-0%22%2C%20%22icon%22%3A%20%22cloud%22%2C%20%22iconColor%22%3A%20%22white%22%2C%20%22markerColor%22%3A%20%22darkblue%22%2C%20%22prefix%22%3A%20%22glyphicon%22%7D%0A%20%20%20%20%20%20%20%20%20%20%20%20%29%3B%0A%20%20%20%20%20%20%20%20%20%20%20%20marker_579fecdaa83540748c14b20eb32ca8c9.setIcon%28icon_04a342fcf4c74dcbabfbd1a65e828b3d%29%3B%0A%20%20%20%20%20%20%20%20%0A%20%20%20%20%0A%20%20%20%20%20%20%20%20var%20popup_c5de8babd3fd4287a841d1edead4a13e%20%3D%20L.popup%28%7B%22maxWidth%22%3A%20%22100%25%22%7D%29%3B%0A%0A%20%20%20%20%20%20%20%20%0A%20%20%20%20%20%20%20%20%20%20%20%20var%20html_9a7be22d11194a2b9b1ca389e3229963%20%3D%20%24%28%60%3Cdiv%20id%3D%22html_9a7be22d11194a2b9b1ca389e3229963%22%20style%3D%22width%3A%20100.0%25%3B%20height%3A%20100.0%25%3B%22%3E%3Cb%3E%3Cimg%20src%3Djson/vis7.png%3E%3C/b%3E%3C/div%3E%60%29%5B0%5D%3B%0A%20%20%20%20%20%20%20%20%20%20%20%20popup_c5de8babd3fd4287a841d1edead4a13e.setContent%28html_9a7be22d11194a2b9b1ca389e3229963%29%3B%0A%20%20%20%20%20%20%20%20%0A%0A%20%20%20%20%20%20%20%20marker_579fecdaa83540748c14b20eb32ca8c9.bindPopup%28popup_c5de8babd3fd4287a841d1edead4a13e%29%0A%20%20%20%20%20%20%20%20%3B%0A%0A%20%20%20%20%20%20%20%20%0A%20%20%20%20%0A%20%20%20%20%0A%20%20%20%20%20%20%20%20%20%20%20%20marker_579fecdaa83540748c14b20eb32ca8c9.bindTooltip%28%0A%20%20%20%20%20%20%20%20%20%20%20%20%20%20%20%20%60%3Cdiv%3E%0A%20%20%20%20%20%20%20%20%20%20%20%20%20%20%20%20%20%20%20%20%20D09A086%0A%20%20%20%20%20%20%20%20%20%20%20%20%20%20%20%20%20%3C/div%3E%60%2C%0A%20%20%20%20%20%20%20%20%20%20%20%20%20%20%20%20%7B%22sticky%22%3A%20true%7D%0A%20%20%20%20%20%20%20%20%20%20%20%20%29%3B%0A%20%20%20%20%20%20%20%20%0A%20%20%20%20%0A%20%20%20%20%20%20%20%20%20%20%20%20var%20marker_dc80c2fdc53d407587599d8a992c9e48%20%3D%20L.marker%28%0A%20%20%20%20%20%20%20%20%20%20%20%20%20%20%20%20%5B37.46277777777778%2C%2030.91222222222222%5D%2C%0A%20%20%20%20%20%20%20%20%20%20%20%20%20%20%20%20%7B%7D%0A%20%20%20%20%20%20%20%20%20%20%20%20%29.addTo%28map_f90baacfcf3f4ee7a4b32be9b17b48f7%29%3B%0A%20%20%20%20%20%20%20%20%0A%20%20%20%20%0A%20%20%20%20%20%20%20%20%20%20%20%20var%20icon_4ed2cbaccedb446f9e452ded0e1e1171%20%3D%20L.AwesomeMarkers.icon%28%0A%20%20%20%20%20%20%20%20%20%20%20%20%20%20%20%20%7B%22extraClasses%22%3A%20%22fa-rotate-0%22%2C%20%22icon%22%3A%20%22cloud%22%2C%20%22iconColor%22%3A%20%22white%22%2C%20%22markerColor%22%3A%20%22darkblue%22%2C%20%22prefix%22%3A%20%22glyphicon%22%7D%0A%20%20%20%20%20%20%20%20%20%20%20%20%29%3B%0A%20%20%20%20%20%20%20%20%20%20%20%20marker_dc80c2fdc53d407587599d8a992c9e48.setIcon%28icon_4ed2cbaccedb446f9e452ded0e1e1171%29%3B%0A%20%20%20%20%20%20%20%20%0A%20%20%20%20%0A%20%20%20%20%20%20%20%20var%20popup_3f6a63d397f0431584ac462742dc118b%20%3D%20L.popup%28%7B%22maxWidth%22%3A%20%22100%25%22%7D%29%3B%0A%0A%20%20%20%20%20%20%20%20%0A%20%20%20%20%20%20%20%20%20%20%20%20var%20html_50863b16036c4abfa6e5b79afa9dc02b%20%3D%20%24%28%60%3Cdiv%20id%3D%22html_50863b16036c4abfa6e5b79afa9dc02b%22%20style%3D%22width%3A%20100.0%25%3B%20height%3A%20100.0%25%3B%22%3E%3Cb%3E%3Cimg%20src%3Djson/vis0.png%3E%3C/b%3E%3C/div%3E%60%29%5B0%5D%3B%0A%20%20%20%20%20%20%20%20%20%20%20%20popup_3f6a63d397f0431584ac462742dc118b.setContent%28html_50863b16036c4abfa6e5b79afa9dc02b%29%3B%0A%20%20%20%20%20%20%20%20%0A%0A%20%20%20%20%20%20%20%20marker_dc80c2fdc53d407587599d8a992c9e48.bindPopup%28popup_3f6a63d397f0431584ac462742dc118b%29%0A%20%20%20%20%20%20%20%20%3B%0A%0A%20%20%20%20%20%20%20%20%0A%20%20%20%20%0A%20%20%20%20%0A%20%20%20%20%20%20%20%20%20%20%20%20marker_dc80c2fdc53d407587599d8a992c9e48.bindTooltip%28%0A%20%20%20%20%20%20%20%20%20%20%20%20%20%20%20%20%60%3Cdiv%3E%0A%20%20%20%20%20%20%20%20%20%20%20%20%20%20%20%20%20%20%20%20%20D09A089%0A%20%20%20%20%20%20%20%20%20%20%20%20%20%20%20%20%20%3C/div%3E%60%2C%0A%20%20%20%20%20%20%20%20%20%20%20%20%20%20%20%20%7B%22sticky%22%3A%20true%7D%0A%20%20%20%20%20%20%20%20%20%20%20%20%29%3B%0A%20%20%20%20%20%20%20%20%0A%20%20%20%20%0A%20%20%20%20%20%20%20%20%20%20%20%20var%20marker_7922e4b2674e48e98401cd4de424cdbf%20%3D%20L.marker%28%0A%20%20%20%20%20%20%20%20%20%20%20%20%20%20%20%20%5B37.07194444444445%2C%2030.58055555555556%5D%2C%0A%20%20%20%20%20%20%20%20%20%20%20%20%20%20%20%20%7B%7D%0A%20%20%20%20%20%20%20%20%20%20%20%20%29.addTo%28map_f90baacfcf3f4ee7a4b32be9b17b48f7%29%3B%0A%20%20%20%20%20%20%20%20%0A%20%20%20%20%0A%20%20%20%20%20%20%20%20%20%20%20%20var%20icon_364f6e8bb57549b891069bb0dcc30d22%20%3D%20L.AwesomeMarkers.icon%28%0A%20%20%20%20%20%20%20%20%20%20%20%20%20%20%20%20%7B%22extraClasses%22%3A%20%22fa-rotate-0%22%2C%20%22icon%22%3A%20%22cloud%22%2C%20%22iconColor%22%3A%20%22white%22%2C%20%22markerColor%22%3A%20%22darkblue%22%2C%20%22prefix%22%3A%20%22glyphicon%22%7D%0A%20%20%20%20%20%20%20%20%20%20%20%20%29%3B%0A%20%20%20%20%20%20%20%20%20%20%20%20marker_7922e4b2674e48e98401cd4de424cdbf.setIcon%28icon_364f6e8bb57549b891069bb0dcc30d22%29%3B%0A%20%20%20%20%20%20%20%20%0A%20%20%20%20%0A%20%20%20%20%20%20%20%20var%20popup_e0bf00936e6d41b89767a63c38d06fc1%20%3D%20L.popup%28%7B%22maxWidth%22%3A%20%22100%25%22%7D%29%3B%0A%0A%20%20%20%20%20%20%20%20%0A%20%20%20%20%20%20%20%20%20%20%20%20var%20html_8cf5dd016908457e9bf24e6ffc0d7749%20%3D%20%24%28%60%3Cdiv%20id%3D%22html_8cf5dd016908457e9bf24e6ffc0d7749%22%20style%3D%22width%3A%20100.0%25%3B%20height%3A%20100.0%25%3B%22%3E%3Cb%3E%3Cimg%20src%3Djson/vis0.png%3E%3C/b%3E%3C/div%3E%60%29%5B0%5D%3B%0A%20%20%20%20%20%20%20%20%20%20%20%20popup_e0bf00936e6d41b89767a63c38d06fc1.setContent%28html_8cf5dd016908457e9bf24e6ffc0d7749%29%3B%0A%20%20%20%20%20%20%20%20%0A%0A%20%20%20%20%20%20%20%20marker_7922e4b2674e48e98401cd4de424cdbf.bindPopup%28popup_e0bf00936e6d41b89767a63c38d06fc1%29%0A%20%20%20%20%20%20%20%20%3B%0A%0A%20%20%20%20%20%20%20%20%0A%20%20%20%20%0A%20%20%20%20%0A%20%20%20%20%20%20%20%20%20%20%20%20marker_7922e4b2674e48e98401cd4de424cdbf.bindTooltip%28%0A%20%20%20%20%20%20%20%20%20%20%20%20%20%20%20%20%60%3Cdiv%3E%0A%20%20%20%20%20%20%20%20%20%20%20%20%20%20%20%20%20%20%20%20%20D09A091%0A%20%20%20%20%20%20%20%20%20%20%20%20%20%20%20%20%20%3C/div%3E%60%2C%0A%20%20%20%20%20%20%20%20%20%20%20%20%20%20%20%20%7B%22sticky%22%3A%20true%7D%0A%20%20%20%20%20%20%20%20%20%20%20%20%29%3B%0A%20%20%20%20%20%20%20%20%0A%20%20%20%20%0A%20%20%20%20%20%20%20%20%20%20%20%20var%20marker_8d88fc6a81c24844b1875e51826125cf%20%3D%20L.marker%28%0A%20%20%20%20%20%20%20%20%20%20%20%20%20%20%20%20%5B36.825%2C%2030.46722222222222%5D%2C%0A%20%20%20%20%20%20%20%20%20%20%20%20%20%20%20%20%7B%7D%0A%20%20%20%20%20%20%20%20%20%20%20%20%29.addTo%28map_f90baacfcf3f4ee7a4b32be9b17b48f7%29%3B%0A%20%20%20%20%20%20%20%20%0A%20%20%20%20%0A%20%20%20%20%20%20%20%20%20%20%20%20var%20icon_e35287386a444764b09d9e9db8e48c2a%20%3D%20L.AwesomeMarkers.icon%28%0A%20%20%20%20%20%20%20%20%20%20%20%20%20%20%20%20%7B%22extraClasses%22%3A%20%22fa-rotate-0%22%2C%20%22icon%22%3A%20%22cloud%22%2C%20%22iconColor%22%3A%20%22white%22%2C%20%22markerColor%22%3A%20%22darkblue%22%2C%20%22prefix%22%3A%20%22glyphicon%22%7D%0A%20%20%20%20%20%20%20%20%20%20%20%20%29%3B%0A%20%20%20%20%20%20%20%20%20%20%20%20marker_8d88fc6a81c24844b1875e51826125cf.setIcon%28icon_e35287386a444764b09d9e9db8e48c2a%29%3B%0A%20%20%20%20%20%20%20%20%0A%20%20%20%20%0A%20%20%20%20%20%20%20%20var%20popup_ab38c5b7570e47ca80e089c0d1081433%20%3D%20L.popup%28%7B%22maxWidth%22%3A%20%22100%25%22%7D%29%3B%0A%0A%20%20%20%20%20%20%20%20%0A%20%20%20%20%20%20%20%20%20%20%20%20var%20html_3e29553bb6ca47929720c8b6f655c80d%20%3D%20%24%28%60%3Cdiv%20id%3D%22html_3e29553bb6ca47929720c8b6f655c80d%22%20style%3D%22width%3A%20100.0%25%3B%20height%3A%20100.0%25%3B%22%3E%3Cb%3E%3Cimg%20src%3Djson/vis10.png%3E%3C/b%3E%3C/div%3E%60%29%5B0%5D%3B%0A%20%20%20%20%20%20%20%20%20%20%20%20popup_ab38c5b7570e47ca80e089c0d1081433.setContent%28html_3e29553bb6ca47929720c8b6f655c80d%29%3B%0A%20%20%20%20%20%20%20%20%0A%0A%20%20%20%20%20%20%20%20marker_8d88fc6a81c24844b1875e51826125cf.bindPopup%28popup_ab38c5b7570e47ca80e089c0d1081433%29%0A%20%20%20%20%20%20%20%20%3B%0A%0A%20%20%20%20%20%20%20%20%0A%20%20%20%20%0A%20%20%20%20%0A%20%20%20%20%20%20%20%20%20%20%20%20marker_8d88fc6a81c24844b1875e51826125cf.bindTooltip%28%0A%20%20%20%20%20%20%20%20%20%20%20%20%20%20%20%20%60%3Cdiv%3E%0A%20%20%20%20%20%20%20%20%20%20%20%20%20%20%20%20%20%20%20%20%20D09A095%0A%20%20%20%20%20%20%20%20%20%20%20%20%20%20%20%20%20%3C/div%3E%60%2C%0A%20%20%20%20%20%20%20%20%20%20%20%20%20%20%20%20%7B%22sticky%22%3A%20true%7D%0A%20%20%20%20%20%20%20%20%20%20%20%20%29%3B%0A%20%20%20%20%20%20%20%20%0A%20%20%20%20%0A%20%20%20%20%20%20%20%20%20%20%20%20var%20marker_32dff23c3cfd49af9706ffd36dc4430a%20%3D%20L.marker%28%0A%20%20%20%20%20%20%20%20%20%20%20%20%20%20%20%20%5B37.65916666666666%2C%2031.15555555555556%5D%2C%0A%20%20%20%20%20%20%20%20%20%20%20%20%20%20%20%20%7B%7D%0A%20%20%20%20%20%20%20%20%20%20%20%20%29.addTo%28map_f90baacfcf3f4ee7a4b32be9b17b48f7%29%3B%0A%20%20%20%20%20%20%20%20%0A%20%20%20%20%0A%20%20%20%20%20%20%20%20%20%20%20%20var%20icon_0c6ac37e404e48a0ba92c1cbf29e48df%20%3D%20L.AwesomeMarkers.icon%28%0A%20%20%20%20%20%20%20%20%20%20%20%20%20%20%20%20%7B%22extraClasses%22%3A%20%22fa-rotate-0%22%2C%20%22icon%22%3A%20%22cloud%22%2C%20%22iconColor%22%3A%20%22white%22%2C%20%22markerColor%22%3A%20%22darkblue%22%2C%20%22prefix%22%3A%20%22glyphicon%22%7D%0A%20%20%20%20%20%20%20%20%20%20%20%20%29%3B%0A%20%20%20%20%20%20%20%20%20%20%20%20marker_32dff23c3cfd49af9706ffd36dc4430a.setIcon%28icon_0c6ac37e404e48a0ba92c1cbf29e48df%29%3B%0A%20%20%20%20%20%20%20%20%0A%20%20%20%20%0A%20%20%20%20%20%20%20%20var%20popup_b35156252db5402da5d0854e6b57c09d%20%3D%20L.popup%28%7B%22maxWidth%22%3A%20%22100%25%22%7D%29%3B%0A%0A%20%20%20%20%20%20%20%20%0A%20%20%20%20%20%20%20%20%20%20%20%20var%20html_b5b95d88b41c4684b59defcf955f232b%20%3D%20%24%28%60%3Cdiv%20id%3D%22html_b5b95d88b41c4684b59defcf955f232b%22%20style%3D%22width%3A%20100.0%25%3B%20height%3A%20100.0%25%3B%22%3E%3Cb%3E%3Cimg%20src%3Djson/vis11.png%3E%3C/b%3E%3C/div%3E%60%29%5B0%5D%3B%0A%20%20%20%20%20%20%20%20%20%20%20%20popup_b35156252db5402da5d0854e6b57c09d.setContent%28html_b5b95d88b41c4684b59defcf955f232b%29%3B%0A%20%20%20%20%20%20%20%20%0A%0A%20%20%20%20%20%20%20%20marker_32dff23c3cfd49af9706ffd36dc4430a.bindPopup%28popup_b35156252db5402da5d0854e6b57c09d%29%0A%20%20%20%20%20%20%20%20%3B%0A%0A%20%20%20%20%20%20%20%20%0A%20%20%20%20%0A%20%20%20%20%0A%20%20%20%20%20%20%20%20%20%20%20%20marker_32dff23c3cfd49af9706ffd36dc4430a.bindTooltip%28%0A%20%20%20%20%20%20%20%20%20%20%20%20%20%20%20%20%60%3Cdiv%3E%0A%20%20%20%20%20%20%20%20%20%20%20%20%20%20%20%20%20%20%20%20%20D09A100%0A%20%20%20%20%20%20%20%20%20%20%20%20%20%20%20%20%20%3C/div%3E%60%2C%0A%20%20%20%20%20%20%20%20%20%20%20%20%20%20%20%20%7B%22sticky%22%3A%20true%7D%0A%20%20%20%20%20%20%20%20%20%20%20%20%29%3B%0A%20%20%20%20%20%20%20%20%0A%20%20%20%20%0A%20%20%20%20%20%20%20%20%20%20%20%20var%20marker_27f026381016439e9018f5c4e677c4f6%20%3D%20L.marker%28%0A%20%20%20%20%20%20%20%20%20%20%20%20%20%20%20%20%5B36.98%2C%2031.19972222222222%5D%2C%0A%20%20%20%20%20%20%20%20%20%20%20%20%20%20%20%20%7B%7D%0A%20%20%20%20%20%20%20%20%20%20%20%20%29.addTo%28map_f90baacfcf3f4ee7a4b32be9b17b48f7%29%3B%0A%20%20%20%20%20%20%20%20%0A%20%20%20%20%0A%20%20%20%20%20%20%20%20%20%20%20%20var%20icon_a54c1d05f65b4228aa3c17db1a70877d%20%3D%20L.AwesomeMarkers.icon%28%0A%20%20%20%20%20%20%20%20%20%20%20%20%20%20%20%20%7B%22extraClasses%22%3A%20%22fa-rotate-0%22%2C%20%22icon%22%3A%20%22cloud%22%2C%20%22iconColor%22%3A%20%22white%22%2C%20%22markerColor%22%3A%20%22darkblue%22%2C%20%22prefix%22%3A%20%22glyphicon%22%7D%0A%20%20%20%20%20%20%20%20%20%20%20%20%29%3B%0A%20%20%20%20%20%20%20%20%20%20%20%20marker_27f026381016439e9018f5c4e677c4f6.setIcon%28icon_a54c1d05f65b4228aa3c17db1a70877d%29%3B%0A%20%20%20%20%20%20%20%20%0A%20%20%20%20%0A%20%20%20%20%20%20%20%20var%20popup_66b5d1c457b64a0e9f1c42650a2b383e%20%3D%20L.popup%28%7B%22maxWidth%22%3A%20%22100%25%22%7D%29%3B%0A%0A%20%20%20%20%20%20%20%20%0A%20%20%20%20%20%20%20%20%20%20%20%20var%20html_d340c38ad7e646298f2124a320921182%20%3D%20%24%28%60%3Cdiv%20id%3D%22html_d340c38ad7e646298f2124a320921182%22%20style%3D%22width%3A%20100.0%25%3B%20height%3A%20100.0%25%3B%22%3E%3Cb%3E%3Cimg%20src%3Djson/vis12.png%3E%3C/b%3E%3C/div%3E%60%29%5B0%5D%3B%0A%20%20%20%20%20%20%20%20%20%20%20%20popup_66b5d1c457b64a0e9f1c42650a2b383e.setContent%28html_d340c38ad7e646298f2124a320921182%29%3B%0A%20%20%20%20%20%20%20%20%0A%0A%20%20%20%20%20%20%20%20marker_27f026381016439e9018f5c4e677c4f6.bindPopup%28popup_66b5d1c457b64a0e9f1c42650a2b383e%29%0A%20%20%20%20%20%20%20%20%3B%0A%0A%20%20%20%20%20%20%20%20%0A%20%20%20%20%0A%20%20%20%20%0A%20%20%20%20%20%20%20%20%20%20%20%20marker_27f026381016439e9018f5c4e677c4f6.bindTooltip%28%0A%20%20%20%20%20%20%20%20%20%20%20%20%20%20%20%20%60%3Cdiv%3E%0A%20%20%20%20%20%20%20%20%20%20%20%20%20%20%20%20%20%20%20%20%20D09A101%0A%20%20%20%20%20%20%20%20%20%20%20%20%20%20%20%20%20%3C/div%3E%60%2C%0A%20%20%20%20%20%20%20%20%20%20%20%20%20%20%20%20%7B%22sticky%22%3A%20true%7D%0A%20%20%20%20%20%20%20%20%20%20%20%20%29%3B%0A%20%20%20%20%20%20%20%20%0A%20%20%20%20%0A%20%20%20%20%20%20%20%20%20%20%20%20var%20marker_ea4742febe8d433391eba74a61842cf3%20%3D%20L.marker%28%0A%20%20%20%20%20%20%20%20%20%20%20%20%20%20%20%20%5B36.99166666666667%2C%2031.28472222222222%5D%2C%0A%20%20%20%20%20%20%20%20%20%20%20%20%20%20%20%20%7B%7D%0A%20%20%20%20%20%20%20%20%20%20%20%20%29.addTo%28map_f90baacfcf3f4ee7a4b32be9b17b48f7%29%3B%0A%20%20%20%20%20%20%20%20%0A%20%20%20%20%0A%20%20%20%20%20%20%20%20%20%20%20%20var%20icon_4a6d8aeb09da4b2e934292ae4404e42d%20%3D%20L.AwesomeMarkers.icon%28%0A%20%20%20%20%20%20%20%20%20%20%20%20%20%20%20%20%7B%22extraClasses%22%3A%20%22fa-rotate-0%22%2C%20%22icon%22%3A%20%22cloud%22%2C%20%22iconColor%22%3A%20%22white%22%2C%20%22markerColor%22%3A%20%22darkblue%22%2C%20%22prefix%22%3A%20%22glyphicon%22%7D%0A%20%20%20%20%20%20%20%20%20%20%20%20%29%3B%0A%20%20%20%20%20%20%20%20%20%20%20%20marker_ea4742febe8d433391eba74a61842cf3.setIcon%28icon_4a6d8aeb09da4b2e934292ae4404e42d%29%3B%0A%20%20%20%20%20%20%20%20%0A%20%20%20%20%0A%20%20%20%20%20%20%20%20var%20popup_d6c44550c1914dbb9f0ecb77f3b9fca3%20%3D%20L.popup%28%7B%22maxWidth%22%3A%20%22100%25%22%7D%29%3B%0A%0A%20%20%20%20%20%20%20%20%0A%20%20%20%20%20%20%20%20%20%20%20%20var%20html_00daa0e9acc34682b78da62fbad01678%20%3D%20%24%28%60%3Cdiv%20id%3D%22html_00daa0e9acc34682b78da62fbad01678%22%20style%3D%22width%3A%20100.0%25%3B%20height%3A%20100.0%25%3B%22%3E%3Cb%3E%3Cimg%20src%3Djson/vis13.png%3E%3C/b%3E%3C/div%3E%60%29%5B0%5D%3B%0A%20%20%20%20%20%20%20%20%20%20%20%20popup_d6c44550c1914dbb9f0ecb77f3b9fca3.setContent%28html_00daa0e9acc34682b78da62fbad01678%29%3B%0A%20%20%20%20%20%20%20%20%0A%0A%20%20%20%20%20%20%20%20marker_ea4742febe8d433391eba74a61842cf3.bindPopup%28popup_d6c44550c1914dbb9f0ecb77f3b9fca3%29%0A%20%20%20%20%20%20%20%20%3B%0A%0A%20%20%20%20%20%20%20%20%0A%20%20%20%20%0A%20%20%20%20%0A%20%20%20%20%20%20%20%20%20%20%20%20marker_ea4742febe8d433391eba74a61842cf3.bindTooltip%28%0A%20%20%20%20%20%20%20%20%20%20%20%20%20%20%20%20%60%3Cdiv%3E%0A%20%20%20%20%20%20%20%20%20%20%20%20%20%20%20%20%20%20%20%20%20D09A122%0A%20%20%20%20%20%20%20%20%20%20%20%20%20%20%20%20%20%3C/div%3E%60%2C%0A%20%20%20%20%20%20%20%20%20%20%20%20%20%20%20%20%7B%22sticky%22%3A%20true%7D%0A%20%20%20%20%20%20%20%20%20%20%20%20%29%3B%0A%20%20%20%20%20%20%20%20%0A%20%20%20%20%0A%20%20%20%20%20%20%20%20%20%20%20%20var%20marker_2e14271f1a8b4239b23c051253acd8f4%20%3D%20L.marker%28%0A%20%20%20%20%20%20%20%20%20%20%20%20%20%20%20%20%5B37.14166666666667%2C%2031.18861111111111%5D%2C%0A%20%20%20%20%20%20%20%20%20%20%20%20%20%20%20%20%7B%7D%0A%20%20%20%20%20%20%20%20%20%20%20%20%29.addTo%28map_f90baacfcf3f4ee7a4b32be9b17b48f7%29%3B%0A%20%20%20%20%20%20%20%20%0A%20%20%20%20%0A%20%20%20%20%20%20%20%20%20%20%20%20var%20icon_f26908b148f24f4094ede92b98a963f2%20%3D%20L.AwesomeMarkers.icon%28%0A%20%20%20%20%20%20%20%20%20%20%20%20%20%20%20%20%7B%22extraClasses%22%3A%20%22fa-rotate-0%22%2C%20%22icon%22%3A%20%22cloud%22%2C%20%22iconColor%22%3A%20%22white%22%2C%20%22markerColor%22%3A%20%22darkblue%22%2C%20%22prefix%22%3A%20%22glyphicon%22%7D%0A%20%20%20%20%20%20%20%20%20%20%20%20%29%3B%0A%20%20%20%20%20%20%20%20%20%20%20%20marker_2e14271f1a8b4239b23c051253acd8f4.setIcon%28icon_f26908b148f24f4094ede92b98a963f2%29%3B%0A%20%20%20%20%20%20%20%20%0A%20%20%20%20%0A%20%20%20%20%20%20%20%20var%20popup_da52bbdee48e450b803400498ef9521d%20%3D%20L.popup%28%7B%22maxWidth%22%3A%20%22100%25%22%7D%29%3B%0A%0A%20%20%20%20%20%20%20%20%0A%20%20%20%20%20%20%20%20%20%20%20%20var%20html_c7f508a7abb1498a88ad8a3c8a63d61f%20%3D%20%24%28%60%3Cdiv%20id%3D%22html_c7f508a7abb1498a88ad8a3c8a63d61f%22%20style%3D%22width%3A%20100.0%25%3B%20height%3A%20100.0%25%3B%22%3E%3Cb%3E%3Cimg%20src%3Djson/vis14.png%3E%3C/b%3E%3C/div%3E%60%29%5B0%5D%3B%0A%20%20%20%20%20%20%20%20%20%20%20%20popup_da52bbdee48e450b803400498ef9521d.setContent%28html_c7f508a7abb1498a88ad8a3c8a63d61f%29%3B%0A%20%20%20%20%20%20%20%20%0A%0A%20%20%20%20%20%20%20%20marker_2e14271f1a8b4239b23c051253acd8f4.bindPopup%28popup_da52bbdee48e450b803400498ef9521d%29%0A%20%20%20%20%20%20%20%20%3B%0A%0A%20%20%20%20%20%20%20%20%0A%20%20%20%20%0A%20%20%20%20%0A%20%20%20%20%20%20%20%20%20%20%20%20marker_2e14271f1a8b4239b23c051253acd8f4.bindTooltip%28%0A%20%20%20%20%20%20%20%20%20%20%20%20%20%20%20%20%60%3Cdiv%3E%0A%20%20%20%20%20%20%20%20%20%20%20%20%20%20%20%20%20%20%20%20%20E09A002%0A%20%20%20%20%20%20%20%20%20%20%20%20%20%20%20%20%20%3C/div%3E%60%2C%0A%20%20%20%20%20%20%20%20%20%20%20%20%20%20%20%20%7B%22sticky%22%3A%20true%7D%0A%20%20%20%20%20%20%20%20%20%20%20%20%29%3B%0A%20%20%20%20%20%20%20%20%0A%20%20%20%20%0A%20%20%20%20%20%20%20%20%20%20%20%20var%20marker_8348c61ecbfa46a5b3f2016590a9b8a9%20%3D%20L.marker%28%0A%20%20%20%20%20%20%20%20%20%20%20%20%20%20%20%20%5B36.97944444444445%2C%2031.60861111111111%5D%2C%0A%20%20%20%20%20%20%20%20%20%20%20%20%20%20%20%20%7B%7D%0A%20%20%20%20%20%20%20%20%20%20%20%20%29.addTo%28map_f90baacfcf3f4ee7a4b32be9b17b48f7%29%3B%0A%20%20%20%20%20%20%20%20%0A%20%20%20%20%0A%20%20%20%20%20%20%20%20%20%20%20%20var%20icon_ed3e9a0a328544a8a20f0e628a8dd1ab%20%3D%20L.AwesomeMarkers.icon%28%0A%20%20%20%20%20%20%20%20%20%20%20%20%20%20%20%20%7B%22extraClasses%22%3A%20%22fa-rotate-0%22%2C%20%22icon%22%3A%20%22cloud%22%2C%20%22iconColor%22%3A%20%22white%22%2C%20%22markerColor%22%3A%20%22darkblue%22%2C%20%22prefix%22%3A%20%22glyphicon%22%7D%0A%20%20%20%20%20%20%20%20%20%20%20%20%29%3B%0A%20%20%20%20%20%20%20%20%20%20%20%20marker_8348c61ecbfa46a5b3f2016590a9b8a9.setIcon%28icon_ed3e9a0a328544a8a20f0e628a8dd1ab%29%3B%0A%20%20%20%20%20%20%20%20%0A%20%20%20%20%0A%20%20%20%20%20%20%20%20var%20popup_16614c8289fd4d948faf01220776628d%20%3D%20L.popup%28%7B%22maxWidth%22%3A%20%22100%25%22%7D%29%3B%0A%0A%20%20%20%20%20%20%20%20%0A%20%20%20%20%20%20%20%20%20%20%20%20var%20html_d2bd3a30ac94406889ec5ed9eef99c97%20%3D%20%24%28%60%3Cdiv%20id%3D%22html_d2bd3a30ac94406889ec5ed9eef99c97%22%20style%3D%22width%3A%20100.0%25%3B%20height%3A%20100.0%25%3B%22%3E%3Cb%3E%3Cimg%20src%3Djson/vis15.png%3E%3C/b%3E%3C/div%3E%60%29%5B0%5D%3B%0A%20%20%20%20%20%20%20%20%20%20%20%20popup_16614c8289fd4d948faf01220776628d.setContent%28html_d2bd3a30ac94406889ec5ed9eef99c97%29%3B%0A%20%20%20%20%20%20%20%20%0A%0A%20%20%20%20%20%20%20%20marker_8348c61ecbfa46a5b3f2016590a9b8a9.bindPopup%28popup_16614c8289fd4d948faf01220776628d%29%0A%20%20%20%20%20%20%20%20%3B%0A%0A%20%20%20%20%20%20%20%20%0A%20%20%20%20%0A%20%20%20%20%0A%20%20%20%20%20%20%20%20%20%20%20%20marker_8348c61ecbfa46a5b3f2016590a9b8a9.bindTooltip%28%0A%20%20%20%20%20%20%20%20%20%20%20%20%20%20%20%20%60%3Cdiv%3E%0A%20%20%20%20%20%20%20%20%20%20%20%20%20%20%20%20%20%20%20%20%20E09A012%0A%20%20%20%20%20%20%20%20%20%20%20%20%20%20%20%20%20%3C/div%3E%60%2C%0A%20%20%20%20%20%20%20%20%20%20%20%20%20%20%20%20%7B%22sticky%22%3A%20true%7D%0A%20%20%20%20%20%20%20%20%20%20%20%20%29%3B%0A%20%20%20%20%20%20%20%20%0A%20%20%20%20%0A%20%20%20%20%20%20%20%20%20%20%20%20var%20marker_fabb1c2d59fa4281ab76b08e8f86b5e6%20%3D%20L.marker%28%0A%20%20%20%20%20%20%20%20%20%20%20%20%20%20%20%20%5B36.69694444444444%2C%2031.72666666666667%5D%2C%0A%20%20%20%20%20%20%20%20%20%20%20%20%20%20%20%20%7B%7D%0A%20%20%20%20%20%20%20%20%20%20%20%20%29.addTo%28map_f90baacfcf3f4ee7a4b32be9b17b48f7%29%3B%0A%20%20%20%20%20%20%20%20%0A%20%20%20%20%0A%20%20%20%20%20%20%20%20%20%20%20%20var%20icon_6c61426a75cb41d188162e7f0356e2ec%20%3D%20L.AwesomeMarkers.icon%28%0A%20%20%20%20%20%20%20%20%20%20%20%20%20%20%20%20%7B%22extraClasses%22%3A%20%22fa-rotate-0%22%2C%20%22icon%22%3A%20%22cloud%22%2C%20%22iconColor%22%3A%20%22white%22%2C%20%22markerColor%22%3A%20%22darkblue%22%2C%20%22prefix%22%3A%20%22glyphicon%22%7D%0A%20%20%20%20%20%20%20%20%20%20%20%20%29%3B%0A%20%20%20%20%20%20%20%20%20%20%20%20marker_fabb1c2d59fa4281ab76b08e8f86b5e6.setIcon%28icon_6c61426a75cb41d188162e7f0356e2ec%29%3B%0A%20%20%20%20%20%20%20%20%0A%20%20%20%20%0A%20%20%20%20%20%20%20%20var%20popup_1c01bdd19b8f477985598f2da71d894a%20%3D%20L.popup%28%7B%22maxWidth%22%3A%20%22100%25%22%7D%29%3B%0A%0A%20%20%20%20%20%20%20%20%0A%20%20%20%20%20%20%20%20%20%20%20%20var%20html_63d2f2705e724c288ca253623f215299%20%3D%20%24%28%60%3Cdiv%20id%3D%22html_63d2f2705e724c288ca253623f215299%22%20style%3D%22width%3A%20100.0%25%3B%20height%3A%20100.0%25%3B%22%3E%3Cb%3E%3Cimg%20src%3Djson/vis16.png%3E%3C/b%3E%3C/div%3E%60%29%5B0%5D%3B%0A%20%20%20%20%20%20%20%20%20%20%20%20popup_1c01bdd19b8f477985598f2da71d894a.setContent%28html_63d2f2705e724c288ca253623f215299%29%3B%0A%20%20%20%20%20%20%20%20%0A%0A%20%20%20%20%20%20%20%20marker_fabb1c2d59fa4281ab76b08e8f86b5e6.bindPopup%28popup_1c01bdd19b8f477985598f2da71d894a%29%0A%20%20%20%20%20%20%20%20%3B%0A%0A%20%20%20%20%20%20%20%20%0A%20%20%20%20%0A%20%20%20%20%0A%20%20%20%20%20%20%20%20%20%20%20%20marker_fabb1c2d59fa4281ab76b08e8f86b5e6.bindTooltip%28%0A%20%20%20%20%20%20%20%20%20%20%20%20%20%20%20%20%60%3Cdiv%3E%0A%20%20%20%20%20%20%20%20%20%20%20%20%20%20%20%20%20%20%20%20%20E09A017%0A%20%20%20%20%20%20%20%20%20%20%20%20%20%20%20%20%20%3C/div%3E%60%2C%0A%20%20%20%20%20%20%20%20%20%20%20%20%20%20%20%20%7B%22sticky%22%3A%20true%7D%0A%20%20%20%20%20%20%20%20%20%20%20%20%29%3B%0A%20%20%20%20%20%20%20%20%0A%20%20%20%20%0A%20%20%20%20%20%20%20%20%20%20%20%20var%20marker_9f60d94262054bc98afa889483f9c0ec%20%3D%20L.marker%28%0A%20%20%20%20%20%20%20%20%20%20%20%20%20%20%20%20%5B37.52166666666667%2C%2031.2025%5D%2C%0A%20%20%20%20%20%20%20%20%20%20%20%20%20%20%20%20%7B%7D%0A%20%20%20%20%20%20%20%20%20%20%20%20%29.addTo%28map_f90baacfcf3f4ee7a4b32be9b17b48f7%29%3B%0A%20%20%20%20%20%20%20%20%0A%20%20%20%20%0A%20%20%20%20%20%20%20%20%20%20%20%20var%20icon_a02978f3d79941a790878e4fc9828407%20%3D%20L.AwesomeMarkers.icon%28%0A%20%20%20%20%20%20%20%20%20%20%20%20%20%20%20%20%7B%22extraClasses%22%3A%20%22fa-rotate-0%22%2C%20%22icon%22%3A%20%22cloud%22%2C%20%22iconColor%22%3A%20%22white%22%2C%20%22markerColor%22%3A%20%22darkblue%22%2C%20%22prefix%22%3A%20%22glyphicon%22%7D%0A%20%20%20%20%20%20%20%20%20%20%20%20%29%3B%0A%20%20%20%20%20%20%20%20%20%20%20%20marker_9f60d94262054bc98afa889483f9c0ec.setIcon%28icon_a02978f3d79941a790878e4fc9828407%29%3B%0A%20%20%20%20%20%20%20%20%0A%20%20%20%20%0A%20%20%20%20%20%20%20%20var%20popup_b6209c4fdae94d26ae09893bcd475b8b%20%3D%20L.popup%28%7B%22maxWidth%22%3A%20%22100%25%22%7D%29%3B%0A%0A%20%20%20%20%20%20%20%20%0A%20%20%20%20%20%20%20%20%20%20%20%20var%20html_97917c2512434d2994e7d9a34b351b79%20%3D%20%24%28%60%3Cdiv%20id%3D%22html_97917c2512434d2994e7d9a34b351b79%22%20style%3D%22width%3A%20100.0%25%3B%20height%3A%20100.0%25%3B%22%3E%3Cb%3E%3Cimg%20src%3Djson/vis17.png%3E%3C/b%3E%3C/div%3E%60%29%5B0%5D%3B%0A%20%20%20%20%20%20%20%20%20%20%20%20popup_b6209c4fdae94d26ae09893bcd475b8b.setContent%28html_97917c2512434d2994e7d9a34b351b79%29%3B%0A%20%20%20%20%20%20%20%20%0A%0A%20%20%20%20%20%20%20%20marker_9f60d94262054bc98afa889483f9c0ec.bindPopup%28popup_b6209c4fdae94d26ae09893bcd475b8b%29%0A%20%20%20%20%20%20%20%20%3B%0A%0A%20%20%20%20%20%20%20%20%0A%20%20%20%20%0A%20%20%20%20%0A%20%20%20%20%20%20%20%20%20%20%20%20marker_9f60d94262054bc98afa889483f9c0ec.bindTooltip%28%0A%20%20%20%20%20%20%20%20%20%20%20%20%20%20%20%20%60%3Cdiv%3E%0A%20%20%20%20%20%20%20%20%20%20%20%20%20%20%20%20%20%20%20%20%20E09A021%0A%20%20%20%20%20%20%20%20%20%20%20%20%20%20%20%20%20%3C/div%3E%60%2C%0A%20%20%20%20%20%20%20%20%20%20%20%20%20%20%20%20%7B%22sticky%22%3A%20true%7D%0A%20%20%20%20%20%20%20%20%20%20%20%20%29%3B%0A%20%20%20%20%20%20%20%20%0A%20%20%20%20%0A%20%20%20%20%20%20%20%20%20%20%20%20var%20marker_d8e75155437743ac8eea83ea27b4ea6a%20%3D%20L.marker%28%0A%20%20%20%20%20%20%20%20%20%20%20%20%20%20%20%20%5B36.78138888888889%2C%2032.10722222222223%5D%2C%0A%20%20%20%20%20%20%20%20%20%20%20%20%20%20%20%20%7B%7D%0A%20%20%20%20%20%20%20%20%20%20%20%20%29.addTo%28map_f90baacfcf3f4ee7a4b32be9b17b48f7%29%3B%0A%20%20%20%20%20%20%20%20%0A%20%20%20%20%0A%20%20%20%20%20%20%20%20%20%20%20%20var%20icon_cf7968c72f2041d680c6417a43572e6e%20%3D%20L.AwesomeMarkers.icon%28%0A%20%20%20%20%20%20%20%20%20%20%20%20%20%20%20%20%7B%22extraClasses%22%3A%20%22fa-rotate-0%22%2C%20%22icon%22%3A%20%22cloud%22%2C%20%22iconColor%22%3A%20%22white%22%2C%20%22markerColor%22%3A%20%22darkblue%22%2C%20%22prefix%22%3A%20%22glyphicon%22%7D%0A%20%20%20%20%20%20%20%20%20%20%20%20%29%3B%0A%20%20%20%20%20%20%20%20%20%20%20%20marker_d8e75155437743ac8eea83ea27b4ea6a.setIcon%28icon_cf7968c72f2041d680c6417a43572e6e%29%3B%0A%20%20%20%20%20%20%20%20%0A%20%20%20%20%0A%20%20%20%20%20%20%20%20var%20popup_5c6e9cf3bde344ffa796990bec3fb27f%20%3D%20L.popup%28%7B%22maxWidth%22%3A%20%22100%25%22%7D%29%3B%0A%0A%20%20%20%20%20%20%20%20%0A%20%20%20%20%20%20%20%20%20%20%20%20var%20html_cb276ee5757c444cb5251de13cfd5c94%20%3D%20%24%28%60%3Cdiv%20id%3D%22html_cb276ee5757c444cb5251de13cfd5c94%22%20style%3D%22width%3A%20100.0%25%3B%20height%3A%20100.0%25%3B%22%3E%3Cb%3E%3Cimg%20src%3Djson/vis18.png%3E%3C/b%3E%3C/div%3E%60%29%5B0%5D%3B%0A%20%20%20%20%20%20%20%20%20%20%20%20popup_5c6e9cf3bde344ffa796990bec3fb27f.setContent%28html_cb276ee5757c444cb5251de13cfd5c94%29%3B%0A%20%20%20%20%20%20%20%20%0A%0A%20%20%20%20%20%20%20%20marker_d8e75155437743ac8eea83ea27b4ea6a.bindPopup%28popup_5c6e9cf3bde344ffa796990bec3fb27f%29%0A%20%20%20%20%20%20%20%20%3B%0A%0A%20%20%20%20%20%20%20%20%0A%20%20%20%20%0A%20%20%20%20%0A%20%20%20%20%20%20%20%20%20%20%20%20marker_d8e75155437743ac8eea83ea27b4ea6a.bindTooltip%28%0A%20%20%20%20%20%20%20%20%20%20%20%20%20%20%20%20%60%3Cdiv%3E%0A%20%20%20%20%20%20%20%20%20%20%20%20%20%20%20%20%20%20%20%20%20E09A022%0A%20%20%20%20%20%20%20%20%20%20%20%20%20%20%20%20%20%3C/div%3E%60%2C%0A%20%20%20%20%20%20%20%20%20%20%20%20%20%20%20%20%7B%22sticky%22%3A%20true%7D%0A%20%20%20%20%20%20%20%20%20%20%20%20%29%3B%0A%20%20%20%20%20%20%20%20%0A%20%20%20%20%0A%20%20%20%20%20%20%20%20%20%20%20%20var%20marker_8b25e5090120414d969c262758c49005%20%3D%20L.marker%28%0A%20%20%20%20%20%20%20%20%20%20%20%20%20%20%20%20%5B36.75916666666667%2C%2032.01666666666667%5D%2C%0A%20%20%20%20%20%20%20%20%20%20%20%20%20%20%20%20%7B%7D%0A%20%20%20%20%20%20%20%20%20%20%20%20%29.addTo%28map_f90baacfcf3f4ee7a4b32be9b17b48f7%29%3B%0A%20%20%20%20%20%20%20%20%0A%20%20%20%20%0A%20%20%20%20%20%20%20%20%20%20%20%20var%20icon_cb365e782a2242d3a94c70b7dea42432%20%3D%20L.AwesomeMarkers.icon%28%0A%20%20%20%20%20%20%20%20%20%20%20%20%20%20%20%20%7B%22extraClasses%22%3A%20%22fa-rotate-0%22%2C%20%22icon%22%3A%20%22cloud%22%2C%20%22iconColor%22%3A%20%22white%22%2C%20%22markerColor%22%3A%20%22darkblue%22%2C%20%22prefix%22%3A%20%22glyphicon%22%7D%0A%20%20%20%20%20%20%20%20%20%20%20%20%29%3B%0A%20%20%20%20%20%20%20%20%20%20%20%20marker_8b25e5090120414d969c262758c49005.setIcon%28icon_cb365e782a2242d3a94c70b7dea42432%29%3B%0A%20%20%20%20%20%20%20%20%0A%20%20%20%20%0A%20%20%20%20%20%20%20%20var%20popup_daabc39e2a1f4a4dbbaaf8cfa9d495a4%20%3D%20L.popup%28%7B%22maxWidth%22%3A%20%22100%25%22%7D%29%3B%0A%0A%20%20%20%20%20%20%20%20%0A%20%20%20%20%20%20%20%20%20%20%20%20var%20html_1db5375f404e488aa4ab0bf2879590a2%20%3D%20%24%28%60%3Cdiv%20id%3D%22html_1db5375f404e488aa4ab0bf2879590a2%22%20style%3D%22width%3A%20100.0%25%3B%20height%3A%20100.0%25%3B%22%3E%3Cb%3E%3Cimg%20src%3Djson/vis19.png%3E%3C/b%3E%3C/div%3E%60%29%5B0%5D%3B%0A%20%20%20%20%20%20%20%20%20%20%20%20popup_daabc39e2a1f4a4dbbaaf8cfa9d495a4.setContent%28html_1db5375f404e488aa4ab0bf2879590a2%29%3B%0A%20%20%20%20%20%20%20%20%0A%0A%20%20%20%20%20%20%20%20marker_8b25e5090120414d969c262758c49005.bindPopup%28popup_daabc39e2a1f4a4dbbaaf8cfa9d495a4%29%0A%20%20%20%20%20%20%20%20%3B%0A%0A%20%20%20%20%20%20%20%20%0A%20%20%20%20%0A%20%20%20%20%0A%20%20%20%20%20%20%20%20%20%20%20%20marker_8b25e5090120414d969c262758c49005.bindTooltip%28%0A%20%20%20%20%20%20%20%20%20%20%20%20%20%20%20%20%60%3Cdiv%3E%0A%20%20%20%20%20%20%20%20%20%20%20%20%20%20%20%20%20%20%20%20%20E09A024%0A%20%20%20%20%20%20%20%20%20%20%20%20%20%20%20%20%20%3C/div%3E%60%2C%0A%20%20%20%20%20%20%20%20%20%20%20%20%20%20%20%20%7B%22sticky%22%3A%20true%7D%0A%20%20%20%20%20%20%20%20%20%20%20%20%29%3B%0A%20%20%20%20%20%20%20%20%0A%20%20%20%20%0A%20%20%20%20%20%20%20%20%20%20%20%20var%20marker_fac8d20750f3468990fafa95a161ce37%20%3D%20L.marker%28%0A%20%20%20%20%20%20%20%20%20%20%20%20%20%20%20%20%5B36.75916666666667%2C%2032.01666666666667%5D%2C%0A%20%20%20%20%20%20%20%20%20%20%20%20%20%20%20%20%7B%7D%0A%20%20%20%20%20%20%20%20%20%20%20%20%29.addTo%28map_f90baacfcf3f4ee7a4b32be9b17b48f7%29%3B%0A%20%20%20%20%20%20%20%20%0A%20%20%20%20%0A%20%20%20%20%20%20%20%20%20%20%20%20var%20icon_c7611ff8c0db4f70a5c862f52ffc46b7%20%3D%20L.AwesomeMarkers.icon%28%0A%20%20%20%20%20%20%20%20%20%20%20%20%20%20%20%20%7B%22extraClasses%22%3A%20%22fa-rotate-0%22%2C%20%22icon%22%3A%20%22hamburger%22%2C%20%22iconColor%22%3A%20%22white%22%2C%20%22markerColor%22%3A%20%22red%22%2C%20%22prefix%22%3A%20%22glyphicon%22%7D%0A%20%20%20%20%20%20%20%20%20%20%20%20%29%3B%0A%20%20%20%20%20%20%20%20%20%20%20%20marker_fac8d20750f3468990fafa95a161ce37.setIcon%28icon_c7611ff8c0db4f70a5c862f52ffc46b7%29%3B%0A%20%20%20%20%20%20%20%20%0A%20%20%20%20%0A%20%20%20%20%20%20%20%20var%20popup_8deac3bcf8fc474ca35487561ccdc95e%20%3D%20L.popup%28%7B%22maxWidth%22%3A%20%22100%25%22%7D%29%3B%0A%0A%20%20%20%20%20%20%20%20%0A%20%20%20%20%20%20%20%20%20%20%20%20var%20html_dcb648edf8fc4575be8cc6321cd8e274%20%3D%20%24%28%60%3Cdiv%20id%3D%22html_dcb648edf8fc4575be8cc6321cd8e274%22%20style%3D%22width%3A%20100.0%25%3B%20height%3A%20100.0%25%3B%22%3E%3Cb%3E%3Cimg%20src%3Djson/vis19.png%3E%3C/b%3E%3C/div%3E%60%29%5B0%5D%3B%0A%20%20%20%20%20%20%20%20%20%20%20%20popup_8deac3bcf8fc474ca35487561ccdc95e.setContent%28html_dcb648edf8fc4575be8cc6321cd8e274%29%3B%0A%20%20%20%20%20%20%20%20%0A%0A%20%20%20%20%20%20%20%20marker_fac8d20750f3468990fafa95a161ce37.bindPopup%28popup_8deac3bcf8fc474ca35487561ccdc95e%29%0A%20%20%20%20%20%20%20%20%3B%0A%0A%20%20%20%20%20%20%20%20%0A%20%20%20%20%0A%20%20%20%20%0A%20%20%20%20%20%20%20%20%20%20%20%20marker_fac8d20750f3468990fafa95a161ce37.bindTooltip%28%0A%20%20%20%20%20%20%20%20%20%20%20%20%20%20%20%20%60%3Cdiv%3E%0A%20%20%20%20%20%20%20%20%20%20%20%20%20%20%20%20%20%20%20%20%20E09A024%0A%20%20%20%20%20%20%20%20%20%20%20%20%20%20%20%20%20%3C/div%3E%60%2C%0A%20%20%20%20%20%20%20%20%20%20%20%20%20%20%20%20%7B%22sticky%22%3A%20true%7D%0A%20%20%20%20%20%20%20%20%20%20%20%20%29%3B%0A%20%20%20%20%20%20%20%20%0A%20%20%20%20%0A%20%20%20%20%20%20%20%20%20%20%20%20var%20marker_8bb191a018e747e580c423879f5c65ea%20%3D%20L.marker%28%0A%20%20%20%20%20%20%20%20%20%20%20%20%20%20%20%20%5B36.75916666666667%2C%2032.01666666666667%5D%2C%0A%20%20%20%20%20%20%20%20%20%20%20%20%20%20%20%20%7B%7D%0A%20%20%20%20%20%20%20%20%20%20%20%20%29.addTo%28map_f90baacfcf3f4ee7a4b32be9b17b48f7%29%3B%0A%20%20%20%20%20%20%20%20%0A%20%20%20%20%0A%20%20%20%20%20%20%20%20%20%20%20%20var%20icon_77c1afbe0cdc460b8917400946ed249b%20%3D%20L.AwesomeMarkers.icon%28%0A%20%20%20%20%20%20%20%20%20%20%20%20%20%20%20%20%7B%22extraClasses%22%3A%20%22fa-rotate-0%22%2C%20%22icon%22%3A%20%22hamburger%22%2C%20%22iconColor%22%3A%20%22white%22%2C%20%22markerColor%22%3A%20%22red%22%2C%20%22prefix%22%3A%20%22fa%22%7D%0A%20%20%20%20%20%20%20%20%20%20%20%20%29%3B%0A%20%20%20%20%20%20%20%20%20%20%20%20marker_8bb191a018e747e580c423879f5c65ea.setIcon%28icon_77c1afbe0cdc460b8917400946ed249b%29%3B%0A%20%20%20%20%20%20%20%20%0A%20%20%20%20%0A%20%20%20%20%20%20%20%20var%20popup_f0324aa320954ab783aea00c956adf01%20%3D%20L.popup%28%7B%22maxWidth%22%3A%20%22100%25%22%7D%29%3B%0A%0A%20%20%20%20%20%20%20%20%0A%20%20%20%20%20%20%20%20%20%20%20%20var%20html_49a75bf07f0642feabd27ff01cf278e7%20%3D%20%24%28%60%3Cdiv%20id%3D%22html_49a75bf07f0642feabd27ff01cf278e7%22%20style%3D%22width%3A%20100.0%25%3B%20height%3A%20100.0%25%3B%22%3E%3Cb%3E%3Cimg%20src%3Djson/vis19.png%3E%3C/b%3E%3C/div%3E%60%29%5B0%5D%3B%0A%20%20%20%20%20%20%20%20%20%20%20%20popup_f0324aa320954ab783aea00c956adf01.setContent%28html_49a75bf07f0642feabd27ff01cf278e7%29%3B%0A%20%20%20%20%20%20%20%20%0A%0A%20%20%20%20%20%20%20%20marker_8bb191a018e747e580c423879f5c65ea.bindPopup%28popup_f0324aa320954ab783aea00c956adf01%29%0A%20%20%20%20%20%20%20%20%3B%0A%0A%20%20%20%20%20%20%20%20%0A%20%20%20%20%0A%20%20%20%20%0A%20%20%20%20%20%20%20%20%20%20%20%20marker_8bb191a018e747e580c423879f5c65ea.bindTooltip%28%0A%20%20%20%20%20%20%20%20%20%20%20%20%20%20%20%20%60%3Cdiv%3E%0A%20%20%20%20%20%20%20%20%20%20%20%20%20%20%20%20%20%20%20%20%20E09A024%0A%20%20%20%20%20%20%20%20%20%20%20%20%20%20%20%20%20%3C/div%3E%60%2C%0A%20%20%20%20%20%20%20%20%20%20%20%20%20%20%20%20%7B%22sticky%22%3A%20true%7D%0A%20%20%20%20%20%20%20%20%20%20%20%20%29%3B%0A%20%20%20%20%20%20%20%20%0A%20%20%20%20%0A%20%20%20%20%20%20%20%20%20%20%20%20var%20marker_a99c6ee4a6bf43cb89e2bbd316dc02d0%20%3D%20L.marker%28%0A%20%20%20%20%20%20%20%20%20%20%20%20%20%20%20%20%5B36.75916666666667%2C%2032.01666666666667%5D%2C%0A%20%20%20%20%20%20%20%20%20%20%20%20%20%20%20%20%7B%7D%0A%20%20%20%20%20%20%20%20%20%20%20%20%29.addTo%28map_f90baacfcf3f4ee7a4b32be9b17b48f7%29%3B%0A%20%20%20%20%20%20%20%20%0A%20%20%20%20%0A%20%20%20%20%20%20%20%20%20%20%20%20var%20icon_026b908bc8174f969d535d29e916d4de%20%3D%20L.AwesomeMarkers.icon%28%0A%20%20%20%20%20%20%20%20%20%20%20%20%20%20%20%20%7B%22extraClasses%22%3A%20%22fa-rotate-0%22%2C%20%22icon%22%3A%20%22fa-hamburger%22%2C%20%22iconColor%22%3A%20%22white%22%2C%20%22markerColor%22%3A%20%22red%22%2C%20%22prefix%22%3A%20%22fa%22%7D%0A%20%20%20%20%20%20%20%20%20%20%20%20%29%3B%0A%20%20%20%20%20%20%20%20%20%20%20%20marker_a99c6ee4a6bf43cb89e2bbd316dc02d0.setIcon%28icon_026b908bc8174f969d535d29e916d4de%29%3B%0A%20%20%20%20%20%20%20%20%0A%20%20%20%20%0A%20%20%20%20%20%20%20%20var%20popup_448bb76018484f6780d666d7d5de9287%20%3D%20L.popup%28%7B%22maxWidth%22%3A%20%22100%25%22%7D%29%3B%0A%0A%20%20%20%20%20%20%20%20%0A%20%20%20%20%20%20%20%20%20%20%20%20var%20html_36d18f67424f4934beceb4265aeb97c1%20%3D%20%24%28%60%3Cdiv%20id%3D%22html_36d18f67424f4934beceb4265aeb97c1%22%20style%3D%22width%3A%20100.0%25%3B%20height%3A%20100.0%25%3B%22%3E%3Cb%3E%3Cimg%20src%3Djson/vis19.png%3E%3C/b%3E%3C/div%3E%60%29%5B0%5D%3B%0A%20%20%20%20%20%20%20%20%20%20%20%20popup_448bb76018484f6780d666d7d5de9287.setContent%28html_36d18f67424f4934beceb4265aeb97c1%29%3B%0A%20%20%20%20%20%20%20%20%0A%0A%20%20%20%20%20%20%20%20marker_a99c6ee4a6bf43cb89e2bbd316dc02d0.bindPopup%28popup_448bb76018484f6780d666d7d5de9287%29%0A%20%20%20%20%20%20%20%20%3B%0A%0A%20%20%20%20%20%20%20%20%0A%20%20%20%20%0A%20%20%20%20%0A%20%20%20%20%20%20%20%20%20%20%20%20marker_a99c6ee4a6bf43cb89e2bbd316dc02d0.bindTooltip%28%0A%20%20%20%20%20%20%20%20%20%20%20%20%20%20%20%20%60%3Cdiv%3E%0A%20%20%20%20%20%20%20%20%20%20%20%20%20%20%20%20%20%20%20%20%20E09A024%0A%20%20%20%20%20%20%20%20%20%20%20%20%20%20%20%20%20%3C/div%3E%60%2C%0A%20%20%20%20%20%20%20%20%20%20%20%20%20%20%20%20%7B%22sticky%22%3A%20true%7D%0A%20%20%20%20%20%20%20%20%20%20%20%20%29%3B%0A%20%20%20%20%20%20%20%20%0A%20%20%20%20%0A%20%20%20%20%20%20%20%20%20%20%20%20var%20marker_cc96e2621de5436f8f7108eb75535909%20%3D%20L.marker%28%0A%20%20%20%20%20%20%20%20%20%20%20%20%20%20%20%20%5B36.75916666666667%2C%2032.01666666666667%5D%2C%0A%20%20%20%20%20%20%20%20%20%20%20%20%20%20%20%20%7B%7D%0A%20%20%20%20%20%20%20%20%20%20%20%20%29.addTo%28map_f90baacfcf3f4ee7a4b32be9b17b48f7%29%3B%0A%20%20%20%20%20%20%20%20%0A%20%20%20%20%0A%20%20%20%20%20%20%20%20%20%20%20%20var%20icon_887824cac2c24058a612ca545bfd1ed4%20%3D%20L.AwesomeMarkers.icon%28%0A%20%20%20%20%20%20%20%20%20%20%20%20%20%20%20%20%7B%22extraClasses%22%3A%20%22fa-rotate-0%22%2C%20%22icon%22%3A%20%22home%22%2C%20%22iconColor%22%3A%20%22white%22%2C%20%22markerColor%22%3A%20%22red%22%2C%20%22prefix%22%3A%20%22glyphicon%22%7D%0A%20%20%20%20%20%20%20%20%20%20%20%20%29%3B%0A%20%20%20%20%20%20%20%20%20%20%20%20marker_cc96e2621de5436f8f7108eb75535909.setIcon%28icon_887824cac2c24058a612ca545bfd1ed4%29%3B%0A%20%20%20%20%20%20%20%20%0A%20%20%20%20%0A%20%20%20%20%20%20%20%20var%20popup_bf9c047f8e4a4cb1826a5b458b71e4cf%20%3D%20L.popup%28%7B%22maxWidth%22%3A%20%22100%25%22%7D%29%3B%0A%0A%20%20%20%20%20%20%20%20%0A%20%20%20%20%20%20%20%20%20%20%20%20var%20html_9c536a9bc24544299a0a42090f4c45a4%20%3D%20%24%28%60%3Cdiv%20id%3D%22html_9c536a9bc24544299a0a42090f4c45a4%22%20style%3D%22width%3A%20100.0%25%3B%20height%3A%20100.0%25%3B%22%3E%3Cb%3E%3Cimg%20src%3Djson/vis19.png%3E%3C/b%3E%3C/div%3E%60%29%5B0%5D%3B%0A%20%20%20%20%20%20%20%20%20%20%20%20popup_bf9c047f8e4a4cb1826a5b458b71e4cf.setContent%28html_9c536a9bc24544299a0a42090f4c45a4%29%3B%0A%20%20%20%20%20%20%20%20%0A%0A%20%20%20%20%20%20%20%20marker_cc96e2621de5436f8f7108eb75535909.bindPopup%28popup_bf9c047f8e4a4cb1826a5b458b71e4cf%29%0A%20%20%20%20%20%20%20%20%3B%0A%0A%20%20%20%20%20%20%20%20%0A%20%20%20%20%0A%20%20%20%20%0A%20%20%20%20%20%20%20%20%20%20%20%20marker_cc96e2621de5436f8f7108eb75535909.bindTooltip%28%0A%20%20%20%20%20%20%20%20%20%20%20%20%20%20%20%20%60%3Cdiv%3E%0A%20%20%20%20%20%20%20%20%20%20%20%20%20%20%20%20%20%20%20%20%20E09A024%0A%20%20%20%20%20%20%20%20%20%20%20%20%20%20%20%20%20%3C/div%3E%60%2C%0A%20%20%20%20%20%20%20%20%20%20%20%20%20%20%20%20%7B%22sticky%22%3A%20true%7D%0A%20%20%20%20%20%20%20%20%20%20%20%20%29%3B%0A%20%20%20%20%20%20%20%20%0A%3C/script%3E onload=\"this.contentDocument.open();this.contentDocument.write(    decodeURIComponent(this.getAttribute('data-html')));this.contentDocument.close();\" allowfullscreen webkitallowfullscreen mozallowfullscreen></iframe></div></div>"
      ],
      "text/plain": [
       "<folium.folium.Map at 0x1c6413b0160>"
      ]
     },
     "execution_count": 119,
     "metadata": {},
     "output_type": "execute_result"
    }
   ],
   "source": [
    "my_map"
   ]
  },
  {
   "cell_type": "markdown",
   "id": "0b9bbfe3",
   "metadata": {},
   "source": [
    "![purple-divider](https://user-images.githubusercontent.com/7065401/52071927-c1cd7100-2562-11e9-908a-dde91ba14e59.png)"
   ]
  }
 ],
 "metadata": {
  "kernelspec": {
   "display_name": "Python 3 (ipykernel)",
   "language": "python",
   "name": "python3"
  },
  "language_info": {
   "codemirror_mode": {
    "name": "ipython",
    "version": 3
   },
   "file_extension": ".py",
   "mimetype": "text/x-python",
   "name": "python",
   "nbconvert_exporter": "python",
   "pygments_lexer": "ipython3",
   "version": "3.9.7"
  }
 },
 "nbformat": 4,
 "nbformat_minor": 5
}
