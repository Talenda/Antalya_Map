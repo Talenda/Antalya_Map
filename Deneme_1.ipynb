{
 "cells": [
  {
   "cell_type": "code",
   "execution_count": 1,
   "id": "dac296d7",
   "metadata": {},
   "outputs": [],
   "source": [
    "#Leaflet document\n",
    "import webbrowser\n",
    "#webbrowser.open ('https://www.earthdatascience.org/tutorials/introduction-to-leaflet-animated-maps/')"
   ]
  },
  {
   "cell_type": "markdown",
   "id": "2bcfdfa4",
   "metadata": {},
   "source": [
    "![green-divider](https://user-images.githubusercontent.com/7065401/52071924-c003ad80-2562-11e9-8297-1c6595f8a7ff.png)"
   ]
  },
  {
   "cell_type": "code",
   "execution_count": 2,
   "id": "63bcc409",
   "metadata": {},
   "outputs": [],
   "source": [
    "import numpy as np\n",
    "import pandas as pd\n",
    "import matplotlib.pyplot as plt\n",
    "\n",
    "%matplotlib inline"
   ]
  },
  {
   "cell_type": "markdown",
   "id": "14dcd4e2",
   "metadata": {},
   "source": [
    "![purple-divider](https://user-images.githubusercontent.com/7065401/52071927-c1cd7100-2562-11e9-908a-dde91ba14e59.png)"
   ]
  },
  {
   "cell_type": "markdown",
   "id": "7011635c",
   "metadata": {},
   "source": [
    "_Ekte iki adet excel gonderiyorum. Bu dosyalardan birinde (Akım diyelim) Antalya havzasında bulunan akım gözlem istasyonlarına ait günlük akım değerleri var (2000-2015 yılları için). Digerinde istasyonlara ait koordinatlar (koordinat diyelim) var. Soyle bir kod yazarsan iyi bir pratik olur:_\n",
    "\n",
    "**flw for Akım**\n",
    "\n",
    "**cor for kordinat**"
   ]
  },
  {
   "cell_type": "code",
   "execution_count": 3,
   "id": "8f88be62",
   "metadata": {},
   "outputs": [],
   "source": [
    "cor = pd.read_excel('FlowBook_Antalya_Basin_2015_Station_Info.xlsx')\n",
    "flw = pd.read_excel('EFAS_3_5_Dis24_TimeSeries_Basin_Antalya_2000_2015.xlsx')"
   ]
  },
  {
   "cell_type": "code",
   "execution_count": 4,
   "id": "8c1acce9",
   "metadata": {},
   "outputs": [
    {
     "data": {
      "text/plain": [
       "(5844, 23)"
      ]
     },
     "execution_count": 4,
     "metadata": {},
     "output_type": "execute_result"
    }
   ],
   "source": [
    "flw.shape"
   ]
  },
  {
   "cell_type": "code",
   "execution_count": 5,
   "id": "16bdccc2",
   "metadata": {},
   "outputs": [
    {
     "data": {
      "text/plain": [
       "(46, 6)"
      ]
     },
     "execution_count": 5,
     "metadata": {},
     "output_type": "execute_result"
    }
   ],
   "source": [
    "cor.shape"
   ]
  },
  {
   "cell_type": "code",
   "execution_count": 6,
   "id": "c1e32129",
   "metadata": {},
   "outputs": [
    {
     "data": {
      "text/html": [
       "<div>\n",
       "<style scoped>\n",
       "    .dataframe tbody tr th:only-of-type {\n",
       "        vertical-align: middle;\n",
       "    }\n",
       "\n",
       "    .dataframe tbody tr th {\n",
       "        vertical-align: top;\n",
       "    }\n",
       "\n",
       "    .dataframe thead th {\n",
       "        text-align: right;\n",
       "    }\n",
       "</style>\n",
       "<table border=\"1\" class=\"dataframe\">\n",
       "  <thead>\n",
       "    <tr style=\"text-align: right;\">\n",
       "      <th></th>\n",
       "      <th>Unnamed: 0</th>\n",
       "      <th>Historical_times</th>\n",
       "      <th>D09A011</th>\n",
       "      <th>D09A031</th>\n",
       "      <th>D09A034</th>\n",
       "      <th>D09A057</th>\n",
       "      <th>D09A065</th>\n",
       "      <th>D09A067</th>\n",
       "      <th>D09A068</th>\n",
       "      <th>D09A086</th>\n",
       "      <th>...</th>\n",
       "      <th>D09A100</th>\n",
       "      <th>D09A101</th>\n",
       "      <th>D09A122</th>\n",
       "      <th>E09A002</th>\n",
       "      <th>E09A012</th>\n",
       "      <th>E09A017</th>\n",
       "      <th>E09A021</th>\n",
       "      <th>E09A022</th>\n",
       "      <th>E09A024</th>\n",
       "      <th>E09A099</th>\n",
       "    </tr>\n",
       "  </thead>\n",
       "  <tbody>\n",
       "    <tr>\n",
       "      <th>0</th>\n",
       "      <td>0</td>\n",
       "      <td>2000-01-01 06:00:00</td>\n",
       "      <td>0.935547</td>\n",
       "      <td>2.056641</td>\n",
       "      <td>0.683594</td>\n",
       "      <td>0.316406</td>\n",
       "      <td>0.156250</td>\n",
       "      <td>5.136719</td>\n",
       "      <td>5.797852</td>\n",
       "      <td>1.664062</td>\n",
       "      <td>...</td>\n",
       "      <td>0.962891</td>\n",
       "      <td>8.919922</td>\n",
       "      <td>1.004883</td>\n",
       "      <td>6.404297</td>\n",
       "      <td>24.528320</td>\n",
       "      <td>21.681641</td>\n",
       "      <td>3.103516</td>\n",
       "      <td>11.973633</td>\n",
       "      <td>17.578125</td>\n",
       "      <td>5.196289</td>\n",
       "    </tr>\n",
       "    <tr>\n",
       "      <th>1</th>\n",
       "      <td>1</td>\n",
       "      <td>2000-01-02 06:00:00</td>\n",
       "      <td>0.832031</td>\n",
       "      <td>1.769531</td>\n",
       "      <td>0.637695</td>\n",
       "      <td>0.314453</td>\n",
       "      <td>0.158203</td>\n",
       "      <td>4.430664</td>\n",
       "      <td>5.011719</td>\n",
       "      <td>1.497070</td>\n",
       "      <td>...</td>\n",
       "      <td>0.840820</td>\n",
       "      <td>8.386719</td>\n",
       "      <td>0.875000</td>\n",
       "      <td>6.090820</td>\n",
       "      <td>21.171875</td>\n",
       "      <td>19.059570</td>\n",
       "      <td>2.833008</td>\n",
       "      <td>10.519531</td>\n",
       "      <td>15.412109</td>\n",
       "      <td>4.870117</td>\n",
       "    </tr>\n",
       "    <tr>\n",
       "      <th>2</th>\n",
       "      <td>2</td>\n",
       "      <td>2000-01-03 06:00:00</td>\n",
       "      <td>0.807617</td>\n",
       "      <td>1.626953</td>\n",
       "      <td>0.642578</td>\n",
       "      <td>0.320312</td>\n",
       "      <td>0.158203</td>\n",
       "      <td>3.958984</td>\n",
       "      <td>4.508789</td>\n",
       "      <td>1.385742</td>\n",
       "      <td>...</td>\n",
       "      <td>0.792969</td>\n",
       "      <td>7.865234</td>\n",
       "      <td>0.833008</td>\n",
       "      <td>5.793945</td>\n",
       "      <td>19.541992</td>\n",
       "      <td>16.958008</td>\n",
       "      <td>2.600586</td>\n",
       "      <td>9.642578</td>\n",
       "      <td>13.960938</td>\n",
       "      <td>4.669922</td>\n",
       "    </tr>\n",
       "  </tbody>\n",
       "</table>\n",
       "<p>3 rows × 23 columns</p>\n",
       "</div>"
      ],
      "text/plain": [
       "   Unnamed: 0    Historical_times   D09A011   D09A031   D09A034   D09A057  \\\n",
       "0           0 2000-01-01 06:00:00  0.935547  2.056641  0.683594  0.316406   \n",
       "1           1 2000-01-02 06:00:00  0.832031  1.769531  0.637695  0.314453   \n",
       "2           2 2000-01-03 06:00:00  0.807617  1.626953  0.642578  0.320312   \n",
       "\n",
       "    D09A065   D09A067   D09A068   D09A086  ...   D09A100   D09A101   D09A122  \\\n",
       "0  0.156250  5.136719  5.797852  1.664062  ...  0.962891  8.919922  1.004883   \n",
       "1  0.158203  4.430664  5.011719  1.497070  ...  0.840820  8.386719  0.875000   \n",
       "2  0.158203  3.958984  4.508789  1.385742  ...  0.792969  7.865234  0.833008   \n",
       "\n",
       "    E09A002    E09A012    E09A017   E09A021    E09A022    E09A024   E09A099  \n",
       "0  6.404297  24.528320  21.681641  3.103516  11.973633  17.578125  5.196289  \n",
       "1  6.090820  21.171875  19.059570  2.833008  10.519531  15.412109  4.870117  \n",
       "2  5.793945  19.541992  16.958008  2.600586   9.642578  13.960938  4.669922  \n",
       "\n",
       "[3 rows x 23 columns]"
      ]
     },
     "execution_count": 6,
     "metadata": {},
     "output_type": "execute_result"
    }
   ],
   "source": [
    "flw.head(3)"
   ]
  },
  {
   "cell_type": "code",
   "execution_count": 7,
   "id": "ea87de93",
   "metadata": {},
   "outputs": [
    {
     "data": {
      "text/html": [
       "<div>\n",
       "<style scoped>\n",
       "    .dataframe tbody tr th:only-of-type {\n",
       "        vertical-align: middle;\n",
       "    }\n",
       "\n",
       "    .dataframe tbody tr th {\n",
       "        vertical-align: top;\n",
       "    }\n",
       "\n",
       "    .dataframe thead th {\n",
       "        text-align: right;\n",
       "    }\n",
       "</style>\n",
       "<table border=\"1\" class=\"dataframe\">\n",
       "  <thead>\n",
       "    <tr style=\"text-align: right;\">\n",
       "      <th></th>\n",
       "      <th>id</th>\n",
       "      <th>stname</th>\n",
       "      <th>area</th>\n",
       "      <th>elev</th>\n",
       "      <th>east</th>\n",
       "      <th>north</th>\n",
       "    </tr>\n",
       "  </thead>\n",
       "  <tbody>\n",
       "    <tr>\n",
       "      <th>0</th>\n",
       "      <td>0</td>\n",
       "      <td>D09A002</td>\n",
       "      <td>61.7</td>\n",
       "      <td>1250</td>\n",
       "      <td>31.091111</td>\n",
       "      <td>37.811667</td>\n",
       "    </tr>\n",
       "    <tr>\n",
       "      <th>1</th>\n",
       "      <td>1</td>\n",
       "      <td>D09A006</td>\n",
       "      <td>195.0</td>\n",
       "      <td>38</td>\n",
       "      <td>32.121667</td>\n",
       "      <td>36.549444</td>\n",
       "    </tr>\n",
       "    <tr>\n",
       "      <th>2</th>\n",
       "      <td>2</td>\n",
       "      <td>D09A011</td>\n",
       "      <td>130.7</td>\n",
       "      <td>1190</td>\n",
       "      <td>30.050000</td>\n",
       "      <td>37.133333</td>\n",
       "    </tr>\n",
       "  </tbody>\n",
       "</table>\n",
       "</div>"
      ],
      "text/plain": [
       "   id   stname   area  elev       east      north\n",
       "0   0  D09A002   61.7  1250  31.091111  37.811667\n",
       "1   1  D09A006  195.0    38  32.121667  36.549444\n",
       "2   2  D09A011  130.7  1190  30.050000  37.133333"
      ]
     },
     "execution_count": 7,
     "metadata": {},
     "output_type": "execute_result"
    }
   ],
   "source": [
    "cor.head(3)"
   ]
  },
  {
   "cell_type": "code",
   "execution_count": 8,
   "id": "50020011",
   "metadata": {},
   "outputs": [
    {
     "data": {
      "text/html": [
       "<div>\n",
       "<style scoped>\n",
       "    .dataframe tbody tr th:only-of-type {\n",
       "        vertical-align: middle;\n",
       "    }\n",
       "\n",
       "    .dataframe tbody tr th {\n",
       "        vertical-align: top;\n",
       "    }\n",
       "\n",
       "    .dataframe thead th {\n",
       "        text-align: right;\n",
       "    }\n",
       "</style>\n",
       "<table border=\"1\" class=\"dataframe\">\n",
       "  <thead>\n",
       "    <tr style=\"text-align: right;\">\n",
       "      <th></th>\n",
       "      <th>Unnamed: 0</th>\n",
       "      <th>D09A011</th>\n",
       "      <th>D09A031</th>\n",
       "      <th>D09A034</th>\n",
       "      <th>D09A057</th>\n",
       "      <th>D09A065</th>\n",
       "      <th>D09A067</th>\n",
       "      <th>D09A068</th>\n",
       "      <th>D09A086</th>\n",
       "      <th>D09A089</th>\n",
       "      <th>...</th>\n",
       "      <th>D09A100</th>\n",
       "      <th>D09A101</th>\n",
       "      <th>D09A122</th>\n",
       "      <th>E09A002</th>\n",
       "      <th>E09A012</th>\n",
       "      <th>E09A017</th>\n",
       "      <th>E09A021</th>\n",
       "      <th>E09A022</th>\n",
       "      <th>E09A024</th>\n",
       "      <th>E09A099</th>\n",
       "    </tr>\n",
       "  </thead>\n",
       "  <tbody>\n",
       "    <tr>\n",
       "      <th>count</th>\n",
       "      <td>5844.000000</td>\n",
       "      <td>5844.000000</td>\n",
       "      <td>5844.000000</td>\n",
       "      <td>5844.000000</td>\n",
       "      <td>5844.000000</td>\n",
       "      <td>5844.000000</td>\n",
       "      <td>5844.000000</td>\n",
       "      <td>5844.000000</td>\n",
       "      <td>5844.000000</td>\n",
       "      <td>5844.000000</td>\n",
       "      <td>...</td>\n",
       "      <td>5844.000000</td>\n",
       "      <td>5844.000000</td>\n",
       "      <td>5844.000000</td>\n",
       "      <td>5844.000000</td>\n",
       "      <td>5844.000000</td>\n",
       "      <td>5844.000000</td>\n",
       "      <td>5844.000000</td>\n",
       "      <td>5844.000000</td>\n",
       "      <td>5844.000000</td>\n",
       "      <td>5844.000000</td>\n",
       "    </tr>\n",
       "    <tr>\n",
       "      <th>mean</th>\n",
       "      <td>2921.500000</td>\n",
       "      <td>2.065230</td>\n",
       "      <td>8.701641</td>\n",
       "      <td>3.782037</td>\n",
       "      <td>1.244513</td>\n",
       "      <td>0.609238</td>\n",
       "      <td>6.861581</td>\n",
       "      <td>8.072068</td>\n",
       "      <td>4.634996</td>\n",
       "      <td>5.872580</td>\n",
       "      <td>...</td>\n",
       "      <td>2.773654</td>\n",
       "      <td>31.129176</td>\n",
       "      <td>2.727765</td>\n",
       "      <td>22.918358</td>\n",
       "      <td>34.419904</td>\n",
       "      <td>19.838413</td>\n",
       "      <td>8.786860</td>\n",
       "      <td>9.732380</td>\n",
       "      <td>14.684019</td>\n",
       "      <td>17.137262</td>\n",
       "    </tr>\n",
       "    <tr>\n",
       "      <th>std</th>\n",
       "      <td>1687.161818</td>\n",
       "      <td>3.318011</td>\n",
       "      <td>16.604812</td>\n",
       "      <td>6.443618</td>\n",
       "      <td>1.659987</td>\n",
       "      <td>0.786046</td>\n",
       "      <td>9.750471</td>\n",
       "      <td>12.595158</td>\n",
       "      <td>5.803809</td>\n",
       "      <td>8.284670</td>\n",
       "      <td>...</td>\n",
       "      <td>3.359469</td>\n",
       "      <td>44.104732</td>\n",
       "      <td>4.175475</td>\n",
       "      <td>30.950859</td>\n",
       "      <td>44.396153</td>\n",
       "      <td>26.277089</td>\n",
       "      <td>11.085791</td>\n",
       "      <td>12.792926</td>\n",
       "      <td>19.090984</td>\n",
       "      <td>22.135360</td>\n",
       "    </tr>\n",
       "    <tr>\n",
       "      <th>min</th>\n",
       "      <td>0.000000</td>\n",
       "      <td>0.070312</td>\n",
       "      <td>0.031738</td>\n",
       "      <td>0.049316</td>\n",
       "      <td>0.005371</td>\n",
       "      <td>0.000000</td>\n",
       "      <td>0.456543</td>\n",
       "      <td>0.338867</td>\n",
       "      <td>0.229492</td>\n",
       "      <td>0.458008</td>\n",
       "      <td>...</td>\n",
       "      <td>0.126465</td>\n",
       "      <td>2.150879</td>\n",
       "      <td>0.126953</td>\n",
       "      <td>1.943848</td>\n",
       "      <td>2.670898</td>\n",
       "      <td>1.188477</td>\n",
       "      <td>0.577637</td>\n",
       "      <td>0.531738</td>\n",
       "      <td>0.848145</td>\n",
       "      <td>1.410156</td>\n",
       "    </tr>\n",
       "    <tr>\n",
       "      <th>25%</th>\n",
       "      <td>1460.750000</td>\n",
       "      <td>0.372070</td>\n",
       "      <td>1.113647</td>\n",
       "      <td>0.742065</td>\n",
       "      <td>0.436035</td>\n",
       "      <td>0.206055</td>\n",
       "      <td>1.189453</td>\n",
       "      <td>1.250732</td>\n",
       "      <td>1.385742</td>\n",
       "      <td>1.467163</td>\n",
       "      <td>...</td>\n",
       "      <td>0.789429</td>\n",
       "      <td>7.020630</td>\n",
       "      <td>0.508545</td>\n",
       "      <td>5.586914</td>\n",
       "      <td>6.640259</td>\n",
       "      <td>3.339722</td>\n",
       "      <td>2.418823</td>\n",
       "      <td>1.575806</td>\n",
       "      <td>2.431030</td>\n",
       "      <td>4.440613</td>\n",
       "    </tr>\n",
       "    <tr>\n",
       "      <th>50%</th>\n",
       "      <td>2921.500000</td>\n",
       "      <td>0.703613</td>\n",
       "      <td>2.235596</td>\n",
       "      <td>1.309326</td>\n",
       "      <td>0.692139</td>\n",
       "      <td>0.331055</td>\n",
       "      <td>2.266846</td>\n",
       "      <td>2.386719</td>\n",
       "      <td>2.383301</td>\n",
       "      <td>2.617920</td>\n",
       "      <td>...</td>\n",
       "      <td>1.390869</td>\n",
       "      <td>12.330566</td>\n",
       "      <td>0.925293</td>\n",
       "      <td>9.749634</td>\n",
       "      <td>13.361084</td>\n",
       "      <td>7.310547</td>\n",
       "      <td>4.059570</td>\n",
       "      <td>3.607788</td>\n",
       "      <td>5.620117</td>\n",
       "      <td>7.692871</td>\n",
       "    </tr>\n",
       "    <tr>\n",
       "      <th>75%</th>\n",
       "      <td>4382.250000</td>\n",
       "      <td>2.267517</td>\n",
       "      <td>8.215942</td>\n",
       "      <td>3.672729</td>\n",
       "      <td>1.265137</td>\n",
       "      <td>0.650879</td>\n",
       "      <td>8.665649</td>\n",
       "      <td>9.699341</td>\n",
       "      <td>5.271240</td>\n",
       "      <td>6.424683</td>\n",
       "      <td>...</td>\n",
       "      <td>3.475830</td>\n",
       "      <td>35.582764</td>\n",
       "      <td>3.093994</td>\n",
       "      <td>26.528442</td>\n",
       "      <td>46.256470</td>\n",
       "      <td>27.135620</td>\n",
       "      <td>10.476929</td>\n",
       "      <td>13.742798</td>\n",
       "      <td>20.706909</td>\n",
       "      <td>20.304932</td>\n",
       "    </tr>\n",
       "    <tr>\n",
       "      <th>max</th>\n",
       "      <td>5843.000000</td>\n",
       "      <td>59.634521</td>\n",
       "      <td>258.875244</td>\n",
       "      <td>70.223145</td>\n",
       "      <td>23.359863</td>\n",
       "      <td>10.918945</td>\n",
       "      <td>70.127930</td>\n",
       "      <td>105.832031</td>\n",
       "      <td>81.842285</td>\n",
       "      <td>115.033691</td>\n",
       "      <td>...</td>\n",
       "      <td>58.678711</td>\n",
       "      <td>373.480957</td>\n",
       "      <td>68.053223</td>\n",
       "      <td>268.267090</td>\n",
       "      <td>626.946045</td>\n",
       "      <td>205.709961</td>\n",
       "      <td>139.500000</td>\n",
       "      <td>116.867920</td>\n",
       "      <td>169.544434</td>\n",
       "      <td>227.846191</td>\n",
       "    </tr>\n",
       "  </tbody>\n",
       "</table>\n",
       "<p>8 rows × 22 columns</p>\n",
       "</div>"
      ],
      "text/plain": [
       "        Unnamed: 0      D09A011      D09A031      D09A034      D09A057  \\\n",
       "count  5844.000000  5844.000000  5844.000000  5844.000000  5844.000000   \n",
       "mean   2921.500000     2.065230     8.701641     3.782037     1.244513   \n",
       "std    1687.161818     3.318011    16.604812     6.443618     1.659987   \n",
       "min       0.000000     0.070312     0.031738     0.049316     0.005371   \n",
       "25%    1460.750000     0.372070     1.113647     0.742065     0.436035   \n",
       "50%    2921.500000     0.703613     2.235596     1.309326     0.692139   \n",
       "75%    4382.250000     2.267517     8.215942     3.672729     1.265137   \n",
       "max    5843.000000    59.634521   258.875244    70.223145    23.359863   \n",
       "\n",
       "           D09A065      D09A067      D09A068      D09A086      D09A089  ...  \\\n",
       "count  5844.000000  5844.000000  5844.000000  5844.000000  5844.000000  ...   \n",
       "mean      0.609238     6.861581     8.072068     4.634996     5.872580  ...   \n",
       "std       0.786046     9.750471    12.595158     5.803809     8.284670  ...   \n",
       "min       0.000000     0.456543     0.338867     0.229492     0.458008  ...   \n",
       "25%       0.206055     1.189453     1.250732     1.385742     1.467163  ...   \n",
       "50%       0.331055     2.266846     2.386719     2.383301     2.617920  ...   \n",
       "75%       0.650879     8.665649     9.699341     5.271240     6.424683  ...   \n",
       "max      10.918945    70.127930   105.832031    81.842285   115.033691  ...   \n",
       "\n",
       "           D09A100      D09A101      D09A122      E09A002      E09A012  \\\n",
       "count  5844.000000  5844.000000  5844.000000  5844.000000  5844.000000   \n",
       "mean      2.773654    31.129176     2.727765    22.918358    34.419904   \n",
       "std       3.359469    44.104732     4.175475    30.950859    44.396153   \n",
       "min       0.126465     2.150879     0.126953     1.943848     2.670898   \n",
       "25%       0.789429     7.020630     0.508545     5.586914     6.640259   \n",
       "50%       1.390869    12.330566     0.925293     9.749634    13.361084   \n",
       "75%       3.475830    35.582764     3.093994    26.528442    46.256470   \n",
       "max      58.678711   373.480957    68.053223   268.267090   626.946045   \n",
       "\n",
       "           E09A017      E09A021      E09A022      E09A024      E09A099  \n",
       "count  5844.000000  5844.000000  5844.000000  5844.000000  5844.000000  \n",
       "mean     19.838413     8.786860     9.732380    14.684019    17.137262  \n",
       "std      26.277089    11.085791    12.792926    19.090984    22.135360  \n",
       "min       1.188477     0.577637     0.531738     0.848145     1.410156  \n",
       "25%       3.339722     2.418823     1.575806     2.431030     4.440613  \n",
       "50%       7.310547     4.059570     3.607788     5.620117     7.692871  \n",
       "75%      27.135620    10.476929    13.742798    20.706909    20.304932  \n",
       "max     205.709961   139.500000   116.867920   169.544434   227.846191  \n",
       "\n",
       "[8 rows x 22 columns]"
      ]
     },
     "execution_count": 8,
     "metadata": {},
     "output_type": "execute_result"
    }
   ],
   "source": [
    "flw.describe()"
   ]
  },
  {
   "cell_type": "markdown",
   "id": "9cb87145",
   "metadata": {},
   "source": [
    "![green-divider](https://user-images.githubusercontent.com/7065401/52071924-c003ad80-2562-11e9-8297-1c6595f8a7ff.png)"
   ]
  },
  {
   "cell_type": "markdown",
   "id": "ad420ec3",
   "metadata": {},
   "source": [
    "_1) Akım dosyasındaki butun istasyon numaralarını okut (ornegin D09A011 ...), sonra bu okuttugun istasyonlar icin koordinat dosyasindan koordinatlarini (East ve north), alanını ve elevation bilgilerini bir dataframe e yazdir._"
   ]
  },
  {
   "cell_type": "code",
   "execution_count": 9,
   "id": "c340df51",
   "metadata": {},
   "outputs": [
    {
     "data": {
      "text/plain": [
       "Index(['Unnamed: 0', 'Historical_times', 'D09A011', 'D09A031', 'D09A034',\n",
       "       'D09A057', 'D09A065', 'D09A067', 'D09A068', 'D09A086', 'D09A089',\n",
       "       'D09A091', 'D09A095', 'D09A100', 'D09A101', 'D09A122', 'E09A002',\n",
       "       'E09A012', 'E09A017', 'E09A021', 'E09A022', 'E09A024', 'E09A099'],\n",
       "      dtype='object')"
      ]
     },
     "execution_count": 9,
     "metadata": {},
     "output_type": "execute_result"
    }
   ],
   "source": [
    "flw.columns"
   ]
  },
  {
   "cell_type": "markdown",
   "id": "19548d5f",
   "metadata": {},
   "source": [
    "*To see all column names in flw*"
   ]
  },
  {
   "cell_type": "code",
   "execution_count": 10,
   "id": "b6fdd0c9",
   "metadata": {},
   "outputs": [
    {
     "data": {
      "text/plain": [
       "Index(['D09A011', 'D09A031', 'D09A034', 'D09A057', 'D09A065', 'D09A067',\n",
       "       'D09A068', 'D09A086', 'D09A089', 'D09A091', 'D09A095', 'D09A100',\n",
       "       'D09A101', 'D09A122', 'E09A002', 'E09A012', 'E09A017', 'E09A021',\n",
       "       'E09A022', 'E09A024', 'E09A099'],\n",
       "      dtype='object')"
      ]
     },
     "execution_count": 10,
     "metadata": {},
     "output_type": "execute_result"
    }
   ],
   "source": [
    "flw.columns[2:]"
   ]
  },
  {
   "cell_type": "markdown",
   "id": "05f355ef",
   "metadata": {},
   "source": [
    "*index(0,1) are not station names so I exclude them*"
   ]
  },
  {
   "cell_type": "code",
   "execution_count": 11,
   "id": "e12d07f0",
   "metadata": {},
   "outputs": [],
   "source": [
    "lis=list(flw.columns.values[2:])"
   ]
  },
  {
   "cell_type": "code",
   "execution_count": 12,
   "id": "da2731cc",
   "metadata": {},
   "outputs": [
    {
     "data": {
      "text/plain": [
       "21"
      ]
     },
     "execution_count": 12,
     "metadata": {},
     "output_type": "execute_result"
    }
   ],
   "source": [
    "len(lis)"
   ]
  },
  {
   "cell_type": "markdown",
   "id": "c1494a6f",
   "metadata": {},
   "source": [
    "*list which contains all stations in flw*"
   ]
  },
  {
   "cell_type": "code",
   "execution_count": 13,
   "id": "ad3e9281",
   "metadata": {},
   "outputs": [
    {
     "data": {
      "text/plain": [
       "0    False\n",
       "1    False\n",
       "2     True\n",
       "3    False\n",
       "4    False\n",
       "5     True\n",
       "6     True\n",
       "7    False\n",
       "Name: stname, dtype: bool"
      ]
     },
     "execution_count": 13,
     "metadata": {},
     "output_type": "execute_result"
    }
   ],
   "source": [
    "cor['stname'].isin(lis).head(8)"
   ]
  },
  {
   "cell_type": "markdown",
   "id": "c9dc0376",
   "metadata": {},
   "source": [
    "*boolean series which shows all included station names as True others as False*"
   ]
  },
  {
   "cell_type": "code",
   "execution_count": 14,
   "id": "b6e47d17",
   "metadata": {},
   "outputs": [],
   "source": [
    "filt=cor['stname'].isin(lis)"
   ]
  },
  {
   "cell_type": "code",
   "execution_count": 15,
   "id": "2fcdc17a",
   "metadata": {},
   "outputs": [
    {
     "data": {
      "text/html": [
       "<div>\n",
       "<style scoped>\n",
       "    .dataframe tbody tr th:only-of-type {\n",
       "        vertical-align: middle;\n",
       "    }\n",
       "\n",
       "    .dataframe tbody tr th {\n",
       "        vertical-align: top;\n",
       "    }\n",
       "\n",
       "    .dataframe thead th {\n",
       "        text-align: right;\n",
       "    }\n",
       "</style>\n",
       "<table border=\"1\" class=\"dataframe\">\n",
       "  <thead>\n",
       "    <tr style=\"text-align: right;\">\n",
       "      <th></th>\n",
       "      <th>id</th>\n",
       "      <th>stname</th>\n",
       "      <th>area</th>\n",
       "      <th>elev</th>\n",
       "      <th>east</th>\n",
       "      <th>north</th>\n",
       "    </tr>\n",
       "  </thead>\n",
       "  <tbody>\n",
       "    <tr>\n",
       "      <th>2</th>\n",
       "      <td>2</td>\n",
       "      <td>D09A011</td>\n",
       "      <td>130.70</td>\n",
       "      <td>1190</td>\n",
       "      <td>30.050000</td>\n",
       "      <td>37.133333</td>\n",
       "    </tr>\n",
       "    <tr>\n",
       "      <th>5</th>\n",
       "      <td>5</td>\n",
       "      <td>D09A031</td>\n",
       "      <td>404.60</td>\n",
       "      <td>52</td>\n",
       "      <td>30.573611</td>\n",
       "      <td>36.934722</td>\n",
       "    </tr>\n",
       "    <tr>\n",
       "      <th>6</th>\n",
       "      <td>6</td>\n",
       "      <td>D09A034</td>\n",
       "      <td>238.60</td>\n",
       "      <td>62</td>\n",
       "      <td>30.942222</td>\n",
       "      <td>37.131667</td>\n",
       "    </tr>\n",
       "    <tr>\n",
       "      <th>10</th>\n",
       "      <td>10</td>\n",
       "      <td>D09A057</td>\n",
       "      <td>185.00</td>\n",
       "      <td>950</td>\n",
       "      <td>30.954722</td>\n",
       "      <td>38.299444</td>\n",
       "    </tr>\n",
       "    <tr>\n",
       "      <th>12</th>\n",
       "      <td>12</td>\n",
       "      <td>D09A065</td>\n",
       "      <td>103.48</td>\n",
       "      <td>1198</td>\n",
       "      <td>31.126944</td>\n",
       "      <td>38.394167</td>\n",
       "    </tr>\n",
       "    <tr>\n",
       "      <th>13</th>\n",
       "      <td>13</td>\n",
       "      <td>D09A067</td>\n",
       "      <td>303.20</td>\n",
       "      <td>100</td>\n",
       "      <td>31.622778</td>\n",
       "      <td>36.743889</td>\n",
       "    </tr>\n",
       "    <tr>\n",
       "      <th>14</th>\n",
       "      <td>14</td>\n",
       "      <td>D09A068</td>\n",
       "      <td>336.32</td>\n",
       "      <td>16</td>\n",
       "      <td>31.800000</td>\n",
       "      <td>36.613889</td>\n",
       "    </tr>\n",
       "    <tr>\n",
       "      <th>17</th>\n",
       "      <td>17</td>\n",
       "      <td>D09A086</td>\n",
       "      <td>349.00</td>\n",
       "      <td>1000</td>\n",
       "      <td>31.123611</td>\n",
       "      <td>37.623056</td>\n",
       "    </tr>\n",
       "    <tr>\n",
       "      <th>19</th>\n",
       "      <td>19</td>\n",
       "      <td>D09A089</td>\n",
       "      <td>313.90</td>\n",
       "      <td>320</td>\n",
       "      <td>30.912222</td>\n",
       "      <td>37.462778</td>\n",
       "    </tr>\n",
       "    <tr>\n",
       "      <th>20</th>\n",
       "      <td>20</td>\n",
       "      <td>D09A091</td>\n",
       "      <td>2000.00</td>\n",
       "      <td>300</td>\n",
       "      <td>30.580556</td>\n",
       "      <td>37.071944</td>\n",
       "    </tr>\n",
       "    <tr>\n",
       "      <th>21</th>\n",
       "      <td>21</td>\n",
       "      <td>D09A095</td>\n",
       "      <td>164.00</td>\n",
       "      <td>160</td>\n",
       "      <td>30.467222</td>\n",
       "      <td>36.825000</td>\n",
       "    </tr>\n",
       "    <tr>\n",
       "      <th>23</th>\n",
       "      <td>23</td>\n",
       "      <td>D09A100</td>\n",
       "      <td>223.00</td>\n",
       "      <td>1085</td>\n",
       "      <td>31.155556</td>\n",
       "      <td>37.659167</td>\n",
       "    </tr>\n",
       "    <tr>\n",
       "      <th>24</th>\n",
       "      <td>24</td>\n",
       "      <td>D09A101</td>\n",
       "      <td>2330.00</td>\n",
       "      <td>20</td>\n",
       "      <td>31.199722</td>\n",
       "      <td>36.980000</td>\n",
       "    </tr>\n",
       "    <tr>\n",
       "      <th>28</th>\n",
       "      <td>28</td>\n",
       "      <td>D09A122</td>\n",
       "      <td>144.84</td>\n",
       "      <td>80</td>\n",
       "      <td>31.284722</td>\n",
       "      <td>36.991667</td>\n",
       "    </tr>\n",
       "    <tr>\n",
       "      <th>34</th>\n",
       "      <td>34</td>\n",
       "      <td>E09A002</td>\n",
       "      <td>1942.40</td>\n",
       "      <td>116</td>\n",
       "      <td>31.188611</td>\n",
       "      <td>37.141667</td>\n",
       "    </tr>\n",
       "    <tr>\n",
       "      <th>35</th>\n",
       "      <td>35</td>\n",
       "      <td>E09A012</td>\n",
       "      <td>625.60</td>\n",
       "      <td>245</td>\n",
       "      <td>31.608611</td>\n",
       "      <td>36.979444</td>\n",
       "    </tr>\n",
       "    <tr>\n",
       "      <th>36</th>\n",
       "      <td>36</td>\n",
       "      <td>E09A017</td>\n",
       "      <td>875.50</td>\n",
       "      <td>28</td>\n",
       "      <td>31.726667</td>\n",
       "      <td>36.696944</td>\n",
       "    </tr>\n",
       "    <tr>\n",
       "      <th>38</th>\n",
       "      <td>38</td>\n",
       "      <td>E09A021</td>\n",
       "      <td>1005.50</td>\n",
       "      <td>738</td>\n",
       "      <td>31.202500</td>\n",
       "      <td>37.521667</td>\n",
       "    </tr>\n",
       "    <tr>\n",
       "      <th>39</th>\n",
       "      <td>39</td>\n",
       "      <td>E09A022</td>\n",
       "      <td>396.30</td>\n",
       "      <td>382</td>\n",
       "      <td>32.107222</td>\n",
       "      <td>36.781389</td>\n",
       "    </tr>\n",
       "    <tr>\n",
       "      <th>40</th>\n",
       "      <td>40</td>\n",
       "      <td>E09A024</td>\n",
       "      <td>611.00</td>\n",
       "      <td>250</td>\n",
       "      <td>32.016667</td>\n",
       "      <td>36.759167</td>\n",
       "    </tr>\n",
       "  </tbody>\n",
       "</table>\n",
       "</div>"
      ],
      "text/plain": [
       "    id   stname     area  elev       east      north\n",
       "2    2  D09A011   130.70  1190  30.050000  37.133333\n",
       "5    5  D09A031   404.60    52  30.573611  36.934722\n",
       "6    6  D09A034   238.60    62  30.942222  37.131667\n",
       "10  10  D09A057   185.00   950  30.954722  38.299444\n",
       "12  12  D09A065   103.48  1198  31.126944  38.394167\n",
       "13  13  D09A067   303.20   100  31.622778  36.743889\n",
       "14  14  D09A068   336.32    16  31.800000  36.613889\n",
       "17  17  D09A086   349.00  1000  31.123611  37.623056\n",
       "19  19  D09A089   313.90   320  30.912222  37.462778\n",
       "20  20  D09A091  2000.00   300  30.580556  37.071944\n",
       "21  21  D09A095   164.00   160  30.467222  36.825000\n",
       "23  23  D09A100   223.00  1085  31.155556  37.659167\n",
       "24  24  D09A101  2330.00    20  31.199722  36.980000\n",
       "28  28  D09A122   144.84    80  31.284722  36.991667\n",
       "34  34  E09A002  1942.40   116  31.188611  37.141667\n",
       "35  35  E09A012   625.60   245  31.608611  36.979444\n",
       "36  36  E09A017   875.50    28  31.726667  36.696944\n",
       "38  38  E09A021  1005.50   738  31.202500  37.521667\n",
       "39  39  E09A022   396.30   382  32.107222  36.781389\n",
       "40  40  E09A024   611.00   250  32.016667  36.759167"
      ]
     },
     "execution_count": 15,
     "metadata": {},
     "output_type": "execute_result"
    }
   ],
   "source": [
    "cor[filt]"
   ]
  },
  {
   "cell_type": "markdown",
   "id": "67c8e7f8",
   "metadata": {},
   "source": [
    "*Boolean series named as filt and used to filter dataframe to show needed stations*"
   ]
  },
  {
   "cell_type": "code",
   "execution_count": 16,
   "id": "7bffe00c",
   "metadata": {},
   "outputs": [],
   "source": [
    "que1 =cor[filt]"
   ]
  },
  {
   "cell_type": "code",
   "execution_count": 17,
   "id": "279d2637",
   "metadata": {},
   "outputs": [
    {
     "data": {
      "text/plain": [
       "20"
      ]
     },
     "execution_count": 17,
     "metadata": {},
     "output_type": "execute_result"
    }
   ],
   "source": [
    "que1.stname.count()"
   ]
  },
  {
   "cell_type": "markdown",
   "id": "a739c90a",
   "metadata": {},
   "source": [
    "*que1 is a dataframe which contains answer of question1*"
   ]
  },
  {
   "cell_type": "code",
   "execution_count": 18,
   "id": "594ae827",
   "metadata": {},
   "outputs": [
    {
     "data": {
      "text/html": [
       "<div>\n",
       "<style scoped>\n",
       "    .dataframe tbody tr th:only-of-type {\n",
       "        vertical-align: middle;\n",
       "    }\n",
       "\n",
       "    .dataframe tbody tr th {\n",
       "        vertical-align: top;\n",
       "    }\n",
       "\n",
       "    .dataframe thead th {\n",
       "        text-align: right;\n",
       "    }\n",
       "</style>\n",
       "<table border=\"1\" class=\"dataframe\">\n",
       "  <thead>\n",
       "    <tr style=\"text-align: right;\">\n",
       "      <th></th>\n",
       "      <th>id</th>\n",
       "      <th>stname</th>\n",
       "      <th>area</th>\n",
       "      <th>elev</th>\n",
       "      <th>east</th>\n",
       "      <th>north</th>\n",
       "    </tr>\n",
       "  </thead>\n",
       "  <tbody>\n",
       "    <tr>\n",
       "      <th>2</th>\n",
       "      <td>2</td>\n",
       "      <td>D09A011</td>\n",
       "      <td>130.70</td>\n",
       "      <td>1190</td>\n",
       "      <td>30.050000</td>\n",
       "      <td>37.133333</td>\n",
       "    </tr>\n",
       "    <tr>\n",
       "      <th>5</th>\n",
       "      <td>5</td>\n",
       "      <td>D09A031</td>\n",
       "      <td>404.60</td>\n",
       "      <td>52</td>\n",
       "      <td>30.573611</td>\n",
       "      <td>36.934722</td>\n",
       "    </tr>\n",
       "    <tr>\n",
       "      <th>6</th>\n",
       "      <td>6</td>\n",
       "      <td>D09A034</td>\n",
       "      <td>238.60</td>\n",
       "      <td>62</td>\n",
       "      <td>30.942222</td>\n",
       "      <td>37.131667</td>\n",
       "    </tr>\n",
       "    <tr>\n",
       "      <th>10</th>\n",
       "      <td>10</td>\n",
       "      <td>D09A057</td>\n",
       "      <td>185.00</td>\n",
       "      <td>950</td>\n",
       "      <td>30.954722</td>\n",
       "      <td>38.299444</td>\n",
       "    </tr>\n",
       "    <tr>\n",
       "      <th>12</th>\n",
       "      <td>12</td>\n",
       "      <td>D09A065</td>\n",
       "      <td>103.48</td>\n",
       "      <td>1198</td>\n",
       "      <td>31.126944</td>\n",
       "      <td>38.394167</td>\n",
       "    </tr>\n",
       "    <tr>\n",
       "      <th>13</th>\n",
       "      <td>13</td>\n",
       "      <td>D09A067</td>\n",
       "      <td>303.20</td>\n",
       "      <td>100</td>\n",
       "      <td>31.622778</td>\n",
       "      <td>36.743889</td>\n",
       "    </tr>\n",
       "    <tr>\n",
       "      <th>14</th>\n",
       "      <td>14</td>\n",
       "      <td>D09A068</td>\n",
       "      <td>336.32</td>\n",
       "      <td>16</td>\n",
       "      <td>31.800000</td>\n",
       "      <td>36.613889</td>\n",
       "    </tr>\n",
       "    <tr>\n",
       "      <th>17</th>\n",
       "      <td>17</td>\n",
       "      <td>D09A086</td>\n",
       "      <td>349.00</td>\n",
       "      <td>1000</td>\n",
       "      <td>31.123611</td>\n",
       "      <td>37.623056</td>\n",
       "    </tr>\n",
       "    <tr>\n",
       "      <th>19</th>\n",
       "      <td>19</td>\n",
       "      <td>D09A089</td>\n",
       "      <td>313.90</td>\n",
       "      <td>320</td>\n",
       "      <td>30.912222</td>\n",
       "      <td>37.462778</td>\n",
       "    </tr>\n",
       "    <tr>\n",
       "      <th>20</th>\n",
       "      <td>20</td>\n",
       "      <td>D09A091</td>\n",
       "      <td>2000.00</td>\n",
       "      <td>300</td>\n",
       "      <td>30.580556</td>\n",
       "      <td>37.071944</td>\n",
       "    </tr>\n",
       "    <tr>\n",
       "      <th>21</th>\n",
       "      <td>21</td>\n",
       "      <td>D09A095</td>\n",
       "      <td>164.00</td>\n",
       "      <td>160</td>\n",
       "      <td>30.467222</td>\n",
       "      <td>36.825000</td>\n",
       "    </tr>\n",
       "    <tr>\n",
       "      <th>23</th>\n",
       "      <td>23</td>\n",
       "      <td>D09A100</td>\n",
       "      <td>223.00</td>\n",
       "      <td>1085</td>\n",
       "      <td>31.155556</td>\n",
       "      <td>37.659167</td>\n",
       "    </tr>\n",
       "    <tr>\n",
       "      <th>24</th>\n",
       "      <td>24</td>\n",
       "      <td>D09A101</td>\n",
       "      <td>2330.00</td>\n",
       "      <td>20</td>\n",
       "      <td>31.199722</td>\n",
       "      <td>36.980000</td>\n",
       "    </tr>\n",
       "    <tr>\n",
       "      <th>28</th>\n",
       "      <td>28</td>\n",
       "      <td>D09A122</td>\n",
       "      <td>144.84</td>\n",
       "      <td>80</td>\n",
       "      <td>31.284722</td>\n",
       "      <td>36.991667</td>\n",
       "    </tr>\n",
       "    <tr>\n",
       "      <th>34</th>\n",
       "      <td>34</td>\n",
       "      <td>E09A002</td>\n",
       "      <td>1942.40</td>\n",
       "      <td>116</td>\n",
       "      <td>31.188611</td>\n",
       "      <td>37.141667</td>\n",
       "    </tr>\n",
       "    <tr>\n",
       "      <th>35</th>\n",
       "      <td>35</td>\n",
       "      <td>E09A012</td>\n",
       "      <td>625.60</td>\n",
       "      <td>245</td>\n",
       "      <td>31.608611</td>\n",
       "      <td>36.979444</td>\n",
       "    </tr>\n",
       "    <tr>\n",
       "      <th>36</th>\n",
       "      <td>36</td>\n",
       "      <td>E09A017</td>\n",
       "      <td>875.50</td>\n",
       "      <td>28</td>\n",
       "      <td>31.726667</td>\n",
       "      <td>36.696944</td>\n",
       "    </tr>\n",
       "    <tr>\n",
       "      <th>38</th>\n",
       "      <td>38</td>\n",
       "      <td>E09A021</td>\n",
       "      <td>1005.50</td>\n",
       "      <td>738</td>\n",
       "      <td>31.202500</td>\n",
       "      <td>37.521667</td>\n",
       "    </tr>\n",
       "    <tr>\n",
       "      <th>39</th>\n",
       "      <td>39</td>\n",
       "      <td>E09A022</td>\n",
       "      <td>396.30</td>\n",
       "      <td>382</td>\n",
       "      <td>32.107222</td>\n",
       "      <td>36.781389</td>\n",
       "    </tr>\n",
       "    <tr>\n",
       "      <th>40</th>\n",
       "      <td>40</td>\n",
       "      <td>E09A024</td>\n",
       "      <td>611.00</td>\n",
       "      <td>250</td>\n",
       "      <td>32.016667</td>\n",
       "      <td>36.759167</td>\n",
       "    </tr>\n",
       "  </tbody>\n",
       "</table>\n",
       "</div>"
      ],
      "text/plain": [
       "    id   stname     area  elev       east      north\n",
       "2    2  D09A011   130.70  1190  30.050000  37.133333\n",
       "5    5  D09A031   404.60    52  30.573611  36.934722\n",
       "6    6  D09A034   238.60    62  30.942222  37.131667\n",
       "10  10  D09A057   185.00   950  30.954722  38.299444\n",
       "12  12  D09A065   103.48  1198  31.126944  38.394167\n",
       "13  13  D09A067   303.20   100  31.622778  36.743889\n",
       "14  14  D09A068   336.32    16  31.800000  36.613889\n",
       "17  17  D09A086   349.00  1000  31.123611  37.623056\n",
       "19  19  D09A089   313.90   320  30.912222  37.462778\n",
       "20  20  D09A091  2000.00   300  30.580556  37.071944\n",
       "21  21  D09A095   164.00   160  30.467222  36.825000\n",
       "23  23  D09A100   223.00  1085  31.155556  37.659167\n",
       "24  24  D09A101  2330.00    20  31.199722  36.980000\n",
       "28  28  D09A122   144.84    80  31.284722  36.991667\n",
       "34  34  E09A002  1942.40   116  31.188611  37.141667\n",
       "35  35  E09A012   625.60   245  31.608611  36.979444\n",
       "36  36  E09A017   875.50    28  31.726667  36.696944\n",
       "38  38  E09A021  1005.50   738  31.202500  37.521667\n",
       "39  39  E09A022   396.30   382  32.107222  36.781389\n",
       "40  40  E09A024   611.00   250  32.016667  36.759167"
      ]
     },
     "execution_count": 18,
     "metadata": {},
     "output_type": "execute_result"
    }
   ],
   "source": [
    "que1"
   ]
  },
  {
   "cell_type": "code",
   "execution_count": 19,
   "id": "98e173ee",
   "metadata": {},
   "outputs": [],
   "source": [
    "que1.to_excel('Question_1.xlsx')"
   ]
  },
  {
   "cell_type": "markdown",
   "id": "6b573310",
   "metadata": {},
   "source": [
    "![green-divider](https://user-images.githubusercontent.com/7065401/52071924-c003ad80-2562-11e9-8297-1c6595f8a7ff.png)"
   ]
  },
  {
   "cell_type": "markdown",
   "id": "84942ac1",
   "metadata": {},
   "source": [
    "*2) leaflet ile Turkiye haritasi sekli olustur ve bu Turkiye haritasina koordinatlari kullanarak akim gozlem istasyonlarının yerlerine bir marker koy. MArker uzerinde ise istasyon numarasi label i olsun. Marker altinda ise istasyon alani ve elevation bilgileri olsun.*"
   ]
  },
  {
   "cell_type": "code",
   "execution_count": 20,
   "id": "01c55bef",
   "metadata": {},
   "outputs": [],
   "source": [
    "#conda install -c conda-forge folium"
   ]
  },
  {
   "cell_type": "markdown",
   "id": "4fdb1e4b",
   "metadata": {},
   "source": [
    "_To upload Folium_"
   ]
  },
  {
   "cell_type": "code",
   "execution_count": 21,
   "id": "7f2f3ea8",
   "metadata": {},
   "outputs": [],
   "source": [
    "import folium\n",
    "from folium.plugins import MarkerCluster\n",
    "import pandas as pd"
   ]
  },
  {
   "cell_type": "code",
   "execution_count": 22,
   "id": "7d198638",
   "metadata": {},
   "outputs": [],
   "source": [
    "#Define coordinates of where we want to center our map\n",
    "boulder_coords = [36.884804, 30.704044]"
   ]
  },
  {
   "cell_type": "code",
   "execution_count": 23,
   "id": "329e6183",
   "metadata": {},
   "outputs": [],
   "source": [
    "my_map = folium.Map(location = boulder_coords, zoom_start = 8)"
   ]
  },
  {
   "cell_type": "code",
   "execution_count": 24,
   "id": "d83b5201",
   "metadata": {},
   "outputs": [
    {
     "data": {
      "text/html": [
       "<div style=\"width:100%;\"><div style=\"position:relative;width:100%;height:0;padding-bottom:60%;\"><span style=\"color:#565656\">Make this Notebook Trusted to load map: File -> Trust Notebook</span><iframe src=\"about:blank\" style=\"position:absolute;width:100%;height:100%;left:0;top:0;border:none !important;\" data-html=%3C%21DOCTYPE%20html%3E%0A%3Chead%3E%20%20%20%20%0A%20%20%20%20%3Cmeta%20http-equiv%3D%22content-type%22%20content%3D%22text/html%3B%20charset%3DUTF-8%22%20/%3E%0A%20%20%20%20%0A%20%20%20%20%20%20%20%20%3Cscript%3E%0A%20%20%20%20%20%20%20%20%20%20%20%20L_NO_TOUCH%20%3D%20false%3B%0A%20%20%20%20%20%20%20%20%20%20%20%20L_DISABLE_3D%20%3D%20false%3B%0A%20%20%20%20%20%20%20%20%3C/script%3E%0A%20%20%20%20%0A%20%20%20%20%3Cstyle%3Ehtml%2C%20body%20%7Bwidth%3A%20100%25%3Bheight%3A%20100%25%3Bmargin%3A%200%3Bpadding%3A%200%3B%7D%3C/style%3E%0A%20%20%20%20%3Cstyle%3E%23map%20%7Bposition%3Aabsolute%3Btop%3A0%3Bbottom%3A0%3Bright%3A0%3Bleft%3A0%3B%7D%3C/style%3E%0A%20%20%20%20%3Cscript%20src%3D%22https%3A//cdn.jsdelivr.net/npm/leaflet%401.6.0/dist/leaflet.js%22%3E%3C/script%3E%0A%20%20%20%20%3Cscript%20src%3D%22https%3A//code.jquery.com/jquery-1.12.4.min.js%22%3E%3C/script%3E%0A%20%20%20%20%3Cscript%20src%3D%22https%3A//maxcdn.bootstrapcdn.com/bootstrap/3.2.0/js/bootstrap.min.js%22%3E%3C/script%3E%0A%20%20%20%20%3Cscript%20src%3D%22https%3A//cdnjs.cloudflare.com/ajax/libs/Leaflet.awesome-markers/2.0.2/leaflet.awesome-markers.js%22%3E%3C/script%3E%0A%20%20%20%20%3Clink%20rel%3D%22stylesheet%22%20href%3D%22https%3A//cdn.jsdelivr.net/npm/leaflet%401.6.0/dist/leaflet.css%22/%3E%0A%20%20%20%20%3Clink%20rel%3D%22stylesheet%22%20href%3D%22https%3A//maxcdn.bootstrapcdn.com/bootstrap/3.2.0/css/bootstrap.min.css%22/%3E%0A%20%20%20%20%3Clink%20rel%3D%22stylesheet%22%20href%3D%22https%3A//maxcdn.bootstrapcdn.com/bootstrap/3.2.0/css/bootstrap-theme.min.css%22/%3E%0A%20%20%20%20%3Clink%20rel%3D%22stylesheet%22%20href%3D%22https%3A//maxcdn.bootstrapcdn.com/font-awesome/4.6.3/css/font-awesome.min.css%22/%3E%0A%20%20%20%20%3Clink%20rel%3D%22stylesheet%22%20href%3D%22https%3A//cdnjs.cloudflare.com/ajax/libs/Leaflet.awesome-markers/2.0.2/leaflet.awesome-markers.css%22/%3E%0A%20%20%20%20%3Clink%20rel%3D%22stylesheet%22%20href%3D%22https%3A//cdn.jsdelivr.net/gh/python-visualization/folium/folium/templates/leaflet.awesome.rotate.min.css%22/%3E%0A%20%20%20%20%0A%20%20%20%20%20%20%20%20%20%20%20%20%3Cmeta%20name%3D%22viewport%22%20content%3D%22width%3Ddevice-width%2C%0A%20%20%20%20%20%20%20%20%20%20%20%20%20%20%20%20initial-scale%3D1.0%2C%20maximum-scale%3D1.0%2C%20user-scalable%3Dno%22%20/%3E%0A%20%20%20%20%20%20%20%20%20%20%20%20%3Cstyle%3E%0A%20%20%20%20%20%20%20%20%20%20%20%20%20%20%20%20%23map_dc56837fac3e44ec992c0714d33fb194%20%7B%0A%20%20%20%20%20%20%20%20%20%20%20%20%20%20%20%20%20%20%20%20position%3A%20relative%3B%0A%20%20%20%20%20%20%20%20%20%20%20%20%20%20%20%20%20%20%20%20width%3A%20100.0%25%3B%0A%20%20%20%20%20%20%20%20%20%20%20%20%20%20%20%20%20%20%20%20height%3A%20100.0%25%3B%0A%20%20%20%20%20%20%20%20%20%20%20%20%20%20%20%20%20%20%20%20left%3A%200.0%25%3B%0A%20%20%20%20%20%20%20%20%20%20%20%20%20%20%20%20%20%20%20%20top%3A%200.0%25%3B%0A%20%20%20%20%20%20%20%20%20%20%20%20%20%20%20%20%7D%0A%20%20%20%20%20%20%20%20%20%20%20%20%3C/style%3E%0A%20%20%20%20%20%20%20%20%0A%3C/head%3E%0A%3Cbody%3E%20%20%20%20%0A%20%20%20%20%0A%20%20%20%20%20%20%20%20%20%20%20%20%3Cdiv%20class%3D%22folium-map%22%20id%3D%22map_dc56837fac3e44ec992c0714d33fb194%22%20%3E%3C/div%3E%0A%20%20%20%20%20%20%20%20%0A%3C/body%3E%0A%3Cscript%3E%20%20%20%20%0A%20%20%20%20%0A%20%20%20%20%20%20%20%20%20%20%20%20var%20map_dc56837fac3e44ec992c0714d33fb194%20%3D%20L.map%28%0A%20%20%20%20%20%20%20%20%20%20%20%20%20%20%20%20%22map_dc56837fac3e44ec992c0714d33fb194%22%2C%0A%20%20%20%20%20%20%20%20%20%20%20%20%20%20%20%20%7B%0A%20%20%20%20%20%20%20%20%20%20%20%20%20%20%20%20%20%20%20%20center%3A%20%5B36.884804%2C%2030.704044%5D%2C%0A%20%20%20%20%20%20%20%20%20%20%20%20%20%20%20%20%20%20%20%20crs%3A%20L.CRS.EPSG3857%2C%0A%20%20%20%20%20%20%20%20%20%20%20%20%20%20%20%20%20%20%20%20zoom%3A%208%2C%0A%20%20%20%20%20%20%20%20%20%20%20%20%20%20%20%20%20%20%20%20zoomControl%3A%20true%2C%0A%20%20%20%20%20%20%20%20%20%20%20%20%20%20%20%20%20%20%20%20preferCanvas%3A%20false%2C%0A%20%20%20%20%20%20%20%20%20%20%20%20%20%20%20%20%7D%0A%20%20%20%20%20%20%20%20%20%20%20%20%29%3B%0A%0A%20%20%20%20%20%20%20%20%20%20%20%20%0A%0A%20%20%20%20%20%20%20%20%0A%20%20%20%20%0A%20%20%20%20%20%20%20%20%20%20%20%20var%20tile_layer_5dbec07ff9c6469a9305a5263c48a4d4%20%3D%20L.tileLayer%28%0A%20%20%20%20%20%20%20%20%20%20%20%20%20%20%20%20%22https%3A//%7Bs%7D.tile.openstreetmap.org/%7Bz%7D/%7Bx%7D/%7By%7D.png%22%2C%0A%20%20%20%20%20%20%20%20%20%20%20%20%20%20%20%20%7B%22attribution%22%3A%20%22Data%20by%20%5Cu0026copy%3B%20%5Cu003ca%20href%3D%5C%22http%3A//openstreetmap.org%5C%22%5Cu003eOpenStreetMap%5Cu003c/a%5Cu003e%2C%20under%20%5Cu003ca%20href%3D%5C%22http%3A//www.openstreetmap.org/copyright%5C%22%5Cu003eODbL%5Cu003c/a%5Cu003e.%22%2C%20%22detectRetina%22%3A%20false%2C%20%22maxNativeZoom%22%3A%2018%2C%20%22maxZoom%22%3A%2018%2C%20%22minZoom%22%3A%200%2C%20%22noWrap%22%3A%20false%2C%20%22opacity%22%3A%201%2C%20%22subdomains%22%3A%20%22abc%22%2C%20%22tms%22%3A%20false%7D%0A%20%20%20%20%20%20%20%20%20%20%20%20%29.addTo%28map_dc56837fac3e44ec992c0714d33fb194%29%3B%0A%20%20%20%20%20%20%20%20%0A%3C/script%3E onload=\"this.contentDocument.open();this.contentDocument.write(    decodeURIComponent(this.getAttribute('data-html')));this.contentDocument.close();\" allowfullscreen webkitallowfullscreen mozallowfullscreen></iframe></div></div>"
      ],
      "text/plain": [
       "<folium.folium.Map at 0x218cdd57ca0>"
      ]
     },
     "execution_count": 24,
     "metadata": {},
     "output_type": "execute_result"
    }
   ],
   "source": [
    "my_map"
   ]
  },
  {
   "cell_type": "code",
   "execution_count": 25,
   "id": "655bf9f3",
   "metadata": {},
   "outputs": [],
   "source": [
    "east = que1.east\n",
    "north = que1.north\n",
    "name = que1.stname\n",
    "elevation = que1.elev\n",
    "area = que1.area"
   ]
  },
  {
   "cell_type": "markdown",
   "id": "239c43c1",
   "metadata": {},
   "source": [
    "_Series contain needed variables_"
   ]
  },
  {
   "cell_type": "code",
   "execution_count": 26,
   "id": "4dc5d73b",
   "metadata": {},
   "outputs": [
    {
     "data": {
      "text/plain": [
       "2    30.050000\n",
       "5    30.573611\n",
       "6    30.942222\n",
       "Name: east, dtype: float64"
      ]
     },
     "execution_count": 26,
     "metadata": {},
     "output_type": "execute_result"
    }
   ],
   "source": [
    "east.head(3)"
   ]
  },
  {
   "cell_type": "code",
   "execution_count": 27,
   "id": "b5370974",
   "metadata": {},
   "outputs": [
    {
     "data": {
      "text/plain": [
       "(20,)"
      ]
     },
     "execution_count": 27,
     "metadata": {},
     "output_type": "execute_result"
    }
   ],
   "source": [
    "east.shape"
   ]
  },
  {
   "cell_type": "code",
   "execution_count": 28,
   "id": "58b4f8f5",
   "metadata": {},
   "outputs": [
    {
     "data": {
      "text/plain": [
       "2    30.05\n",
       "Name: east, dtype: float64"
      ]
     },
     "execution_count": 28,
     "metadata": {},
     "output_type": "execute_result"
    }
   ],
   "source": [
    "east[0:1]"
   ]
  },
  {
   "cell_type": "code",
   "execution_count": 29,
   "id": "4665e434",
   "metadata": {},
   "outputs": [
    {
     "data": {
      "text/plain": [
       "37.13333333333333"
      ]
     },
     "execution_count": 29,
     "metadata": {},
     "output_type": "execute_result"
    }
   ],
   "source": [
    "north.iloc[0]"
   ]
  },
  {
   "cell_type": "code",
   "execution_count": 30,
   "id": "2d9ce093",
   "metadata": {},
   "outputs": [
    {
     "data": {
      "text/plain": [
       "30.05"
      ]
     },
     "execution_count": 30,
     "metadata": {},
     "output_type": "execute_result"
    }
   ],
   "source": [
    "east.iloc[0]"
   ]
  },
  {
   "cell_type": "code",
   "execution_count": 31,
   "id": "881e2bb1",
   "metadata": {},
   "outputs": [
    {
     "data": {
      "text/plain": [
       "<folium.map.Marker at 0x218c8d9ad00>"
      ]
     },
     "execution_count": 31,
     "metadata": {},
     "output_type": "execute_result"
    }
   ],
   "source": [
    "station_coords = [north.iloc[1], east.iloc[1]]\n",
    "folium.Marker(station_coords, popup = name.iloc[1]).add_to(my_map)"
   ]
  },
  {
   "cell_type": "code",
   "execution_count": 32,
   "id": "303fca2b",
   "metadata": {},
   "outputs": [
    {
     "data": {
      "text/plain": [
       "<folium.map.Marker at 0x218cc645a90>"
      ]
     },
     "execution_count": 32,
     "metadata": {},
     "output_type": "execute_result"
    }
   ],
   "source": [
    "station_coords = [37.13333333333333,30.05]\n",
    "folium.Marker(station_coords, popup = name.iloc[0]).add_to(my_map)"
   ]
  },
  {
   "cell_type": "code",
   "execution_count": 33,
   "id": "8e456919",
   "metadata": {},
   "outputs": [],
   "source": [
    "for i in range(que1.stname.count()):\n",
    "    station_coords = [north.iloc[i], east.iloc[i]]\n",
    "    folium.Marker(station_coords, popup = ['Station Name:',name.iloc[i], '\\t Elevation:',elevation.iloc[i], '\\t Area:', area.iloc[i]] ).add_to(my_map)"
   ]
  },
  {
   "cell_type": "code",
   "execution_count": 34,
   "id": "a28c40a8",
   "metadata": {},
   "outputs": [
    {
     "data": {
      "text/html": [
       "<div style=\"width:100%;\"><div style=\"position:relative;width:100%;height:0;padding-bottom:60%;\"><span style=\"color:#565656\">Make this Notebook Trusted to load map: File -> Trust Notebook</span><iframe src=\"about:blank\" style=\"position:absolute;width:100%;height:100%;left:0;top:0;border:none !important;\" data-html=%3C%21DOCTYPE%20html%3E%0A%3Chead%3E%20%20%20%20%0A%20%20%20%20%3Cmeta%20http-equiv%3D%22content-type%22%20content%3D%22text/html%3B%20charset%3DUTF-8%22%20/%3E%0A%20%20%20%20%0A%20%20%20%20%20%20%20%20%3Cscript%3E%0A%20%20%20%20%20%20%20%20%20%20%20%20L_NO_TOUCH%20%3D%20false%3B%0A%20%20%20%20%20%20%20%20%20%20%20%20L_DISABLE_3D%20%3D%20false%3B%0A%20%20%20%20%20%20%20%20%3C/script%3E%0A%20%20%20%20%0A%20%20%20%20%3Cstyle%3Ehtml%2C%20body%20%7Bwidth%3A%20100%25%3Bheight%3A%20100%25%3Bmargin%3A%200%3Bpadding%3A%200%3B%7D%3C/style%3E%0A%20%20%20%20%3Cstyle%3E%23map%20%7Bposition%3Aabsolute%3Btop%3A0%3Bbottom%3A0%3Bright%3A0%3Bleft%3A0%3B%7D%3C/style%3E%0A%20%20%20%20%3Cscript%20src%3D%22https%3A//cdn.jsdelivr.net/npm/leaflet%401.6.0/dist/leaflet.js%22%3E%3C/script%3E%0A%20%20%20%20%3Cscript%20src%3D%22https%3A//code.jquery.com/jquery-1.12.4.min.js%22%3E%3C/script%3E%0A%20%20%20%20%3Cscript%20src%3D%22https%3A//maxcdn.bootstrapcdn.com/bootstrap/3.2.0/js/bootstrap.min.js%22%3E%3C/script%3E%0A%20%20%20%20%3Cscript%20src%3D%22https%3A//cdnjs.cloudflare.com/ajax/libs/Leaflet.awesome-markers/2.0.2/leaflet.awesome-markers.js%22%3E%3C/script%3E%0A%20%20%20%20%3Clink%20rel%3D%22stylesheet%22%20href%3D%22https%3A//cdn.jsdelivr.net/npm/leaflet%401.6.0/dist/leaflet.css%22/%3E%0A%20%20%20%20%3Clink%20rel%3D%22stylesheet%22%20href%3D%22https%3A//maxcdn.bootstrapcdn.com/bootstrap/3.2.0/css/bootstrap.min.css%22/%3E%0A%20%20%20%20%3Clink%20rel%3D%22stylesheet%22%20href%3D%22https%3A//maxcdn.bootstrapcdn.com/bootstrap/3.2.0/css/bootstrap-theme.min.css%22/%3E%0A%20%20%20%20%3Clink%20rel%3D%22stylesheet%22%20href%3D%22https%3A//maxcdn.bootstrapcdn.com/font-awesome/4.6.3/css/font-awesome.min.css%22/%3E%0A%20%20%20%20%3Clink%20rel%3D%22stylesheet%22%20href%3D%22https%3A//cdnjs.cloudflare.com/ajax/libs/Leaflet.awesome-markers/2.0.2/leaflet.awesome-markers.css%22/%3E%0A%20%20%20%20%3Clink%20rel%3D%22stylesheet%22%20href%3D%22https%3A//cdn.jsdelivr.net/gh/python-visualization/folium/folium/templates/leaflet.awesome.rotate.min.css%22/%3E%0A%20%20%20%20%0A%20%20%20%20%20%20%20%20%20%20%20%20%3Cmeta%20name%3D%22viewport%22%20content%3D%22width%3Ddevice-width%2C%0A%20%20%20%20%20%20%20%20%20%20%20%20%20%20%20%20initial-scale%3D1.0%2C%20maximum-scale%3D1.0%2C%20user-scalable%3Dno%22%20/%3E%0A%20%20%20%20%20%20%20%20%20%20%20%20%3Cstyle%3E%0A%20%20%20%20%20%20%20%20%20%20%20%20%20%20%20%20%23map_dc56837fac3e44ec992c0714d33fb194%20%7B%0A%20%20%20%20%20%20%20%20%20%20%20%20%20%20%20%20%20%20%20%20position%3A%20relative%3B%0A%20%20%20%20%20%20%20%20%20%20%20%20%20%20%20%20%20%20%20%20width%3A%20100.0%25%3B%0A%20%20%20%20%20%20%20%20%20%20%20%20%20%20%20%20%20%20%20%20height%3A%20100.0%25%3B%0A%20%20%20%20%20%20%20%20%20%20%20%20%20%20%20%20%20%20%20%20left%3A%200.0%25%3B%0A%20%20%20%20%20%20%20%20%20%20%20%20%20%20%20%20%20%20%20%20top%3A%200.0%25%3B%0A%20%20%20%20%20%20%20%20%20%20%20%20%20%20%20%20%7D%0A%20%20%20%20%20%20%20%20%20%20%20%20%3C/style%3E%0A%20%20%20%20%20%20%20%20%0A%3C/head%3E%0A%3Cbody%3E%20%20%20%20%0A%20%20%20%20%0A%20%20%20%20%20%20%20%20%20%20%20%20%3Cdiv%20class%3D%22folium-map%22%20id%3D%22map_dc56837fac3e44ec992c0714d33fb194%22%20%3E%3C/div%3E%0A%20%20%20%20%20%20%20%20%0A%3C/body%3E%0A%3Cscript%3E%20%20%20%20%0A%20%20%20%20%0A%20%20%20%20%20%20%20%20%20%20%20%20var%20map_dc56837fac3e44ec992c0714d33fb194%20%3D%20L.map%28%0A%20%20%20%20%20%20%20%20%20%20%20%20%20%20%20%20%22map_dc56837fac3e44ec992c0714d33fb194%22%2C%0A%20%20%20%20%20%20%20%20%20%20%20%20%20%20%20%20%7B%0A%20%20%20%20%20%20%20%20%20%20%20%20%20%20%20%20%20%20%20%20center%3A%20%5B36.884804%2C%2030.704044%5D%2C%0A%20%20%20%20%20%20%20%20%20%20%20%20%20%20%20%20%20%20%20%20crs%3A%20L.CRS.EPSG3857%2C%0A%20%20%20%20%20%20%20%20%20%20%20%20%20%20%20%20%20%20%20%20zoom%3A%208%2C%0A%20%20%20%20%20%20%20%20%20%20%20%20%20%20%20%20%20%20%20%20zoomControl%3A%20true%2C%0A%20%20%20%20%20%20%20%20%20%20%20%20%20%20%20%20%20%20%20%20preferCanvas%3A%20false%2C%0A%20%20%20%20%20%20%20%20%20%20%20%20%20%20%20%20%7D%0A%20%20%20%20%20%20%20%20%20%20%20%20%29%3B%0A%0A%20%20%20%20%20%20%20%20%20%20%20%20%0A%0A%20%20%20%20%20%20%20%20%0A%20%20%20%20%0A%20%20%20%20%20%20%20%20%20%20%20%20var%20tile_layer_5dbec07ff9c6469a9305a5263c48a4d4%20%3D%20L.tileLayer%28%0A%20%20%20%20%20%20%20%20%20%20%20%20%20%20%20%20%22https%3A//%7Bs%7D.tile.openstreetmap.org/%7Bz%7D/%7Bx%7D/%7By%7D.png%22%2C%0A%20%20%20%20%20%20%20%20%20%20%20%20%20%20%20%20%7B%22attribution%22%3A%20%22Data%20by%20%5Cu0026copy%3B%20%5Cu003ca%20href%3D%5C%22http%3A//openstreetmap.org%5C%22%5Cu003eOpenStreetMap%5Cu003c/a%5Cu003e%2C%20under%20%5Cu003ca%20href%3D%5C%22http%3A//www.openstreetmap.org/copyright%5C%22%5Cu003eODbL%5Cu003c/a%5Cu003e.%22%2C%20%22detectRetina%22%3A%20false%2C%20%22maxNativeZoom%22%3A%2018%2C%20%22maxZoom%22%3A%2018%2C%20%22minZoom%22%3A%200%2C%20%22noWrap%22%3A%20false%2C%20%22opacity%22%3A%201%2C%20%22subdomains%22%3A%20%22abc%22%2C%20%22tms%22%3A%20false%7D%0A%20%20%20%20%20%20%20%20%20%20%20%20%29.addTo%28map_dc56837fac3e44ec992c0714d33fb194%29%3B%0A%20%20%20%20%20%20%20%20%0A%20%20%20%20%0A%20%20%20%20%20%20%20%20%20%20%20%20var%20marker_728fa284dde4464f90d7b6ee695f78e4%20%3D%20L.marker%28%0A%20%20%20%20%20%20%20%20%20%20%20%20%20%20%20%20%5B36.93472222222222%2C%2030.57361111111111%5D%2C%0A%20%20%20%20%20%20%20%20%20%20%20%20%20%20%20%20%7B%7D%0A%20%20%20%20%20%20%20%20%20%20%20%20%29.addTo%28map_dc56837fac3e44ec992c0714d33fb194%29%3B%0A%20%20%20%20%20%20%20%20%0A%20%20%20%20%0A%20%20%20%20%20%20%20%20var%20popup_b6a1731455924ba2870bbe11e5a0cd7f%20%3D%20L.popup%28%7B%22maxWidth%22%3A%20%22100%25%22%7D%29%3B%0A%0A%20%20%20%20%20%20%20%20%0A%20%20%20%20%20%20%20%20%20%20%20%20var%20html_3f6b66b1fb1f4995acad2fc00a591247%20%3D%20%24%28%60%3Cdiv%20id%3D%22html_3f6b66b1fb1f4995acad2fc00a591247%22%20style%3D%22width%3A%20100.0%25%3B%20height%3A%20100.0%25%3B%22%3ED09A031%3C/div%3E%60%29%5B0%5D%3B%0A%20%20%20%20%20%20%20%20%20%20%20%20popup_b6a1731455924ba2870bbe11e5a0cd7f.setContent%28html_3f6b66b1fb1f4995acad2fc00a591247%29%3B%0A%20%20%20%20%20%20%20%20%0A%0A%20%20%20%20%20%20%20%20marker_728fa284dde4464f90d7b6ee695f78e4.bindPopup%28popup_b6a1731455924ba2870bbe11e5a0cd7f%29%0A%20%20%20%20%20%20%20%20%3B%0A%0A%20%20%20%20%20%20%20%20%0A%20%20%20%20%0A%20%20%20%20%0A%20%20%20%20%20%20%20%20%20%20%20%20var%20marker_da872fe8c9f1493499dcf7fe1c68f605%20%3D%20L.marker%28%0A%20%20%20%20%20%20%20%20%20%20%20%20%20%20%20%20%5B37.13333333333333%2C%2030.05%5D%2C%0A%20%20%20%20%20%20%20%20%20%20%20%20%20%20%20%20%7B%7D%0A%20%20%20%20%20%20%20%20%20%20%20%20%29.addTo%28map_dc56837fac3e44ec992c0714d33fb194%29%3B%0A%20%20%20%20%20%20%20%20%0A%20%20%20%20%0A%20%20%20%20%20%20%20%20var%20popup_7a8d6ee5004e4c79886e478500ae5645%20%3D%20L.popup%28%7B%22maxWidth%22%3A%20%22100%25%22%7D%29%3B%0A%0A%20%20%20%20%20%20%20%20%0A%20%20%20%20%20%20%20%20%20%20%20%20var%20html_d1291387aa9b461691db93d943745d63%20%3D%20%24%28%60%3Cdiv%20id%3D%22html_d1291387aa9b461691db93d943745d63%22%20style%3D%22width%3A%20100.0%25%3B%20height%3A%20100.0%25%3B%22%3ED09A011%3C/div%3E%60%29%5B0%5D%3B%0A%20%20%20%20%20%20%20%20%20%20%20%20popup_7a8d6ee5004e4c79886e478500ae5645.setContent%28html_d1291387aa9b461691db93d943745d63%29%3B%0A%20%20%20%20%20%20%20%20%0A%0A%20%20%20%20%20%20%20%20marker_da872fe8c9f1493499dcf7fe1c68f605.bindPopup%28popup_7a8d6ee5004e4c79886e478500ae5645%29%0A%20%20%20%20%20%20%20%20%3B%0A%0A%20%20%20%20%20%20%20%20%0A%20%20%20%20%0A%20%20%20%20%0A%20%20%20%20%20%20%20%20%20%20%20%20var%20marker_3d76dad6b9654b2892b49f8fb6916577%20%3D%20L.marker%28%0A%20%20%20%20%20%20%20%20%20%20%20%20%20%20%20%20%5B37.13333333333333%2C%2030.05%5D%2C%0A%20%20%20%20%20%20%20%20%20%20%20%20%20%20%20%20%7B%7D%0A%20%20%20%20%20%20%20%20%20%20%20%20%29.addTo%28map_dc56837fac3e44ec992c0714d33fb194%29%3B%0A%20%20%20%20%20%20%20%20%0A%20%20%20%20%0A%20%20%20%20%20%20%20%20var%20popup_07c49e44ffda4a8b8fc999d1f758b8c8%20%3D%20L.popup%28%7B%22maxWidth%22%3A%20%22100%25%22%7D%29%3B%0A%0A%20%20%20%20%20%20%20%20%0A%20%20%20%20%20%20%20%20%20%20%20%20var%20html_3d920fddc95745bf80ab29c465f9af65%20%3D%20%24%28%60%3Cdiv%20id%3D%22html_3d920fddc95745bf80ab29c465f9af65%22%20style%3D%22width%3A%20100.0%25%3B%20height%3A%20100.0%25%3B%22%3E%5B%27Station%20Name%3A%27%2C%20%27D09A011%27%2C%20%27%5Ct%20Elevation%3A%27%2C%201190%2C%20%27%5Ct%20Area%3A%27%2C%20130.7%5D%3C/div%3E%60%29%5B0%5D%3B%0A%20%20%20%20%20%20%20%20%20%20%20%20popup_07c49e44ffda4a8b8fc999d1f758b8c8.setContent%28html_3d920fddc95745bf80ab29c465f9af65%29%3B%0A%20%20%20%20%20%20%20%20%0A%0A%20%20%20%20%20%20%20%20marker_3d76dad6b9654b2892b49f8fb6916577.bindPopup%28popup_07c49e44ffda4a8b8fc999d1f758b8c8%29%0A%20%20%20%20%20%20%20%20%3B%0A%0A%20%20%20%20%20%20%20%20%0A%20%20%20%20%0A%20%20%20%20%0A%20%20%20%20%20%20%20%20%20%20%20%20var%20marker_4b53b86687a442e888d2d90dae5dbb12%20%3D%20L.marker%28%0A%20%20%20%20%20%20%20%20%20%20%20%20%20%20%20%20%5B36.93472222222222%2C%2030.57361111111111%5D%2C%0A%20%20%20%20%20%20%20%20%20%20%20%20%20%20%20%20%7B%7D%0A%20%20%20%20%20%20%20%20%20%20%20%20%29.addTo%28map_dc56837fac3e44ec992c0714d33fb194%29%3B%0A%20%20%20%20%20%20%20%20%0A%20%20%20%20%0A%20%20%20%20%20%20%20%20var%20popup_a5eb1c42312e43939eeb043664297840%20%3D%20L.popup%28%7B%22maxWidth%22%3A%20%22100%25%22%7D%29%3B%0A%0A%20%20%20%20%20%20%20%20%0A%20%20%20%20%20%20%20%20%20%20%20%20var%20html_5585881c7c9b4cca88cf656533650cb2%20%3D%20%24%28%60%3Cdiv%20id%3D%22html_5585881c7c9b4cca88cf656533650cb2%22%20style%3D%22width%3A%20100.0%25%3B%20height%3A%20100.0%25%3B%22%3E%5B%27Station%20Name%3A%27%2C%20%27D09A031%27%2C%20%27%5Ct%20Elevation%3A%27%2C%2052%2C%20%27%5Ct%20Area%3A%27%2C%20404.6%5D%3C/div%3E%60%29%5B0%5D%3B%0A%20%20%20%20%20%20%20%20%20%20%20%20popup_a5eb1c42312e43939eeb043664297840.setContent%28html_5585881c7c9b4cca88cf656533650cb2%29%3B%0A%20%20%20%20%20%20%20%20%0A%0A%20%20%20%20%20%20%20%20marker_4b53b86687a442e888d2d90dae5dbb12.bindPopup%28popup_a5eb1c42312e43939eeb043664297840%29%0A%20%20%20%20%20%20%20%20%3B%0A%0A%20%20%20%20%20%20%20%20%0A%20%20%20%20%0A%20%20%20%20%0A%20%20%20%20%20%20%20%20%20%20%20%20var%20marker_d86ac9aedab045ddafce17e4ed9338db%20%3D%20L.marker%28%0A%20%20%20%20%20%20%20%20%20%20%20%20%20%20%20%20%5B37.13166666666667%2C%2030.94222222222222%5D%2C%0A%20%20%20%20%20%20%20%20%20%20%20%20%20%20%20%20%7B%7D%0A%20%20%20%20%20%20%20%20%20%20%20%20%29.addTo%28map_dc56837fac3e44ec992c0714d33fb194%29%3B%0A%20%20%20%20%20%20%20%20%0A%20%20%20%20%0A%20%20%20%20%20%20%20%20var%20popup_a263d16b29a248bca894bde7a183f9f1%20%3D%20L.popup%28%7B%22maxWidth%22%3A%20%22100%25%22%7D%29%3B%0A%0A%20%20%20%20%20%20%20%20%0A%20%20%20%20%20%20%20%20%20%20%20%20var%20html_7dfb726afd8642b1b6bfeec859b44c34%20%3D%20%24%28%60%3Cdiv%20id%3D%22html_7dfb726afd8642b1b6bfeec859b44c34%22%20style%3D%22width%3A%20100.0%25%3B%20height%3A%20100.0%25%3B%22%3E%5B%27Station%20Name%3A%27%2C%20%27D09A034%27%2C%20%27%5Ct%20Elevation%3A%27%2C%2062%2C%20%27%5Ct%20Area%3A%27%2C%20238.6%5D%3C/div%3E%60%29%5B0%5D%3B%0A%20%20%20%20%20%20%20%20%20%20%20%20popup_a263d16b29a248bca894bde7a183f9f1.setContent%28html_7dfb726afd8642b1b6bfeec859b44c34%29%3B%0A%20%20%20%20%20%20%20%20%0A%0A%20%20%20%20%20%20%20%20marker_d86ac9aedab045ddafce17e4ed9338db.bindPopup%28popup_a263d16b29a248bca894bde7a183f9f1%29%0A%20%20%20%20%20%20%20%20%3B%0A%0A%20%20%20%20%20%20%20%20%0A%20%20%20%20%0A%20%20%20%20%0A%20%20%20%20%20%20%20%20%20%20%20%20var%20marker_85ee30c977fa46628ad848a07c6b16c2%20%3D%20L.marker%28%0A%20%20%20%20%20%20%20%20%20%20%20%20%20%20%20%20%5B38.29944444444444%2C%2030.95472222222222%5D%2C%0A%20%20%20%20%20%20%20%20%20%20%20%20%20%20%20%20%7B%7D%0A%20%20%20%20%20%20%20%20%20%20%20%20%29.addTo%28map_dc56837fac3e44ec992c0714d33fb194%29%3B%0A%20%20%20%20%20%20%20%20%0A%20%20%20%20%0A%20%20%20%20%20%20%20%20var%20popup_c1ec2d0326b54c8eb287ed4e8beab753%20%3D%20L.popup%28%7B%22maxWidth%22%3A%20%22100%25%22%7D%29%3B%0A%0A%20%20%20%20%20%20%20%20%0A%20%20%20%20%20%20%20%20%20%20%20%20var%20html_31c3588818db47beb6d44ff7656290d9%20%3D%20%24%28%60%3Cdiv%20id%3D%22html_31c3588818db47beb6d44ff7656290d9%22%20style%3D%22width%3A%20100.0%25%3B%20height%3A%20100.0%25%3B%22%3E%5B%27Station%20Name%3A%27%2C%20%27D09A057%27%2C%20%27%5Ct%20Elevation%3A%27%2C%20950%2C%20%27%5Ct%20Area%3A%27%2C%20185.0%5D%3C/div%3E%60%29%5B0%5D%3B%0A%20%20%20%20%20%20%20%20%20%20%20%20popup_c1ec2d0326b54c8eb287ed4e8beab753.setContent%28html_31c3588818db47beb6d44ff7656290d9%29%3B%0A%20%20%20%20%20%20%20%20%0A%0A%20%20%20%20%20%20%20%20marker_85ee30c977fa46628ad848a07c6b16c2.bindPopup%28popup_c1ec2d0326b54c8eb287ed4e8beab753%29%0A%20%20%20%20%20%20%20%20%3B%0A%0A%20%20%20%20%20%20%20%20%0A%20%20%20%20%0A%20%20%20%20%0A%20%20%20%20%20%20%20%20%20%20%20%20var%20marker_0545ee5e1de9476887fc8873c09035f6%20%3D%20L.marker%28%0A%20%20%20%20%20%20%20%20%20%20%20%20%20%20%20%20%5B38.39416666666666%2C%2031.12694444444444%5D%2C%0A%20%20%20%20%20%20%20%20%20%20%20%20%20%20%20%20%7B%7D%0A%20%20%20%20%20%20%20%20%20%20%20%20%29.addTo%28map_dc56837fac3e44ec992c0714d33fb194%29%3B%0A%20%20%20%20%20%20%20%20%0A%20%20%20%20%0A%20%20%20%20%20%20%20%20var%20popup_4b00c9bd30434c849eec7073af313a33%20%3D%20L.popup%28%7B%22maxWidth%22%3A%20%22100%25%22%7D%29%3B%0A%0A%20%20%20%20%20%20%20%20%0A%20%20%20%20%20%20%20%20%20%20%20%20var%20html_4e307e784716406293a66c26e1bba06b%20%3D%20%24%28%60%3Cdiv%20id%3D%22html_4e307e784716406293a66c26e1bba06b%22%20style%3D%22width%3A%20100.0%25%3B%20height%3A%20100.0%25%3B%22%3E%5B%27Station%20Name%3A%27%2C%20%27D09A065%27%2C%20%27%5Ct%20Elevation%3A%27%2C%201198%2C%20%27%5Ct%20Area%3A%27%2C%20103.48%5D%3C/div%3E%60%29%5B0%5D%3B%0A%20%20%20%20%20%20%20%20%20%20%20%20popup_4b00c9bd30434c849eec7073af313a33.setContent%28html_4e307e784716406293a66c26e1bba06b%29%3B%0A%20%20%20%20%20%20%20%20%0A%0A%20%20%20%20%20%20%20%20marker_0545ee5e1de9476887fc8873c09035f6.bindPopup%28popup_4b00c9bd30434c849eec7073af313a33%29%0A%20%20%20%20%20%20%20%20%3B%0A%0A%20%20%20%20%20%20%20%20%0A%20%20%20%20%0A%20%20%20%20%0A%20%20%20%20%20%20%20%20%20%20%20%20var%20marker_8f127140510e4f3ca894ce6479b40a28%20%3D%20L.marker%28%0A%20%20%20%20%20%20%20%20%20%20%20%20%20%20%20%20%5B36.74388888888889%2C%2031.62277777777778%5D%2C%0A%20%20%20%20%20%20%20%20%20%20%20%20%20%20%20%20%7B%7D%0A%20%20%20%20%20%20%20%20%20%20%20%20%29.addTo%28map_dc56837fac3e44ec992c0714d33fb194%29%3B%0A%20%20%20%20%20%20%20%20%0A%20%20%20%20%0A%20%20%20%20%20%20%20%20var%20popup_6e87826d5a9f40bdac40ce559ace1c46%20%3D%20L.popup%28%7B%22maxWidth%22%3A%20%22100%25%22%7D%29%3B%0A%0A%20%20%20%20%20%20%20%20%0A%20%20%20%20%20%20%20%20%20%20%20%20var%20html_a19d207efae04e199f79276bbb9d1a80%20%3D%20%24%28%60%3Cdiv%20id%3D%22html_a19d207efae04e199f79276bbb9d1a80%22%20style%3D%22width%3A%20100.0%25%3B%20height%3A%20100.0%25%3B%22%3E%5B%27Station%20Name%3A%27%2C%20%27D09A067%27%2C%20%27%5Ct%20Elevation%3A%27%2C%20100%2C%20%27%5Ct%20Area%3A%27%2C%20303.2%5D%3C/div%3E%60%29%5B0%5D%3B%0A%20%20%20%20%20%20%20%20%20%20%20%20popup_6e87826d5a9f40bdac40ce559ace1c46.setContent%28html_a19d207efae04e199f79276bbb9d1a80%29%3B%0A%20%20%20%20%20%20%20%20%0A%0A%20%20%20%20%20%20%20%20marker_8f127140510e4f3ca894ce6479b40a28.bindPopup%28popup_6e87826d5a9f40bdac40ce559ace1c46%29%0A%20%20%20%20%20%20%20%20%3B%0A%0A%20%20%20%20%20%20%20%20%0A%20%20%20%20%0A%20%20%20%20%0A%20%20%20%20%20%20%20%20%20%20%20%20var%20marker_b506d6a07d1d4815a05eb346d5cd4785%20%3D%20L.marker%28%0A%20%20%20%20%20%20%20%20%20%20%20%20%20%20%20%20%5B36.61388888888889%2C%2031.8%5D%2C%0A%20%20%20%20%20%20%20%20%20%20%20%20%20%20%20%20%7B%7D%0A%20%20%20%20%20%20%20%20%20%20%20%20%29.addTo%28map_dc56837fac3e44ec992c0714d33fb194%29%3B%0A%20%20%20%20%20%20%20%20%0A%20%20%20%20%0A%20%20%20%20%20%20%20%20var%20popup_714e6307af0c49cdaaccc3213f13ab22%20%3D%20L.popup%28%7B%22maxWidth%22%3A%20%22100%25%22%7D%29%3B%0A%0A%20%20%20%20%20%20%20%20%0A%20%20%20%20%20%20%20%20%20%20%20%20var%20html_4ce3f23ba10d455bba6cf4e8ca17cf8b%20%3D%20%24%28%60%3Cdiv%20id%3D%22html_4ce3f23ba10d455bba6cf4e8ca17cf8b%22%20style%3D%22width%3A%20100.0%25%3B%20height%3A%20100.0%25%3B%22%3E%5B%27Station%20Name%3A%27%2C%20%27D09A068%27%2C%20%27%5Ct%20Elevation%3A%27%2C%2016%2C%20%27%5Ct%20Area%3A%27%2C%20336.32%5D%3C/div%3E%60%29%5B0%5D%3B%0A%20%20%20%20%20%20%20%20%20%20%20%20popup_714e6307af0c49cdaaccc3213f13ab22.setContent%28html_4ce3f23ba10d455bba6cf4e8ca17cf8b%29%3B%0A%20%20%20%20%20%20%20%20%0A%0A%20%20%20%20%20%20%20%20marker_b506d6a07d1d4815a05eb346d5cd4785.bindPopup%28popup_714e6307af0c49cdaaccc3213f13ab22%29%0A%20%20%20%20%20%20%20%20%3B%0A%0A%20%20%20%20%20%20%20%20%0A%20%20%20%20%0A%20%20%20%20%0A%20%20%20%20%20%20%20%20%20%20%20%20var%20marker_5d2fb47ffb794e74ba137c82197d6c05%20%3D%20L.marker%28%0A%20%20%20%20%20%20%20%20%20%20%20%20%20%20%20%20%5B37.62305555555555%2C%2031.12361111111111%5D%2C%0A%20%20%20%20%20%20%20%20%20%20%20%20%20%20%20%20%7B%7D%0A%20%20%20%20%20%20%20%20%20%20%20%20%29.addTo%28map_dc56837fac3e44ec992c0714d33fb194%29%3B%0A%20%20%20%20%20%20%20%20%0A%20%20%20%20%0A%20%20%20%20%20%20%20%20var%20popup_7591dd9a40dd4b06b755a5ba36ccaa6e%20%3D%20L.popup%28%7B%22maxWidth%22%3A%20%22100%25%22%7D%29%3B%0A%0A%20%20%20%20%20%20%20%20%0A%20%20%20%20%20%20%20%20%20%20%20%20var%20html_1f3c2d33813e4182b82c6d5fcc8525a9%20%3D%20%24%28%60%3Cdiv%20id%3D%22html_1f3c2d33813e4182b82c6d5fcc8525a9%22%20style%3D%22width%3A%20100.0%25%3B%20height%3A%20100.0%25%3B%22%3E%5B%27Station%20Name%3A%27%2C%20%27D09A086%27%2C%20%27%5Ct%20Elevation%3A%27%2C%201000%2C%20%27%5Ct%20Area%3A%27%2C%20349.0%5D%3C/div%3E%60%29%5B0%5D%3B%0A%20%20%20%20%20%20%20%20%20%20%20%20popup_7591dd9a40dd4b06b755a5ba36ccaa6e.setContent%28html_1f3c2d33813e4182b82c6d5fcc8525a9%29%3B%0A%20%20%20%20%20%20%20%20%0A%0A%20%20%20%20%20%20%20%20marker_5d2fb47ffb794e74ba137c82197d6c05.bindPopup%28popup_7591dd9a40dd4b06b755a5ba36ccaa6e%29%0A%20%20%20%20%20%20%20%20%3B%0A%0A%20%20%20%20%20%20%20%20%0A%20%20%20%20%0A%20%20%20%20%0A%20%20%20%20%20%20%20%20%20%20%20%20var%20marker_48f6e5c7f29f4964b6d23692c334b067%20%3D%20L.marker%28%0A%20%20%20%20%20%20%20%20%20%20%20%20%20%20%20%20%5B37.46277777777778%2C%2030.91222222222222%5D%2C%0A%20%20%20%20%20%20%20%20%20%20%20%20%20%20%20%20%7B%7D%0A%20%20%20%20%20%20%20%20%20%20%20%20%29.addTo%28map_dc56837fac3e44ec992c0714d33fb194%29%3B%0A%20%20%20%20%20%20%20%20%0A%20%20%20%20%0A%20%20%20%20%20%20%20%20var%20popup_f9d5df47a3804a62933e1b27ac6056fd%20%3D%20L.popup%28%7B%22maxWidth%22%3A%20%22100%25%22%7D%29%3B%0A%0A%20%20%20%20%20%20%20%20%0A%20%20%20%20%20%20%20%20%20%20%20%20var%20html_d46a1d3f758e4faab6c95bc84399fe58%20%3D%20%24%28%60%3Cdiv%20id%3D%22html_d46a1d3f758e4faab6c95bc84399fe58%22%20style%3D%22width%3A%20100.0%25%3B%20height%3A%20100.0%25%3B%22%3E%5B%27Station%20Name%3A%27%2C%20%27D09A089%27%2C%20%27%5Ct%20Elevation%3A%27%2C%20320%2C%20%27%5Ct%20Area%3A%27%2C%20313.9%5D%3C/div%3E%60%29%5B0%5D%3B%0A%20%20%20%20%20%20%20%20%20%20%20%20popup_f9d5df47a3804a62933e1b27ac6056fd.setContent%28html_d46a1d3f758e4faab6c95bc84399fe58%29%3B%0A%20%20%20%20%20%20%20%20%0A%0A%20%20%20%20%20%20%20%20marker_48f6e5c7f29f4964b6d23692c334b067.bindPopup%28popup_f9d5df47a3804a62933e1b27ac6056fd%29%0A%20%20%20%20%20%20%20%20%3B%0A%0A%20%20%20%20%20%20%20%20%0A%20%20%20%20%0A%20%20%20%20%0A%20%20%20%20%20%20%20%20%20%20%20%20var%20marker_d3c81a2b421d4d849ed4a830903ad062%20%3D%20L.marker%28%0A%20%20%20%20%20%20%20%20%20%20%20%20%20%20%20%20%5B37.07194444444445%2C%2030.58055555555556%5D%2C%0A%20%20%20%20%20%20%20%20%20%20%20%20%20%20%20%20%7B%7D%0A%20%20%20%20%20%20%20%20%20%20%20%20%29.addTo%28map_dc56837fac3e44ec992c0714d33fb194%29%3B%0A%20%20%20%20%20%20%20%20%0A%20%20%20%20%0A%20%20%20%20%20%20%20%20var%20popup_83565f6854804be9b498d9a4a1512f4a%20%3D%20L.popup%28%7B%22maxWidth%22%3A%20%22100%25%22%7D%29%3B%0A%0A%20%20%20%20%20%20%20%20%0A%20%20%20%20%20%20%20%20%20%20%20%20var%20html_9b017a443bf04385ac03af3e8036ec9d%20%3D%20%24%28%60%3Cdiv%20id%3D%22html_9b017a443bf04385ac03af3e8036ec9d%22%20style%3D%22width%3A%20100.0%25%3B%20height%3A%20100.0%25%3B%22%3E%5B%27Station%20Name%3A%27%2C%20%27D09A091%27%2C%20%27%5Ct%20Elevation%3A%27%2C%20300%2C%20%27%5Ct%20Area%3A%27%2C%202000.0%5D%3C/div%3E%60%29%5B0%5D%3B%0A%20%20%20%20%20%20%20%20%20%20%20%20popup_83565f6854804be9b498d9a4a1512f4a.setContent%28html_9b017a443bf04385ac03af3e8036ec9d%29%3B%0A%20%20%20%20%20%20%20%20%0A%0A%20%20%20%20%20%20%20%20marker_d3c81a2b421d4d849ed4a830903ad062.bindPopup%28popup_83565f6854804be9b498d9a4a1512f4a%29%0A%20%20%20%20%20%20%20%20%3B%0A%0A%20%20%20%20%20%20%20%20%0A%20%20%20%20%0A%20%20%20%20%0A%20%20%20%20%20%20%20%20%20%20%20%20var%20marker_924d73b5bb7f40d7998fb19973dd2e10%20%3D%20L.marker%28%0A%20%20%20%20%20%20%20%20%20%20%20%20%20%20%20%20%5B36.825%2C%2030.46722222222222%5D%2C%0A%20%20%20%20%20%20%20%20%20%20%20%20%20%20%20%20%7B%7D%0A%20%20%20%20%20%20%20%20%20%20%20%20%29.addTo%28map_dc56837fac3e44ec992c0714d33fb194%29%3B%0A%20%20%20%20%20%20%20%20%0A%20%20%20%20%0A%20%20%20%20%20%20%20%20var%20popup_276eaecf01b840b1941954292bf89c07%20%3D%20L.popup%28%7B%22maxWidth%22%3A%20%22100%25%22%7D%29%3B%0A%0A%20%20%20%20%20%20%20%20%0A%20%20%20%20%20%20%20%20%20%20%20%20var%20html_039ace8335cb4a92bb9cc07062925337%20%3D%20%24%28%60%3Cdiv%20id%3D%22html_039ace8335cb4a92bb9cc07062925337%22%20style%3D%22width%3A%20100.0%25%3B%20height%3A%20100.0%25%3B%22%3E%5B%27Station%20Name%3A%27%2C%20%27D09A095%27%2C%20%27%5Ct%20Elevation%3A%27%2C%20160%2C%20%27%5Ct%20Area%3A%27%2C%20164.0%5D%3C/div%3E%60%29%5B0%5D%3B%0A%20%20%20%20%20%20%20%20%20%20%20%20popup_276eaecf01b840b1941954292bf89c07.setContent%28html_039ace8335cb4a92bb9cc07062925337%29%3B%0A%20%20%20%20%20%20%20%20%0A%0A%20%20%20%20%20%20%20%20marker_924d73b5bb7f40d7998fb19973dd2e10.bindPopup%28popup_276eaecf01b840b1941954292bf89c07%29%0A%20%20%20%20%20%20%20%20%3B%0A%0A%20%20%20%20%20%20%20%20%0A%20%20%20%20%0A%20%20%20%20%0A%20%20%20%20%20%20%20%20%20%20%20%20var%20marker_0792c7d5105249d599842a0344edcf1c%20%3D%20L.marker%28%0A%20%20%20%20%20%20%20%20%20%20%20%20%20%20%20%20%5B37.65916666666666%2C%2031.15555555555556%5D%2C%0A%20%20%20%20%20%20%20%20%20%20%20%20%20%20%20%20%7B%7D%0A%20%20%20%20%20%20%20%20%20%20%20%20%29.addTo%28map_dc56837fac3e44ec992c0714d33fb194%29%3B%0A%20%20%20%20%20%20%20%20%0A%20%20%20%20%0A%20%20%20%20%20%20%20%20var%20popup_0af44b74eca2430094a1efca7f22cc4e%20%3D%20L.popup%28%7B%22maxWidth%22%3A%20%22100%25%22%7D%29%3B%0A%0A%20%20%20%20%20%20%20%20%0A%20%20%20%20%20%20%20%20%20%20%20%20var%20html_e96545ae1e224629b2eec1d49a31b96f%20%3D%20%24%28%60%3Cdiv%20id%3D%22html_e96545ae1e224629b2eec1d49a31b96f%22%20style%3D%22width%3A%20100.0%25%3B%20height%3A%20100.0%25%3B%22%3E%5B%27Station%20Name%3A%27%2C%20%27D09A100%27%2C%20%27%5Ct%20Elevation%3A%27%2C%201085%2C%20%27%5Ct%20Area%3A%27%2C%20223.0%5D%3C/div%3E%60%29%5B0%5D%3B%0A%20%20%20%20%20%20%20%20%20%20%20%20popup_0af44b74eca2430094a1efca7f22cc4e.setContent%28html_e96545ae1e224629b2eec1d49a31b96f%29%3B%0A%20%20%20%20%20%20%20%20%0A%0A%20%20%20%20%20%20%20%20marker_0792c7d5105249d599842a0344edcf1c.bindPopup%28popup_0af44b74eca2430094a1efca7f22cc4e%29%0A%20%20%20%20%20%20%20%20%3B%0A%0A%20%20%20%20%20%20%20%20%0A%20%20%20%20%0A%20%20%20%20%0A%20%20%20%20%20%20%20%20%20%20%20%20var%20marker_f3673b7a86f6402b8f7fb86b41d48133%20%3D%20L.marker%28%0A%20%20%20%20%20%20%20%20%20%20%20%20%20%20%20%20%5B36.98%2C%2031.19972222222222%5D%2C%0A%20%20%20%20%20%20%20%20%20%20%20%20%20%20%20%20%7B%7D%0A%20%20%20%20%20%20%20%20%20%20%20%20%29.addTo%28map_dc56837fac3e44ec992c0714d33fb194%29%3B%0A%20%20%20%20%20%20%20%20%0A%20%20%20%20%0A%20%20%20%20%20%20%20%20var%20popup_8d388ca50126444ab6ae3104a3fae7b1%20%3D%20L.popup%28%7B%22maxWidth%22%3A%20%22100%25%22%7D%29%3B%0A%0A%20%20%20%20%20%20%20%20%0A%20%20%20%20%20%20%20%20%20%20%20%20var%20html_9ae89ad9d2c34af8803905ea88bd87f8%20%3D%20%24%28%60%3Cdiv%20id%3D%22html_9ae89ad9d2c34af8803905ea88bd87f8%22%20style%3D%22width%3A%20100.0%25%3B%20height%3A%20100.0%25%3B%22%3E%5B%27Station%20Name%3A%27%2C%20%27D09A101%27%2C%20%27%5Ct%20Elevation%3A%27%2C%2020%2C%20%27%5Ct%20Area%3A%27%2C%202330.0%5D%3C/div%3E%60%29%5B0%5D%3B%0A%20%20%20%20%20%20%20%20%20%20%20%20popup_8d388ca50126444ab6ae3104a3fae7b1.setContent%28html_9ae89ad9d2c34af8803905ea88bd87f8%29%3B%0A%20%20%20%20%20%20%20%20%0A%0A%20%20%20%20%20%20%20%20marker_f3673b7a86f6402b8f7fb86b41d48133.bindPopup%28popup_8d388ca50126444ab6ae3104a3fae7b1%29%0A%20%20%20%20%20%20%20%20%3B%0A%0A%20%20%20%20%20%20%20%20%0A%20%20%20%20%0A%20%20%20%20%0A%20%20%20%20%20%20%20%20%20%20%20%20var%20marker_dcf10549b02e4ed095f7eb89a0bfd3cc%20%3D%20L.marker%28%0A%20%20%20%20%20%20%20%20%20%20%20%20%20%20%20%20%5B36.99166666666667%2C%2031.28472222222222%5D%2C%0A%20%20%20%20%20%20%20%20%20%20%20%20%20%20%20%20%7B%7D%0A%20%20%20%20%20%20%20%20%20%20%20%20%29.addTo%28map_dc56837fac3e44ec992c0714d33fb194%29%3B%0A%20%20%20%20%20%20%20%20%0A%20%20%20%20%0A%20%20%20%20%20%20%20%20var%20popup_a6113b9bc2d04a5f8d6a0e50a5532a7a%20%3D%20L.popup%28%7B%22maxWidth%22%3A%20%22100%25%22%7D%29%3B%0A%0A%20%20%20%20%20%20%20%20%0A%20%20%20%20%20%20%20%20%20%20%20%20var%20html_19a81bd145704f4a82d60a6cef81ce24%20%3D%20%24%28%60%3Cdiv%20id%3D%22html_19a81bd145704f4a82d60a6cef81ce24%22%20style%3D%22width%3A%20100.0%25%3B%20height%3A%20100.0%25%3B%22%3E%5B%27Station%20Name%3A%27%2C%20%27D09A122%27%2C%20%27%5Ct%20Elevation%3A%27%2C%2080%2C%20%27%5Ct%20Area%3A%27%2C%20144.84%5D%3C/div%3E%60%29%5B0%5D%3B%0A%20%20%20%20%20%20%20%20%20%20%20%20popup_a6113b9bc2d04a5f8d6a0e50a5532a7a.setContent%28html_19a81bd145704f4a82d60a6cef81ce24%29%3B%0A%20%20%20%20%20%20%20%20%0A%0A%20%20%20%20%20%20%20%20marker_dcf10549b02e4ed095f7eb89a0bfd3cc.bindPopup%28popup_a6113b9bc2d04a5f8d6a0e50a5532a7a%29%0A%20%20%20%20%20%20%20%20%3B%0A%0A%20%20%20%20%20%20%20%20%0A%20%20%20%20%0A%20%20%20%20%0A%20%20%20%20%20%20%20%20%20%20%20%20var%20marker_3905a34e9cb641f499fbe049790e38a2%20%3D%20L.marker%28%0A%20%20%20%20%20%20%20%20%20%20%20%20%20%20%20%20%5B37.14166666666667%2C%2031.18861111111111%5D%2C%0A%20%20%20%20%20%20%20%20%20%20%20%20%20%20%20%20%7B%7D%0A%20%20%20%20%20%20%20%20%20%20%20%20%29.addTo%28map_dc56837fac3e44ec992c0714d33fb194%29%3B%0A%20%20%20%20%20%20%20%20%0A%20%20%20%20%0A%20%20%20%20%20%20%20%20var%20popup_78eaf77d3065439c8ae2a6ba9770104e%20%3D%20L.popup%28%7B%22maxWidth%22%3A%20%22100%25%22%7D%29%3B%0A%0A%20%20%20%20%20%20%20%20%0A%20%20%20%20%20%20%20%20%20%20%20%20var%20html_20b4fca978164068bd40a6ff363643f9%20%3D%20%24%28%60%3Cdiv%20id%3D%22html_20b4fca978164068bd40a6ff363643f9%22%20style%3D%22width%3A%20100.0%25%3B%20height%3A%20100.0%25%3B%22%3E%5B%27Station%20Name%3A%27%2C%20%27E09A002%27%2C%20%27%5Ct%20Elevation%3A%27%2C%20116%2C%20%27%5Ct%20Area%3A%27%2C%201942.4%5D%3C/div%3E%60%29%5B0%5D%3B%0A%20%20%20%20%20%20%20%20%20%20%20%20popup_78eaf77d3065439c8ae2a6ba9770104e.setContent%28html_20b4fca978164068bd40a6ff363643f9%29%3B%0A%20%20%20%20%20%20%20%20%0A%0A%20%20%20%20%20%20%20%20marker_3905a34e9cb641f499fbe049790e38a2.bindPopup%28popup_78eaf77d3065439c8ae2a6ba9770104e%29%0A%20%20%20%20%20%20%20%20%3B%0A%0A%20%20%20%20%20%20%20%20%0A%20%20%20%20%0A%20%20%20%20%0A%20%20%20%20%20%20%20%20%20%20%20%20var%20marker_b7a09fbcaccf443fbbb48eab4ea510f7%20%3D%20L.marker%28%0A%20%20%20%20%20%20%20%20%20%20%20%20%20%20%20%20%5B36.97944444444445%2C%2031.60861111111111%5D%2C%0A%20%20%20%20%20%20%20%20%20%20%20%20%20%20%20%20%7B%7D%0A%20%20%20%20%20%20%20%20%20%20%20%20%29.addTo%28map_dc56837fac3e44ec992c0714d33fb194%29%3B%0A%20%20%20%20%20%20%20%20%0A%20%20%20%20%0A%20%20%20%20%20%20%20%20var%20popup_9482eb9c8d0b4c92a951bcb0b6c6e744%20%3D%20L.popup%28%7B%22maxWidth%22%3A%20%22100%25%22%7D%29%3B%0A%0A%20%20%20%20%20%20%20%20%0A%20%20%20%20%20%20%20%20%20%20%20%20var%20html_039517321b234e0ebb47d6343ab676f2%20%3D%20%24%28%60%3Cdiv%20id%3D%22html_039517321b234e0ebb47d6343ab676f2%22%20style%3D%22width%3A%20100.0%25%3B%20height%3A%20100.0%25%3B%22%3E%5B%27Station%20Name%3A%27%2C%20%27E09A012%27%2C%20%27%5Ct%20Elevation%3A%27%2C%20245%2C%20%27%5Ct%20Area%3A%27%2C%20625.6%5D%3C/div%3E%60%29%5B0%5D%3B%0A%20%20%20%20%20%20%20%20%20%20%20%20popup_9482eb9c8d0b4c92a951bcb0b6c6e744.setContent%28html_039517321b234e0ebb47d6343ab676f2%29%3B%0A%20%20%20%20%20%20%20%20%0A%0A%20%20%20%20%20%20%20%20marker_b7a09fbcaccf443fbbb48eab4ea510f7.bindPopup%28popup_9482eb9c8d0b4c92a951bcb0b6c6e744%29%0A%20%20%20%20%20%20%20%20%3B%0A%0A%20%20%20%20%20%20%20%20%0A%20%20%20%20%0A%20%20%20%20%0A%20%20%20%20%20%20%20%20%20%20%20%20var%20marker_3109c7aa884148a19ad9b8c1107718a1%20%3D%20L.marker%28%0A%20%20%20%20%20%20%20%20%20%20%20%20%20%20%20%20%5B36.69694444444444%2C%2031.72666666666667%5D%2C%0A%20%20%20%20%20%20%20%20%20%20%20%20%20%20%20%20%7B%7D%0A%20%20%20%20%20%20%20%20%20%20%20%20%29.addTo%28map_dc56837fac3e44ec992c0714d33fb194%29%3B%0A%20%20%20%20%20%20%20%20%0A%20%20%20%20%0A%20%20%20%20%20%20%20%20var%20popup_d58ccda2858b4c2b809060b2b2e92bc7%20%3D%20L.popup%28%7B%22maxWidth%22%3A%20%22100%25%22%7D%29%3B%0A%0A%20%20%20%20%20%20%20%20%0A%20%20%20%20%20%20%20%20%20%20%20%20var%20html_175baf46e27548669cd1f557541e7b61%20%3D%20%24%28%60%3Cdiv%20id%3D%22html_175baf46e27548669cd1f557541e7b61%22%20style%3D%22width%3A%20100.0%25%3B%20height%3A%20100.0%25%3B%22%3E%5B%27Station%20Name%3A%27%2C%20%27E09A017%27%2C%20%27%5Ct%20Elevation%3A%27%2C%2028%2C%20%27%5Ct%20Area%3A%27%2C%20875.5%5D%3C/div%3E%60%29%5B0%5D%3B%0A%20%20%20%20%20%20%20%20%20%20%20%20popup_d58ccda2858b4c2b809060b2b2e92bc7.setContent%28html_175baf46e27548669cd1f557541e7b61%29%3B%0A%20%20%20%20%20%20%20%20%0A%0A%20%20%20%20%20%20%20%20marker_3109c7aa884148a19ad9b8c1107718a1.bindPopup%28popup_d58ccda2858b4c2b809060b2b2e92bc7%29%0A%20%20%20%20%20%20%20%20%3B%0A%0A%20%20%20%20%20%20%20%20%0A%20%20%20%20%0A%20%20%20%20%0A%20%20%20%20%20%20%20%20%20%20%20%20var%20marker_f028b926bfda470f8a2f2c312766555a%20%3D%20L.marker%28%0A%20%20%20%20%20%20%20%20%20%20%20%20%20%20%20%20%5B37.52166666666667%2C%2031.2025%5D%2C%0A%20%20%20%20%20%20%20%20%20%20%20%20%20%20%20%20%7B%7D%0A%20%20%20%20%20%20%20%20%20%20%20%20%29.addTo%28map_dc56837fac3e44ec992c0714d33fb194%29%3B%0A%20%20%20%20%20%20%20%20%0A%20%20%20%20%0A%20%20%20%20%20%20%20%20var%20popup_da6b248fbad04dd8856d7a8e0621a8fb%20%3D%20L.popup%28%7B%22maxWidth%22%3A%20%22100%25%22%7D%29%3B%0A%0A%20%20%20%20%20%20%20%20%0A%20%20%20%20%20%20%20%20%20%20%20%20var%20html_ab4bebac7273405c9a04307ca35c53c4%20%3D%20%24%28%60%3Cdiv%20id%3D%22html_ab4bebac7273405c9a04307ca35c53c4%22%20style%3D%22width%3A%20100.0%25%3B%20height%3A%20100.0%25%3B%22%3E%5B%27Station%20Name%3A%27%2C%20%27E09A021%27%2C%20%27%5Ct%20Elevation%3A%27%2C%20738%2C%20%27%5Ct%20Area%3A%27%2C%201005.5%5D%3C/div%3E%60%29%5B0%5D%3B%0A%20%20%20%20%20%20%20%20%20%20%20%20popup_da6b248fbad04dd8856d7a8e0621a8fb.setContent%28html_ab4bebac7273405c9a04307ca35c53c4%29%3B%0A%20%20%20%20%20%20%20%20%0A%0A%20%20%20%20%20%20%20%20marker_f028b926bfda470f8a2f2c312766555a.bindPopup%28popup_da6b248fbad04dd8856d7a8e0621a8fb%29%0A%20%20%20%20%20%20%20%20%3B%0A%0A%20%20%20%20%20%20%20%20%0A%20%20%20%20%0A%20%20%20%20%0A%20%20%20%20%20%20%20%20%20%20%20%20var%20marker_e9b0c310ea084fbd8385bd23ee1e3af2%20%3D%20L.marker%28%0A%20%20%20%20%20%20%20%20%20%20%20%20%20%20%20%20%5B36.78138888888889%2C%2032.10722222222223%5D%2C%0A%20%20%20%20%20%20%20%20%20%20%20%20%20%20%20%20%7B%7D%0A%20%20%20%20%20%20%20%20%20%20%20%20%29.addTo%28map_dc56837fac3e44ec992c0714d33fb194%29%3B%0A%20%20%20%20%20%20%20%20%0A%20%20%20%20%0A%20%20%20%20%20%20%20%20var%20popup_bbed61e922e04a2e96f91d75bc9e777d%20%3D%20L.popup%28%7B%22maxWidth%22%3A%20%22100%25%22%7D%29%3B%0A%0A%20%20%20%20%20%20%20%20%0A%20%20%20%20%20%20%20%20%20%20%20%20var%20html_a9f0a5f55b644893b62617f9a0a9df9d%20%3D%20%24%28%60%3Cdiv%20id%3D%22html_a9f0a5f55b644893b62617f9a0a9df9d%22%20style%3D%22width%3A%20100.0%25%3B%20height%3A%20100.0%25%3B%22%3E%5B%27Station%20Name%3A%27%2C%20%27E09A022%27%2C%20%27%5Ct%20Elevation%3A%27%2C%20382%2C%20%27%5Ct%20Area%3A%27%2C%20396.3%5D%3C/div%3E%60%29%5B0%5D%3B%0A%20%20%20%20%20%20%20%20%20%20%20%20popup_bbed61e922e04a2e96f91d75bc9e777d.setContent%28html_a9f0a5f55b644893b62617f9a0a9df9d%29%3B%0A%20%20%20%20%20%20%20%20%0A%0A%20%20%20%20%20%20%20%20marker_e9b0c310ea084fbd8385bd23ee1e3af2.bindPopup%28popup_bbed61e922e04a2e96f91d75bc9e777d%29%0A%20%20%20%20%20%20%20%20%3B%0A%0A%20%20%20%20%20%20%20%20%0A%20%20%20%20%0A%20%20%20%20%0A%20%20%20%20%20%20%20%20%20%20%20%20var%20marker_e92aa9ff1f39498091cf9a59ca100f10%20%3D%20L.marker%28%0A%20%20%20%20%20%20%20%20%20%20%20%20%20%20%20%20%5B36.75916666666667%2C%2032.01666666666667%5D%2C%0A%20%20%20%20%20%20%20%20%20%20%20%20%20%20%20%20%7B%7D%0A%20%20%20%20%20%20%20%20%20%20%20%20%29.addTo%28map_dc56837fac3e44ec992c0714d33fb194%29%3B%0A%20%20%20%20%20%20%20%20%0A%20%20%20%20%0A%20%20%20%20%20%20%20%20var%20popup_b9b7bbd036834f159263d4e50bc03fa0%20%3D%20L.popup%28%7B%22maxWidth%22%3A%20%22100%25%22%7D%29%3B%0A%0A%20%20%20%20%20%20%20%20%0A%20%20%20%20%20%20%20%20%20%20%20%20var%20html_459c8276becf414aaf4c07efa7764e61%20%3D%20%24%28%60%3Cdiv%20id%3D%22html_459c8276becf414aaf4c07efa7764e61%22%20style%3D%22width%3A%20100.0%25%3B%20height%3A%20100.0%25%3B%22%3E%5B%27Station%20Name%3A%27%2C%20%27E09A024%27%2C%20%27%5Ct%20Elevation%3A%27%2C%20250%2C%20%27%5Ct%20Area%3A%27%2C%20611.0%5D%3C/div%3E%60%29%5B0%5D%3B%0A%20%20%20%20%20%20%20%20%20%20%20%20popup_b9b7bbd036834f159263d4e50bc03fa0.setContent%28html_459c8276becf414aaf4c07efa7764e61%29%3B%0A%20%20%20%20%20%20%20%20%0A%0A%20%20%20%20%20%20%20%20marker_e92aa9ff1f39498091cf9a59ca100f10.bindPopup%28popup_b9b7bbd036834f159263d4e50bc03fa0%29%0A%20%20%20%20%20%20%20%20%3B%0A%0A%20%20%20%20%20%20%20%20%0A%20%20%20%20%0A%3C/script%3E onload=\"this.contentDocument.open();this.contentDocument.write(    decodeURIComponent(this.getAttribute('data-html')));this.contentDocument.close();\" allowfullscreen webkitallowfullscreen mozallowfullscreen></iframe></div></div>"
      ],
      "text/plain": [
       "<folium.folium.Map at 0x218cdd57ca0>"
      ]
     },
     "execution_count": 34,
     "metadata": {},
     "output_type": "execute_result"
    }
   ],
   "source": [
    "my_map"
   ]
  },
  {
   "cell_type": "markdown",
   "id": "64e2d485",
   "metadata": {},
   "source": [
    "![purple-divider](https://user-images.githubusercontent.com/7065401/52071927-c1cd7100-2562-11e9-908a-dde91ba14e59.png)"
   ]
  },
  {
   "cell_type": "code",
   "execution_count": null,
   "id": "68383f34",
   "metadata": {},
   "outputs": [],
   "source": []
  }
 ],
 "metadata": {
  "kernelspec": {
   "display_name": "Python 3 (ipykernel)",
   "language": "python",
   "name": "python3"
  },
  "language_info": {
   "codemirror_mode": {
    "name": "ipython",
    "version": 3
   },
   "file_extension": ".py",
   "mimetype": "text/x-python",
   "name": "python",
   "nbconvert_exporter": "python",
   "pygments_lexer": "ipython3",
   "version": "3.9.7"
  }
 },
 "nbformat": 4,
 "nbformat_minor": 5
}
